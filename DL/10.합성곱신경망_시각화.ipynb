{
 "cells": [
  {
   "cell_type": "code",
   "execution_count": 1,
   "id": "3e00979c",
   "metadata": {},
   "outputs": [
    {
     "name": "stdout",
     "output_type": "stream",
     "text": [
      "WARNING:tensorflow:From C:\\ProgramData\\anaconda3\\Lib\\site-packages\\keras\\src\\losses.py:2976: The name tf.losses.sparse_softmax_cross_entropy is deprecated. Please use tf.compat.v1.losses.sparse_softmax_cross_entropy instead.\n",
      "\n"
     ]
    }
   ],
   "source": [
    "from tensorflow import keras\n",
    "import matplotlib.pyplot as plt"
   ]
  },
  {
   "cell_type": "markdown",
   "id": "078ca68c",
   "metadata": {},
   "source": [
    "# 필터의 가중치\n",
    "\n",
    "- 입력 이미지의 2차원 영역에 적용되어 어떤 특징을 크게 두드러지게 표현하는 역할\n",
    "    - 예) 물건의 테두리같은 특징적인 부분의 가중치는 높고 그 외 영역은 가중치가 낮게"
   ]
  },
  {
   "cell_type": "code",
   "execution_count": 2,
   "id": "3e56f635",
   "metadata": {},
   "outputs": [
    {
     "name": "stdout",
     "output_type": "stream",
     "text": [
      "WARNING:tensorflow:From C:\\ProgramData\\anaconda3\\Lib\\site-packages\\keras\\src\\backend.py:1398: The name tf.executing_eagerly_outside_functions is deprecated. Please use tf.compat.v1.executing_eagerly_outside_functions instead.\n",
      "\n",
      "WARNING:tensorflow:From C:\\ProgramData\\anaconda3\\Lib\\site-packages\\keras\\src\\layers\\pooling\\max_pooling2d.py:161: The name tf.nn.max_pool is deprecated. Please use tf.nn.max_pool2d instead.\n",
      "\n"
     ]
    }
   ],
   "source": [
    "# 저장해둔 CNN 모델 불러오기\n",
    "model = keras.models.load_model(\"./model/best-cnn-model.h5\")"
   ]
  },
  {
   "cell_type": "code",
   "execution_count": 3,
   "id": "5d5114cc",
   "metadata": {
    "scrolled": true
   },
   "outputs": [
    {
     "data": {
      "text/plain": [
       "[<keras.src.layers.convolutional.conv2d.Conv2D at 0x19b6eeb52d0>,\n",
       " <keras.src.layers.pooling.max_pooling2d.MaxPooling2D at 0x19b6f323a10>,\n",
       " <keras.src.layers.convolutional.conv2d.Conv2D at 0x19b6f324c50>,\n",
       " <keras.src.layers.pooling.max_pooling2d.MaxPooling2D at 0x19b704d8ad0>,\n",
       " <keras.src.layers.reshaping.flatten.Flatten at 0x19b6f3b0c50>,\n",
       " <keras.src.layers.core.dense.Dense at 0x19b6f3e6c10>,\n",
       " <keras.src.layers.regularization.dropout.Dropout at 0x19b704976d0>,\n",
       " <keras.src.layers.core.dense.Dense at 0x19b704964d0>]"
      ]
     },
     "execution_count": 3,
     "metadata": {},
     "output_type": "execute_result"
    }
   ],
   "source": [
    "# 모델 층 확인\n",
    "model.layers"
   ]
  },
  {
   "cell_type": "code",
   "execution_count": 4,
   "id": "452b6c45",
   "metadata": {},
   "outputs": [],
   "source": [
    "# 첫 번째 합성곱 층의 가중치 확인 \n",
    "conv = model.layers[0]"
   ]
  },
  {
   "cell_type": "code",
   "execution_count": 10,
   "id": "10ac98bb",
   "metadata": {},
   "outputs": [
    {
     "data": {
      "text/plain": [
       "[<tf.Variable 'conv2d/kernel:0' shape=(3, 3, 1, 32) dtype=float32, numpy=\n",
       " array([[[[ 0.05127523, -0.06228187,  0.12050655, -0.05733435,\n",
       "            0.01424162, -0.1051567 , -0.20469604,  0.00494394,\n",
       "           -0.15084831,  0.11021421, -0.01792495, -0.02588536,\n",
       "            0.08990397,  0.23557329,  0.03752429,  0.20348926,\n",
       "           -0.18990476, -0.10358876,  0.1006509 , -0.32826608,\n",
       "           -0.17812152, -0.08519746, -0.04272161,  0.26877815,\n",
       "           -0.064219  , -0.284954  , -0.3232573 ,  0.05215729,\n",
       "           -0.2884678 , -0.17699325,  0.22288616,  0.06703718]],\n",
       " \n",
       "         [[ 0.12410325,  0.03361204, -0.14719316, -0.21249723,\n",
       "            0.07042246,  0.18233068, -0.00710346, -0.26222834,\n",
       "            0.3716699 , -0.02758772, -0.0207419 , -0.3368569 ,\n",
       "            0.14369293,  0.2099915 ,  0.00431049,  0.24701093,\n",
       "           -0.19806008,  0.06875201, -0.66036046, -0.15084574,\n",
       "            0.07862479, -0.18173097,  0.09484024, -0.10276049,\n",
       "            0.28953698, -0.02446983,  0.21302633,  0.14382695,\n",
       "            0.08076782,  0.054449  ,  0.24315858, -0.02573682]],\n",
       " \n",
       "         [[ 0.05330266,  0.0027488 ,  0.20638889,  0.02071911,\n",
       "           -0.22402257, -0.05904736,  0.3121487 , -0.13328257,\n",
       "           -0.21665321, -0.0049149 , -0.09236822, -0.36913508,\n",
       "            0.1596506 , -0.28791845, -0.03072368,  0.07053202,\n",
       "            0.21775746,  0.07848186, -1.2455069 , -0.10139576,\n",
       "            0.11083616,  0.274063  , -0.04438332, -0.07930259,\n",
       "           -0.28098786,  0.02990079,  0.0509741 , -0.09488514,\n",
       "            0.23744316,  0.37933582,  0.22927293, -0.09783316]]],\n",
       " \n",
       " \n",
       "        [[[ 0.0365987 , -0.02831108, -0.16106896, -0.1598178 ,\n",
       "            0.18414333, -0.3401154 ,  0.07629982,  0.11458106,\n",
       "           -0.14754039, -0.24038386, -0.04724655, -0.13263774,\n",
       "            0.03683736, -0.24687076,  0.06348515,  0.323041  ,\n",
       "           -0.01281315,  0.17161648,  0.02146981, -0.05807161,\n",
       "           -0.39851257, -0.2770483 ,  0.13641807,  0.14589174,\n",
       "            0.24871631,  0.17338373,  0.02861668,  0.05377924,\n",
       "            0.05518142, -0.36869314,  0.21236381,  0.04679289]],\n",
       " \n",
       "         [[ 0.06260066,  0.19157387, -0.17195582,  0.01714347,\n",
       "            0.24401224, -0.02482517,  0.37358892,  0.23522545,\n",
       "            0.22420992, -0.03395461, -0.09014572,  0.0500956 ,\n",
       "            0.05536227,  0.3564889 , -0.1067033 , -0.38786846,\n",
       "            0.14204165, -0.07645521, -0.58790636,  0.2088474 ,\n",
       "            0.1806749 ,  0.31277773,  0.13958108, -0.17711093,\n",
       "           -0.05538112,  0.27814978,  0.1951382 , -0.00763282,\n",
       "           -0.29615772, -0.49542415, -0.12641533,  0.33874393]],\n",
       " \n",
       "         [[-0.03658166, -0.09382446,  0.30172506,  0.07572682,\n",
       "           -0.3558008 ,  0.35240042, -0.21983406,  0.24535316,\n",
       "           -0.08672521,  0.3175258 , -0.03800303,  0.1854383 ,\n",
       "            0.1782914 ,  0.06522636,  0.03399302, -1.0180897 ,\n",
       "            0.08867574, -0.16175345, -0.5076615 ,  0.23505306,\n",
       "            0.22099516, -0.03330167, -0.29321852, -0.13317432,\n",
       "           -0.15066628, -0.15238021, -0.04298015,  0.20157178,\n",
       "            0.24302544,  0.1628702 , -0.1273625 ,  0.33913332]]],\n",
       " \n",
       " \n",
       "        [[[-0.04314955,  0.04486569, -0.09468896,  0.17225263,\n",
       "           -0.0721259 , -0.17089818,  0.1420124 , -0.08093181,\n",
       "           -0.10368493, -0.40042147, -0.05912596,  0.17230782,\n",
       "            0.10422034, -0.33141553, -0.1414722 , -0.00701156,\n",
       "            0.04447852,  0.23778787,  0.18906401,  0.26862878,\n",
       "           -0.30336303,  0.28919125,  0.16985092, -0.36664075,\n",
       "            0.15973958, -0.22544448,  0.02415726, -0.20867401,\n",
       "            0.02291902,  0.22000955, -0.22436686, -0.12819442]],\n",
       " \n",
       "         [[-0.13518858,  0.19849783, -0.09402274,  0.10320441,\n",
       "            0.25738356,  0.13270263, -0.23213923,  0.03810777,\n",
       "           -0.15150835,  0.14304489, -0.13187294,  0.16986904,\n",
       "            0.1257041 , -0.01464537,  0.15045558, -0.25272372,\n",
       "           -0.03987766,  0.03373138,  0.382653  ,  0.03529702,\n",
       "            0.11334819, -0.13004719,  0.25409824,  0.25763777,\n",
       "            0.10128139,  0.2334194 ,  0.15572344, -0.05502259,\n",
       "           -0.1697945 , -0.11388748, -0.5396334 , -0.3446883 ]],\n",
       " \n",
       "         [[-0.05670957, -0.03970425,  0.11715528, -0.03031314,\n",
       "           -0.02260805,  0.04531856, -0.24948134, -0.07879575,\n",
       "            0.26190698,  0.188669  , -0.09856015,  0.19286834,\n",
       "            0.02943242,  0.07018568, -0.18124877, -1.2856871 ,\n",
       "           -0.12328953, -0.1846435 ,  0.06974501, -0.16388452,\n",
       "            0.19028395, -0.17786358, -0.36561376,  0.17893314,\n",
       "           -0.20480406, -0.19779204, -0.32375577,  0.2024919 ,\n",
       "            0.13381924,  0.12145281, -0.01771768, -0.14858882]]]],\n",
       "       dtype=float32)>,\n",
       " <tf.Variable 'conv2d/bias:0' shape=(32,) dtype=float32, numpy=\n",
       " array([-0.08486416, -0.11914291, -0.01837381, -0.0250454 , -0.04570894,\n",
       "         0.0036257 , -0.00698072, -0.00022948,  0.00331183, -0.02911294,\n",
       "         0.        , -0.00956488, -0.18184035, -0.04864427, -0.03044033,\n",
       "         0.07427471, -0.01288635, -0.03866238,  0.10065949, -0.00020978,\n",
       "         0.01124083,  0.011037  , -0.01755128, -0.00641102, -0.02090243,\n",
       "        -0.0020801 , -0.01196933, -0.12285995, -0.01849736, -0.02064342,\n",
       "        -0.00489384, -0.00736728], dtype=float32)>]"
      ]
     },
     "execution_count": 10,
     "metadata": {},
     "output_type": "execute_result"
    }
   ],
   "source": [
    "conv.weights"
   ]
  },
  {
   "cell_type": "code",
   "execution_count": 9,
   "id": "f97252dc",
   "metadata": {},
   "outputs": [
    {
     "data": {
      "text/plain": [
       "(TensorShape([3, 3, 1, 32]), TensorShape([32]))"
      ]
     },
     "execution_count": 9,
     "metadata": {},
     "output_type": "execute_result"
    }
   ],
   "source": [
    "conv.weights[0].shape, conv.weights[1].shape"
   ]
  },
  {
   "cell_type": "markdown",
   "id": "855efadf",
   "metadata": {},
   "source": [
    "- conv.weights[0]\n",
    "    - 가중치\n",
    "    - 가중치의 크기\n",
    "        - 커널의 크기 : (3, 3, 1)\n",
    "        - 필터의 개수 : 32\n",
    "        \n",
    "- conv.weights[1]\n",
    "    - 절편의 개수 = 필터의 개수"
   ]
  },
  {
   "cell_type": "code",
   "execution_count": 13,
   "id": "e2e0f625",
   "metadata": {
    "scrolled": true
   },
   "outputs": [
    {
     "data": {
      "text/plain": [
       "array([[[[ 0.05127523, -0.06228187,  0.12050655, -0.05733435,\n",
       "           0.01424162, -0.1051567 , -0.20469604,  0.00494394,\n",
       "          -0.15084831,  0.11021421, -0.01792495, -0.02588536,\n",
       "           0.08990397,  0.23557329,  0.03752429,  0.20348926,\n",
       "          -0.18990476, -0.10358876,  0.1006509 , -0.32826608,\n",
       "          -0.17812152, -0.08519746, -0.04272161,  0.26877815,\n",
       "          -0.064219  , -0.284954  , -0.3232573 ,  0.05215729,\n",
       "          -0.2884678 , -0.17699325,  0.22288616,  0.06703718]],\n",
       "\n",
       "        [[ 0.12410325,  0.03361204, -0.14719316, -0.21249723,\n",
       "           0.07042246,  0.18233068, -0.00710346, -0.26222834,\n",
       "           0.3716699 , -0.02758772, -0.0207419 , -0.3368569 ,\n",
       "           0.14369293,  0.2099915 ,  0.00431049,  0.24701093,\n",
       "          -0.19806008,  0.06875201, -0.66036046, -0.15084574,\n",
       "           0.07862479, -0.18173097,  0.09484024, -0.10276049,\n",
       "           0.28953698, -0.02446983,  0.21302633,  0.14382695,\n",
       "           0.08076782,  0.054449  ,  0.24315858, -0.02573682]],\n",
       "\n",
       "        [[ 0.05330266,  0.0027488 ,  0.20638889,  0.02071911,\n",
       "          -0.22402257, -0.05904736,  0.3121487 , -0.13328257,\n",
       "          -0.21665321, -0.0049149 , -0.09236822, -0.36913508,\n",
       "           0.1596506 , -0.28791845, -0.03072368,  0.07053202,\n",
       "           0.21775746,  0.07848186, -1.2455069 , -0.10139576,\n",
       "           0.11083616,  0.274063  , -0.04438332, -0.07930259,\n",
       "          -0.28098786,  0.02990079,  0.0509741 , -0.09488514,\n",
       "           0.23744316,  0.37933582,  0.22927293, -0.09783316]]],\n",
       "\n",
       "\n",
       "       [[[ 0.0365987 , -0.02831108, -0.16106896, -0.1598178 ,\n",
       "           0.18414333, -0.3401154 ,  0.07629982,  0.11458106,\n",
       "          -0.14754039, -0.24038386, -0.04724655, -0.13263774,\n",
       "           0.03683736, -0.24687076,  0.06348515,  0.323041  ,\n",
       "          -0.01281315,  0.17161648,  0.02146981, -0.05807161,\n",
       "          -0.39851257, -0.2770483 ,  0.13641807,  0.14589174,\n",
       "           0.24871631,  0.17338373,  0.02861668,  0.05377924,\n",
       "           0.05518142, -0.36869314,  0.21236381,  0.04679289]],\n",
       "\n",
       "        [[ 0.06260066,  0.19157387, -0.17195582,  0.01714347,\n",
       "           0.24401224, -0.02482517,  0.37358892,  0.23522545,\n",
       "           0.22420992, -0.03395461, -0.09014572,  0.0500956 ,\n",
       "           0.05536227,  0.3564889 , -0.1067033 , -0.38786846,\n",
       "           0.14204165, -0.07645521, -0.58790636,  0.2088474 ,\n",
       "           0.1806749 ,  0.31277773,  0.13958108, -0.17711093,\n",
       "          -0.05538112,  0.27814978,  0.1951382 , -0.00763282,\n",
       "          -0.29615772, -0.49542415, -0.12641533,  0.33874393]],\n",
       "\n",
       "        [[-0.03658166, -0.09382446,  0.30172506,  0.07572682,\n",
       "          -0.3558008 ,  0.35240042, -0.21983406,  0.24535316,\n",
       "          -0.08672521,  0.3175258 , -0.03800303,  0.1854383 ,\n",
       "           0.1782914 ,  0.06522636,  0.03399302, -1.0180897 ,\n",
       "           0.08867574, -0.16175345, -0.5076615 ,  0.23505306,\n",
       "           0.22099516, -0.03330167, -0.29321852, -0.13317432,\n",
       "          -0.15066628, -0.15238021, -0.04298015,  0.20157178,\n",
       "           0.24302544,  0.1628702 , -0.1273625 ,  0.33913332]]],\n",
       "\n",
       "\n",
       "       [[[-0.04314955,  0.04486569, -0.09468896,  0.17225263,\n",
       "          -0.0721259 , -0.17089818,  0.1420124 , -0.08093181,\n",
       "          -0.10368493, -0.40042147, -0.05912596,  0.17230782,\n",
       "           0.10422034, -0.33141553, -0.1414722 , -0.00701156,\n",
       "           0.04447852,  0.23778787,  0.18906401,  0.26862878,\n",
       "          -0.30336303,  0.28919125,  0.16985092, -0.36664075,\n",
       "           0.15973958, -0.22544448,  0.02415726, -0.20867401,\n",
       "           0.02291902,  0.22000955, -0.22436686, -0.12819442]],\n",
       "\n",
       "        [[-0.13518858,  0.19849783, -0.09402274,  0.10320441,\n",
       "           0.25738356,  0.13270263, -0.23213923,  0.03810777,\n",
       "          -0.15150835,  0.14304489, -0.13187294,  0.16986904,\n",
       "           0.1257041 , -0.01464537,  0.15045558, -0.25272372,\n",
       "          -0.03987766,  0.03373138,  0.382653  ,  0.03529702,\n",
       "           0.11334819, -0.13004719,  0.25409824,  0.25763777,\n",
       "           0.10128139,  0.2334194 ,  0.15572344, -0.05502259,\n",
       "          -0.1697945 , -0.11388748, -0.5396334 , -0.3446883 ]],\n",
       "\n",
       "        [[-0.05670957, -0.03970425,  0.11715528, -0.03031314,\n",
       "          -0.02260805,  0.04531856, -0.24948134, -0.07879575,\n",
       "           0.26190698,  0.188669  , -0.09856015,  0.19286834,\n",
       "           0.02943242,  0.07018568, -0.18124877, -1.2856871 ,\n",
       "          -0.12328953, -0.1846435 ,  0.06974501, -0.16388452,\n",
       "           0.19028395, -0.17786358, -0.36561376,  0.17893314,\n",
       "          -0.20480406, -0.19779204, -0.32375577,  0.2024919 ,\n",
       "           0.13381924,  0.12145281, -0.01771768, -0.14858882]]]],\n",
       "      dtype=float32)"
      ]
     },
     "execution_count": 13,
     "metadata": {},
     "output_type": "execute_result"
    }
   ],
   "source": [
    "conv_weights = conv.weights[0].numpy()\n",
    "conv_weights"
   ]
  },
  {
   "cell_type": "code",
   "execution_count": 14,
   "id": "68d9fae8",
   "metadata": {},
   "outputs": [
    {
     "name": "stdout",
     "output_type": "stream",
     "text": [
      "-0.0133237885 0.22941963\n"
     ]
    }
   ],
   "source": [
    "print(conv_weights.mean(), conv_weights.std())"
   ]
  },
  {
   "cell_type": "code",
   "execution_count": 15,
   "id": "6f638b1f",
   "metadata": {
    "scrolled": true
   },
   "outputs": [
    {
     "data": {
      "image/png": "[encoded data removed]",
      "text/plain": [
       "<Figure size 640x480 with 1 Axes>"
      ]
     },
     "metadata": {},
     "output_type": "display_data"
    }
   ],
   "source": [
    "# 가중치 히스토그램\n",
    "plt.figure()\n",
    "\n",
    "plt.hist(conv_weights.reshape(-1, 1))\n",
    "plt.xlabel(\"weight\")\n",
    "plt.ylabel(\"count\")\n",
    "plt.show()"
   ]
  },
  {
   "cell_type": "markdown",
   "id": "d0f3ce7e",
   "metadata": {},
   "source": [
    "- 0을 중심으로 종 모양의 분포"
   ]
  },
  {
   "cell_type": "code",
   "execution_count": 16,
   "id": "656dcbea",
   "metadata": {},
   "outputs": [
    {
     "data": {
      "image/png": "[encoded data removed]",
      "text/plain": [
       "<Figure size 1500x200 with 32 Axes>"
      ]
     },
     "metadata": {},
     "output_type": "display_data"
    }
   ],
   "source": [
    "# 32개의 커널을 모두 시각화\n",
    "fig, axs = plt.subplots(2, 16, figsize = (15, 2))\n",
    "\n",
    "for i in range(2):\n",
    "    for j in range(16):\n",
    "        axs[i, j].imshow(conv_weights[:, :, 0, i * 16 + j], vmin = -0.5, vmax = 0.5)\n",
    "        axs[i, j].axis(\"off\")\n",
    "        \n",
    "plt.show()"
   ]
  },
  {
   "cell_type": "markdown",
   "id": "d35b7d22",
   "metadata": {},
   "source": [
    "- 밝은 부분이 높은 값\n",
    "    - 가중치가 높은 영역에 이미지가 겹치면 크게 활성화 됨\n",
    "        - 예) 오른쪽 세로로 한 줄의 가중치가 높다면 오른쪽에 놓인 직선을 만나면 크게 활성화\n",
    "        \n",
    "- i : 행 인덱스 (0 ~ 1)\n",
    "- j : 열 인덱스 (0 ~ 15)\n",
    "    - conv_weights[:, :, 0, 0] 부터 conv_weights[:, :, 0, 31] 까지 출력\n",
    "    \n",
    "- imshow()\n",
    "    - 배열의 최댓값과 최솟값으로 픽셀의 강도를 표현\n",
    "        - 배열의 최댓값은 가장 밝은 색으로\n",
    "        - 배열의 최솟값은 가장 어두운 색으로 표현\n",
    "\n",
    "    - vmax , vmin\n",
    "        - 컬러맵으로 표현할 색의 범위 지정\n",
    "      "
   ]
  },
  {
   "cell_type": "markdown",
   "id": "48725bd6",
   "metadata": {},
   "source": [
    "# 훈련하지 않은 빈 합성곱 신경망과 비교"
   ]
  },
  {
   "cell_type": "code",
   "execution_count": 17,
   "id": "0004e4e1",
   "metadata": {},
   "outputs": [],
   "source": [
    "no_training_model = keras.Sequential()\n",
    "no_training_model.add(keras.layers.Conv2D(32, kernel_size = 3, activation = \"relu\",\n",
    "                                         padding = \"same\", input_shape = (28, 28, 1)))"
   ]
  },
  {
   "cell_type": "code",
   "execution_count": 18,
   "id": "9871b928",
   "metadata": {
    "scrolled": false
   },
   "outputs": [
    {
     "name": "stdout",
     "output_type": "stream",
     "text": [
      "(3, 3, 1, 32)\n"
     ]
    }
   ],
   "source": [
    "# 훈련하지 않은 빈 합성곱 층의 가중치를 저장\n",
    "no_training_conv = no_training_model.layers[0]\n",
    "print(no_training_conv.weights[0].shape)"
   ]
  },
  {
   "cell_type": "code",
   "execution_count": 19,
   "id": "678da6e4",
   "metadata": {},
   "outputs": [
    {
     "name": "stdout",
     "output_type": "stream",
     "text": [
      "0.007668929 0.081244245\n"
     ]
    }
   ],
   "source": [
    "no_training_weights = no_training_conv.weights[0].numpy()\n",
    "print(no_training_weights.mean(), no_training_weights.std())"
   ]
  },
  {
   "cell_type": "code",
   "execution_count": 20,
   "id": "553c37eb",
   "metadata": {},
   "outputs": [
    {
     "data": {
      "image/png": "[encoded data removed]",
      "text/plain": [
       "<Figure size 640x480 with 1 Axes>"
      ]
     },
     "metadata": {},
     "output_type": "display_data"
    }
   ],
   "source": [
    "# 빈 합성곱 층 히스토그램\n",
    "plt.figure()\n",
    "plt.hist(no_training_weights.reshape(-1, 1))\n",
    "\n",
    "plt.xlabel(\"weight\")\n",
    "plt.ylabel(\"count\")\n",
    "plt.show()"
   ]
  },
  {
   "cell_type": "markdown",
   "id": "3ae17f08",
   "metadata": {},
   "source": [
    "- 대부분의 가중치가 -0.15 부터 0.15 까지 고르게 분포함\n",
    "    - 텐서플로에서 가중치를 초기화할 때 균등 분포에서 랜덤하게 값을 선택하기 때문에"
   ]
  },
  {
   "cell_type": "code",
   "execution_count": 22,
   "id": "07c34d05",
   "metadata": {},
   "outputs": [
    {
     "data": {
      "image/png": "[encoded data removed]",
      "text/plain": [
       "<Figure size 1500x200 with 32 Axes>"
      ]
     },
     "metadata": {},
     "output_type": "display_data"
    }
   ],
   "source": [
    "# 32개의 커널을 모두 시각화\n",
    "fig, axs = plt.subplots(2, 16, figsize = (15, 2))\n",
    "\n",
    "for i in range(2):\n",
    "    for j in range(16):\n",
    "        axs[i, j].imshow(no_training_weights[:, :, 0, i * 16 + j], vmin = -0.5, vmax = 0.5)\n",
    "        axs[i, j].axis(\"off\")\n",
    "        \n",
    "plt.show() "
   ]
  },
  {
   "cell_type": "markdown",
   "id": "3a8dca5f",
   "metadata": {},
   "source": [
    "- 훈련된 모델에 비해 패턴이 뚜렷하지 않음"
   ]
  },
  {
   "cell_type": "markdown",
   "id": "799bf553",
   "metadata": {},
   "source": [
    "# 케라스의 함수형 API\n",
    "\n",
    "- Sequential 클래스 : 층을 차례대로 쌓은 단순한 모델을 구성\n",
    "- 복잡한 모델은 구성하기 힘들기 때문에 함수형API(functional API)를 사용\n",
    "- 케라스의 Model 클래스를 사용하여 모델을 생성 \n",
    "- layers 객체를 함수처럼 호출하여 동작"
   ]
  },
  {
   "cell_type": "markdown",
   "id": "798a87ec",
   "metadata": {},
   "source": [
    "## 함수형 API로 다층 퍼셉트론 모델 구현 예제"
   ]
  },
  {
   "cell_type": "code",
   "execution_count": 23,
   "id": "57f24cf4",
   "metadata": {},
   "outputs": [],
   "source": [
    "# 입력층 생성\n",
    "inputs = keras.Input(shape = (784,))"
   ]
  },
  {
   "cell_type": "markdown",
   "id": "d120df51",
   "metadata": {},
   "source": [
    "- (shape = (784,) 는 28 * 28 = 784가 나온거임 \n",
    "    - 하나의 층으로 폈기 때문에 가로 * 세로 해준거임\n",
    "   "
   ]
  },
  {
   "cell_type": "markdown",
   "id": "649b7f0a",
   "metadata": {},
   "source": [
    "- Sequential 클래스는 InputLayer 클래스를 자동으로 추가하고 호출\n",
    "- Model 클래스는 입력층을 수동으로 만들어서 호출해야 함"
   ]
  },
  {
   "cell_type": "code",
   "execution_count": 24,
   "id": "67c962c1",
   "metadata": {},
   "outputs": [],
   "source": [
    "# 은닉층과 출력층 객체 생성\n",
    "dense1 = keras.layers.Dense(100, activation = \"sigmoid\")\n",
    "dense2 = keras.layers.Dense(10, activation = \"softmax\")"
   ]
  },
  {
   "cell_type": "code",
   "execution_count": 25,
   "id": "d0eb5162",
   "metadata": {},
   "outputs": [],
   "source": [
    "# 은닉층 호출\n",
    "hidden = dense1(inputs)"
   ]
  },
  {
   "cell_type": "markdown",
   "id": "b3d19423",
   "metadata": {},
   "source": [
    "- input 를 Dense층에 통과시킨 후 출력값 hidden 을 만드는 구조 생성"
   ]
  },
  {
   "cell_type": "code",
   "execution_count": 28,
   "id": "0bbaba63",
   "metadata": {},
   "outputs": [],
   "source": [
    "# 출력층 호출\n",
    "outputs = dense2(hidden)"
   ]
  },
  {
   "cell_type": "code",
   "execution_count": 29,
   "id": "d9c7be11",
   "metadata": {},
   "outputs": [],
   "source": [
    "# Model 클래스로 inputs 와 outputs 를 연결\n",
    "test_model = keras.Model(inputs, outputs)"
   ]
  },
  {
   "cell_type": "code",
   "execution_count": 30,
   "id": "8e2f688e",
   "metadata": {},
   "outputs": [
    {
     "name": "stdout",
     "output_type": "stream",
     "text": [
      "Model: \"model\"\n",
      "_________________________________________________________________\n",
      " Layer (type)                Output Shape              Param #   \n",
      "=================================================================\n",
      " input_1 (InputLayer)        [(None, 784)]             0         \n",
      "                                                                 \n",
      " dense (Dense)               (None, 100)               78500     \n",
      "                                                                 \n",
      " dense_1 (Dense)             (None, 10)                1010      \n",
      "                                                                 \n",
      "=================================================================\n",
      "Total params: 79510 (310.59 KB)\n",
      "Trainable params: 79510 (310.59 KB)\n",
      "Non-trainable params: 0 (0.00 Byte)\n",
      "_________________________________________________________________\n"
     ]
    }
   ],
   "source": [
    "test_model.summary()"
   ]
  },
  {
   "cell_type": "markdown",
   "id": "ae17dfdc",
   "metadata": {},
   "source": [
    "## 합성곱 신경망 모델 특성맵 시각화\n",
    "\n",
    "- 함수형 API 를 이용해 첫 번째 합성곱 층의 출력(특성맵)을 시각화"
   ]
  },
  {
   "cell_type": "code",
   "execution_count": 31,
   "id": "4f98deb9",
   "metadata": {},
   "outputs": [
    {
     "name": "stdout",
     "output_type": "stream",
     "text": [
      "KerasTensor(type_spec=TensorSpec(shape=(None, 28, 28, 1), dtype=tf.float32, name='conv2d_input'), name='conv2d_input', description=\"created by layer 'conv2d_input'\")\n"
     ]
    }
   ],
   "source": [
    "# 합성곱 모델의 입력\n",
    "print(model.input)"
   ]
  },
  {
   "cell_type": "code",
   "execution_count": 32,
   "id": "1c944562",
   "metadata": {},
   "outputs": [
    {
     "name": "stdout",
     "output_type": "stream",
     "text": [
      "[<KerasTensor: shape=(None, 28, 28, 1) dtype=float32 (created by layer 'conv2d_input')>]\n"
     ]
    }
   ],
   "source": [
    "print(model.inputs)"
   ]
  },
  {
   "cell_type": "code",
   "execution_count": 33,
   "id": "3d623346",
   "metadata": {},
   "outputs": [],
   "source": [
    "# 합성곱층과 입력층을 함수형 API로 연결\n",
    "conv_acti = keras.Model(model.inputs, model.layers[0].output)"
   ]
  },
  {
   "cell_type": "code",
   "execution_count": 34,
   "id": "774e0a33",
   "metadata": {},
   "outputs": [
    {
     "name": "stdout",
     "output_type": "stream",
     "text": [
      "Model: \"model_1\"\n",
      "_________________________________________________________________\n",
      " Layer (type)                Output Shape              Param #   \n",
      "=================================================================\n",
      " conv2d_input (InputLayer)   [(None, 28, 28, 1)]       0         \n",
      "                                                                 \n",
      " conv2d (Conv2D)             (None, 28, 28, 32)        320       \n",
      "                                                                 \n",
      "=================================================================\n",
      "Total params: 320 (1.25 KB)\n",
      "Trainable params: 320 (1.25 KB)\n",
      "Non-trainable params: 0 (0.00 Byte)\n",
      "_________________________________________________________________\n"
     ]
    }
   ],
   "source": [
    "conv_acti.summary()"
   ]
  },
  {
   "cell_type": "code",
   "execution_count": 35,
   "id": "cd3d1a02",
   "metadata": {},
   "outputs": [],
   "source": [
    "# 데이터 준비\n",
    "(x_train, y_train), (x_test, y_test) = keras.datasets.fashion_mnist.load_data()"
   ]
  },
  {
   "cell_type": "code",
   "execution_count": 36,
   "id": "16e8b397",
   "metadata": {},
   "outputs": [
    {
     "data": {
      "image/png": "[encoded data removed]",
      "text/plain": [
       "<Figure size 640x480 with 1 Axes>"
      ]
     },
     "metadata": {},
     "output_type": "display_data"
    }
   ],
   "source": [
    "plt.figure()\n",
    "plt.imshow(x_train[0], cmap = \"gray_r\")\n",
    "plt.show()"
   ]
  },
  {
   "cell_type": "code",
   "execution_count": 37,
   "id": "3a61a7eb",
   "metadata": {},
   "outputs": [],
   "source": [
    "# 위의 데이터를 첫 번째 합성곱 층에 통과\n",
    "inputs = x_train[[0]].reshape(-1, 28, 28, 1) / 255"
   ]
  },
  {
   "cell_type": "code",
   "execution_count": 38,
   "id": "01df39d7",
   "metadata": {},
   "outputs": [
    {
     "name": "stdout",
     "output_type": "stream",
     "text": [
      "1/1 [==============================] - 0s 58ms/step\n"
     ]
    }
   ],
   "source": [
    "feature_maps = conv_acti.predict(inputs)"
   ]
  },
  {
   "cell_type": "code",
   "execution_count": 40,
   "id": "c5cd0e35",
   "metadata": {},
   "outputs": [
    {
     "name": "stdout",
     "output_type": "stream",
     "text": [
      "(1, 28, 28, 32)\n"
     ]
    }
   ],
   "source": [
    "print(feature_maps.shape)"
   ]
  },
  {
   "cell_type": "markdown",
   "id": "95ee8965",
   "metadata": {},
   "source": [
    "- 세임 패딩과 32개의 필터를 사용한 합성곱층의 출력이기 때문에 (28, 28, 32)\n",
    "- 첫 번째 차원은 배치 차원\n",
    "    - 샘플 하나만 입력했기 때문에 1"
   ]
  },
  {
   "cell_type": "code",
   "execution_count": 47,
   "id": "c2d33a4f",
   "metadata": {},
   "outputs": [
    {
     "data": {
      "image/png": "[encoded data removed]",
      "text/plain": [
       "<Figure size 1500x200 with 32 Axes>"
      ]
     },
     "metadata": {},
     "output_type": "display_data"
    }
   ],
   "source": [
    "# 32개의 커널을 모두 시각화\n",
    "fig, axs = plt.subplots(2, 16, figsize = (15, 2))\n",
    "\n",
    "for i in range(2):\n",
    "    for j in range(16):\n",
    "        axs[i, j].imshow(conv_weights[:, :, 0, i * 16 + j], vmin = -0.5, vmax = 0.5)\n",
    "        axs[i, j].axis(\"off\")\n",
    "        \n",
    "plt.show()"
   ]
  },
  {
   "cell_type": "code",
   "execution_count": 46,
   "id": "ab6236de",
   "metadata": {
    "scrolled": false
   },
   "outputs": [
    {
     "data": {
      "image/png": "[encoded data removed]",
      "text/plain": [
       "<Figure size 1500x800 with 32 Axes>"
      ]
     },
     "metadata": {},
     "output_type": "display_data"
    }
   ],
   "source": [
    "# 32개의 특성맵을 모두 시각화\n",
    "fig, axs = plt.subplots(4, 8, figsize = (15, 8))\n",
    "\n",
    "for i in range(4):\n",
    "    for j in range(8):\n",
    "        axs[i, j].imshow(feature_maps[0, :, :, i * 8 + j])\n",
    "        axs[i, j].axis(\"off\")\n",
    "        \n",
    "plt.show()"
   ]
  },
  {
   "cell_type": "markdown",
   "id": "71d282a8",
   "metadata": {},
   "source": [
    "- 32개의 필터로 인해 입력 이미지에서 강하게 활성화된 부분들을 시각화\n",
    "    - 필터가 수직선을 감지한다면 수직선 부분이 강하게 활성화\n",
    "    - 전체적으로 모두 감지하는 필터는 아이템의 전체를 활성화\n",
    "    - 전체적으로 음수값인 필터는 배경과 같은 0에 가까운 값과 곱해지면 작은 음수, 큰 수가 곱해지면 큰 음수가 됨\n",
    "        - 배경을 잘 활성화"
   ]
  },
  {
   "cell_type": "code",
   "execution_count": 48,
   "id": "0b5148ec",
   "metadata": {},
   "outputs": [],
   "source": [
    "# 두 번째 합성곱 층의 특성 맵 확인\n",
    "conv2_acti = keras.Model(model.inputs, model.layers[2].output)"
   ]
  },
  {
   "cell_type": "code",
   "execution_count": 49,
   "id": "fd82bc01",
   "metadata": {},
   "outputs": [
    {
     "name": "stdout",
     "output_type": "stream",
     "text": [
      "1/1 [==============================] - 0s 47ms/step\n"
     ]
    }
   ],
   "source": [
    "feature_maps = conv2_acti.predict(inputs)"
   ]
  },
  {
   "cell_type": "code",
   "execution_count": 50,
   "id": "0cdc2ac2",
   "metadata": {},
   "outputs": [
    {
     "name": "stdout",
     "output_type": "stream",
     "text": [
      "(1, 14, 14, 64)\n"
     ]
    }
   ],
   "source": [
    "print(feature_maps.shape)"
   ]
  },
  {
   "cell_type": "code",
   "execution_count": 51,
   "id": "1d6b99e1",
   "metadata": {},
   "outputs": [
    {
     "data": {
      "image/png": "[encoded data removed]",
      "text/plain": [
       "<Figure size 1200x1200 with 64 Axes>"
      ]
     },
     "metadata": {},
     "output_type": "display_data"
    }
   ],
   "source": [
    "# 32개의 특성맵을 모두 시각화\n",
    "fig, axs = plt.subplots(8, 8, figsize = (12, 12))\n",
    "\n",
    "for i in range(8):\n",
    "    for j in range(8):\n",
    "        axs[i, j].imshow(feature_maps[0, :, :, i * 8 + j])\n",
    "        axs[i, j].axis(\"off\")\n",
    "        \n",
    "plt.show()"
   ]
  },
  {
   "cell_type": "markdown",
   "id": "17fccc39",
   "metadata": {},
   "source": [
    "- 특성맵을 시각적으로 이해하기 난해함\n",
    "    - 합성곱 층을 많이 쌓을 수록 난해해짐\n",
    "    - 앞부분의 합성곱 층은 이미지의 시각적인 정보를 감지하고\n",
    "    -  뒷부분의 합성곱 층은 앞쪽에서 감지한 시각적인 정보를 바탕으로 추상적인 정보를 학습"
   ]
  },
  {
   "cell_type": "markdown",
   "id": "48081363",
   "metadata": {},
   "source": [
    "## 풀링 결과물 비교 "
   ]
  },
  {
   "cell_type": "code",
   "execution_count": 52,
   "id": "378e2323",
   "metadata": {},
   "outputs": [],
   "source": [
    "pool_model = keras.Model(model.inputs, model.layers[1].output)"
   ]
  },
  {
   "cell_type": "code",
   "execution_count": 53,
   "id": "813aafc0",
   "metadata": {},
   "outputs": [
    {
     "name": "stdout",
     "output_type": "stream",
     "text": [
      "1/1 [==============================] - 0s 43ms/step\n"
     ]
    }
   ],
   "source": [
    "pool_feature_maps = pool_model.predict(inputs)"
   ]
  },
  {
   "cell_type": "code",
   "execution_count": 54,
   "id": "889d41d6",
   "metadata": {},
   "outputs": [
    {
     "name": "stdout",
     "output_type": "stream",
     "text": [
      "(1, 14, 14, 32)\n"
     ]
    }
   ],
   "source": [
    "print(pool_feature_maps.shape)"
   ]
  },
  {
   "cell_type": "code",
   "execution_count": 55,
   "id": "baaa6431",
   "metadata": {},
   "outputs": [
    {
     "data": {
      "image/png": "[encoded data removed]",
      "text/plain": [
       "<Figure size 1500x800 with 32 Axes>"
      ]
     },
     "metadata": {},
     "output_type": "display_data"
    }
   ],
   "source": [
    "fig, axs = plt.subplots(4, 8, figsize = (15, 8))\n",
    "\n",
    "for i in range(4):\n",
    "    for j in range(8):\n",
    "        axs[i, j].imshow(pool_feature_maps[0, :, :, i * 8 + j])\n",
    "        axs[i, j].axis(\"off\")\n",
    "        \n",
    "plt.show()"
   ]
  },
  {
   "cell_type": "code",
   "execution_count": null,
   "id": "1dd5e4a8",
   "metadata": {},
   "outputs": [],
   "source": []
  }
 ],
 "metadata": {
  "kernelspec": {
   "display_name": "Python 3 (ipykernel)",
   "language": "python",
   "name": "python3"
  },
  "language_info": {
   "codemirror_mode": {
    "name": "ipython",
    "version": 3
   },
   "file_extension": ".py",
   "mimetype": "text/x-python",
   "name": "python",
   "nbconvert_exporter": "python",
   "pygments_lexer": "ipython3",
   "version": "3.11.5"
  }
 },
 "nbformat": 4,
 "nbformat_minor": 5
}
