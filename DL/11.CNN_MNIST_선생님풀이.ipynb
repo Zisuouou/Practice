{
 "cells": [
  {
   "cell_type": "code",
   "execution_count": 1,
   "id": "be79668e",
   "metadata": {},
   "outputs": [
    {
     "name": "stdout",
     "output_type": "stream",
     "text": [
      "WARNING:tensorflow:From C:\\ProgramData\\anaconda3\\Lib\\site-packages\\keras\\src\\losses.py:2976: The name tf.losses.sparse_softmax_cross_entropy is deprecated. Please use tf.compat.v1.losses.sparse_softmax_cross_entropy instead.\n",
      "\n"
     ]
    }
   ],
   "source": [
    "from tensorflow import keras\n",
    "import matplotlib.pyplot as plt\n",
    "import numpy as np\n",
    "from sklearn.model_selection import train_test_split"
   ]
  },
  {
   "cell_type": "code",
   "execution_count": 2,
   "id": "62047434",
   "metadata": {},
   "outputs": [],
   "source": [
    "# mnist 데이터셋 로드\n",
    "(x_train, y_train), (x_test, y_test) = keras.datasets.mnist.load_data()"
   ]
  },
  {
   "cell_type": "code",
   "execution_count": 3,
   "id": "a9d22a26",
   "metadata": {},
   "outputs": [
    {
     "data": {
      "image/png": "[encoded data removed]",
      "text/plain": [
       "<Figure size 640x480 with 1 Axes>"
      ]
     },
     "metadata": {},
     "output_type": "display_data"
    }
   ],
   "source": [
    "plt.imshow(x_train[0], cmap = \"gray_r\")\n",
    "plt.show()"
   ]
  },
  {
   "cell_type": "code",
   "execution_count": 4,
   "id": "072b0da8",
   "metadata": {},
   "outputs": [
    {
     "data": {
      "text/plain": [
       "((60000, 28, 28), (10000, 28, 28))"
      ]
     },
     "execution_count": 4,
     "metadata": {},
     "output_type": "execute_result"
    }
   ],
   "source": [
    "x_train.shape, x_test.shape"
   ]
  },
  {
   "cell_type": "code",
   "execution_count": 5,
   "id": "92a837dc",
   "metadata": {},
   "outputs": [
    {
     "data": {
      "text/plain": [
       "5"
      ]
     },
     "execution_count": 5,
     "metadata": {},
     "output_type": "execute_result"
    }
   ],
   "source": [
    "y_train[0]"
   ]
  },
  {
   "cell_type": "code",
   "execution_count": 10,
   "id": "afecde51",
   "metadata": {},
   "outputs": [
    {
     "data": {
      "text/plain": [
       "(array([0, 1, 2, 3, 4, 5, 6, 7, 8, 9], dtype=uint8),\n",
       " array([5923, 6742, 5958, 6131, 5842, 5421, 5918, 6265, 5851, 5949],\n",
       "       dtype=int64))"
      ]
     },
     "execution_count": 10,
     "metadata": {},
     "output_type": "execute_result"
    }
   ],
   "source": [
    "np.unique(y_train, return_counts = True) # 종속변수 개수 "
   ]
  },
  {
   "cell_type": "code",
   "execution_count": 6,
   "id": "f9568d70",
   "metadata": {},
   "outputs": [],
   "source": [
    "scaled_train = x_train.reshape(-1, 28, 28, 1) / 255\n",
    "scaled_test = x_test.reshape(-1,  28, 28, 1) / 255"
   ]
  },
  {
   "cell_type": "markdown",
   "id": "d0660d3b",
   "metadata": {},
   "source": [
    "# 합성곱 신경망 설정"
   ]
  },
  {
   "cell_type": "code",
   "execution_count": 20,
   "id": "0a788b2a",
   "metadata": {},
   "outputs": [],
   "source": [
    "model = keras.Sequential()"
   ]
  },
  {
   "cell_type": "code",
   "execution_count": 21,
   "id": "bc261ab0",
   "metadata": {},
   "outputs": [],
   "source": [
    "# 은닉층\n",
    "model.add(keras.layers.Conv2D(32, kernel_size = 3, activation=\"relu\",\n",
    "                             input_shape = (28, 28, 1)))\n",
    "model.add(keras.layers.MaxPool2D(2))\n",
    "model.add(keras.layers.Conv2D(64, kernel_size = 3, activation=\"relu\"))\n",
    "model.add(keras.layers.MaxPool2D(2))\n",
    "\n",
    "# 은닉층 결과도출\n",
    "model.add(keras.layers.Flatten())\n",
    "model.add(keras.layers.Dense(100, activation = \"relu\"))\n",
    "model.add(keras.layers.Dropout(0.4))\n",
    "\n",
    "model.add(keras.layers.Dense(10, activation=\"softmax\"))"
   ]
  },
  {
   "cell_type": "code",
   "execution_count": 22,
   "id": "f429fbd4",
   "metadata": {},
   "outputs": [],
   "source": [
    "model.compile(loss = \"sparse_categorical_crossentropy\", optimizer = \"adam\",\n",
    "             metrics = [\"accuracy\"])"
   ]
  },
  {
   "cell_type": "code",
   "execution_count": 23,
   "id": "3ee8a944",
   "metadata": {},
   "outputs": [],
   "source": [
    "early_stopping_cb = keras.callbacks.EarlyStopping(patience = 4, restore_best_weights= True)"
   ]
  },
  {
   "cell_type": "code",
   "execution_count": 24,
   "id": "5eb682ad",
   "metadata": {},
   "outputs": [],
   "source": [
    "x_sub, x_val, y_sub, y_val = train_test_split(scaled_train, y_train, test_size = 0.2,\n",
    "                                             stratify= y_train, random_state = 12)"
   ]
  },
  {
   "cell_type": "code",
   "execution_count": 37,
   "id": "becebc49",
   "metadata": {},
   "outputs": [
    {
     "data": {
      "text/plain": [
       "((60000, 28, 28, 1), (60000,))"
      ]
     },
     "execution_count": 37,
     "metadata": {},
     "output_type": "execute_result"
    }
   ],
   "source": [
    "scaled_train.shape, y_train.shape"
   ]
  },
  {
   "cell_type": "code",
   "execution_count": 25,
   "id": "1b1429c7",
   "metadata": {},
   "outputs": [
    {
     "name": "stdout",
     "output_type": "stream",
     "text": [
      "Epoch 1/30\n",
      "1500/1500 [==============================] - 12s 7ms/step - loss: 0.2182 - accuracy: 0.9328 - val_loss: 0.0608 - val_accuracy: 0.9814\n",
      "Epoch 2/30\n",
      "1500/1500 [==============================] - 11s 7ms/step - loss: 0.0823 - accuracy: 0.9750 - val_loss: 0.0456 - val_accuracy: 0.9858\n",
      "Epoch 3/30\n",
      "1500/1500 [==============================] - 11s 7ms/step - loss: 0.0607 - accuracy: 0.9811 - val_loss: 0.0369 - val_accuracy: 0.9887\n",
      "Epoch 4/30\n",
      "1500/1500 [==============================] - 11s 7ms/step - loss: 0.0457 - accuracy: 0.9859 - val_loss: 0.0392 - val_accuracy: 0.9880\n",
      "Epoch 5/30\n",
      "1500/1500 [==============================] - 11s 7ms/step - loss: 0.0379 - accuracy: 0.9883 - val_loss: 0.0429 - val_accuracy: 0.9872\n",
      "Epoch 6/30\n",
      "1500/1500 [==============================] - 10s 7ms/step - loss: 0.0334 - accuracy: 0.9898 - val_loss: 0.0365 - val_accuracy: 0.9890\n",
      "Epoch 7/30\n",
      "1500/1500 [==============================] - 11s 7ms/step - loss: 0.0285 - accuracy: 0.9909 - val_loss: 0.0353 - val_accuracy: 0.9902\n",
      "Epoch 8/30\n",
      "1500/1500 [==============================] - 11s 7ms/step - loss: 0.0241 - accuracy: 0.9922 - val_loss: 0.0324 - val_accuracy: 0.9904\n",
      "Epoch 9/30\n",
      "1500/1500 [==============================] - 11s 7ms/step - loss: 0.0207 - accuracy: 0.9931 - val_loss: 0.0367 - val_accuracy: 0.9899\n",
      "Epoch 10/30\n",
      "1500/1500 [==============================] - 11s 7ms/step - loss: 0.0200 - accuracy: 0.9934 - val_loss: 0.0378 - val_accuracy: 0.9907\n",
      "Epoch 11/30\n",
      "1500/1500 [==============================] - 11s 7ms/step - loss: 0.0173 - accuracy: 0.9943 - val_loss: 0.0352 - val_accuracy: 0.9913\n",
      "Epoch 12/30\n",
      "1500/1500 [==============================] - 10s 7ms/step - loss: 0.0158 - accuracy: 0.9947 - val_loss: 0.0369 - val_accuracy: 0.9912\n"
     ]
    }
   ],
   "source": [
    "history = model.fit(x_sub, y_sub, validation_data=(x_val, y_val), epochs = 30,\n",
    "                   callbacks = [early_stopping_cb])"
   ]
  },
  {
   "cell_type": "code",
   "execution_count": 26,
   "id": "376dd138",
   "metadata": {},
   "outputs": [
    {
     "data": {
      "image/png": "[encoded data removed]",
      "text/plain": [
       "<Figure size 640x480 with 1 Axes>"
      ]
     },
     "metadata": {},
     "output_type": "display_data"
    }
   ],
   "source": [
    "plt.figure()\n",
    "\n",
    "plt.plot(history.history[\"loss\"], label = \"train_loss\")\n",
    "plt.plot(history.history[\"accuracy\"], label = \"train_acc\")\n",
    "plt.plot(history.history[\"val_loss\"], label = \"val_loss\")\n",
    "plt.plot(history.history[\"val_accuracy\"], label = \"val_acc\")\n",
    "\n",
    "\n",
    "plt.legend()\n",
    "plt.xlabel(\"epoch\")\n",
    "plt.show()"
   ]
  },
  {
   "cell_type": "code",
   "execution_count": 27,
   "id": "94b21589",
   "metadata": {},
   "outputs": [
    {
     "name": "stdout",
     "output_type": "stream",
     "text": [
      "313/313 [==============================] - 1s 3ms/step - loss: 0.0266 - accuracy: 0.9922\n"
     ]
    },
    {
     "data": {
      "text/plain": [
       "[0.026631558313965797, 0.9922000169754028]"
      ]
     },
     "execution_count": 27,
     "metadata": {},
     "output_type": "execute_result"
    }
   ],
   "source": [
    "model.evaluate(scaled_test, y_test)"
   ]
  },
  {
   "cell_type": "code",
   "execution_count": 28,
   "id": "19d02f70",
   "metadata": {},
   "outputs": [
    {
     "name": "stdout",
     "output_type": "stream",
     "text": [
      "313/313 [==============================] - 1s 3ms/step\n"
     ]
    }
   ],
   "source": [
    "preds = model.predict(scaled_test)"
   ]
  },
  {
   "cell_type": "code",
   "execution_count": 29,
   "id": "23ba89c9",
   "metadata": {},
   "outputs": [
    {
     "data": {
      "text/plain": [
       "(10000, 10)"
      ]
     },
     "execution_count": 29,
     "metadata": {},
     "output_type": "execute_result"
    }
   ],
   "source": [
    "preds.shape"
   ]
  },
  {
   "cell_type": "code",
   "execution_count": 30,
   "id": "9dcd5ed4",
   "metadata": {},
   "outputs": [
    {
     "data": {
      "text/plain": [
       "array([4.7989801e-10, 4.3456058e-08, 3.5683168e-08, 7.7999847e-09,\n",
       "       1.2589389e-07, 1.4765534e-12, 5.5406301e-15, 9.9999189e-01,\n",
       "       9.2146651e-11, 7.9137135e-06], dtype=float32)"
      ]
     },
     "execution_count": 30,
     "metadata": {},
     "output_type": "execute_result"
    }
   ],
   "source": [
    "preds[0]"
   ]
  },
  {
   "cell_type": "code",
   "execution_count": 31,
   "id": "280745b5",
   "metadata": {},
   "outputs": [],
   "source": [
    "pred_arr = np.argmax(preds, axis = 1)"
   ]
  },
  {
   "cell_type": "code",
   "execution_count": 32,
   "id": "9780fca0",
   "metadata": {},
   "outputs": [
    {
     "data": {
      "text/plain": [
       "array([7, 2, 1, ..., 4, 5, 6], dtype=int64)"
      ]
     },
     "execution_count": 32,
     "metadata": {},
     "output_type": "execute_result"
    }
   ],
   "source": [
    "pred_arr"
   ]
  },
  {
   "cell_type": "code",
   "execution_count": 33,
   "id": "6606acd6",
   "metadata": {},
   "outputs": [
    {
     "data": {
      "text/plain": [
       "array([7, 2, 1, ..., 4, 5, 6], dtype=uint8)"
      ]
     },
     "execution_count": 33,
     "metadata": {},
     "output_type": "execute_result"
    }
   ],
   "source": [
    "y_test"
   ]
  },
  {
   "cell_type": "code",
   "execution_count": 34,
   "id": "d8902688",
   "metadata": {},
   "outputs": [],
   "source": [
    "x_match = []\n",
    "\n",
    "for idx, item in enumerate(pred_arr):\n",
    "    if item != y_test[idx]:\n",
    "        x_match.append(idx)"
   ]
  },
  {
   "cell_type": "code",
   "execution_count": 35,
   "id": "5df23632",
   "metadata": {},
   "outputs": [
    {
     "data": {
      "image/png": "[encoded data removed]",
      "text/plain": [
       "<Figure size 1500x1500 with 10 Axes>"
      ]
     },
     "metadata": {},
     "output_type": "display_data"
    }
   ],
   "source": [
    "fig, axs = plt.subplots(1, 10, figsize = (15, 15))\n",
    "\n",
    "for i, item in enumerate(x_match[:10]):\n",
    "    axs[i].imshow(x_test[item], cmap = \"gray_r\")\n",
    "    axs[i].axis(\"off\")\n",
    "    \n",
    "plt.show()"
   ]
  },
  {
   "cell_type": "code",
   "execution_count": 36,
   "id": "6b43b4f6",
   "metadata": {},
   "outputs": [
    {
     "data": {
      "text/plain": [
       "array([6, 5, 2, 2, 7, 4, 7, 3, 8, 6], dtype=uint8)"
      ]
     },
     "execution_count": 36,
     "metadata": {},
     "output_type": "execute_result"
    }
   ],
   "source": [
    "y_test[x_match[:10]]"
   ]
  },
  {
   "cell_type": "code",
   "execution_count": null,
   "id": "a8c0466b",
   "metadata": {},
   "outputs": [],
   "source": []
  }
 ],
 "metadata": {
  "kernelspec": {
   "display_name": "Python 3 (ipykernel)",
   "language": "python",
   "name": "python3"
  },
  "language_info": {
   "codemirror_mode": {
    "name": "ipython",
    "version": 3
   },
   "file_extension": ".py",
   "mimetype": "text/x-python",
   "name": "python",
   "nbconvert_exporter": "python",
   "pygments_lexer": "ipython3",
   "version": "3.11.5"
  }
 },
 "nbformat": 4,
 "nbformat_minor": 5
}
