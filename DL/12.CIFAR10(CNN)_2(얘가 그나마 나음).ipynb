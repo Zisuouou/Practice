{
 "cells": [
  {
   "cell_type": "code",
   "execution_count": 104,
   "id": "362f6465",
   "metadata": {},
   "outputs": [],
   "source": [
    "from tensorflow import keras\n",
    "import numpy as np\n",
    "from sklearn.model_selection import train_test_split\n",
    "\n",
    "import cv2\n",
    "%matplotlib inline\n",
    "from keras.models import Sequential\n",
    "from keras.layers import Conv2D, MaxPool2D, Flatten, Dense, Dropout\n",
    "from keras.callbacks import ModelCheckpoint\n",
    "import matplotlib.pyplot as plt"
   ]
  },
  {
   "cell_type": "code",
   "execution_count": 105,
   "id": "67a607b7",
   "metadata": {},
   "outputs": [],
   "source": [
    "labels = [\"Airplane\", \"automobile\", \"Bird\", \"Cat\", \"Deer\", \"Dog\", \"Frog\", \"Horse\", \"Ship\", \"Truck\"]"
   ]
  },
  {
   "cell_type": "code",
   "execution_count": 106,
   "id": "7f108fcf",
   "metadata": {},
   "outputs": [],
   "source": [
    "# 데이터 로드\n",
    "(x_train, y_train), (x_test, y_test) = keras.datasets.cifar10.load_data()"
   ]
  },
  {
   "cell_type": "code",
   "execution_count": 107,
   "id": "1f40bb93",
   "metadata": {},
   "outputs": [
    {
     "data": {
      "text/plain": [
       "((50000, 32, 32, 3), (10000, 32, 32, 3))"
      ]
     },
     "execution_count": 107,
     "metadata": {},
     "output_type": "execute_result"
    }
   ],
   "source": [
    "x_train.shape, x_test.shape"
   ]
  },
  {
   "cell_type": "code",
   "execution_count": 108,
   "id": "34611c1a",
   "metadata": {},
   "outputs": [
    {
     "data": {
      "text/plain": [
       "(array([0, 1, 2, 3, 4, 5, 6, 7, 8, 9], dtype=uint8),\n",
       " array([5000, 5000, 5000, 5000, 5000, 5000, 5000, 5000, 5000, 5000],\n",
       "       dtype=int64))"
      ]
     },
     "execution_count": 108,
     "metadata": {},
     "output_type": "execute_result"
    }
   ],
   "source": [
    "np.unique(y_train, return_counts = True)"
   ]
  },
  {
   "cell_type": "code",
   "execution_count": 109,
   "id": "95cc056b",
   "metadata": {},
   "outputs": [
    {
     "data": {
      "image/png": "[encoded data removed]",
      "text/plain": [
       "<Figure size 640x480 with 1 Axes>"
      ]
     },
     "metadata": {},
     "output_type": "display_data"
    }
   ],
   "source": [
    "plt.imshow(x_train[0], cmap = \"gray_r\")\n",
    "plt.show()"
   ]
  },
  {
   "cell_type": "code",
   "execution_count": 110,
   "id": "961c3c6a",
   "metadata": {},
   "outputs": [
    {
     "data": {
      "text/plain": [
       "array([6], dtype=uint8)"
      ]
     },
     "execution_count": 110,
     "metadata": {},
     "output_type": "execute_result"
    }
   ],
   "source": [
    "y_train[0]"
   ]
  },
  {
   "cell_type": "code",
   "execution_count": 111,
   "id": "8fd3551b",
   "metadata": {},
   "outputs": [
    {
     "data": {
      "text/plain": [
       "(array([0, 1, 2, 3, 4, 5, 6, 7, 8, 9], dtype=uint8),\n",
       " array([5000, 5000, 5000, 5000, 5000, 5000, 5000, 5000, 5000, 5000],\n",
       "       dtype=int64))"
      ]
     },
     "execution_count": 111,
     "metadata": {},
     "output_type": "execute_result"
    }
   ],
   "source": [
    "np.unique(y_train, return_counts = True)  # 종속변수 개수"
   ]
  },
  {
   "cell_type": "code",
   "execution_count": 112,
   "id": "3e56fca6",
   "metadata": {},
   "outputs": [],
   "source": [
    "scaled_train = x_train.reshape(-1, 32, 32, 3) / 255\n",
    "scaled_test = x_test.reshape(-1,  32, 32, 3) / 255"
   ]
  },
  {
   "cell_type": "markdown",
   "id": "67b5e834",
   "metadata": {},
   "source": [
    "### 합성곱 신경망 설정"
   ]
  },
  {
   "cell_type": "code",
   "execution_count": 113,
   "id": "ce9a57e9",
   "metadata": {},
   "outputs": [],
   "source": [
    "model = keras.Sequential()"
   ]
  },
  {
   "cell_type": "code",
   "execution_count": 114,
   "id": "04a96db1",
   "metadata": {},
   "outputs": [],
   "source": [
    "model = keras.Sequential()\n",
    "\n",
    "model.add(Conv2D(filters = 16, kernel_size =2, padding='same', activation='relu'\n",
    "                , input_shape = (32, 32, 3)))\n",
    "model.add(MaxPool2D(pool_size = 2))\n",
    "model.add(Conv2D(filters = 32, kernel_size = 2, padding='same', activation='relu'))\n",
    "model.add(MaxPool2D(pool_size = 2))\n",
    "model.add(Conv2D(filters = 64, kernel_size = 2, padding='same', activation='relu'))\n",
    "model.add(MaxPool2D(pool_size = 2))\n",
    "model.add(Dropout(0.3))"
   ]
  },
  {
   "cell_type": "code",
   "execution_count": 115,
   "id": "92c386f8",
   "metadata": {},
   "outputs": [],
   "source": [
    "model.add(Flatten())"
   ]
  },
  {
   "cell_type": "code",
   "execution_count": 116,
   "id": "825e993e",
   "metadata": {},
   "outputs": [],
   "source": [
    "model.add(Dense(500, activation='relu'))\n",
    "model.add(Dropout(0.4))\n",
    "\n",
    "model.add(Dense(10, activation='softmax'))"
   ]
  },
  {
   "cell_type": "code",
   "execution_count": 117,
   "id": "1f70c297",
   "metadata": {},
   "outputs": [
    {
     "name": "stdout",
     "output_type": "stream",
     "text": [
      "Model: \"sequential_5\"\n",
      "_________________________________________________________________\n",
      " Layer (type)                Output Shape              Param #   \n",
      "=================================================================\n",
      " conv2d_10 (Conv2D)          (None, 32, 32, 16)        208       \n",
      "                                                                 \n",
      " max_pooling2d_7 (MaxPoolin  (None, 16, 16, 16)        0         \n",
      " g2D)                                                            \n",
      "                                                                 \n",
      " conv2d_11 (Conv2D)          (None, 16, 16, 32)        2080      \n",
      "                                                                 \n",
      " max_pooling2d_8 (MaxPoolin  (None, 8, 8, 32)          0         \n",
      " g2D)                                                            \n",
      "                                                                 \n",
      " conv2d_12 (Conv2D)          (None, 8, 8, 64)          8256      \n",
      "                                                                 \n",
      " max_pooling2d_9 (MaxPoolin  (None, 4, 4, 64)          0         \n",
      " g2D)                                                            \n",
      "                                                                 \n",
      " dropout_5 (Dropout)         (None, 4, 4, 64)          0         \n",
      "                                                                 \n",
      " flatten_4 (Flatten)         (None, 1024)              0         \n",
      "                                                                 \n",
      " dense_7 (Dense)             (None, 500)               512500    \n",
      "                                                                 \n",
      " dropout_6 (Dropout)         (None, 500)               0         \n",
      "                                                                 \n",
      " dense_8 (Dense)             (None, 10)                5010      \n",
      "                                                                 \n",
      "=================================================================\n",
      "Total params: 528054 (2.01 MB)\n",
      "Trainable params: 528054 (2.01 MB)\n",
      "Non-trainable params: 0 (0.00 Byte)\n",
      "_________________________________________________________________\n"
     ]
    }
   ],
   "source": [
    "model.summary()"
   ]
  },
  {
   "cell_type": "code",
   "execution_count": 118,
   "id": "84bbefd4",
   "metadata": {},
   "outputs": [],
   "source": [
    "model.compile(loss = 'sparse_categorical_crossentropy', optimizer = 'adam',\n",
    "             metrics = ['accuracy'])"
   ]
  },
  {
   "cell_type": "code",
   "execution_count": 119,
   "id": "c346d5e2",
   "metadata": {},
   "outputs": [],
   "source": [
    "early_stopping_cb = keras.callbacks.EarlyStopping(patience = 4, restore_best_weights = True)"
   ]
  },
  {
   "cell_type": "code",
   "execution_count": 120,
   "id": "a91c0888",
   "metadata": {},
   "outputs": [],
   "source": [
    "x_sub, x_val, y_sub, y_val = train_test_split(scaled_train, y_train, test_size = 0.2,\n",
    "                                             stratify= y_train, random_state = 12)"
   ]
  },
  {
   "cell_type": "code",
   "execution_count": 121,
   "id": "9ee7a4b0",
   "metadata": {
    "scrolled": true
   },
   "outputs": [
    {
     "name": "stdout",
     "output_type": "stream",
     "text": [
      "Epoch 1/50\n",
      "1250/1250 [==============================] - 15s 11ms/step - loss: 1.5832 - accuracy: 0.4211 - val_loss: 1.2736 - val_accuracy: 0.5353\n",
      "Epoch 2/50\n",
      "1250/1250 [==============================] - 15s 12ms/step - loss: 1.2800 - accuracy: 0.5387 - val_loss: 1.1670 - val_accuracy: 0.5833\n",
      "Epoch 3/50\n",
      "1250/1250 [==============================] - 14s 11ms/step - loss: 1.1692 - accuracy: 0.5840 - val_loss: 1.0638 - val_accuracy: 0.6254\n",
      "Epoch 4/50\n",
      "1250/1250 [==============================] - 15s 12ms/step - loss: 1.0779 - accuracy: 0.6169 - val_loss: 0.9683 - val_accuracy: 0.6604\n",
      "Epoch 5/50\n",
      "1250/1250 [==============================] - 14s 12ms/step - loss: 1.0009 - accuracy: 0.6439 - val_loss: 0.9300 - val_accuracy: 0.6716\n",
      "Epoch 6/50\n",
      "1250/1250 [==============================] - 14s 12ms/step - loss: 0.9503 - accuracy: 0.6626 - val_loss: 0.8674 - val_accuracy: 0.6914\n",
      "Epoch 7/50\n",
      "1250/1250 [==============================] - 16s 12ms/step - loss: 0.9021 - accuracy: 0.6798 - val_loss: 0.8824 - val_accuracy: 0.6897\n",
      "Epoch 8/50\n",
      "1250/1250 [==============================] - 14s 12ms/step - loss: 0.8625 - accuracy: 0.6930 - val_loss: 0.8307 - val_accuracy: 0.7112\n",
      "Epoch 9/50\n",
      "1250/1250 [==============================] - 14s 11ms/step - loss: 0.8240 - accuracy: 0.7074 - val_loss: 0.8150 - val_accuracy: 0.7085\n",
      "Epoch 10/50\n",
      "1250/1250 [==============================] - 15s 12ms/step - loss: 0.7937 - accuracy: 0.7188 - val_loss: 0.7979 - val_accuracy: 0.7224\n",
      "Epoch 11/50\n",
      "1250/1250 [==============================] - 14s 11ms/step - loss: 0.7614 - accuracy: 0.7303 - val_loss: 0.8037 - val_accuracy: 0.7209\n",
      "Epoch 12/50\n",
      "1250/1250 [==============================] - 14s 11ms/step - loss: 0.7403 - accuracy: 0.7364 - val_loss: 0.7686 - val_accuracy: 0.7293\n",
      "Epoch 13/50\n",
      "1250/1250 [==============================] - 15s 12ms/step - loss: 0.7159 - accuracy: 0.7480 - val_loss: 0.8210 - val_accuracy: 0.7100\n",
      "Epoch 14/50\n",
      "1250/1250 [==============================] - 15s 12ms/step - loss: 0.6971 - accuracy: 0.7527 - val_loss: 0.7644 - val_accuracy: 0.7326\n",
      "Epoch 15/50\n",
      "1250/1250 [==============================] - 15s 12ms/step - loss: 0.6715 - accuracy: 0.7636 - val_loss: 0.7545 - val_accuracy: 0.7391\n",
      "Epoch 16/50\n",
      "1250/1250 [==============================] - 15s 12ms/step - loss: 0.6531 - accuracy: 0.7707 - val_loss: 0.7600 - val_accuracy: 0.7306\n",
      "Epoch 17/50\n",
      "1250/1250 [==============================] - 14s 11ms/step - loss: 0.6406 - accuracy: 0.7728 - val_loss: 0.7556 - val_accuracy: 0.7329\n",
      "Epoch 18/50\n",
      "1250/1250 [==============================] - 15s 12ms/step - loss: 0.6314 - accuracy: 0.7748 - val_loss: 0.7802 - val_accuracy: 0.7264\n",
      "Epoch 19/50\n",
      "1250/1250 [==============================] - 15s 12ms/step - loss: 0.6076 - accuracy: 0.7845 - val_loss: 0.7736 - val_accuracy: 0.7283\n"
     ]
    }
   ],
   "source": [
    "history = model.fit(x_sub, y_sub, validation_data=(x_val, y_val), epochs = 50,\n",
    "                   callbacks = [early_stopping_cb])"
   ]
  },
  {
   "cell_type": "code",
   "execution_count": 122,
   "id": "790cc693",
   "metadata": {},
   "outputs": [
    {
     "data": {
      "image/png": "[encoded data removed]",
      "text/plain": [
       "<Figure size 640x480 with 1 Axes>"
      ]
     },
     "metadata": {},
     "output_type": "display_data"
    }
   ],
   "source": [
    "plt.figure()\n",
    "\n",
    "plt.plot(history.history[\"loss\"], label = \"train_loss\")\n",
    "plt.plot(history.history[\"accuracy\"], label = \"train_acc\")\n",
    "plt.plot(history.history[\"val_loss\"], label = \"val_loss\")\n",
    "plt.plot(history.history[\"val_accuracy\"], label = \"val_acc\")\n",
    "\n",
    "\n",
    "plt.legend()\n",
    "plt.xlabel(\"epoch\")\n",
    "plt.show()"
   ]
  },
  {
   "cell_type": "code",
   "execution_count": 123,
   "id": "afbaf5b6",
   "metadata": {},
   "outputs": [
    {
     "name": "stdout",
     "output_type": "stream",
     "text": [
      "313/313 [==============================] - 1s 3ms/step - loss: 0.7668 - accuracy: 0.7366\n"
     ]
    },
    {
     "data": {
      "text/plain": [
       "[0.7667936682701111, 0.7365999817848206]"
      ]
     },
     "execution_count": 123,
     "metadata": {},
     "output_type": "execute_result"
    }
   ],
   "source": [
    "model.evaluate(scaled_test, y_test)"
   ]
  },
  {
   "cell_type": "code",
   "execution_count": 124,
   "id": "5e7a944f",
   "metadata": {},
   "outputs": [
    {
     "name": "stdout",
     "output_type": "stream",
     "text": [
      "313/313 [==============================] - 1s 3ms/step\n"
     ]
    }
   ],
   "source": [
    "preds = model.predict(scaled_test)"
   ]
  },
  {
   "cell_type": "code",
   "execution_count": 125,
   "id": "44b1a9c0",
   "metadata": {},
   "outputs": [
    {
     "data": {
      "text/plain": [
       "(10000, 10)"
      ]
     },
     "execution_count": 125,
     "metadata": {},
     "output_type": "execute_result"
    }
   ],
   "source": [
    "preds.shape"
   ]
  },
  {
   "cell_type": "code",
   "execution_count": 126,
   "id": "59984e8d",
   "metadata": {},
   "outputs": [
    {
     "data": {
      "text/plain": [
       "array([8.8829584e-06, 7.9061465e-06, 2.3148058e-03, 7.8161579e-01,\n",
       "       5.1492734e-05, 1.8883859e-01, 2.6932459e-02, 5.2495889e-06,\n",
       "       1.6923457e-04, 5.5620127e-05], dtype=float32)"
      ]
     },
     "execution_count": 126,
     "metadata": {},
     "output_type": "execute_result"
    }
   ],
   "source": [
    "preds[0]"
   ]
  },
  {
   "cell_type": "code",
   "execution_count": 127,
   "id": "82b745f3",
   "metadata": {},
   "outputs": [],
   "source": [
    "pred_arr = np.argmax(preds, axis = 1)"
   ]
  },
  {
   "cell_type": "code",
   "execution_count": 128,
   "id": "ee565c6b",
   "metadata": {},
   "outputs": [
    {
     "data": {
      "text/plain": [
       "array([3, 8, 8, ..., 5, 1, 7], dtype=int64)"
      ]
     },
     "execution_count": 128,
     "metadata": {},
     "output_type": "execute_result"
    }
   ],
   "source": [
    "pred_arr"
   ]
  },
  {
   "cell_type": "code",
   "execution_count": 129,
   "id": "7f683c50",
   "metadata": {},
   "outputs": [
    {
     "data": {
      "text/plain": [
       "array([[3],\n",
       "       [8],\n",
       "       [8],\n",
       "       ...,\n",
       "       [5],\n",
       "       [1],\n",
       "       [7]], dtype=uint8)"
      ]
     },
     "execution_count": 129,
     "metadata": {},
     "output_type": "execute_result"
    }
   ],
   "source": [
    "y_test"
   ]
  },
  {
   "cell_type": "code",
   "execution_count": 130,
   "id": "03b9f4a1",
   "metadata": {},
   "outputs": [],
   "source": [
    "x_match = []\n",
    "\n",
    "for idx, item in enumerate(pred_arr):\n",
    "    if item != y_test[idx]:\n",
    "        x_match.append(idx)"
   ]
  },
  {
   "cell_type": "code",
   "execution_count": 131,
   "id": "3a2b1129",
   "metadata": {},
   "outputs": [
    {
     "data": {
      "image/png": "[encoded data removed]",
      "text/plain": [
       "<Figure size 1500x1500 with 10 Axes>"
      ]
     },
     "metadata": {},
     "output_type": "display_data"
    }
   ],
   "source": [
    "fig, axs = plt.subplots(1, 10, figsize = (15, 15))\n",
    "\n",
    "for i, item in enumerate(x_match[:10]):\n",
    "    axs[i].imshow(x_test[item], cmap = \"gray_r\")\n",
    "    axs[i].axis(\"off\")\n",
    "    \n",
    "plt.show()"
   ]
  },
  {
   "cell_type": "code",
   "execution_count": 132,
   "id": "dcebc25d",
   "metadata": {},
   "outputs": [
    {
     "data": {
      "text/plain": [
       "array([[0],\n",
       "       [6],\n",
       "       [0],\n",
       "       [4],\n",
       "       [5],\n",
       "       [4],\n",
       "       [5],\n",
       "       [2],\n",
       "       [0],\n",
       "       [3]], dtype=uint8)"
      ]
     },
     "execution_count": 132,
     "metadata": {},
     "output_type": "execute_result"
    }
   ],
   "source": [
    "y_test[x_match[:10]]"
   ]
  },
  {
   "cell_type": "code",
   "execution_count": null,
   "id": "8481d9e2",
   "metadata": {},
   "outputs": [],
   "source": []
  }
 ],
 "metadata": {
  "kernelspec": {
   "display_name": "Python 3 (ipykernel)",
   "language": "python",
   "name": "python3"
  },
  "language_info": {
   "codemirror_mode": {
    "name": "ipython",
    "version": 3
   },
   "file_extension": ".py",
   "mimetype": "text/x-python",
   "name": "python",
   "nbconvert_exporter": "python",
   "pygments_lexer": "ipython3",
   "version": "3.11.5"
  }
 },
 "nbformat": 4,
 "nbformat_minor": 5
}
