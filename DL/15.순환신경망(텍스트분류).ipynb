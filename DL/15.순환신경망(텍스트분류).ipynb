{
 "cells": [
  {
   "cell_type": "markdown",
   "id": "6a495b5e",
   "metadata": {},
   "source": [
    "# IMDB 리뷰 데이터셋\n",
    "\n",
    "- 유명한 인터넷 영화 데이터베이스인 imdb.com에서 수집한 리뷰를 감상평에 따라 긍정과 부정으로 분류해 놓은 말뭉치"
   ]
  },
  {
   "cell_type": "markdown",
   "id": "0d52c2e7",
   "metadata": {},
   "source": [
    "## 자연어 처리(natural language processing, NLP)\n",
    "\n",
    "- 컴퓨터를 사용해 인간의 언어를 처리하는 분야\n",
    "- 세부 분야\n",
    "    - 음성 인식\n",
    "    - 기계 번역\n",
    "    - 감성 분석\n",
    "    \n",
    "- 자연어 처리 분야에서는 훈련 데이터를 말뭉치(corpus)라고 부름"
   ]
  },
  {
   "cell_type": "markdown",
   "id": "05fd4a48",
   "metadata": {},
   "source": [
    "###### 임베딩\n",
    "\n",
    "- 사람이 쓰는 자연어를 기계가 이해할 수 있는 숫자의 나열인 벡터로 바꾼 결과 혹은 그 과정 전체\n",
    "- 컴퓨터에서 처리하는 모든 것은 숫자로 이루어진 데이터\n",
    "     - 따라서 텍스트 그 자체를 신경망에 전달하지 않음\n",
    "     - 합성곱 신경망에서 이미지를 다룰 때는 이미지가 정수 픽셀값으로 이루어져 있어서 특별히 변환을 하지 않음\n",
    "\n",
    "- 텍스트 임베딩의 가장 쉬운 방법은 데이터에 등장하는 단어마다 고유한 정수를 부여하는 것\n",
    "    - 예)\n",
    "        - he : 10\n",
    "        - follows : 11\n",
    "        - the : 12\n",
    "        - cat : 13\n",
    "    - 단어에 매핑되는 정수는 단어의 의미나 크기와 관련이 없음\n",
    "        - He 를 10으로 매핑하고 cat을 13에 매핑하더라도 cat이 he보다 좋거나 크다는 뜻이 아님 \n",
    "    - 정수 중 몇 가지는 특정한 용도로 예약되어 있는 경우가 많음\n",
    "        - 예) 0 : 패딩, 1 : 문장의 시작, 2 : 어휘 사전에 없는 토큰\n",
    "            - 어휘 사전 : 훈련 세트에서 고유한 단어를 뽑아 만든 목록\n",
    "            \n",
    "- 일반적으로 영어 문장은 모두 소문자로 바꾸고 구둣점을 삭제한 다음 공백을 기준으로 분리\n",
    "    - 이렇게 분리된 단어를 토큰(token)이라고 부름\n",
    "        - 하나의 샘플은 여러 개의 토큰으로 이루어져 있고 이 때 하나의 토큰이 하나의 타임스텝에 해당\n",
    "        \n",
    "    - 영어 말뭉치에서 토큰은 단어와 같이 취급하는 경우가 많음\n",
    "        - 한국어는 조사가 발달되어 있어 공백으로 나누는 것만으로는 부족함\n",
    "            - 일반적으로 한글은 형태소 분석을 통해 토큰을 분리"
   ]
  },
  {
   "cell_type": "markdown",
   "id": "e9a32737",
   "metadata": {},
   "source": [
    "# 원핫 인코딩을 활용한 RNN 텍스트 분류"
   ]
  },
  {
   "cell_type": "markdown",
   "id": "fec71b94",
   "metadata": {},
   "source": [
    "## 데이터 준비"
   ]
  },
  {
   "cell_type": "code",
   "execution_count": 3,
   "id": "1447d5c4",
   "metadata": {},
   "outputs": [],
   "source": [
    "from tensorflow.keras.datasets import imdb\n",
    "from tensorflow.keras.preprocessing.sequence import pad_sequences\n",
    "from tensorflow import keras\n",
    "from sklearn.model_selection import train_test_split\n",
    "import numpy as np\n",
    "import matplotlib.pyplot as plt"
   ]
  },
  {
   "cell_type": "code",
   "execution_count": 4,
   "id": "dedf5540",
   "metadata": {},
   "outputs": [],
   "source": [
    "# num_words : 단어 빈도가 많은 순서로 num_words 만큼 보존\n",
    "# 전체 데이터셋에서 가장 자주 등장하는 단어 500개만 사용\n",
    "(x_train, y_train), (x_test, y_test) = imdb.load_data(num_words = 500)"
   ]
  },
  {
   "cell_type": "code",
   "execution_count": 5,
   "id": "a13ff684",
   "metadata": {},
   "outputs": [
    {
     "name": "stdout",
     "output_type": "stream",
     "text": [
      "(25000,) (25000,)\n"
     ]
    }
   ],
   "source": [
    "# 훈련 세트, 테스트 세트의 크기 확인\n",
    "print(x_train.shape, x_test.shape)"
   ]
  },
  {
   "cell_type": "code",
   "execution_count": 6,
   "id": "3c64074c",
   "metadata": {},
   "outputs": [
    {
     "data": {
      "text/plain": [
       "(218, 189)"
      ]
     },
     "execution_count": 6,
     "metadata": {},
     "output_type": "execute_result"
    }
   ],
   "source": [
    "# 리뷰의 길이 출력\n",
    "len(x_train[0]), len(x_train[1])"
   ]
  },
  {
   "cell_type": "code",
   "execution_count": 7,
   "id": "7e1a42d8",
   "metadata": {},
   "outputs": [
    {
     "data": {
      "text/plain": [
       "list"
      ]
     },
     "execution_count": 7,
     "metadata": {},
     "output_type": "execute_result"
    }
   ],
   "source": [
    "type(x_train[0])"
   ]
  },
  {
   "cell_type": "markdown",
   "id": "bb83d777",
   "metadata": {},
   "source": [
    "- 각각 25000 개의 샘플로 이루어져 있음\n",
    "- 텍스트 길이가 제각각임\n",
    "    - 고정 크기의 2차원 배열에 담는 것 보다 리뷰마다 별도의 파이썬 리스트로 담아야 메모리를 효율적으로 사용할 수 있음"
   ]
  },
  {
   "cell_type": "code",
   "execution_count": 8,
   "id": "6aeceea3",
   "metadata": {},
   "outputs": [
    {
     "name": "stdout",
     "output_type": "stream",
     "text": [
      "[1, 14, 22, 16, 43, 2, 2, 2, 2, 65, 458, 2, 66, 2, 4, 173, 36, 256, 5, 25, 100, 43, 2, 112, 50, 2, 2, 9, 35, 480, 284, 5, 150, 4, 172, 112, 167, 2, 336, 385, 39, 4, 172, 2, 2, 17, 2, 38, 13, 447, 4, 192, 50, 16, 6, 147, 2, 19, 14, 22, 4, 2, 2, 469, 4, 22, 71, 87, 12, 16, 43, 2, 38, 76, 15, 13, 2, 4, 22, 17, 2, 17, 12, 16, 2, 18, 2, 5, 62, 386, 12, 8, 316, 8, 106, 5, 4, 2, 2, 16, 480, 66, 2, 33, 4, 130, 12, 16, 38, 2, 5, 25, 124, 51, 36, 135, 48, 25, 2, 33, 6, 22, 12, 215, 28, 77, 52, 5, 14, 407, 16, 82, 2, 8, 4, 107, 117, 2, 15, 256, 4, 2, 7, 2, 5, 2, 36, 71, 43, 2, 476, 26, 400, 317, 46, 7, 4, 2, 2, 13, 104, 88, 4, 381, 15, 297, 98, 32, 2, 56, 26, 141, 6, 194, 2, 18, 4, 226, 22, 21, 134, 476, 26, 480, 5, 144, 30, 2, 18, 51, 36, 28, 224, 92, 25, 104, 4, 226, 65, 16, 38, 2, 88, 12, 16, 283, 5, 16, 2, 113, 103, 32, 15, 16, 2, 19, 178, 32]\n"
     ]
    }
   ],
   "source": [
    "# 첫 번째 리뷰 출력\n",
    "print(x_train[0])"
   ]
  },
  {
   "cell_type": "code",
   "execution_count": 9,
   "id": "29c0c574",
   "metadata": {},
   "outputs": [
    {
     "name": "stdout",
     "output_type": "stream",
     "text": [
      "[1 0 0 1 0 0 1 0 1 0 1 0 0 0 0 0 1 1 0 1]\n"
     ]
    }
   ],
   "source": [
    "# 타깃 데이터\n",
    "# 0 : 부정, 1 : 긍정\n",
    "print(y_train[:20])"
   ]
  },
  {
   "cell_type": "code",
   "execution_count": 11,
   "id": "0cc8d4ae",
   "metadata": {},
   "outputs": [],
   "source": [
    "x_train, x_val, y_train, y_val = train_test_split(x_train, y_train, test_size = 0.2,\n",
    "                                                 random_state = 12)"
   ]
  },
  {
   "cell_type": "markdown",
   "id": "1add94a3",
   "metadata": {},
   "source": [
    "### 각 리뷰의 길이 확인\n",
    "\n",
    "- 각 리뷰의 길이를 넘파이 배열로 담아 평균 리뷰 길이, 길이 최솟값, 길이 최댓값을 확인"
   ]
  },
  {
   "cell_type": "code",
   "execution_count": 12,
   "id": "261fd65f",
   "metadata": {},
   "outputs": [],
   "source": [
    "lengths = np.array([len(x) for x in x_train])"
   ]
  },
  {
   "cell_type": "code",
   "execution_count": 13,
   "id": "a5755930",
   "metadata": {},
   "outputs": [
    {
     "name": "stdout",
     "output_type": "stream",
     "text": [
      "238.90085 179.0 11 2494\n"
     ]
    }
   ],
   "source": [
    "# 길이 평균값과 중간값\n",
    "print(np.mean(lengths), np.median(lengths), np.min(lengths), np.max(lengths))"
   ]
  },
  {
   "cell_type": "code",
   "execution_count": 14,
   "id": "88a58eeb",
   "metadata": {},
   "outputs": [
    {
     "data": {
      "image/png": "[encoded data removed]",
      "text/plain": [
       "<Figure size 640x480 with 1 Axes>"
      ]
     },
     "metadata": {},
     "output_type": "display_data"
    }
   ],
   "source": [
    "plt.figure()\n",
    "\n",
    "plt.hist(lengths)\n",
    "\n",
    "plt.xlabel(\"length\")\n",
    "plt.ylabel(\"frequency\")\n",
    "plt.show()"
   ]
  },
  {
   "cell_type": "markdown",
   "id": "439654e9",
   "metadata": {},
   "source": [
    "- 평균이 중간값보다 높은 이유는 아주 큰 데이터가 있기 때문\n",
    "- 대부분의 리뷰는 짧기 때문에 이번 예제에서는 리뷰의 길이를 100에 맞춰서 사용\n",
    "    - 100 보다 짧은 리뷰는 길이를 100에 맞추기 위해 패딩이 필요\n",
    "        - 패딩을 나타내는 토큰으로는 0을 사용"
   ]
  },
  {
   "cell_type": "code",
   "execution_count": 15,
   "id": "3f50466b",
   "metadata": {},
   "outputs": [],
   "source": [
    "# x_train의 길이를 100으로 맞추기\n",
    "train_seq = pad_sequences(x_train, maxlen = 100)"
   ]
  },
  {
   "cell_type": "markdown",
   "id": "55221f04",
   "metadata": {},
   "source": [
    "- maxlen 에 원하는 길이를 지정하면 그것보다 긴 경우는 잘라내고 짧은 경우는 0으로 패딩"
   ]
  },
  {
   "cell_type": "code",
   "execution_count": 16,
   "id": "a2d18d70",
   "metadata": {},
   "outputs": [
    {
     "name": "stdout",
     "output_type": "stream",
     "text": [
      "(20000, 100)\n"
     ]
    }
   ],
   "source": [
    "# train_seq 크기 확인\n",
    "print(train_seq.shape)"
   ]
  },
  {
   "cell_type": "code",
   "execution_count": 17,
   "id": "776e8c16",
   "metadata": {},
   "outputs": [
    {
     "name": "stdout",
     "output_type": "stream",
     "text": [
      "[337  13   2  25   8  24  67  14  20  13   2  13   2  45   2   8  67 142\n",
      " 318  30   2  17 141   2   2 474   2  13 100   2   2   2  11  27   2 137\n",
      "   4  20  16 395  48  25  26  24   2  19   2 113   5   2  81  24 193 233\n",
      "  11  14  20  17 112   2   7   2  10  10  13   2 135 195  78 183  44  14\n",
      "  20  48   2  71   2   5 219  14  20  29  62   2 309  95 174 279   2  30\n",
      "   2   8  48  29   2  14  20  71   8   2]\n"
     ]
    }
   ],
   "source": [
    "print(train_seq[0])"
   ]
  },
  {
   "cell_type": "code",
   "execution_count": 18,
   "id": "7914163d",
   "metadata": {},
   "outputs": [
    {
     "name": "stdout",
     "output_type": "stream",
     "text": [
      "[1, 13, 2, 32, 4, 96, 143, 14, 20, 86, 7, 32, 4, 2, 114, 47, 117, 8, 81, 19, 2, 205, 65, 363, 47, 2, 8, 2, 6, 243, 7, 212, 2, 2, 20, 2, 2, 2, 2, 10, 10, 81, 24, 193, 233, 44, 14, 20, 8, 30, 2, 4, 403, 2, 11, 4, 425, 5, 2, 7, 27, 2, 9, 43, 343, 17, 2, 18, 6, 364, 352, 2, 20, 6, 2, 2, 8, 2, 6, 171, 2, 39, 4, 2, 2, 5, 27, 337, 2, 2, 336, 69, 196, 237, 77, 351, 11, 2, 4, 85, 2, 105, 26, 2, 2, 7, 14, 47, 233, 8, 81, 19, 2, 113, 42, 341, 10, 10, 48, 25, 26, 6, 2, 337, 13, 2, 25, 8, 24, 67, 14, 20, 13, 2, 13, 2, 45, 2, 8, 67, 142, 318, 30, 2, 17, 141, 2, 2, 474, 2, 13, 100, 2, 2, 2, 11, 27, 2, 137, 4, 20, 16, 395, 48, 25, 26, 24, 2, 19, 2, 113, 5, 2, 81, 24, 193, 233, 11, 14, 20, 17, 112, 2, 7, 2, 10, 10, 13, 2, 135, 195, 78, 183, 44, 14, 20, 48, 2, 71, 2, 5, 219, 14, 20, 29, 62, 2, 309, 95, 174, 279, 2, 30, 2, 8, 48, 29, 2, 14, 20, 71, 8, 2]\n"
     ]
    }
   ],
   "source": [
    "print(x_train[0])"
   ]
  },
  {
   "cell_type": "code",
   "execution_count": 19,
   "id": "7c6f0dd6",
   "metadata": {},
   "outputs": [
    {
     "name": "stdout",
     "output_type": "stream",
     "text": [
      "[2, 8, 48, 29, 2, 14, 20, 71, 8, 2]\n"
     ]
    }
   ],
   "source": [
    "print(x_train[0][-10:])"
   ]
  },
  {
   "cell_type": "markdown",
   "id": "05843dc5",
   "metadata": {},
   "source": [
    "- pad_sequence() 함수는 기본적으로 maxlen 보다 긴 시퀀스의 앞부분을 잘라냄\n",
    "    - 일반적으로 시퀀스의 뒷부분의 정보가 더 유용하기 때문에 \n",
    "        - 리뷰 끝에 결정적인 소감을 말할 가능성이 높음\n",
    "    - 시퀀스의 뒷부분을 잘라내고 싶다면\n",
    "        - truncating 매개변수 값을 \"post\"로 변경\n",
    "            - 기본값은 \"pre\""
   ]
  },
  {
   "cell_type": "code",
   "execution_count": 20,
   "id": "326a9678",
   "metadata": {},
   "outputs": [
    {
     "data": {
      "text/plain": [
       "array([  0,   0,   0,   0,   0,   0,   0,   0,   0,   0,   0,   0,   0,\n",
       "         0,   0,   0,   0,   0,   0,   0,   0,   0,   0,   0,   0,   0,\n",
       "         0,   0,   0,   0,   0,   0,   0,   0,   0,   0,   0,   0,   0,\n",
       "         0,   0,   1,   4,  64, 282,   8,  67,  14,  20,   9,  18,   6,\n",
       "         2, 239,  34,   2,   2,   2,  37,   9,   2,  11,   4,  20,   2,\n",
       "         4,  20,  17,   2,   2,   2,   9,  52,  99,   2,  45,   2,   2,\n",
       "         4,   2, 152,  60,   2,  89, 127,  29,   2,   2,   4,   2,  23,\n",
       "         4,   2,   2,   8,   2,  46,   4,   2,   2])"
      ]
     },
     "execution_count": 20,
     "metadata": {},
     "output_type": "execute_result"
    }
   ],
   "source": [
    "train_seq[3]"
   ]
  },
  {
   "cell_type": "markdown",
   "id": "6dcc69f2",
   "metadata": {},
   "source": [
    "- 0 : 패딩, 1 : 내용시작"
   ]
  },
  {
   "cell_type": "markdown",
   "id": "9d01f610",
   "metadata": {},
   "source": [
    "- 패딩 토큰은 시퀀스의 앞부분에 추가됨\n",
    "    - 시퀀스의 마지막에 있는 단어가 셀의 은닉상태에 가장 큰 영향을 미치게 되기 때문에\n",
    "    - 뒷부분에 패딩을 추가하고 싶다면\n",
    "        - padding 매개변수의 값을 \"post\"로 수정\n",
    "            - 기본값은 \"pre\""
   ]
  },
  {
   "cell_type": "code",
   "execution_count": 21,
   "id": "4f913db3",
   "metadata": {},
   "outputs": [],
   "source": [
    "# 검증 세트의 길이를 100으로 맞추기 \n",
    "val_seq = pad_sequences(x_val, maxlen = 100)"
   ]
  },
  {
   "cell_type": "markdown",
   "id": "7f05d0cf",
   "metadata": {},
   "source": [
    "## 모델 구성\n",
    "\n",
    "- 케라스의 SimpleRNN 클래스 사용\n",
    "- 이진 분류\n",
    "    - 출력층은 1개의 유닛을 가지고 시그모이드 출력층 함수를 사용\n",
    "    "
   ]
  },
  {
   "cell_type": "code",
   "execution_count": 23,
   "id": "2999cdee",
   "metadata": {},
   "outputs": [
    {
     "data": {
      "text/plain": [
       "(20000, 100)"
      ]
     },
     "execution_count": 23,
     "metadata": {},
     "output_type": "execute_result"
    }
   ],
   "source": [
    "train_seq.shape"
   ]
  },
  {
   "cell_type": "code",
   "execution_count": 22,
   "id": "d8d71c5b",
   "metadata": {},
   "outputs": [
    {
     "name": "stdout",
     "output_type": "stream",
     "text": [
      "WARNING:tensorflow:From C:\\ProgramData\\anaconda3\\Lib\\site-packages\\keras\\src\\backend.py:873: The name tf.get_default_graph is deprecated. Please use tf.compat.v1.get_default_graph instead.\n",
      "\n"
     ]
    }
   ],
   "source": [
    "model = keras.Sequential()\n",
    "model.add(keras.layers.SimpleRNN(8, input_shape = (100, 500)))\n",
    "model.add(keras.layers.Dense(1, activation='sigmoid'))"
   ]
  },
  {
   "cell_type": "markdown",
   "id": "002893e9",
   "metadata": {},
   "source": [
    "- input_shape = (100, 500)\n",
    "    - 100은 문장(타임스텝) 길이, 500은 채널차원\n",
    "        - (하나의 행을 이루고 있는)타임스텝은 단어의 길이를 모두 100으로 맞췄기때문에"
   ]
  },
  {
   "cell_type": "markdown",
   "id": "0e80d122",
   "metadata": {},
   "source": [
    "- SimpleRNN\n",
    "    - 첫 번째 매개변수는 사용할 유닛의 개수(은닉층이라 자유)\n",
    "    - input_shape \n",
    "        - 입력차원의 첫 번째 차원은 샘플의 길이(하나의 시퀀스의 타임스텝 길이)\n",
    "        - 입력차원의 두 번째 차원은 고유한 단어 수(num_words) \n",
    "            - 원핫인코딩 할거라서 한 단어 표현할때 500개 숫자 필요함\n",
    "            - load_data() 함수에서 500개의 단어만 사용하도록 지정했기 때문에 이번 예제의 고유한 단어수는 500\n",
    "    - activation\n",
    "        - 기본값은 \"tanh\"\n",
    "            - 하이퍼볼릭 탄젠트 "
   ]
  },
  {
   "cell_type": "markdown",
   "id": "71460e43",
   "metadata": {},
   "source": [
    "- 원핫인코딩을 사용하는 이유\n",
    "    - 토큰을 정수로 변환한 데이터를 그대로 신경망에 주입하면 큰 정수가 큰 활성화 출력을 만듦\n",
    "        - 정수 사이에는 어떤 관련도 없고, 20번 토큰이 10번 토큰보다 중요한 것이 아님"
   ]
  },
  {
   "cell_type": "code",
   "execution_count": 25,
   "id": "2cd0894f",
   "metadata": {},
   "outputs": [],
   "source": [
    "# 케라스에서 제공하는 원핫 인코딩을 위한 함수\n",
    "train_oh = keras.utils.to_categorical(train_seq)"
   ]
  },
  {
   "cell_type": "code",
   "execution_count": 27,
   "id": "7948f24f",
   "metadata": {},
   "outputs": [
    {
     "name": "stdout",
     "output_type": "stream",
     "text": [
      "(20000, 100, 500)\n"
     ]
    }
   ],
   "source": [
    "print(train_oh.shape)"
   ]
  },
  {
   "cell_type": "code",
   "execution_count": 29,
   "id": "32f90db5",
   "metadata": {},
   "outputs": [
    {
     "name": "stdout",
     "output_type": "stream",
     "text": [
      "[0. 0. 0. 0. 0. 0. 0. 0. 0. 0. 0. 0. 0. 0. 0. 0. 0. 0. 0. 0. 0. 0. 0. 0.\n",
      " 0. 0. 0. 0. 0. 0. 0. 0. 0. 0. 0. 0. 0. 0. 0. 0. 0. 0. 0. 0. 0. 0. 0. 0.\n",
      " 0. 0. 0. 0. 0. 0. 0. 0. 0. 0. 0. 0. 0. 0. 0. 0. 0. 0. 0. 0. 0. 0. 0. 0.\n",
      " 0. 0. 0. 0. 0. 0. 0. 0. 0. 0. 0. 0. 0. 0. 0. 0. 0. 0. 0. 0. 0. 0. 0. 0.\n",
      " 0. 0. 0. 0. 0. 0. 0. 0. 0. 0. 0. 0. 0. 0. 0. 0. 0. 0. 0. 0. 0. 0. 0. 0.\n",
      " 0. 0. 0. 0. 0. 0. 0. 0. 0. 0. 0. 0. 0. 0. 0. 0. 0. 0. 0. 0. 0. 0. 0. 0.\n",
      " 0. 0. 0. 0. 0. 0. 0. 0. 0. 0. 0. 0. 0. 0. 0. 0. 0. 0. 0. 0. 0. 0. 0. 0.\n",
      " 0. 0. 0. 0. 0. 0. 0. 0. 0. 0. 0. 0. 0. 0. 0. 0. 0. 0. 0. 0. 0. 0. 0. 0.\n",
      " 0. 0. 0. 0. 0. 0. 0. 0. 0. 0. 0. 0. 0. 0. 0. 0. 0. 0. 0. 0. 0. 0. 0. 0.\n",
      " 0. 0. 0. 0. 0. 0. 0. 0. 0. 0. 0. 0. 0. 0. 0. 0. 0. 0. 0. 0. 0. 0. 0. 0.\n",
      " 0. 0. 0. 0. 0. 0. 0. 0. 0. 0. 0. 0. 0. 0. 0. 0. 0. 0. 0. 0. 0. 0. 0. 0.\n",
      " 0. 0. 0. 0. 0. 0. 0. 0. 0. 0. 0. 0. 0. 0. 0. 0. 0. 0. 0. 0. 0. 0. 0. 0.\n",
      " 0. 0. 0. 0. 0. 0. 0. 0. 0. 0. 0. 0. 0. 0. 0. 0. 0. 0. 0. 0. 0. 0. 0. 0.\n",
      " 0. 0. 0. 0. 0. 0. 0. 0. 0. 0. 0. 0. 0. 0. 0. 0. 0. 0. 0. 0. 0. 0. 0. 0.\n",
      " 0. 1. 0. 0. 0. 0. 0. 0. 0. 0. 0. 0. 0. 0. 0. 0. 0. 0. 0. 0. 0. 0. 0. 0.\n",
      " 0. 0. 0. 0. 0. 0. 0. 0. 0. 0. 0. 0. 0. 0. 0. 0. 0. 0. 0. 0. 0. 0. 0. 0.\n",
      " 0. 0. 0. 0. 0. 0. 0. 0. 0. 0. 0. 0. 0. 0. 0. 0. 0. 0. 0. 0. 0. 0. 0. 0.\n",
      " 0. 0. 0. 0. 0. 0. 0. 0. 0. 0. 0. 0. 0. 0. 0. 0. 0. 0. 0. 0. 0. 0. 0. 0.\n",
      " 0. 0. 0. 0. 0. 0. 0. 0. 0. 0. 0. 0. 0. 0. 0. 0. 0. 0. 0. 0. 0. 0. 0. 0.\n",
      " 0. 0. 0. 0. 0. 0. 0. 0. 0. 0. 0. 0. 0. 0. 0. 0. 0. 0. 0. 0. 0. 0. 0. 0.\n",
      " 0. 0. 0. 0. 0. 0. 0. 0. 0. 0. 0. 0. 0. 0. 0. 0. 0. 0. 0. 0.]\n"
     ]
    }
   ],
   "source": [
    "# 첫번째 문장에 첫번째 단어\n",
    "print(train_oh[0][0])"
   ]
  },
  {
   "cell_type": "code",
   "execution_count": 30,
   "id": "2307ece3",
   "metadata": {},
   "outputs": [
    {
     "name": "stdout",
     "output_type": "stream",
     "text": [
      "1.0\n"
     ]
    }
   ],
   "source": [
    "print(np.sum(train_oh[0, 0]))"
   ]
  },
  {
   "cell_type": "markdown",
   "id": "2f77ff0b",
   "metadata": {},
   "source": [
    "- 하나의 원소만 1이고 나머지 원소는 모두 0임"
   ]
  },
  {
   "cell_type": "code",
   "execution_count": 31,
   "id": "74b3c12d",
   "metadata": {},
   "outputs": [],
   "source": [
    "# val_seq 원핫인코딩\n",
    "val_oh = keras.utils.to_categorical(val_seq)"
   ]
  },
  {
   "cell_type": "code",
   "execution_count": 32,
   "id": "dad6c8a9",
   "metadata": {
    "scrolled": true
   },
   "outputs": [
    {
     "name": "stdout",
     "output_type": "stream",
     "text": [
      "Model: \"sequential\"\n",
      "_________________________________________________________________\n",
      " Layer (type)                Output Shape              Param #   \n",
      "=================================================================\n",
      " simple_rnn (SimpleRNN)      (None, 8)                 4072      \n",
      "                                                                 \n",
      " dense (Dense)               (None, 1)                 9         \n",
      "                                                                 \n",
      "=================================================================\n",
      "Total params: 4081 (15.94 KB)\n",
      "Trainable params: 4081 (15.94 KB)\n",
      "Non-trainable params: 0 (0.00 Byte)\n",
      "_________________________________________________________________\n"
     ]
    }
   ],
   "source": [
    "model.summary()"
   ]
  },
  {
   "cell_type": "markdown",
   "id": "e92b6dc8",
   "metadata": {},
   "source": [
    "- SimpleRNN 에 전달할 샘플의 크기는 (100, 500) 이지만 순환층은 마지막 타임스텝의 은닉 상태만 출력\n",
    "    - 출력의 크기가 순환층의 유닛 개수와 동일\n",
    "    \n",
    "- 파라미터 개수\n",
    "    - 입력 토큰은 500 차원의 원핫인코딩 배열\n",
    "    - 배열이 순환층의 유닛 8개와 완전연결\n",
    "        - 500 * 8 = 4000\n",
    "    - 순환층의 은닉상태는 다시 다음 타임스텝에 사용하기 위해 또 다른 가중치와 곱해짐\n",
    "        - 은닉상태의 크기(유닛수) * 유닛 개수\n",
    "            - 8 * 8 = 64\n",
    "    - 각 유닛마다 하나의 절편\n",
    "        - 8\n",
    "    - 4000 + 64 + 8 = 4072"
   ]
  },
  {
   "cell_type": "markdown",
   "id": "db8c818b",
   "metadata": {},
   "source": [
    "## 모델 훈련 "
   ]
  },
  {
   "cell_type": "code",
   "execution_count": 33,
   "id": "fbbfec7f",
   "metadata": {},
   "outputs": [],
   "source": [
    "rmsprop = keras.optimizers.RMSprop(learning_rate = 1e-4)\n",
    "model.compile(optimizer= rmsprop, loss = \"binary_crossentropy\", metrics = [\"accuracy\"])\n",
    "checkpoint_cb = keras.callbacks.ModelCheckpoint(\"./model/best-simplernn-model.h5\",\n",
    "                                               save_best_only = True)\n",
    "early_stopping_cb = keras.callbacks.EarlyStopping(patience=4, restore_best_weights= True)"
   ]
  },
  {
   "cell_type": "code",
   "execution_count": 34,
   "id": "bd953b56",
   "metadata": {},
   "outputs": [
    {
     "name": "stdout",
     "output_type": "stream",
     "text": [
      "Epoch 1/100\n",
      "WARNING:tensorflow:From C:\\ProgramData\\anaconda3\\Lib\\site-packages\\keras\\src\\utils\\tf_utils.py:492: The name tf.ragged.RaggedTensorValue is deprecated. Please use tf.compat.v1.ragged.RaggedTensorValue instead.\n",
      "\n",
      "WARNING:tensorflow:From C:\\ProgramData\\anaconda3\\Lib\\site-packages\\keras\\src\\engine\\base_layer_utils.py:384: The name tf.executing_eagerly_outside_functions is deprecated. Please use tf.compat.v1.executing_eagerly_outside_functions instead.\n",
      "\n",
      "313/313 [==============================] - 8s 21ms/step - loss: 0.7004 - accuracy: 0.4997 - val_loss: 0.6967 - val_accuracy: 0.5078\n",
      "Epoch 2/100\n",
      "  4/313 [..............................] - ETA: 5s - loss: 0.7018 - accuracy: 0.4766"
     ]
    },
    {
     "name": "stderr",
     "output_type": "stream",
     "text": [
      "C:\\ProgramData\\anaconda3\\Lib\\site-packages\\keras\\src\\engine\\training.py:3103: UserWarning: You are saving your model as an HDF5 file via `model.save()`. This file format is considered legacy. We recommend using instead the native Keras format, e.g. `model.save('my_model.keras')`.\n",
      "  saving_api.save_model(\n"
     ]
    },
    {
     "name": "stdout",
     "output_type": "stream",
     "text": [
      "313/313 [==============================] - 6s 19ms/step - loss: 0.6935 - accuracy: 0.5198 - val_loss: 0.6920 - val_accuracy: 0.5210\n",
      "Epoch 3/100\n",
      "313/313 [==============================] - 6s 20ms/step - loss: 0.6822 - accuracy: 0.5624 - val_loss: 0.6791 - val_accuracy: 0.5758\n",
      "Epoch 4/100\n",
      "313/313 [==============================] - 6s 21ms/step - loss: 0.6620 - accuracy: 0.6202 - val_loss: 0.6587 - val_accuracy: 0.6322\n",
      "Epoch 5/100\n",
      "313/313 [==============================] - 6s 19ms/step - loss: 0.6429 - accuracy: 0.6602 - val_loss: 0.6411 - val_accuracy: 0.6582\n",
      "Epoch 6/100\n",
      "313/313 [==============================] - 6s 19ms/step - loss: 0.6243 - accuracy: 0.6852 - val_loss: 0.6223 - val_accuracy: 0.6906\n",
      "Epoch 7/100\n",
      "313/313 [==============================] - 6s 19ms/step - loss: 0.6066 - accuracy: 0.7070 - val_loss: 0.6083 - val_accuracy: 0.7020\n",
      "Epoch 8/100\n",
      "313/313 [==============================] - 6s 19ms/step - loss: 0.5890 - accuracy: 0.7242 - val_loss: 0.5903 - val_accuracy: 0.7216\n",
      "Epoch 9/100\n",
      "313/313 [==============================] - 6s 20ms/step - loss: 0.5717 - accuracy: 0.7389 - val_loss: 0.5822 - val_accuracy: 0.7182\n",
      "Epoch 10/100\n",
      "313/313 [==============================] - 6s 19ms/step - loss: 0.5562 - accuracy: 0.7492 - val_loss: 0.5633 - val_accuracy: 0.7366\n",
      "Epoch 11/100\n",
      "313/313 [==============================] - 6s 19ms/step - loss: 0.5420 - accuracy: 0.7578 - val_loss: 0.5510 - val_accuracy: 0.7454\n",
      "Epoch 12/100\n",
      "313/313 [==============================] - 6s 19ms/step - loss: 0.5287 - accuracy: 0.7656 - val_loss: 0.5416 - val_accuracy: 0.7516\n",
      "Epoch 13/100\n",
      "313/313 [==============================] - 6s 19ms/step - loss: 0.5163 - accuracy: 0.7731 - val_loss: 0.5298 - val_accuracy: 0.7550\n",
      "Epoch 14/100\n",
      "313/313 [==============================] - 6s 19ms/step - loss: 0.5054 - accuracy: 0.7779 - val_loss: 0.5212 - val_accuracy: 0.7600\n",
      "Epoch 15/100\n",
      "313/313 [==============================] - 6s 19ms/step - loss: 0.4954 - accuracy: 0.7832 - val_loss: 0.5121 - val_accuracy: 0.7658\n",
      "Epoch 16/100\n",
      "313/313 [==============================] - 6s 20ms/step - loss: 0.4857 - accuracy: 0.7886 - val_loss: 0.5043 - val_accuracy: 0.7702\n",
      "Epoch 17/100\n",
      "313/313 [==============================] - 6s 19ms/step - loss: 0.4771 - accuracy: 0.7926 - val_loss: 0.5000 - val_accuracy: 0.7682\n",
      "Epoch 18/100\n",
      "313/313 [==============================] - 6s 19ms/step - loss: 0.4700 - accuracy: 0.7941 - val_loss: 0.4963 - val_accuracy: 0.7688\n",
      "Epoch 19/100\n",
      "313/313 [==============================] - 6s 19ms/step - loss: 0.4630 - accuracy: 0.7975 - val_loss: 0.4873 - val_accuracy: 0.7768\n",
      "Epoch 20/100\n",
      "313/313 [==============================] - 6s 19ms/step - loss: 0.4569 - accuracy: 0.7996 - val_loss: 0.4938 - val_accuracy: 0.7674\n",
      "Epoch 21/100\n",
      "313/313 [==============================] - 6s 19ms/step - loss: 0.4513 - accuracy: 0.8010 - val_loss: 0.4810 - val_accuracy: 0.7784\n",
      "Epoch 22/100\n",
      "313/313 [==============================] - 6s 19ms/step - loss: 0.4463 - accuracy: 0.8040 - val_loss: 0.4789 - val_accuracy: 0.7766\n",
      "Epoch 23/100\n",
      "313/313 [==============================] - 6s 19ms/step - loss: 0.4419 - accuracy: 0.8076 - val_loss: 0.4760 - val_accuracy: 0.7798\n",
      "Epoch 24/100\n",
      "313/313 [==============================] - 6s 19ms/step - loss: 0.4373 - accuracy: 0.8077 - val_loss: 0.4716 - val_accuracy: 0.7824\n",
      "Epoch 25/100\n",
      "313/313 [==============================] - 6s 20ms/step - loss: 0.4335 - accuracy: 0.8117 - val_loss: 0.4687 - val_accuracy: 0.7840\n",
      "Epoch 26/100\n",
      "313/313 [==============================] - 6s 19ms/step - loss: 0.4301 - accuracy: 0.8115 - val_loss: 0.4697 - val_accuracy: 0.7840\n",
      "Epoch 27/100\n",
      "313/313 [==============================] - 6s 19ms/step - loss: 0.4272 - accuracy: 0.8128 - val_loss: 0.4643 - val_accuracy: 0.7858\n",
      "Epoch 28/100\n",
      "313/313 [==============================] - 6s 19ms/step - loss: 0.4243 - accuracy: 0.8148 - val_loss: 0.4630 - val_accuracy: 0.7860\n",
      "Epoch 29/100\n",
      "313/313 [==============================] - 6s 19ms/step - loss: 0.4212 - accuracy: 0.8156 - val_loss: 0.4686 - val_accuracy: 0.7818\n",
      "Epoch 30/100\n",
      "313/313 [==============================] - 6s 19ms/step - loss: 0.4188 - accuracy: 0.8156 - val_loss: 0.4608 - val_accuracy: 0.7880\n",
      "Epoch 31/100\n",
      "313/313 [==============================] - 6s 19ms/step - loss: 0.4169 - accuracy: 0.8170 - val_loss: 0.4591 - val_accuracy: 0.7898\n",
      "Epoch 32/100\n",
      "313/313 [==============================] - 6s 19ms/step - loss: 0.4145 - accuracy: 0.8188 - val_loss: 0.4576 - val_accuracy: 0.7882\n",
      "Epoch 33/100\n",
      "313/313 [==============================] - 6s 19ms/step - loss: 0.4129 - accuracy: 0.8181 - val_loss: 0.4591 - val_accuracy: 0.7876\n",
      "Epoch 34/100\n",
      "313/313 [==============================] - 6s 19ms/step - loss: 0.4109 - accuracy: 0.8197 - val_loss: 0.4603 - val_accuracy: 0.7876\n",
      "Epoch 35/100\n",
      "313/313 [==============================] - 6s 19ms/step - loss: 0.4092 - accuracy: 0.8209 - val_loss: 0.4553 - val_accuracy: 0.7902\n",
      "Epoch 36/100\n",
      "313/313 [==============================] - 6s 19ms/step - loss: 0.4073 - accuracy: 0.8211 - val_loss: 0.4575 - val_accuracy: 0.7884\n",
      "Epoch 37/100\n",
      "313/313 [==============================] - 6s 19ms/step - loss: 0.4057 - accuracy: 0.8216 - val_loss: 0.4548 - val_accuracy: 0.7904\n",
      "Epoch 38/100\n",
      "313/313 [==============================] - 6s 19ms/step - loss: 0.4040 - accuracy: 0.8232 - val_loss: 0.4604 - val_accuracy: 0.7914\n",
      "Epoch 39/100\n",
      "313/313 [==============================] - 6s 19ms/step - loss: 0.4027 - accuracy: 0.8248 - val_loss: 0.4602 - val_accuracy: 0.7890\n",
      "Epoch 40/100\n",
      "313/313 [==============================] - 6s 19ms/step - loss: 0.4012 - accuracy: 0.8236 - val_loss: 0.4556 - val_accuracy: 0.7900\n",
      "Epoch 41/100\n",
      "313/313 [==============================] - 6s 19ms/step - loss: 0.4001 - accuracy: 0.8237 - val_loss: 0.4609 - val_accuracy: 0.7892\n"
     ]
    }
   ],
   "source": [
    "history = model.fit(train_oh, y_train, epochs = 100, batch_size = 64,\n",
    "                   validation_data= (val_oh, y_val),\n",
    "                   callbacks= [checkpoint_cb, early_stopping_cb])"
   ]
  },
  {
   "cell_type": "code",
   "execution_count": 35,
   "id": "3be51622",
   "metadata": {},
   "outputs": [
    {
     "data": {
      "image/png": "[encoded data removed]",
      "text/plain": [
       "<Figure size 640x480 with 1 Axes>"
      ]
     },
     "metadata": {},
     "output_type": "display_data"
    }
   ],
   "source": [
    "plt.figure()\n",
    "\n",
    "plt.plot(history.history[\"loss\"], label = \"train_loss\")\n",
    "plt.plot(history.history[\"accuracy\"], label = \"train_acc\")\n",
    "plt.plot(history.history[\"val_loss\"], label = \"val_loss\")\n",
    "plt.plot(history.history[\"val_accuracy\"], label = \"val_acc\")\n",
    "\n",
    "\n",
    "plt.legend()\n",
    "plt.xlabel(\"epoch\")\n",
    "plt.show()"
   ]
  },
  {
   "cell_type": "markdown",
   "id": "4355f706",
   "metadata": {},
   "source": [
    "- 원핫인코딩의 단점\n",
    "    - 입력데이터가 매우 커짐"
   ]
  },
  {
   "cell_type": "code",
   "execution_count": 36,
   "id": "4cdd6b1d",
   "metadata": {},
   "outputs": [
    {
     "name": "stdout",
     "output_type": "stream",
     "text": [
      "8000000 4000000000\n"
     ]
    }
   ],
   "source": [
    "print(train_seq.nbytes, train_oh.nbytes)"
   ]
  },
  {
   "cell_type": "code",
   "execution_count": 39,
   "id": "a285e0a9",
   "metadata": {},
   "outputs": [
    {
     "data": {
      "text/plain": [
       "500.0"
      ]
     },
     "execution_count": 39,
     "metadata": {},
     "output_type": "execute_result"
    }
   ],
   "source": [
    "train_oh.nbytes / train_seq.nbytes"
   ]
  },
  {
   "cell_type": "markdown",
   "id": "dd602e43",
   "metadata": {},
   "source": [
    "# 단어 임베딩을 활용한 RNN 텍스트 분류\n",
    "\n",
    "<img src = \"./image/embedding.png\">"
   ]
  },
  {
   "cell_type": "markdown",
   "id": "570146b6",
   "metadata": {},
   "source": [
    "- 단어 임베딩(word embedding)\n",
    "    - 순환 신경망에서 텍스트를 처리할 때 즐겨 사용하는 방법\n",
    "    - 각 단어를 고정된 크기의 실수 벡터로 변환\n",
    "    \n",
    "- 단어 임베딩으로 만들어진 벡터는 원핫인코딩보다 훨씬 의미있는 값으로 채워져 있음\n",
    "    - 자연어 처리에서 더 좋은 성능을 내는 경우가 많음\n",
    "    - 단어 임베딩 벡터를 만드는 층은 Embedding 클래스로 케라스에서 제공\n",
    "        - 처음에는 모든 벡터가 랜덤하게 초기화되고 훈련을 통해 데이터에서 좋은 단어 임베딩을 학습\n",
    "        \n",
    "- 단어 임베딩의 장점\n",
    "    - 입력으로 정수 데이터를 받음 \n",
    "        - 원핫인코딩으로 변경된 배열이 아니라 train_seq를 바로 사용할 수 있음\n",
    "        - 메모리를 훨씬 효율적으로 사용할 수 있음\n",
    "    - 원핫인코딩보다 훨씬 작은 크기로도 단어를 잘 표현할 수 있음"
   ]
  },
  {
   "cell_type": "code",
   "execution_count": 40,
   "id": "466a609c",
   "metadata": {},
   "outputs": [],
   "source": [
    "model2 = keras.Sequential()\n",
    "model2.add(keras.layers.Embedding(500, 32, input_length = 100))\n",
    "# input_length = 100 대신에 input_shape = (100,)으로 해도 됨\n",
    "model2.add(keras.layers.SimpleRNN(8))\n",
    "model2.add(keras.layers.Dense(1, activation= 'sigmoid'))"
   ]
  },
  {
   "cell_type": "markdown",
   "id": "ea592b24",
   "metadata": {},
   "source": [
    "- Embedding\n",
    "    - 첫 번째 매개변수는 어휘 사전의 크기\n",
    "        - 앞에서 IMDB 데이터셋에서 500개의 단어만 사용하도록 설정했기 때문에 같은 값으로 설정\n",
    "    - 두 번째 매개변수는 임베딩 벡터의 크기\n",
    "        - 하나의 단어를 몇개의 숫자로 표현할거냐"
   ]
  },
  {
   "cell_type": "code",
   "execution_count": 41,
   "id": "c82a5beb",
   "metadata": {},
   "outputs": [
    {
     "name": "stdout",
     "output_type": "stream",
     "text": [
      "Model: \"sequential_1\"\n",
      "_________________________________________________________________\n",
      " Layer (type)                Output Shape              Param #   \n",
      "=================================================================\n",
      " embedding (Embedding)       (None, 100, 32)           16000     \n",
      "                                                                 \n",
      " simple_rnn_1 (SimpleRNN)    (None, 8)                 328       \n",
      "                                                                 \n",
      " dense_1 (Dense)             (None, 1)                 9         \n",
      "                                                                 \n",
      "=================================================================\n",
      "Total params: 16337 (63.82 KB)\n",
      "Trainable params: 16337 (63.82 KB)\n",
      "Non-trainable params: 0 (0.00 Byte)\n",
      "_________________________________________________________________\n"
     ]
    }
   ],
   "source": [
    "model2.summary()"
   ]
  },
  {
   "cell_type": "markdown",
   "id": "63fc3032",
   "metadata": {},
   "source": [
    "- Embedding\n",
    "    - (100,) 크기의 입력을 받아 (100, 32) 크기의 출력을 만듦\n",
    "    - 500개의 각 토큰을 크기가 32인 벡터로 변경\n",
    "        - 500 * 32 = 16000\n",
    "        \n",
    "- SimpleRNN \n",
    "    - 임베딩 벡터의 크기가 32, 유닛의 개수 8\n",
    "        - 32 * 8 = 256\n",
    "    - 은닉 상태에 곱해지는 가중치\n",
    "        - 8 * 8 = 64\n",
    "    - 8개의 절편\n",
    "    - 256 + 64 + 8 = 328\n",
    "    "
   ]
  },
  {
   "cell_type": "code",
   "execution_count": 43,
   "id": "195af224",
   "metadata": {},
   "outputs": [],
   "source": [
    "rmsprop = keras.optimizers.RMSprop(learning_rate = 1e-4)\n",
    "model2.compile(optimizer=rmsprop, loss = \"binary_crossentropy\", metrics = [\"accuracy\"])\n",
    "checkpoint_cb = keras.callbacks.ModelCheckpoint(\"./model/best-embedding-model.h5\",\n",
    "                                               save_best_only = True)\n",
    "early_stopping_cb = keras.callbacks.EarlyStopping(patience=4, restore_best_weights=True)"
   ]
  },
  {
   "cell_type": "code",
   "execution_count": 44,
   "id": "50683a07",
   "metadata": {},
   "outputs": [
    {
     "name": "stdout",
     "output_type": "stream",
     "text": [
      "Epoch 1/100\n",
      "313/313 [==============================] - 5s 14ms/step - loss: 0.6934 - accuracy: 0.5203 - val_loss: 0.6882 - val_accuracy: 0.5456\n",
      "Epoch 2/100\n",
      " 10/313 [..............................] - ETA: 4s - loss: 0.6835 - accuracy: 0.5453"
     ]
    },
    {
     "name": "stderr",
     "output_type": "stream",
     "text": [
      "C:\\ProgramData\\anaconda3\\Lib\\site-packages\\keras\\src\\engine\\training.py:3103: UserWarning: You are saving your model as an HDF5 file via `model.save()`. This file format is considered legacy. We recommend using instead the native Keras format, e.g. `model.save('my_model.keras')`.\n",
      "  saving_api.save_model(\n"
     ]
    },
    {
     "name": "stdout",
     "output_type": "stream",
     "text": [
      "313/313 [==============================] - 4s 14ms/step - loss: 0.6648 - accuracy: 0.6227 - val_loss: 0.6312 - val_accuracy: 0.6938\n",
      "Epoch 3/100\n",
      "313/313 [==============================] - 4s 14ms/step - loss: 0.6058 - accuracy: 0.7254 - val_loss: 0.5942 - val_accuracy: 0.7274\n",
      "Epoch 4/100\n",
      "313/313 [==============================] - 4s 14ms/step - loss: 0.5746 - accuracy: 0.7489 - val_loss: 0.5728 - val_accuracy: 0.7394\n",
      "Epoch 5/100\n",
      "313/313 [==============================] - 4s 14ms/step - loss: 0.5526 - accuracy: 0.7605 - val_loss: 0.5557 - val_accuracy: 0.7462\n",
      "Epoch 6/100\n",
      "313/313 [==============================] - 4s 14ms/step - loss: 0.5380 - accuracy: 0.7635 - val_loss: 0.5470 - val_accuracy: 0.7492\n",
      "Epoch 7/100\n",
      "313/313 [==============================] - 4s 14ms/step - loss: 0.5222 - accuracy: 0.7738 - val_loss: 0.5435 - val_accuracy: 0.7410\n",
      "Epoch 8/100\n",
      "313/313 [==============================] - 4s 14ms/step - loss: 0.5098 - accuracy: 0.7793 - val_loss: 0.5264 - val_accuracy: 0.7558\n",
      "Epoch 9/100\n",
      "313/313 [==============================] - 4s 14ms/step - loss: 0.4994 - accuracy: 0.7818 - val_loss: 0.5216 - val_accuracy: 0.7566\n",
      "Epoch 10/100\n",
      "313/313 [==============================] - 4s 14ms/step - loss: 0.4937 - accuracy: 0.7829 - val_loss: 0.5144 - val_accuracy: 0.7600\n",
      "Epoch 11/100\n",
      "313/313 [==============================] - 4s 14ms/step - loss: 0.4862 - accuracy: 0.7861 - val_loss: 0.5127 - val_accuracy: 0.7596\n",
      "Epoch 12/100\n",
      "313/313 [==============================] - 4s 14ms/step - loss: 0.4790 - accuracy: 0.7902 - val_loss: 0.5051 - val_accuracy: 0.7646\n",
      "Epoch 13/100\n",
      "313/313 [==============================] - 5s 14ms/step - loss: 0.4740 - accuracy: 0.7922 - val_loss: 0.5032 - val_accuracy: 0.7664\n",
      "Epoch 14/100\n",
      "313/313 [==============================] - 5s 14ms/step - loss: 0.4670 - accuracy: 0.7972 - val_loss: 0.4978 - val_accuracy: 0.7696\n",
      "Epoch 15/100\n",
      "313/313 [==============================] - 4s 14ms/step - loss: 0.4627 - accuracy: 0.7986 - val_loss: 0.5031 - val_accuracy: 0.7616\n",
      "Epoch 16/100\n",
      "313/313 [==============================] - 5s 15ms/step - loss: 0.4581 - accuracy: 0.8005 - val_loss: 0.5014 - val_accuracy: 0.7682\n",
      "Epoch 17/100\n",
      "313/313 [==============================] - 5s 15ms/step - loss: 0.4539 - accuracy: 0.8026 - val_loss: 0.4906 - val_accuracy: 0.7698\n",
      "Epoch 18/100\n",
      "313/313 [==============================] - 4s 14ms/step - loss: 0.4508 - accuracy: 0.8047 - val_loss: 0.4912 - val_accuracy: 0.7712\n",
      "Epoch 19/100\n",
      "313/313 [==============================] - 5s 15ms/step - loss: 0.4478 - accuracy: 0.8045 - val_loss: 0.4896 - val_accuracy: 0.7710\n",
      "Epoch 20/100\n",
      "313/313 [==============================] - 5s 14ms/step - loss: 0.4434 - accuracy: 0.8077 - val_loss: 0.4848 - val_accuracy: 0.7782\n",
      "Epoch 21/100\n",
      "313/313 [==============================] - 4s 14ms/step - loss: 0.4408 - accuracy: 0.8098 - val_loss: 0.4855 - val_accuracy: 0.7726\n",
      "Epoch 22/100\n",
      "313/313 [==============================] - 5s 14ms/step - loss: 0.4385 - accuracy: 0.8102 - val_loss: 0.4806 - val_accuracy: 0.7766\n",
      "Epoch 23/100\n",
      "313/313 [==============================] - 5s 14ms/step - loss: 0.4353 - accuracy: 0.8100 - val_loss: 0.4806 - val_accuracy: 0.7758\n",
      "Epoch 24/100\n",
      "313/313 [==============================] - 5s 15ms/step - loss: 0.4312 - accuracy: 0.8142 - val_loss: 0.4811 - val_accuracy: 0.7750\n",
      "Epoch 25/100\n",
      "313/313 [==============================] - 5s 14ms/step - loss: 0.4295 - accuracy: 0.8159 - val_loss: 0.4806 - val_accuracy: 0.7792\n",
      "Epoch 26/100\n",
      "313/313 [==============================] - 4s 14ms/step - loss: 0.4272 - accuracy: 0.8146 - val_loss: 0.4738 - val_accuracy: 0.7828\n",
      "Epoch 27/100\n",
      "313/313 [==============================] - 5s 14ms/step - loss: 0.4246 - accuracy: 0.8170 - val_loss: 0.4732 - val_accuracy: 0.7824\n",
      "Epoch 28/100\n",
      "313/313 [==============================] - 5s 15ms/step - loss: 0.4209 - accuracy: 0.8189 - val_loss: 0.4727 - val_accuracy: 0.7832\n",
      "Epoch 29/100\n",
      "313/313 [==============================] - 5s 14ms/step - loss: 0.4185 - accuracy: 0.8204 - val_loss: 0.4729 - val_accuracy: 0.7854\n",
      "Epoch 30/100\n",
      "313/313 [==============================] - 5s 15ms/step - loss: 0.4169 - accuracy: 0.8220 - val_loss: 0.4784 - val_accuracy: 0.7792\n",
      "Epoch 31/100\n",
      "313/313 [==============================] - 5s 14ms/step - loss: 0.4149 - accuracy: 0.8228 - val_loss: 0.4666 - val_accuracy: 0.7894\n",
      "Epoch 32/100\n",
      "313/313 [==============================] - 4s 14ms/step - loss: 0.4122 - accuracy: 0.8248 - val_loss: 0.4712 - val_accuracy: 0.7844\n",
      "Epoch 33/100\n",
      "313/313 [==============================] - 4s 14ms/step - loss: 0.4101 - accuracy: 0.8249 - val_loss: 0.4681 - val_accuracy: 0.7850\n",
      "Epoch 34/100\n",
      "313/313 [==============================] - 4s 14ms/step - loss: 0.4083 - accuracy: 0.8270 - val_loss: 0.4718 - val_accuracy: 0.7848\n",
      "Epoch 35/100\n",
      "313/313 [==============================] - 4s 14ms/step - loss: 0.4065 - accuracy: 0.8268 - val_loss: 0.4679 - val_accuracy: 0.7856\n"
     ]
    }
   ],
   "source": [
    "history = model2.fit(train_seq, y_train, epochs = 100, batch_size = 64,\n",
    "                    validation_data= (val_seq, y_val),\n",
    "                    callbacks= [checkpoint_cb, early_stopping_cb])"
   ]
  },
  {
   "cell_type": "code",
   "execution_count": 45,
   "id": "b7292ec6",
   "metadata": {},
   "outputs": [
    {
     "data": {
      "image/png": "[encoded data removed]",
      "text/plain": [
       "<Figure size 640x480 with 1 Axes>"
      ]
     },
     "metadata": {},
     "output_type": "display_data"
    }
   ],
   "source": [
    "plt.figure()\n",
    "\n",
    "plt.plot(history.history[\"loss\"], label = \"train_loss\")\n",
    "plt.plot(history.history[\"accuracy\"], label = \"train_acc\")\n",
    "plt.plot(history.history[\"val_loss\"], label = \"val_loss\")\n",
    "plt.plot(history.history[\"val_accuracy\"], label = \"val_acc\")\n",
    "\n",
    "\n",
    "plt.legend()\n",
    "plt.xlabel(\"epoch\")\n",
    "plt.show()"
   ]
  },
  {
   "cell_type": "code",
   "execution_count": null,
   "id": "6872fddd",
   "metadata": {},
   "outputs": [],
   "source": []
  }
 ],
 "metadata": {
  "kernelspec": {
   "display_name": "Python 3 (ipykernel)",
   "language": "python",
   "name": "python3"
  },
  "language_info": {
   "codemirror_mode": {
    "name": "ipython",
    "version": 3
   },
   "file_extension": ".py",
   "mimetype": "text/x-python",
   "name": "python",
   "nbconvert_exporter": "python",
   "pygments_lexer": "ipython3",
   "version": "3.11.5"
  }
 },
 "nbformat": 4,
 "nbformat_minor": 5
}
