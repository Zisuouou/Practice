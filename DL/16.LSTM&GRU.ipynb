{
 "cells": [
  {
   "cell_type": "markdown",
   "id": "0a6e5bbb",
   "metadata": {},
   "source": [
    "# LSTM(Long Short-Term Memory) 구조\n",
    "\n",
    "<img src = \"./image/rnn_lstm.jpg\">"
   ]
  },
  {
   "cell_type": "markdown",
   "id": "b4452c1c",
   "metadata": {},
   "source": [
    "- 단기 기억을 오래 기억하기 위해 고안되었음"
   ]
  },
  {
   "cell_type": "markdown",
   "id": "c8b1240f",
   "metadata": {},
   "source": [
    "<img src = \"./image/lstm.png\">"
   ]
  },
  {
   "cell_type": "markdown",
   "id": "8b985ffd",
   "metadata": {},
   "source": [
    "- 은닉 상태를 만드는 방법\n",
    "    - output gate layer(출력 게이트)\n",
    "        1. 입력과 이전 타임스텝의 은닉 상태를 가중치에 곱한 후 활성화 함수를 통과시켜 다음 은닉상태를 만듦\n",
    "            - 이 때 기본 순환층과는 달리 시그모이드 활성화 함수를 사용\n",
    "        2. tanh 활성화 함수를 통과한 값과 곱해져서 은닉 상태를 만듦\n",
    "        \n",
    "- LSTM 은 순환 되는 상태가 2개\n",
    "    - 은닉 상태\n",
    "    - 셀 상태(cell state)\n",
    "        - 다음 층으로 전달되지 않고 LSTM 셀에서 순환만 되는 값\n",
    "        \n",
    "- 셀 상태를 계산하는 과정\n",
    "    - forget gate layer(삭제 게이트)\n",
    "        - 정보를 제거하는 역할\n",
    "        1. 입력과 은닉 상태를 또 다른 가중치에 곱한 다음 시그모이드 함수를 통과\n",
    "        2. 이전 타임스텝의 셀 상태와 곱하여 새로운 셀 상태를 만듦\n",
    "            - 이 셀 상태가 오른쪽에서 tanh 함수를 통과하여 새로운 은닉 상태를 만드는 데 기여\n",
    "    \n",
    "    - input gate layer(입력 게이트)\n",
    "        - 새로운 정보를 셀 상태에 추가\n",
    "        1. 입력과 은닉 상태를 각기 다른 가중치에 곱함\n",
    "        2. 하나는 시그모이드 함수, 하나는 tanh 함수를 통과\n",
    "        3. 두 결과를 곱함\n",
    "        4. 이전 셀 상태와 더함"
   ]
  },
  {
   "cell_type": "markdown",
   "id": "52d6bd27",
   "metadata": {},
   "source": [
    "## 데이터 준비"
   ]
  },
  {
   "cell_type": "code",
   "execution_count": 1,
   "id": "ccd9746f",
   "metadata": {},
   "outputs": [
    {
     "name": "stdout",
     "output_type": "stream",
     "text": [
      "WARNING:tensorflow:From C:\\ProgramData\\anaconda3\\Lib\\site-packages\\keras\\src\\losses.py:2976: The name tf.losses.sparse_softmax_cross_entropy is deprecated. Please use tf.compat.v1.losses.sparse_softmax_cross_entropy instead.\n",
      "\n"
     ]
    }
   ],
   "source": [
    "from tensorflow.keras.datasets import imdb\n",
    "from tensorflow.keras.preprocessing.sequence import pad_sequences\n",
    "from tensorflow import keras\n",
    "from sklearn.model_selection import train_test_split\n",
    "import matplotlib.pyplot as plt"
   ]
  },
  {
   "cell_type": "code",
   "execution_count": 2,
   "id": "cd81d349",
   "metadata": {},
   "outputs": [],
   "source": [
    "#  데이터 로드\n",
    "(x_train, y_train), (x_test, y_test) = imdb.load_data(num_words=500)"
   ]
  },
  {
   "cell_type": "code",
   "execution_count": 3,
   "id": "5550785f",
   "metadata": {},
   "outputs": [],
   "source": [
    "# 훈련 세트와 검증 세트로 나누기\n",
    "x_train, x_val, y_train, y_val = train_test_split(x_train, y_train, test_size = 0.2,\n",
    "                                 random_state = 12)"
   ]
  },
  {
   "cell_type": "code",
   "execution_count": 4,
   "id": "6d6f15b2",
   "metadata": {},
   "outputs": [],
   "source": [
    "# 패딩\n",
    "train_seq = pad_sequences(x_train, maxlen = 100)\n",
    "val_seq = pad_sequences(x_val, maxlen = 100)"
   ]
  },
  {
   "cell_type": "code",
   "execution_count": 7,
   "id": "26285c53",
   "metadata": {},
   "outputs": [
    {
     "name": "stdout",
     "output_type": "stream",
     "text": [
      "WARNING:tensorflow:From C:\\ProgramData\\anaconda3\\Lib\\site-packages\\keras\\src\\backend.py:873: The name tf.get_default_graph is deprecated. Please use tf.compat.v1.get_default_graph instead.\n",
      "\n"
     ]
    }
   ],
   "source": [
    "# LSTM 모델 생성\n",
    "model = keras.Sequential()\n",
    "model.add(keras.layers.Embedding(500, 32, input_shape = (100,)))\n",
    "model.add(keras.layers.LSTM(8)) # 유닛 수 \n",
    "model.add(keras.layers.Dense(1, activation='sigmoid')) # 출력층"
   ]
  },
  {
   "cell_type": "code",
   "execution_count": 8,
   "id": "a6bba5c6",
   "metadata": {},
   "outputs": [
    {
     "name": "stdout",
     "output_type": "stream",
     "text": [
      "Model: \"sequential\"\n",
      "_________________________________________________________________\n",
      " Layer (type)                Output Shape              Param #   \n",
      "=================================================================\n",
      " embedding (Embedding)       (None, 100, 32)           16000     \n",
      "                                                                 \n",
      " lstm (LSTM)                 (None, 8)                 1312      \n",
      "                                                                 \n",
      " dense (Dense)               (None, 1)                 9         \n",
      "                                                                 \n",
      "=================================================================\n",
      "Total params: 17321 (67.66 KB)\n",
      "Trainable params: 17321 (67.66 KB)\n",
      "Non-trainable params: 0 (0.00 Byte)\n",
      "_________________________________________________________________\n"
     ]
    }
   ],
   "source": [
    "model.summary()"
   ]
  },
  {
   "cell_type": "markdown",
   "id": "403976c4",
   "metadata": {},
   "source": [
    "- LSTM 셀 파라미터 개수\n",
    "    - ((유닛 수 * 유닛 수) + (입력값의 수 * 유닛 수) + 유닛 수) * 4 \n",
    "    - ((8 * 8) + (32 * 8) + 8) * 4 = 1312"
   ]
  },
  {
   "cell_type": "code",
   "execution_count": 9,
   "id": "7ee725c2",
   "metadata": {},
   "outputs": [],
   "source": [
    "rmsprop = keras.optimizers.RMSprop(learning_rate=1e-4)\n",
    "model.compile(optimizer=rmsprop, loss = 'binary_crossentropy', metrics = ['accuracy'])\n",
    "checkpoint_cb = keras.callbacks.ModelCheckpoint(\"./model/best-lstm-model.h5\",\n",
    "                                               save_best_only= True)\n",
    "early_stopping_cb = keras.callbacks.EarlyStopping(patience=4, restore_best_weights=True)"
   ]
  },
  {
   "cell_type": "code",
   "execution_count": 11,
   "id": "e3548671",
   "metadata": {},
   "outputs": [
    {
     "name": "stdout",
     "output_type": "stream",
     "text": [
      "Epoch 1/100\n",
      "WARNING:tensorflow:From C:\\ProgramData\\anaconda3\\Lib\\site-packages\\keras\\src\\utils\\tf_utils.py:492: The name tf.ragged.RaggedTensorValue is deprecated. Please use tf.compat.v1.ragged.RaggedTensorValue instead.\n",
      "\n",
      "WARNING:tensorflow:From C:\\ProgramData\\anaconda3\\Lib\\site-packages\\keras\\src\\engine\\base_layer_utils.py:384: The name tf.executing_eagerly_outside_functions is deprecated. Please use tf.compat.v1.executing_eagerly_outside_functions instead.\n",
      "\n",
      "313/313 [==============================] - 9s 23ms/step - loss: 0.6917 - accuracy: 0.5399 - val_loss: 0.6903 - val_accuracy: 0.5786\n",
      "Epoch 2/100\n",
      "  7/313 [..............................] - ETA: 5s - loss: 0.6910 - accuracy: 0.5312"
     ]
    },
    {
     "name": "stderr",
     "output_type": "stream",
     "text": [
      "C:\\ProgramData\\anaconda3\\Lib\\site-packages\\keras\\src\\engine\\training.py:3103: UserWarning: You are saving your model as an HDF5 file via `model.save()`. This file format is considered legacy. We recommend using instead the native Keras format, e.g. `model.save('my_model.keras')`.\n",
      "  saving_api.save_model(\n"
     ]
    },
    {
     "name": "stdout",
     "output_type": "stream",
     "text": [
      "313/313 [==============================] - 7s 22ms/step - loss: 0.6878 - accuracy: 0.6090 - val_loss: 0.6848 - val_accuracy: 0.6116\n",
      "Epoch 3/100\n",
      "313/313 [==============================] - 7s 23ms/step - loss: 0.6776 - accuracy: 0.6484 - val_loss: 0.6681 - val_accuracy: 0.6796\n",
      "Epoch 4/100\n",
      "313/313 [==============================] - 7s 23ms/step - loss: 0.6401 - accuracy: 0.7074 - val_loss: 0.6066 - val_accuracy: 0.7216\n",
      "Epoch 5/100\n",
      "313/313 [==============================] - 7s 23ms/step - loss: 0.5851 - accuracy: 0.7285 - val_loss: 0.5785 - val_accuracy: 0.7240\n",
      "Epoch 6/100\n",
      "313/313 [==============================] - 7s 22ms/step - loss: 0.5599 - accuracy: 0.7467 - val_loss: 0.5587 - val_accuracy: 0.7382\n",
      "Epoch 7/100\n",
      "313/313 [==============================] - 7s 22ms/step - loss: 0.5398 - accuracy: 0.7577 - val_loss: 0.5390 - val_accuracy: 0.7518\n",
      "Epoch 8/100\n",
      "313/313 [==============================] - 7s 22ms/step - loss: 0.5215 - accuracy: 0.7701 - val_loss: 0.5229 - val_accuracy: 0.7590\n",
      "Epoch 9/100\n",
      "313/313 [==============================] - 7s 22ms/step - loss: 0.5050 - accuracy: 0.7781 - val_loss: 0.5081 - val_accuracy: 0.7682\n",
      "Epoch 10/100\n",
      "313/313 [==============================] - 7s 22ms/step - loss: 0.4905 - accuracy: 0.7847 - val_loss: 0.4960 - val_accuracy: 0.7732\n",
      "Epoch 11/100\n",
      "313/313 [==============================] - 7s 22ms/step - loss: 0.4775 - accuracy: 0.7922 - val_loss: 0.4850 - val_accuracy: 0.7834\n",
      "Epoch 12/100\n",
      "313/313 [==============================] - 7s 22ms/step - loss: 0.4667 - accuracy: 0.7951 - val_loss: 0.4758 - val_accuracy: 0.7806\n",
      "Epoch 13/100\n",
      "313/313 [==============================] - 7s 22ms/step - loss: 0.4570 - accuracy: 0.8004 - val_loss: 0.4696 - val_accuracy: 0.7818\n",
      "Epoch 14/100\n",
      "313/313 [==============================] - 7s 23ms/step - loss: 0.4488 - accuracy: 0.8033 - val_loss: 0.4638 - val_accuracy: 0.7862\n",
      "Epoch 15/100\n",
      "313/313 [==============================] - 7s 23ms/step - loss: 0.4422 - accuracy: 0.8041 - val_loss: 0.4541 - val_accuracy: 0.7926\n",
      "Epoch 16/100\n",
      "313/313 [==============================] - 7s 23ms/step - loss: 0.4364 - accuracy: 0.8069 - val_loss: 0.4533 - val_accuracy: 0.7948\n",
      "Epoch 17/100\n",
      "313/313 [==============================] - 7s 23ms/step - loss: 0.4322 - accuracy: 0.8091 - val_loss: 0.4457 - val_accuracy: 0.7974\n",
      "Epoch 18/100\n",
      "313/313 [==============================] - 7s 23ms/step - loss: 0.4286 - accuracy: 0.8098 - val_loss: 0.4442 - val_accuracy: 0.7970\n",
      "Epoch 19/100\n",
      "313/313 [==============================] - 7s 22ms/step - loss: 0.4251 - accuracy: 0.8099 - val_loss: 0.4415 - val_accuracy: 0.7968\n",
      "Epoch 20/100\n",
      "313/313 [==============================] - 7s 22ms/step - loss: 0.4225 - accuracy: 0.8116 - val_loss: 0.4393 - val_accuracy: 0.8002\n",
      "Epoch 21/100\n",
      "313/313 [==============================] - 7s 21ms/step - loss: 0.4200 - accuracy: 0.8114 - val_loss: 0.4399 - val_accuracy: 0.7966\n",
      "Epoch 22/100\n",
      "313/313 [==============================] - 7s 21ms/step - loss: 0.4181 - accuracy: 0.8126 - val_loss: 0.4377 - val_accuracy: 0.7978\n",
      "Epoch 23/100\n",
      "313/313 [==============================] - 7s 21ms/step - loss: 0.4163 - accuracy: 0.8117 - val_loss: 0.4387 - val_accuracy: 0.7982\n",
      "Epoch 24/100\n",
      "313/313 [==============================] - 7s 21ms/step - loss: 0.4153 - accuracy: 0.8128 - val_loss: 0.4369 - val_accuracy: 0.8008\n",
      "Epoch 25/100\n",
      "313/313 [==============================] - 7s 22ms/step - loss: 0.4139 - accuracy: 0.8127 - val_loss: 0.4350 - val_accuracy: 0.7988\n",
      "Epoch 26/100\n",
      "313/313 [==============================] - 7s 21ms/step - loss: 0.4118 - accuracy: 0.8145 - val_loss: 0.4395 - val_accuracy: 0.7932\n",
      "Epoch 27/100\n",
      "313/313 [==============================] - 7s 21ms/step - loss: 0.4115 - accuracy: 0.8148 - val_loss: 0.4349 - val_accuracy: 0.7996\n",
      "Epoch 28/100\n",
      "313/313 [==============================] - 7s 22ms/step - loss: 0.4103 - accuracy: 0.8145 - val_loss: 0.4343 - val_accuracy: 0.8010\n",
      "Epoch 29/100\n",
      "313/313 [==============================] - 7s 22ms/step - loss: 0.4089 - accuracy: 0.8148 - val_loss: 0.4354 - val_accuracy: 0.7982\n",
      "Epoch 30/100\n",
      "313/313 [==============================] - 7s 21ms/step - loss: 0.4081 - accuracy: 0.8151 - val_loss: 0.4363 - val_accuracy: 0.8010\n",
      "Epoch 31/100\n",
      "313/313 [==============================] - 7s 21ms/step - loss: 0.4073 - accuracy: 0.8160 - val_loss: 0.4338 - val_accuracy: 0.8014\n",
      "Epoch 32/100\n",
      "313/313 [==============================] - 7s 21ms/step - loss: 0.4067 - accuracy: 0.8163 - val_loss: 0.4341 - val_accuracy: 0.7994\n",
      "Epoch 33/100\n",
      "313/313 [==============================] - 7s 23ms/step - loss: 0.4057 - accuracy: 0.8155 - val_loss: 0.4334 - val_accuracy: 0.8034\n",
      "Epoch 34/100\n",
      "313/313 [==============================] - 7s 21ms/step - loss: 0.4047 - accuracy: 0.8163 - val_loss: 0.4383 - val_accuracy: 0.7976\n",
      "Epoch 35/100\n",
      "313/313 [==============================] - 7s 23ms/step - loss: 0.4042 - accuracy: 0.8163 - val_loss: 0.4333 - val_accuracy: 0.7996\n",
      "Epoch 36/100\n",
      "313/313 [==============================] - 7s 22ms/step - loss: 0.4035 - accuracy: 0.8159 - val_loss: 0.4346 - val_accuracy: 0.8002\n",
      "Epoch 37/100\n",
      "313/313 [==============================] - 7s 23ms/step - loss: 0.4026 - accuracy: 0.8170 - val_loss: 0.4331 - val_accuracy: 0.8000\n",
      "Epoch 38/100\n",
      "313/313 [==============================] - 7s 23ms/step - loss: 0.4026 - accuracy: 0.8162 - val_loss: 0.4312 - val_accuracy: 0.8010\n",
      "Epoch 39/100\n",
      "313/313 [==============================] - 7s 22ms/step - loss: 0.4016 - accuracy: 0.8155 - val_loss: 0.4313 - val_accuracy: 0.8006\n",
      "Epoch 40/100\n",
      "313/313 [==============================] - 7s 22ms/step - loss: 0.4004 - accuracy: 0.8169 - val_loss: 0.4326 - val_accuracy: 0.7988\n",
      "Epoch 41/100\n",
      "313/313 [==============================] - 7s 22ms/step - loss: 0.4000 - accuracy: 0.8184 - val_loss: 0.4346 - val_accuracy: 0.7970\n",
      "Epoch 42/100\n",
      "313/313 [==============================] - 7s 21ms/step - loss: 0.3990 - accuracy: 0.8175 - val_loss: 0.4310 - val_accuracy: 0.8002\n",
      "Epoch 43/100\n",
      "313/313 [==============================] - 7s 21ms/step - loss: 0.3984 - accuracy: 0.8188 - val_loss: 0.4354 - val_accuracy: 0.7996\n",
      "Epoch 44/100\n",
      "313/313 [==============================] - 7s 22ms/step - loss: 0.3981 - accuracy: 0.8199 - val_loss: 0.4325 - val_accuracy: 0.8010\n",
      "Epoch 45/100\n",
      "313/313 [==============================] - 7s 21ms/step - loss: 0.3968 - accuracy: 0.8177 - val_loss: 0.4380 - val_accuracy: 0.7952\n",
      "Epoch 46/100\n",
      "313/313 [==============================] - 7s 22ms/step - loss: 0.3963 - accuracy: 0.8184 - val_loss: 0.4307 - val_accuracy: 0.8010\n",
      "Epoch 47/100\n",
      "313/313 [==============================] - 7s 22ms/step - loss: 0.3955 - accuracy: 0.8206 - val_loss: 0.4316 - val_accuracy: 0.7988\n",
      "Epoch 48/100\n",
      "313/313 [==============================] - 7s 22ms/step - loss: 0.3953 - accuracy: 0.8193 - val_loss: 0.4298 - val_accuracy: 0.7998\n",
      "Epoch 49/100\n",
      "313/313 [==============================] - 7s 22ms/step - loss: 0.3941 - accuracy: 0.8189 - val_loss: 0.4304 - val_accuracy: 0.7992\n",
      "Epoch 50/100\n",
      "313/313 [==============================] - 7s 22ms/step - loss: 0.3941 - accuracy: 0.8198 - val_loss: 0.4289 - val_accuracy: 0.7990\n",
      "Epoch 51/100\n",
      "313/313 [==============================] - 7s 22ms/step - loss: 0.3932 - accuracy: 0.8194 - val_loss: 0.4290 - val_accuracy: 0.7992\n",
      "Epoch 52/100\n",
      "313/313 [==============================] - 7s 21ms/step - loss: 0.3925 - accuracy: 0.8216 - val_loss: 0.4307 - val_accuracy: 0.7998\n",
      "Epoch 53/100\n",
      "313/313 [==============================] - 7s 21ms/step - loss: 0.3917 - accuracy: 0.8210 - val_loss: 0.4350 - val_accuracy: 0.7972\n",
      "Epoch 54/100\n",
      "313/313 [==============================] - 7s 22ms/step - loss: 0.3911 - accuracy: 0.8203 - val_loss: 0.4294 - val_accuracy: 0.7978\n"
     ]
    }
   ],
   "source": [
    "history = model.fit(train_seq, y_train, epochs = 100, batch_size = 64,\n",
    "                   validation_data= (val_seq, y_val),\n",
    "                   callbacks = [checkpoint_cb, early_stopping_cb])"
   ]
  },
  {
   "cell_type": "code",
   "execution_count": 12,
   "id": "a1c2fe85",
   "metadata": {},
   "outputs": [
    {
     "data": {
      "image/png": "[encoded data removed]",
      "text/plain": [
       "<Figure size 640x480 with 1 Axes>"
      ]
     },
     "metadata": {},
     "output_type": "display_data"
    }
   ],
   "source": [
    "plt.figure()\n",
    "\n",
    "plt.plot(history.history[\"loss\"], label = \"train_loss\")\n",
    "plt.plot(history.history[\"accuracy\"], label = \"train_acc\")\n",
    "plt.plot(history.history[\"val_loss\"], label = \"val_loss\")\n",
    "plt.plot(history.history[\"val_accuracy\"], label = \"val_acc\")\n",
    "\n",
    "\n",
    "plt.legend()\n",
    "plt.xlabel(\"epoch\")\n",
    "plt.show()"
   ]
  },
  {
   "cell_type": "markdown",
   "id": "bf869b5a",
   "metadata": {},
   "source": [
    "# 순환층에 드롭아웃 적용\n",
    "\n",
    "- 순환층은 자체적으로 드롭아웃 기능을 제공\n",
    "    - SimpleRNN 과 LSTM 클래스 모두 dropout 매개변수와 recurrent_dropout 매개변수를 가지고 있음\n",
    "        - dropout : 셀의 입력에 드롭아웃을 적용\n",
    "        - recurrent_dropout : 순환되는 은닉 상태에 드롭아웃을 적용\n",
    "            - 버전에 따라 recurrent_dropout 이 GPU를 사용하지 못하는 경우가 있음"
   ]
  },
  {
   "cell_type": "code",
   "execution_count": 15,
   "id": "fb015b5b",
   "metadata": {},
   "outputs": [],
   "source": [
    "model2 = keras.Sequential()\n",
    "model2.add(keras.layers.Embedding(500, 32, input_shape = (100,)))\n",
    "model2.add(keras.layers.LSTM(8, dropout = 0.3))\n",
    "model2.add(keras.layers.Dense(1, activation='sigmoid'))"
   ]
  },
  {
   "cell_type": "code",
   "execution_count": 16,
   "id": "f19dce3f",
   "metadata": {},
   "outputs": [],
   "source": [
    "rmsprop = keras.optimizers.RMSprop(learning_rate=1e-4)\n",
    "model2.compile(optimizer=rmsprop, loss = 'binary_crossentropy', metrics = ['accuracy'])\n",
    "checkpoint_cb = keras.callbacks.ModelCheckpoint(\"./model/best-dropout-model.h5\",\n",
    "                                               save_best_only= True)\n",
    "early_stopping_cb = keras.callbacks.EarlyStopping(patience=4, restore_best_weights=True)"
   ]
  },
  {
   "cell_type": "code",
   "execution_count": 17,
   "id": "825f2e52",
   "metadata": {},
   "outputs": [
    {
     "name": "stdout",
     "output_type": "stream",
     "text": [
      "Epoch 1/100\n",
      "313/313 [==============================] - 9s 24ms/step - loss: 0.6924 - accuracy: 0.5279 - val_loss: 0.6916 - val_accuracy: 0.5458\n",
      "Epoch 2/100\n",
      "  7/313 [..............................] - ETA: 5s - loss: 0.6924 - accuracy: 0.5268"
     ]
    },
    {
     "name": "stderr",
     "output_type": "stream",
     "text": [
      "C:\\ProgramData\\anaconda3\\Lib\\site-packages\\keras\\src\\engine\\training.py:3103: UserWarning: You are saving your model as an HDF5 file via `model.save()`. This file format is considered legacy. We recommend using instead the native Keras format, e.g. `model.save('my_model.keras')`.\n",
      "  saving_api.save_model(\n"
     ]
    },
    {
     "name": "stdout",
     "output_type": "stream",
     "text": [
      "313/313 [==============================] - 7s 23ms/step - loss: 0.6902 - accuracy: 0.5648 - val_loss: 0.6883 - val_accuracy: 0.6074\n",
      "Epoch 3/100\n",
      "313/313 [==============================] - 7s 23ms/step - loss: 0.6829 - accuracy: 0.6297 - val_loss: 0.6733 - val_accuracy: 0.6580\n",
      "Epoch 4/100\n",
      "313/313 [==============================] - 7s 23ms/step - loss: 0.6421 - accuracy: 0.6880 - val_loss: 0.6194 - val_accuracy: 0.6926\n",
      "Epoch 5/100\n",
      "313/313 [==============================] - 7s 23ms/step - loss: 0.6052 - accuracy: 0.7100 - val_loss: 0.5982 - val_accuracy: 0.7066\n",
      "Epoch 6/100\n",
      "313/313 [==============================] - 8s 24ms/step - loss: 0.5830 - accuracy: 0.7288 - val_loss: 0.5773 - val_accuracy: 0.7330\n",
      "Epoch 7/100\n",
      "313/313 [==============================] - 7s 24ms/step - loss: 0.5622 - accuracy: 0.7469 - val_loss: 0.5574 - val_accuracy: 0.7462\n",
      "Epoch 8/100\n",
      "313/313 [==============================] - 7s 24ms/step - loss: 0.5440 - accuracy: 0.7590 - val_loss: 0.5402 - val_accuracy: 0.7582\n",
      "Epoch 9/100\n",
      "313/313 [==============================] - 8s 25ms/step - loss: 0.5278 - accuracy: 0.7685 - val_loss: 0.5254 - val_accuracy: 0.7634\n",
      "Epoch 10/100\n",
      "313/313 [==============================] - 8s 25ms/step - loss: 0.5119 - accuracy: 0.7776 - val_loss: 0.5103 - val_accuracy: 0.7762\n",
      "Epoch 11/100\n",
      "313/313 [==============================] - 8s 25ms/step - loss: 0.4971 - accuracy: 0.7833 - val_loss: 0.4970 - val_accuracy: 0.7806\n",
      "Epoch 12/100\n",
      "313/313 [==============================] - 8s 25ms/step - loss: 0.4834 - accuracy: 0.7894 - val_loss: 0.4868 - val_accuracy: 0.7790\n",
      "Epoch 13/100\n",
      "313/313 [==============================] - 8s 25ms/step - loss: 0.4749 - accuracy: 0.7900 - val_loss: 0.4781 - val_accuracy: 0.7876\n",
      "Epoch 14/100\n",
      "313/313 [==============================] - 8s 24ms/step - loss: 0.4644 - accuracy: 0.7956 - val_loss: 0.4710 - val_accuracy: 0.7886\n",
      "Epoch 15/100\n",
      "313/313 [==============================] - 7s 23ms/step - loss: 0.4581 - accuracy: 0.7961 - val_loss: 0.4688 - val_accuracy: 0.7876\n",
      "Epoch 16/100\n",
      "313/313 [==============================] - 8s 25ms/step - loss: 0.4520 - accuracy: 0.7983 - val_loss: 0.4599 - val_accuracy: 0.7946\n",
      "Epoch 17/100\n",
      "313/313 [==============================] - 8s 24ms/step - loss: 0.4488 - accuracy: 0.7974 - val_loss: 0.4620 - val_accuracy: 0.7868\n",
      "Epoch 18/100\n",
      "313/313 [==============================] - 7s 24ms/step - loss: 0.4432 - accuracy: 0.8024 - val_loss: 0.4534 - val_accuracy: 0.7964\n",
      "Epoch 19/100\n",
      "313/313 [==============================] - 8s 24ms/step - loss: 0.4380 - accuracy: 0.8055 - val_loss: 0.4496 - val_accuracy: 0.8010\n",
      "Epoch 20/100\n",
      "313/313 [==============================] - 8s 24ms/step - loss: 0.4352 - accuracy: 0.8046 - val_loss: 0.4490 - val_accuracy: 0.7954\n",
      "Epoch 21/100\n",
      "313/313 [==============================] - 8s 25ms/step - loss: 0.4326 - accuracy: 0.8056 - val_loss: 0.4473 - val_accuracy: 0.7972\n",
      "Epoch 22/100\n",
      "313/313 [==============================] - 8s 25ms/step - loss: 0.4285 - accuracy: 0.8071 - val_loss: 0.4468 - val_accuracy: 0.8002\n",
      "Epoch 23/100\n",
      "313/313 [==============================] - 7s 24ms/step - loss: 0.4252 - accuracy: 0.8101 - val_loss: 0.4427 - val_accuracy: 0.7990\n",
      "Epoch 24/100\n",
      "313/313 [==============================] - 8s 24ms/step - loss: 0.4254 - accuracy: 0.8077 - val_loss: 0.4413 - val_accuracy: 0.7994\n",
      "Epoch 25/100\n",
      "313/313 [==============================] - 8s 27ms/step - loss: 0.4221 - accuracy: 0.8094 - val_loss: 0.4405 - val_accuracy: 0.8030\n",
      "Epoch 26/100\n",
      "313/313 [==============================] - 8s 25ms/step - loss: 0.4194 - accuracy: 0.8116 - val_loss: 0.4398 - val_accuracy: 0.7996\n",
      "Epoch 27/100\n",
      "313/313 [==============================] - 8s 25ms/step - loss: 0.4195 - accuracy: 0.8088 - val_loss: 0.4410 - val_accuracy: 0.7982\n",
      "Epoch 28/100\n",
      "313/313 [==============================] - 8s 25ms/step - loss: 0.4182 - accuracy: 0.8105 - val_loss: 0.4373 - val_accuracy: 0.8026\n",
      "Epoch 29/100\n",
      "313/313 [==============================] - 8s 25ms/step - loss: 0.4170 - accuracy: 0.8111 - val_loss: 0.4370 - val_accuracy: 0.8026\n",
      "Epoch 30/100\n",
      "313/313 [==============================] - 8s 24ms/step - loss: 0.4143 - accuracy: 0.8114 - val_loss: 0.4367 - val_accuracy: 0.8012\n",
      "Epoch 31/100\n",
      "313/313 [==============================] - 8s 24ms/step - loss: 0.4124 - accuracy: 0.8131 - val_loss: 0.4376 - val_accuracy: 0.7958\n",
      "Epoch 32/100\n",
      "313/313 [==============================] - 7s 23ms/step - loss: 0.4138 - accuracy: 0.8102 - val_loss: 0.4361 - val_accuracy: 0.8016\n",
      "Epoch 33/100\n",
      "313/313 [==============================] - 7s 23ms/step - loss: 0.4098 - accuracy: 0.8140 - val_loss: 0.4353 - val_accuracy: 0.8016\n",
      "Epoch 34/100\n",
      "313/313 [==============================] - 7s 23ms/step - loss: 0.4083 - accuracy: 0.8153 - val_loss: 0.4339 - val_accuracy: 0.8018\n",
      "Epoch 35/100\n",
      "313/313 [==============================] - 7s 23ms/step - loss: 0.4089 - accuracy: 0.8158 - val_loss: 0.4344 - val_accuracy: 0.8010\n",
      "Epoch 36/100\n",
      "313/313 [==============================] - 7s 23ms/step - loss: 0.4065 - accuracy: 0.8144 - val_loss: 0.4334 - val_accuracy: 0.8030\n",
      "Epoch 37/100\n",
      "313/313 [==============================] - 7s 23ms/step - loss: 0.4063 - accuracy: 0.8155 - val_loss: 0.4353 - val_accuracy: 0.8004\n",
      "Epoch 38/100\n",
      "313/313 [==============================] - 7s 23ms/step - loss: 0.4056 - accuracy: 0.8151 - val_loss: 0.4319 - val_accuracy: 0.8012\n",
      "Epoch 39/100\n",
      "313/313 [==============================] - 7s 23ms/step - loss: 0.4054 - accuracy: 0.8128 - val_loss: 0.4315 - val_accuracy: 0.8032\n",
      "Epoch 40/100\n",
      "313/313 [==============================] - 8s 24ms/step - loss: 0.4055 - accuracy: 0.8157 - val_loss: 0.4319 - val_accuracy: 0.8014\n",
      "Epoch 41/100\n",
      "313/313 [==============================] - 8s 24ms/step - loss: 0.4035 - accuracy: 0.8163 - val_loss: 0.4316 - val_accuracy: 0.8024\n",
      "Epoch 42/100\n",
      "313/313 [==============================] - 8s 24ms/step - loss: 0.4019 - accuracy: 0.8184 - val_loss: 0.4320 - val_accuracy: 0.8028\n",
      "Epoch 43/100\n",
      "313/313 [==============================] - 7s 24ms/step - loss: 0.4035 - accuracy: 0.8149 - val_loss: 0.4320 - val_accuracy: 0.8006\n"
     ]
    }
   ],
   "source": [
    "history = model2.fit(train_seq, y_train, epochs = 100, batch_size = 64,\n",
    "                   validation_data= (val_seq, y_val),\n",
    "                   callbacks = [checkpoint_cb, early_stopping_cb])"
   ]
  },
  {
   "cell_type": "code",
   "execution_count": 18,
   "id": "7ef616da",
   "metadata": {},
   "outputs": [
    {
     "data": {
      "image/png": "[encoded data removed]",
      "text/plain": [
       "<Figure size 640x480 with 1 Axes>"
      ]
     },
     "metadata": {},
     "output_type": "display_data"
    }
   ],
   "source": [
    "plt.figure()\n",
    "\n",
    "plt.plot(history.history[\"loss\"], label = \"train_loss\")\n",
    "plt.plot(history.history[\"accuracy\"], label = \"train_acc\")\n",
    "plt.plot(history.history[\"val_loss\"], label = \"val_loss\")\n",
    "plt.plot(history.history[\"val_accuracy\"], label = \"val_acc\")\n",
    "\n",
    "\n",
    "plt.legend()\n",
    "plt.xlabel(\"epoch\")\n",
    "plt.show()"
   ]
  },
  {
   "cell_type": "markdown",
   "id": "966d6024",
   "metadata": {},
   "source": [
    "# 2개의 층을 연결\n",
    "\n",
    "- 순환층을 연결할 때의 주의점\n",
    "    - 순환 층의 은닉 상태는 샘플의 마지막 타임스텝에 대한 은닉 상태만 다음 층으로 전달\n",
    "        - 순환층을 쌓게 되면 모든 순환층에 순차 데이터가 필요함\n",
    "        - 앞쪽의 순환층이 모든 타임스텝에 대한 은닉 상태를 출력해야함\n",
    "            - return_sequences 매개변수를 True로 지정"
   ]
  },
  {
   "cell_type": "code",
   "execution_count": 19,
   "id": "87f8131e",
   "metadata": {},
   "outputs": [],
   "source": [
    "model3 = keras.Sequential()\n",
    "model3.add(keras.layers.Embedding(500, 32, input_shape = (100,)))\n",
    "model3.add(keras.layers.LSTM(8, dropout = 0.3, return_sequences=True))\n",
    "model3.add(keras.layers.LSTM(8, dropout = 0.3))\n",
    "model3.add(keras.layers.Dense(1, activation = \"sigmoid\"))"
   ]
  },
  {
   "cell_type": "code",
   "execution_count": 20,
   "id": "7d873fd7",
   "metadata": {},
   "outputs": [
    {
     "name": "stdout",
     "output_type": "stream",
     "text": [
      "Model: \"sequential_4\"\n",
      "_________________________________________________________________\n",
      " Layer (type)                Output Shape              Param #   \n",
      "=================================================================\n",
      " embedding_3 (Embedding)     (None, 100, 32)           16000     \n",
      "                                                                 \n",
      " lstm_3 (LSTM)               (None, 100, 8)            1312      \n",
      "                                                                 \n",
      " lstm_4 (LSTM)               (None, 8)                 544       \n",
      "                                                                 \n",
      " dense_2 (Dense)             (None, 1)                 9         \n",
      "                                                                 \n",
      "=================================================================\n",
      "Total params: 17865 (69.79 KB)\n",
      "Trainable params: 17865 (69.79 KB)\n",
      "Non-trainable params: 0 (0.00 Byte)\n",
      "_________________________________________________________________\n"
     ]
    }
   ],
   "source": [
    "model3.summary()"
   ]
  },
  {
   "cell_type": "markdown",
   "id": "f938d62a",
   "metadata": {},
   "source": [
    "- 첫 번째 LSTM \n",
    "    - 모든 타임스텝(100개) 의 은닉상태를 출력하기 때문에 출력의 크기가 (None, 100, 8)\n",
    "- 두 번째 LSTM\n",
    "    - 마지막 타임스텝의 은닉 상태만 출력하기 때문에 출력의 크기가 (None, 8)\n",
    "    "
   ]
  },
  {
   "cell_type": "code",
   "execution_count": 21,
   "id": "d92b7412",
   "metadata": {},
   "outputs": [
    {
     "data": {
      "text/plain": [
       "1312"
      ]
     },
     "execution_count": 21,
     "metadata": {},
     "output_type": "execute_result"
    }
   ],
   "source": [
    "((32 * 8) + (8 * 8) + 8) * 4"
   ]
  },
  {
   "cell_type": "code",
   "execution_count": 22,
   "id": "fd3b5590",
   "metadata": {},
   "outputs": [
    {
     "data": {
      "text/plain": [
       "544"
      ]
     },
     "execution_count": 22,
     "metadata": {},
     "output_type": "execute_result"
    }
   ],
   "source": [
    "((8 * 8) + (8 * 8) + 8) * 4"
   ]
  },
  {
   "cell_type": "markdown",
   "id": "842cf6d3",
   "metadata": {},
   "source": [
    "- 파라미터 계산"
   ]
  },
  {
   "cell_type": "code",
   "execution_count": 23,
   "id": "3eb40ee4",
   "metadata": {},
   "outputs": [],
   "source": [
    "rmsprop = keras.optimizers.RMSprop(learning_rate=1e-4)\n",
    "model3.compile(optimizer=rmsprop, loss = 'binary_crossentropy', metrics = ['accuracy'])\n",
    "checkpoint_cb = keras.callbacks.ModelCheckpoint(\"./model/best-2rnn-model.h5\",\n",
    "                                               save_best_only= True)\n",
    "early_stopping_cb = keras.callbacks.EarlyStopping(patience=4, restore_best_weights=True)"
   ]
  },
  {
   "cell_type": "code",
   "execution_count": 24,
   "id": "b7828f27",
   "metadata": {
    "scrolled": true
   },
   "outputs": [
    {
     "name": "stdout",
     "output_type": "stream",
     "text": [
      "Epoch 1/100\n",
      "313/313 [==============================] - 19s 49ms/step - loss: 0.6930 - accuracy: 0.5148 - val_loss: 0.6930 - val_accuracy: 0.4976\n",
      "Epoch 2/100\n",
      "  4/313 [..............................] - ETA: 12s - loss: 0.6929 - accuracy: 0.5078"
     ]
    },
    {
     "name": "stderr",
     "output_type": "stream",
     "text": [
      "C:\\ProgramData\\anaconda3\\Lib\\site-packages\\keras\\src\\engine\\training.py:3103: UserWarning: You are saving your model as an HDF5 file via `model.save()`. This file format is considered legacy. We recommend using instead the native Keras format, e.g. `model.save('my_model.keras')`.\n",
      "  saving_api.save_model(\n"
     ]
    },
    {
     "name": "stdout",
     "output_type": "stream",
     "text": [
      "313/313 [==============================] - 14s 44ms/step - loss: 0.6927 - accuracy: 0.5346 - val_loss: 0.6926 - val_accuracy: 0.4998\n",
      "Epoch 3/100\n",
      "313/313 [==============================] - 13s 43ms/step - loss: 0.6921 - accuracy: 0.5215 - val_loss: 0.6914 - val_accuracy: 0.5302\n",
      "Epoch 4/100\n",
      "313/313 [==============================] - 14s 43ms/step - loss: 0.6895 - accuracy: 0.5556 - val_loss: 0.6867 - val_accuracy: 0.6080\n",
      "Epoch 5/100\n",
      "313/313 [==============================] - 13s 43ms/step - loss: 0.6780 - accuracy: 0.6194 - val_loss: 0.6635 - val_accuracy: 0.6552\n",
      "Epoch 6/100\n",
      "313/313 [==============================] - 14s 44ms/step - loss: 0.6301 - accuracy: 0.6793 - val_loss: 0.5995 - val_accuracy: 0.7016\n",
      "Epoch 7/100\n",
      "313/313 [==============================] - 14s 44ms/step - loss: 0.5806 - accuracy: 0.7179 - val_loss: 0.5725 - val_accuracy: 0.7242\n",
      "Epoch 8/100\n",
      "313/313 [==============================] - 14s 43ms/step - loss: 0.5554 - accuracy: 0.7330 - val_loss: 0.5511 - val_accuracy: 0.7362\n",
      "Epoch 9/100\n",
      "313/313 [==============================] - 14s 44ms/step - loss: 0.5341 - accuracy: 0.7504 - val_loss: 0.5292 - val_accuracy: 0.7522\n",
      "Epoch 10/100\n",
      "313/313 [==============================] - 14s 44ms/step - loss: 0.5170 - accuracy: 0.7605 - val_loss: 0.5147 - val_accuracy: 0.7578\n",
      "Epoch 11/100\n",
      "313/313 [==============================] - 14s 44ms/step - loss: 0.5025 - accuracy: 0.7696 - val_loss: 0.5058 - val_accuracy: 0.7640\n",
      "Epoch 12/100\n",
      "313/313 [==============================] - 14s 45ms/step - loss: 0.4927 - accuracy: 0.7746 - val_loss: 0.4942 - val_accuracy: 0.7670\n",
      "Epoch 13/100\n",
      "313/313 [==============================] - 14s 44ms/step - loss: 0.4846 - accuracy: 0.7805 - val_loss: 0.4907 - val_accuracy: 0.7702\n",
      "Epoch 14/100\n",
      "313/313 [==============================] - 14s 45ms/step - loss: 0.4779 - accuracy: 0.7824 - val_loss: 0.4827 - val_accuracy: 0.7780\n",
      "Epoch 15/100\n",
      "313/313 [==============================] - 14s 45ms/step - loss: 0.4738 - accuracy: 0.7824 - val_loss: 0.4788 - val_accuracy: 0.7762\n",
      "Epoch 16/100\n",
      "313/313 [==============================] - 14s 46ms/step - loss: 0.4704 - accuracy: 0.7861 - val_loss: 0.4746 - val_accuracy: 0.7786\n",
      "Epoch 17/100\n",
      "313/313 [==============================] - 14s 45ms/step - loss: 0.4635 - accuracy: 0.7902 - val_loss: 0.4714 - val_accuracy: 0.7820\n",
      "Epoch 18/100\n",
      "313/313 [==============================] - 14s 44ms/step - loss: 0.4623 - accuracy: 0.7889 - val_loss: 0.4693 - val_accuracy: 0.7798\n",
      "Epoch 19/100\n",
      "313/313 [==============================] - 14s 45ms/step - loss: 0.4552 - accuracy: 0.7941 - val_loss: 0.4712 - val_accuracy: 0.7786\n",
      "Epoch 20/100\n",
      "313/313 [==============================] - 14s 44ms/step - loss: 0.4575 - accuracy: 0.7894 - val_loss: 0.4688 - val_accuracy: 0.7832\n",
      "Epoch 21/100\n",
      "313/313 [==============================] - 14s 45ms/step - loss: 0.4507 - accuracy: 0.7959 - val_loss: 0.4678 - val_accuracy: 0.7780\n",
      "Epoch 22/100\n",
      "313/313 [==============================] - 14s 44ms/step - loss: 0.4487 - accuracy: 0.7948 - val_loss: 0.4628 - val_accuracy: 0.7854\n",
      "Epoch 23/100\n",
      "313/313 [==============================] - 14s 44ms/step - loss: 0.4473 - accuracy: 0.7960 - val_loss: 0.4612 - val_accuracy: 0.7848\n",
      "Epoch 24/100\n",
      "313/313 [==============================] - 14s 44ms/step - loss: 0.4459 - accuracy: 0.7948 - val_loss: 0.4610 - val_accuracy: 0.7854\n",
      "Epoch 25/100\n",
      "313/313 [==============================] - 14s 44ms/step - loss: 0.4415 - accuracy: 0.8007 - val_loss: 0.4657 - val_accuracy: 0.7764\n",
      "Epoch 26/100\n",
      "313/313 [==============================] - 14s 44ms/step - loss: 0.4416 - accuracy: 0.7992 - val_loss: 0.4593 - val_accuracy: 0.7878\n",
      "Epoch 27/100\n",
      "313/313 [==============================] - 14s 44ms/step - loss: 0.4410 - accuracy: 0.7983 - val_loss: 0.4579 - val_accuracy: 0.7896\n",
      "Epoch 28/100\n",
      "313/313 [==============================] - 14s 44ms/step - loss: 0.4415 - accuracy: 0.7994 - val_loss: 0.4559 - val_accuracy: 0.7874\n",
      "Epoch 29/100\n",
      "313/313 [==============================] - 14s 44ms/step - loss: 0.4392 - accuracy: 0.7993 - val_loss: 0.4554 - val_accuracy: 0.7886\n",
      "Epoch 30/100\n",
      "313/313 [==============================] - 14s 44ms/step - loss: 0.4358 - accuracy: 0.7995 - val_loss: 0.4586 - val_accuracy: 0.7896\n",
      "Epoch 31/100\n",
      "313/313 [==============================] - 14s 44ms/step - loss: 0.4352 - accuracy: 0.8029 - val_loss: 0.4532 - val_accuracy: 0.7902\n",
      "Epoch 32/100\n",
      "313/313 [==============================] - 13s 43ms/step - loss: 0.4341 - accuracy: 0.8003 - val_loss: 0.4536 - val_accuracy: 0.7880\n",
      "Epoch 33/100\n",
      "313/313 [==============================] - 13s 43ms/step - loss: 0.4340 - accuracy: 0.8007 - val_loss: 0.4510 - val_accuracy: 0.7940\n",
      "Epoch 34/100\n",
      "313/313 [==============================] - 14s 44ms/step - loss: 0.4319 - accuracy: 0.8016 - val_loss: 0.4511 - val_accuracy: 0.7916\n",
      "Epoch 35/100\n",
      "313/313 [==============================] - 13s 43ms/step - loss: 0.4309 - accuracy: 0.8026 - val_loss: 0.4497 - val_accuracy: 0.7940\n",
      "Epoch 36/100\n",
      "313/313 [==============================] - 13s 43ms/step - loss: 0.4283 - accuracy: 0.8033 - val_loss: 0.4523 - val_accuracy: 0.7932\n",
      "Epoch 37/100\n",
      "313/313 [==============================] - 13s 42ms/step - loss: 0.4272 - accuracy: 0.8053 - val_loss: 0.4519 - val_accuracy: 0.7860\n",
      "Epoch 38/100\n",
      "313/313 [==============================] - 13s 43ms/step - loss: 0.4272 - accuracy: 0.8044 - val_loss: 0.4478 - val_accuracy: 0.7924\n",
      "Epoch 39/100\n",
      "313/313 [==============================] - 14s 43ms/step - loss: 0.4262 - accuracy: 0.8030 - val_loss: 0.4469 - val_accuracy: 0.7926\n",
      "Epoch 40/100\n",
      "313/313 [==============================] - 13s 43ms/step - loss: 0.4257 - accuracy: 0.8062 - val_loss: 0.4468 - val_accuracy: 0.7918\n",
      "Epoch 41/100\n",
      "313/313 [==============================] - 13s 43ms/step - loss: 0.4259 - accuracy: 0.8041 - val_loss: 0.4458 - val_accuracy: 0.7900\n",
      "Epoch 42/100\n",
      "313/313 [==============================] - 13s 43ms/step - loss: 0.4229 - accuracy: 0.8064 - val_loss: 0.4447 - val_accuracy: 0.7976\n",
      "Epoch 43/100\n",
      "313/313 [==============================] - 13s 43ms/step - loss: 0.4217 - accuracy: 0.8069 - val_loss: 0.4438 - val_accuracy: 0.7960\n",
      "Epoch 44/100\n",
      "313/313 [==============================] - 14s 43ms/step - loss: 0.4208 - accuracy: 0.8090 - val_loss: 0.4449 - val_accuracy: 0.7958\n",
      "Epoch 45/100\n",
      "313/313 [==============================] - 14s 44ms/step - loss: 0.4197 - accuracy: 0.8066 - val_loss: 0.4465 - val_accuracy: 0.7988\n",
      "Epoch 46/100\n",
      "313/313 [==============================] - 14s 44ms/step - loss: 0.4199 - accuracy: 0.8067 - val_loss: 0.4473 - val_accuracy: 0.7898\n",
      "Epoch 47/100\n",
      "313/313 [==============================] - 14s 43ms/step - loss: 0.4187 - accuracy: 0.8079 - val_loss: 0.4410 - val_accuracy: 0.7956\n",
      "Epoch 48/100\n",
      "313/313 [==============================] - 13s 43ms/step - loss: 0.4196 - accuracy: 0.8084 - val_loss: 0.4424 - val_accuracy: 0.7930\n",
      "Epoch 49/100\n",
      "313/313 [==============================] - 14s 43ms/step - loss: 0.4173 - accuracy: 0.8095 - val_loss: 0.4397 - val_accuracy: 0.8008\n",
      "Epoch 50/100\n",
      "313/313 [==============================] - 14s 43ms/step - loss: 0.4155 - accuracy: 0.8091 - val_loss: 0.4395 - val_accuracy: 0.7964\n",
      "Epoch 51/100\n",
      "313/313 [==============================] - 13s 43ms/step - loss: 0.4155 - accuracy: 0.8095 - val_loss: 0.4383 - val_accuracy: 0.7958\n",
      "Epoch 52/100\n",
      "313/313 [==============================] - 13s 43ms/step - loss: 0.4151 - accuracy: 0.8102 - val_loss: 0.4384 - val_accuracy: 0.7964\n",
      "Epoch 53/100\n",
      "313/313 [==============================] - 13s 43ms/step - loss: 0.4141 - accuracy: 0.8115 - val_loss: 0.4368 - val_accuracy: 0.7978\n",
      "Epoch 54/100\n",
      "313/313 [==============================] - 13s 43ms/step - loss: 0.4122 - accuracy: 0.8105 - val_loss: 0.4365 - val_accuracy: 0.7980\n",
      "Epoch 55/100\n",
      "313/313 [==============================] - 13s 43ms/step - loss: 0.4131 - accuracy: 0.8115 - val_loss: 0.4367 - val_accuracy: 0.7988\n",
      "Epoch 56/100\n",
      "313/313 [==============================] - 13s 43ms/step - loss: 0.4106 - accuracy: 0.8112 - val_loss: 0.4373 - val_accuracy: 0.8000\n",
      "Epoch 57/100\n",
      "313/313 [==============================] - 13s 43ms/step - loss: 0.4090 - accuracy: 0.8135 - val_loss: 0.4362 - val_accuracy: 0.7998\n",
      "Epoch 58/100\n",
      "313/313 [==============================] - 13s 42ms/step - loss: 0.4092 - accuracy: 0.8135 - val_loss: 0.4344 - val_accuracy: 0.8010\n",
      "Epoch 59/100\n",
      "313/313 [==============================] - 13s 42ms/step - loss: 0.4093 - accuracy: 0.8130 - val_loss: 0.4457 - val_accuracy: 0.7918\n",
      "Epoch 60/100\n",
      "313/313 [==============================] - 13s 42ms/step - loss: 0.4074 - accuracy: 0.8147 - val_loss: 0.4327 - val_accuracy: 0.8006\n",
      "Epoch 61/100\n",
      "313/313 [==============================] - 13s 42ms/step - loss: 0.4077 - accuracy: 0.8153 - val_loss: 0.4336 - val_accuracy: 0.7998\n",
      "Epoch 62/100\n",
      "313/313 [==============================] - 13s 43ms/step - loss: 0.4068 - accuracy: 0.8145 - val_loss: 0.4315 - val_accuracy: 0.8026\n",
      "Epoch 63/100\n",
      "313/313 [==============================] - 13s 42ms/step - loss: 0.4064 - accuracy: 0.8159 - val_loss: 0.4323 - val_accuracy: 0.8020\n",
      "Epoch 64/100\n",
      "313/313 [==============================] - 13s 43ms/step - loss: 0.4042 - accuracy: 0.8163 - val_loss: 0.4303 - val_accuracy: 0.8030\n",
      "Epoch 65/100\n",
      "313/313 [==============================] - 14s 43ms/step - loss: 0.4051 - accuracy: 0.8152 - val_loss: 0.4298 - val_accuracy: 0.8028\n",
      "Epoch 66/100\n",
      "313/313 [==============================] - 13s 43ms/step - loss: 0.4045 - accuracy: 0.8136 - val_loss: 0.4308 - val_accuracy: 0.8026\n",
      "Epoch 67/100\n",
      "313/313 [==============================] - 13s 43ms/step - loss: 0.4021 - accuracy: 0.8156 - val_loss: 0.4311 - val_accuracy: 0.8012\n",
      "Epoch 68/100\n",
      "313/313 [==============================] - 13s 43ms/step - loss: 0.3996 - accuracy: 0.8186 - val_loss: 0.4288 - val_accuracy: 0.8024\n",
      "Epoch 69/100\n",
      "313/313 [==============================] - 13s 43ms/step - loss: 0.3986 - accuracy: 0.8199 - val_loss: 0.4288 - val_accuracy: 0.8058\n",
      "Epoch 70/100\n",
      "313/313 [==============================] - 14s 43ms/step - loss: 0.4018 - accuracy: 0.8170 - val_loss: 0.4284 - val_accuracy: 0.8066\n",
      "Epoch 71/100\n",
      "313/313 [==============================] - 13s 43ms/step - loss: 0.3996 - accuracy: 0.8176 - val_loss: 0.4303 - val_accuracy: 0.8032\n",
      "Epoch 72/100\n",
      "313/313 [==============================] - 14s 44ms/step - loss: 0.4010 - accuracy: 0.8168 - val_loss: 0.4273 - val_accuracy: 0.8038\n",
      "Epoch 73/100\n",
      "313/313 [==============================] - 14s 44ms/step - loss: 0.3997 - accuracy: 0.8185 - val_loss: 0.4269 - val_accuracy: 0.8052\n",
      "Epoch 74/100\n",
      "313/313 [==============================] - 14s 43ms/step - loss: 0.3980 - accuracy: 0.8195 - val_loss: 0.4268 - val_accuracy: 0.8050\n",
      "Epoch 75/100\n",
      "313/313 [==============================] - 13s 43ms/step - loss: 0.3958 - accuracy: 0.8216 - val_loss: 0.4270 - val_accuracy: 0.8048\n",
      "Epoch 76/100\n",
      "313/313 [==============================] - 13s 42ms/step - loss: 0.3948 - accuracy: 0.8202 - val_loss: 0.4267 - val_accuracy: 0.8032\n",
      "Epoch 77/100\n",
      "313/313 [==============================] - 13s 43ms/step - loss: 0.3954 - accuracy: 0.8204 - val_loss: 0.4259 - val_accuracy: 0.8048\n",
      "Epoch 78/100\n",
      "313/313 [==============================] - 13s 43ms/step - loss: 0.3948 - accuracy: 0.8185 - val_loss: 0.4257 - val_accuracy: 0.8050\n",
      "Epoch 79/100\n",
      "313/313 [==============================] - 13s 43ms/step - loss: 0.3957 - accuracy: 0.8188 - val_loss: 0.4278 - val_accuracy: 0.8040\n",
      "Epoch 80/100\n",
      "313/313 [==============================] - 13s 43ms/step - loss: 0.3928 - accuracy: 0.8210 - val_loss: 0.4307 - val_accuracy: 0.8022\n",
      "Epoch 81/100\n",
      "313/313 [==============================] - 13s 43ms/step - loss: 0.3927 - accuracy: 0.8215 - val_loss: 0.4287 - val_accuracy: 0.8022\n",
      "Epoch 82/100\n",
      "313/313 [==============================] - 13s 43ms/step - loss: 0.3911 - accuracy: 0.8224 - val_loss: 0.4272 - val_accuracy: 0.8046\n"
     ]
    }
   ],
   "source": [
    "history = model3.fit(train_seq, y_train, epochs = 100, batch_size = 64,\n",
    "                   validation_data= (val_seq, y_val),\n",
    "                   callbacks = [checkpoint_cb, early_stopping_cb])"
   ]
  },
  {
   "cell_type": "code",
   "execution_count": 25,
   "id": "70c3cb67",
   "metadata": {},
   "outputs": [
    {
     "data": {
      "image/png": "[encoded data removed]",
      "text/plain": [
       "<Figure size 640x480 with 1 Axes>"
      ]
     },
     "metadata": {},
     "output_type": "display_data"
    }
   ],
   "source": [
    "plt.figure()\n",
    "\n",
    "plt.plot(history.history[\"loss\"], label = \"train_loss\")\n",
    "plt.plot(history.history[\"accuracy\"], label = \"train_acc\")\n",
    "plt.plot(history.history[\"val_loss\"], label = \"val_loss\")\n",
    "plt.plot(history.history[\"val_accuracy\"], label = \"val_acc\")\n",
    "\n",
    "\n",
    "plt.legend()\n",
    "plt.xlabel(\"epoch\")\n",
    "plt.show()"
   ]
  },
  {
   "cell_type": "markdown",
   "id": "dc23ec4e",
   "metadata": {},
   "source": [
    "# GRU(Grated Recurrent Unit) 구조\n",
    "\n",
    "<img src = \"./image/rnn_lstm_gru.png\">"
   ]
  },
  {
   "cell_type": "markdown",
   "id": "41fdccbf",
   "metadata": {},
   "source": [
    "- LSTM을 간소화한 버전\n",
    "- LSTM처럼 셀 상태를 계산하지 않고 은닉 상태 하나만 포함\n",
    "- LSTM보다 가중치가 적기 때문에 계산량이 적지만 성능은 LSTM과 유사함  \n",
    "    - 데이터 양이 적을 때는 GPU의 성능이 더 좋고 데이터 양이 많을 때는 LSTM의 성능이 더 좋아지는 경향이 있음 \n",
    "    - GRU와 LSTM 중 어떤 것이 낫다 라고 말할 수는 없음"
   ]
  },
  {
   "cell_type": "markdown",
   "id": "2838c126",
   "metadata": {},
   "source": [
    "<img src = \"./image/gru.png\">"
   ]
  },
  {
   "cell_type": "markdown",
   "id": "f1a5da5a",
   "metadata": {},
   "source": [
    "- GRU 셀이는 은닉 상태와 입력에 가중치를 곱하고 절편을 더하는 작은 셀 3개가 들어 있음\n",
    "    - 2개는 시그모이드 활성화 함수를 사용하고 하나는 tanh 활성화 함수를 사용\n",
    "    \n",
    "- reset_gate\n",
    "    - 셀의 출력이 은닉 상태에 바로 곱해져서 삭제 게이트 역할을 수행 \n",
    "    \n",
    "- update_gate \n",
    "    - 어떤 정보를 얼마만큼 유지하고 어떤 정보를 추가할지 결정하는 역할"
   ]
  },
  {
   "cell_type": "code",
   "execution_count": 5,
   "id": "43ae2097",
   "metadata": {},
   "outputs": [
    {
     "name": "stdout",
     "output_type": "stream",
     "text": [
      "WARNING:tensorflow:From C:\\ProgramData\\anaconda3\\Lib\\site-packages\\keras\\src\\backend.py:873: The name tf.get_default_graph is deprecated. Please use tf.compat.v1.get_default_graph instead.\n",
      "\n"
     ]
    }
   ],
   "source": [
    "model4 = keras.Sequential()\n",
    "model4.add(keras.layers.Embedding(500, 32, input_shape = (100,)))\n",
    "model4.add(keras.layers.GRU(8))\n",
    "model4.add(keras.layers.Dense(1, activation='sigmoid'))"
   ]
  },
  {
   "cell_type": "code",
   "execution_count": 6,
   "id": "ac2ff09e",
   "metadata": {},
   "outputs": [
    {
     "name": "stdout",
     "output_type": "stream",
     "text": [
      "Model: \"sequential\"\n",
      "_________________________________________________________________\n",
      " Layer (type)                Output Shape              Param #   \n",
      "=================================================================\n",
      " embedding (Embedding)       (None, 100, 32)           16000     \n",
      "                                                                 \n",
      " gru (GRU)                   (None, 8)                 1008      \n",
      "                                                                 \n",
      " dense (Dense)               (None, 1)                 9         \n",
      "                                                                 \n",
      "=================================================================\n",
      "Total params: 17017 (66.47 KB)\n",
      "Trainable params: 17017 (66.47 KB)\n",
      "Non-trainable params: 0 (0.00 Byte)\n",
      "_________________________________________________________________\n"
     ]
    }
   ],
   "source": [
    "model4.summary()"
   ]
  },
  {
   "cell_type": "code",
   "execution_count": 8,
   "id": "07d60f25",
   "metadata": {},
   "outputs": [
    {
     "data": {
      "text/plain": [
       "1008"
      ]
     },
     "execution_count": 8,
     "metadata": {},
     "output_type": "execute_result"
    }
   ],
   "source": [
    "((32 * 8) + (8 * 8) + 8 + 8) * 3"
   ]
  },
  {
   "cell_type": "markdown",
   "id": "6bb307c6",
   "metadata": {},
   "source": [
    "- '+ 8' 을 하는건 유닛수만큼 한 번 더 더해줘야함"
   ]
  },
  {
   "cell_type": "code",
   "execution_count": 9,
   "id": "9002523f",
   "metadata": {},
   "outputs": [],
   "source": [
    "rmsprop = keras.optimizers.RMSprop(learning_rate=1e-4)\n",
    "model4.compile(optimizer=rmsprop, loss = 'binary_crossentropy', metrics = ['accuracy'])\n",
    "checkpoint_cb = keras.callbacks.ModelCheckpoint(\"./model/best-gru-model.h5\",\n",
    "                                               save_best_only= True)\n",
    "early_stopping_cb = keras.callbacks.EarlyStopping(patience=4, restore_best_weights=True)"
   ]
  },
  {
   "cell_type": "code",
   "execution_count": 10,
   "id": "98a56519",
   "metadata": {},
   "outputs": [
    {
     "name": "stdout",
     "output_type": "stream",
     "text": [
      "Epoch 1/100\n",
      "WARNING:tensorflow:From C:\\ProgramData\\anaconda3\\Lib\\site-packages\\keras\\src\\utils\\tf_utils.py:492: The name tf.ragged.RaggedTensorValue is deprecated. Please use tf.compat.v1.ragged.RaggedTensorValue instead.\n",
      "\n",
      "WARNING:tensorflow:From C:\\ProgramData\\anaconda3\\Lib\\site-packages\\keras\\src\\engine\\base_layer_utils.py:384: The name tf.executing_eagerly_outside_functions is deprecated. Please use tf.compat.v1.executing_eagerly_outside_functions instead.\n",
      "\n",
      "313/313 [==============================] - 12s 29ms/step - loss: 0.6925 - accuracy: 0.5232 - val_loss: 0.6919 - val_accuracy: 0.5322\n",
      "Epoch 2/100\n",
      "  6/313 [..............................] - ETA: 7s - loss: 0.6914 - accuracy: 0.5521"
     ]
    },
    {
     "name": "stderr",
     "output_type": "stream",
     "text": [
      "C:\\ProgramData\\anaconda3\\Lib\\site-packages\\keras\\src\\engine\\training.py:3103: UserWarning: You are saving your model as an HDF5 file via `model.save()`. This file format is considered legacy. We recommend using instead the native Keras format, e.g. `model.save('my_model.keras')`.\n",
      "  saving_api.save_model(\n"
     ]
    },
    {
     "name": "stdout",
     "output_type": "stream",
     "text": [
      "313/313 [==============================] - 8s 25ms/step - loss: 0.6913 - accuracy: 0.5491 - val_loss: 0.6905 - val_accuracy: 0.5656\n",
      "Epoch 3/100\n",
      "313/313 [==============================] - 8s 26ms/step - loss: 0.6894 - accuracy: 0.5753 - val_loss: 0.6884 - val_accuracy: 0.5780\n",
      "Epoch 4/100\n",
      "313/313 [==============================] - 8s 26ms/step - loss: 0.6865 - accuracy: 0.5867 - val_loss: 0.6850 - val_accuracy: 0.5854\n",
      "Epoch 5/100\n",
      "313/313 [==============================] - 9s 28ms/step - loss: 0.6820 - accuracy: 0.5950 - val_loss: 0.6796 - val_accuracy: 0.5962\n",
      "Epoch 6/100\n",
      "313/313 [==============================] - 8s 27ms/step - loss: 0.6749 - accuracy: 0.6087 - val_loss: 0.6712 - val_accuracy: 0.6084\n",
      "Epoch 7/100\n",
      "313/313 [==============================] - 8s 26ms/step - loss: 0.6637 - accuracy: 0.6228 - val_loss: 0.6580 - val_accuracy: 0.6232\n",
      "Epoch 8/100\n",
      "313/313 [==============================] - 8s 26ms/step - loss: 0.6468 - accuracy: 0.6411 - val_loss: 0.6373 - val_accuracy: 0.6506\n",
      "Epoch 9/100\n",
      "313/313 [==============================] - 8s 26ms/step - loss: 0.6191 - accuracy: 0.6695 - val_loss: 0.6025 - val_accuracy: 0.6854\n",
      "Epoch 10/100\n",
      "313/313 [==============================] - 8s 26ms/step - loss: 0.5684 - accuracy: 0.7150 - val_loss: 0.5409 - val_accuracy: 0.7320\n",
      "Epoch 11/100\n",
      "313/313 [==============================] - 9s 28ms/step - loss: 0.5154 - accuracy: 0.7533 - val_loss: 0.5156 - val_accuracy: 0.7548\n",
      "Epoch 12/100\n",
      "313/313 [==============================] - 9s 27ms/step - loss: 0.4955 - accuracy: 0.7678 - val_loss: 0.5009 - val_accuracy: 0.7674\n",
      "Epoch 13/100\n",
      "313/313 [==============================] - 9s 28ms/step - loss: 0.4815 - accuracy: 0.7766 - val_loss: 0.4895 - val_accuracy: 0.7710\n",
      "Epoch 14/100\n",
      "313/313 [==============================] - 9s 27ms/step - loss: 0.4701 - accuracy: 0.7831 - val_loss: 0.4793 - val_accuracy: 0.7774\n",
      "Epoch 15/100\n",
      "313/313 [==============================] - 8s 27ms/step - loss: 0.4607 - accuracy: 0.7898 - val_loss: 0.4771 - val_accuracy: 0.7776\n",
      "Epoch 16/100\n",
      "313/313 [==============================] - 9s 28ms/step - loss: 0.4540 - accuracy: 0.7933 - val_loss: 0.4646 - val_accuracy: 0.7874\n",
      "Epoch 17/100\n",
      "313/313 [==============================] - 9s 27ms/step - loss: 0.4473 - accuracy: 0.7970 - val_loss: 0.4622 - val_accuracy: 0.7890\n",
      "Epoch 18/100\n",
      "313/313 [==============================] - 8s 26ms/step - loss: 0.4428 - accuracy: 0.8001 - val_loss: 0.4582 - val_accuracy: 0.7914\n",
      "Epoch 19/100\n",
      "313/313 [==============================] - 8s 27ms/step - loss: 0.4390 - accuracy: 0.8030 - val_loss: 0.4551 - val_accuracy: 0.7958\n",
      "Epoch 20/100\n",
      "313/313 [==============================] - 9s 27ms/step - loss: 0.4356 - accuracy: 0.8051 - val_loss: 0.4528 - val_accuracy: 0.7924\n",
      "Epoch 21/100\n",
      "313/313 [==============================] - 8s 27ms/step - loss: 0.4327 - accuracy: 0.8059 - val_loss: 0.4515 - val_accuracy: 0.7964\n",
      "Epoch 22/100\n",
      "313/313 [==============================] - 9s 28ms/step - loss: 0.4301 - accuracy: 0.8068 - val_loss: 0.4484 - val_accuracy: 0.7978\n",
      "Epoch 23/100\n",
      "313/313 [==============================] - 9s 27ms/step - loss: 0.4284 - accuracy: 0.8102 - val_loss: 0.4473 - val_accuracy: 0.7976\n",
      "Epoch 24/100\n",
      "313/313 [==============================] - 9s 28ms/step - loss: 0.4267 - accuracy: 0.8094 - val_loss: 0.4457 - val_accuracy: 0.7984\n",
      "Epoch 25/100\n",
      "313/313 [==============================] - 9s 28ms/step - loss: 0.4253 - accuracy: 0.8101 - val_loss: 0.4446 - val_accuracy: 0.8004\n",
      "Epoch 26/100\n",
      "313/313 [==============================] - 8s 27ms/step - loss: 0.4241 - accuracy: 0.8113 - val_loss: 0.4434 - val_accuracy: 0.7998\n",
      "Epoch 27/100\n",
      "313/313 [==============================] - 9s 27ms/step - loss: 0.4229 - accuracy: 0.8116 - val_loss: 0.4509 - val_accuracy: 0.7924\n",
      "Epoch 28/100\n",
      "313/313 [==============================] - 8s 27ms/step - loss: 0.4216 - accuracy: 0.8113 - val_loss: 0.4435 - val_accuracy: 0.8026\n",
      "Epoch 29/100\n",
      "313/313 [==============================] - 9s 27ms/step - loss: 0.4208 - accuracy: 0.8123 - val_loss: 0.4426 - val_accuracy: 0.8000\n",
      "Epoch 30/100\n",
      "313/313 [==============================] - 8s 26ms/step - loss: 0.4197 - accuracy: 0.8134 - val_loss: 0.4430 - val_accuracy: 0.8016\n",
      "Epoch 31/100\n",
      "313/313 [==============================] - 9s 28ms/step - loss: 0.4193 - accuracy: 0.8128 - val_loss: 0.4419 - val_accuracy: 0.8010\n",
      "Epoch 32/100\n",
      "313/313 [==============================] - 9s 28ms/step - loss: 0.4179 - accuracy: 0.8131 - val_loss: 0.4400 - val_accuracy: 0.8026\n",
      "Epoch 33/100\n",
      "313/313 [==============================] - 8s 27ms/step - loss: 0.4179 - accuracy: 0.8144 - val_loss: 0.4405 - val_accuracy: 0.8038\n",
      "Epoch 34/100\n",
      "313/313 [==============================] - 9s 28ms/step - loss: 0.4167 - accuracy: 0.8130 - val_loss: 0.4399 - val_accuracy: 0.8028\n",
      "Epoch 35/100\n",
      "313/313 [==============================] - 8s 26ms/step - loss: 0.4163 - accuracy: 0.8137 - val_loss: 0.4396 - val_accuracy: 0.8024\n",
      "Epoch 36/100\n",
      "313/313 [==============================] - 9s 29ms/step - loss: 0.4153 - accuracy: 0.8148 - val_loss: 0.4392 - val_accuracy: 0.8024\n",
      "Epoch 37/100\n",
      "313/313 [==============================] - 9s 29ms/step - loss: 0.4147 - accuracy: 0.8142 - val_loss: 0.4395 - val_accuracy: 0.8022\n",
      "Epoch 38/100\n",
      "313/313 [==============================] - 9s 28ms/step - loss: 0.4142 - accuracy: 0.8139 - val_loss: 0.4397 - val_accuracy: 0.7994\n",
      "Epoch 39/100\n",
      "313/313 [==============================] - 9s 27ms/step - loss: 0.4141 - accuracy: 0.8148 - val_loss: 0.4406 - val_accuracy: 0.7984\n",
      "Epoch 40/100\n",
      "313/313 [==============================] - 9s 28ms/step - loss: 0.4134 - accuracy: 0.8140 - val_loss: 0.4366 - val_accuracy: 0.8038\n",
      "Epoch 41/100\n",
      "313/313 [==============================] - 9s 27ms/step - loss: 0.4126 - accuracy: 0.8146 - val_loss: 0.4371 - val_accuracy: 0.7998\n",
      "Epoch 42/100\n",
      "313/313 [==============================] - 8s 27ms/step - loss: 0.4126 - accuracy: 0.8150 - val_loss: 0.4362 - val_accuracy: 0.8010\n",
      "Epoch 43/100\n",
      "313/313 [==============================] - 9s 28ms/step - loss: 0.4117 - accuracy: 0.8156 - val_loss: 0.4365 - val_accuracy: 0.7998\n",
      "Epoch 44/100\n",
      "313/313 [==============================] - 9s 28ms/step - loss: 0.4113 - accuracy: 0.8146 - val_loss: 0.4392 - val_accuracy: 0.7968\n",
      "Epoch 45/100\n",
      "313/313 [==============================] - 8s 27ms/step - loss: 0.4108 - accuracy: 0.8164 - val_loss: 0.4443 - val_accuracy: 0.7930\n",
      "Epoch 46/100\n",
      "313/313 [==============================] - 8s 26ms/step - loss: 0.4107 - accuracy: 0.8156 - val_loss: 0.4363 - val_accuracy: 0.7996\n"
     ]
    }
   ],
   "source": [
    "history = model4.fit(train_seq, y_train, epochs = 100, batch_size = 64,\n",
    "                   validation_data= (val_seq, y_val),\n",
    "                   callbacks = [checkpoint_cb, early_stopping_cb])"
   ]
  },
  {
   "cell_type": "code",
   "execution_count": 11,
   "id": "0f8509d8",
   "metadata": {},
   "outputs": [
    {
     "data": {
      "image/png": "[encoded data removed]",
      "text/plain": [
       "<Figure size 640x480 with 1 Axes>"
      ]
     },
     "metadata": {},
     "output_type": "display_data"
    }
   ],
   "source": [
    "plt.figure()\n",
    "\n",
    "plt.plot(history.history[\"loss\"], label = \"train_loss\")\n",
    "plt.plot(history.history[\"accuracy\"], label = \"train_acc\")\n",
    "plt.plot(history.history[\"val_loss\"], label = \"val_loss\")\n",
    "plt.plot(history.history[\"val_accuracy\"], label = \"val_acc\")\n",
    "\n",
    "\n",
    "plt.legend()\n",
    "plt.xlabel(\"epoch\")\n",
    "plt.show()"
   ]
  },
  {
   "cell_type": "markdown",
   "id": "09e63a42",
   "metadata": {},
   "source": [
    "# best model 검증"
   ]
  },
  {
   "cell_type": "code",
   "execution_count": 12,
   "id": "b42307ea",
   "metadata": {},
   "outputs": [
    {
     "name": "stdout",
     "output_type": "stream",
     "text": [
      "782/782 [==============================] - 5s 5ms/step - loss: 0.4216 - accuracy: 0.8065\n"
     ]
    },
    {
     "data": {
      "text/plain": [
       "[0.4215927720069885, 0.8065199851989746]"
      ]
     },
     "execution_count": 12,
     "metadata": {},
     "output_type": "execute_result"
    }
   ],
   "source": [
    "test_seq = pad_sequences(x_test, maxlen = 100)\n",
    "rnn_model = keras.models.load_model(\"./model/best-dropout-model.h5\")\n",
    "rnn_model.evaluate(test_seq, y_test)"
   ]
  },
  {
   "cell_type": "code",
   "execution_count": null,
   "id": "bf7a3964",
   "metadata": {},
   "outputs": [],
   "source": []
  }
 ],
 "metadata": {
  "kernelspec": {
   "display_name": "Python 3 (ipykernel)",
   "language": "python",
   "name": "python3"
  },
  "language_info": {
   "codemirror_mode": {
    "name": "ipython",
    "version": 3
   },
   "file_extension": ".py",
   "mimetype": "text/x-python",
   "name": "python",
   "nbconvert_exporter": "python",
   "pygments_lexer": "ipython3",
   "version": "3.11.5"
  }
 },
 "nbformat": 4,
 "nbformat_minor": 5
}
