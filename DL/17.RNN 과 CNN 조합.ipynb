{
 "cells": [
  {
   "cell_type": "code",
   "execution_count": 1,
   "id": "f4326d79",
   "metadata": {},
   "outputs": [],
   "source": [
    "from tensorflow.keras.datasets import imdb\n",
    "from tensorflow.keras.preprocessing.sequence import pad_sequences\n",
    "from tensorflow import keras\n",
    "from sklearn.model_selection import train_test_split\n",
    "import numpy as np\n",
    "import matplotlib.pyplot as plt"
   ]
  },
  {
   "cell_type": "markdown",
   "id": "9e27f0a0",
   "metadata": {},
   "source": [
    "# 데이터 준비 "
   ]
  },
  {
   "cell_type": "code",
   "execution_count": 2,
   "id": "80f7b914",
   "metadata": {},
   "outputs": [],
   "source": [
    "(x_train, y_train), (x_test, y_test) = imdb.load_data(num_words = 5000)"
   ]
  },
  {
   "cell_type": "code",
   "execution_count": 3,
   "id": "64bb922c",
   "metadata": {},
   "outputs": [],
   "source": [
    "x_train, x_val, y_train, y_val = train_test_split(x_train, y_train, test_size = 0.2,\n",
    "                                                 random_state = 12)"
   ]
  },
  {
   "cell_type": "code",
   "execution_count": 12,
   "id": "4c92abdc",
   "metadata": {},
   "outputs": [],
   "source": [
    "train_seq = pad_sequences(x_train, maxlen = 100)\n",
    "val_seq = pad_sequences(x_val, maxlen = 100)\n",
    "test_seq = pad_sequences(x_test, maxlen = 100)"
   ]
  },
  {
   "cell_type": "markdown",
   "id": "d2bbe29b",
   "metadata": {},
   "source": [
    "# 모델 구성"
   ]
  },
  {
   "cell_type": "code",
   "execution_count": 13,
   "id": "42e002e1",
   "metadata": {},
   "outputs": [
    {
     "data": {
      "text/plain": [
       "(20000, 100)"
      ]
     },
     "execution_count": 13,
     "metadata": {},
     "output_type": "execute_result"
    }
   ],
   "source": [
    "train_seq.shape"
   ]
  },
  {
   "cell_type": "code",
   "execution_count": 14,
   "id": "092fad96",
   "metadata": {},
   "outputs": [],
   "source": [
    "model = keras.Sequential()\n",
    "model.add(keras.layers.Embedding(5000, 100, input_shape = (100,)))\n",
    "model.add(keras.layers.Dropout(0.5)) # 밥에 소금, 후추 뿌리는 개념 \n",
    "model.add(keras.layers.Conv1D(64, 5, activation=\"relu\"))\n",
    "model.add(keras.layers.MaxPool1D(4))\n",
    "model.add(keras.layers.LSTM(55))\n",
    "model.add(keras.layers.Dense(1, activation=\"sigmoid\"))"
   ]
  },
  {
   "cell_type": "code",
   "execution_count": 15,
   "id": "a8768a01",
   "metadata": {},
   "outputs": [
    {
     "name": "stdout",
     "output_type": "stream",
     "text": [
      "Model: \"sequential_1\"\n",
      "_________________________________________________________________\n",
      " Layer (type)                Output Shape              Param #   \n",
      "=================================================================\n",
      " embedding_1 (Embedding)     (None, 100, 100)          500000    \n",
      "                                                                 \n",
      " dropout_1 (Dropout)         (None, 100, 100)          0         \n",
      "                                                                 \n",
      " conv1d_1 (Conv1D)           (None, 96, 64)            32064     \n",
      "                                                                 \n",
      " max_pooling1d_1 (MaxPoolin  (None, 24, 64)            0         \n",
      " g1D)                                                            \n",
      "                                                                 \n",
      " lstm_1 (LSTM)               (None, 55)                26400     \n",
      "                                                                 \n",
      " dense_1 (Dense)             (None, 1)                 56        \n",
      "                                                                 \n",
      "=================================================================\n",
      "Total params: 558520 (2.13 MB)\n",
      "Trainable params: 558520 (2.13 MB)\n",
      "Non-trainable params: 0 (0.00 Byte)\n",
      "_________________________________________________________________\n"
     ]
    }
   ],
   "source": [
    "model.summary()"
   ]
  },
  {
   "cell_type": "code",
   "execution_count": 16,
   "id": "3e83ac20",
   "metadata": {},
   "outputs": [],
   "source": [
    "model.compile(loss = \"binary_crossentropy\", optimizer = \"adam\", metrics = [\"accuracy\"])\n",
    "early_stopping_cb = keras.callbacks.EarlyStopping(patience=4, restore_best_weights=True)\n",
    "checkpoint_cb = keras.callbacks.ModelCheckpoint(\"./model/model-cnnrnn-codel.h5\",\n",
    "                                                save_best_only= True)"
   ]
  },
  {
   "cell_type": "code",
   "execution_count": 17,
   "id": "2560674b",
   "metadata": {},
   "outputs": [
    {
     "name": "stdout",
     "output_type": "stream",
     "text": [
      "Epoch 1/50\n",
      "157/157 [==============================] - 8s 37ms/step - loss: 0.4938 - accuracy: 0.7476 - val_loss: 0.3611 - val_accuracy: 0.8438\n",
      "Epoch 2/50\n",
      "  3/157 [..............................] - ETA: 6s - loss: 0.3248 - accuracy: 0.8516"
     ]
    },
    {
     "name": "stderr",
     "output_type": "stream",
     "text": [
      "C:\\ProgramData\\anaconda3\\Lib\\site-packages\\keras\\src\\engine\\training.py:3103: UserWarning: You are saving your model as an HDF5 file via `model.save()`. This file format is considered legacy. We recommend using instead the native Keras format, e.g. `model.save('my_model.keras')`.\n",
      "  saving_api.save_model(\n"
     ]
    },
    {
     "name": "stdout",
     "output_type": "stream",
     "text": [
      "157/157 [==============================] - 5s 34ms/step - loss: 0.3077 - accuracy: 0.8696 - val_loss: 0.3442 - val_accuracy: 0.8484\n",
      "Epoch 3/50\n",
      "157/157 [==============================] - 5s 32ms/step - loss: 0.2551 - accuracy: 0.8965 - val_loss: 0.3441 - val_accuracy: 0.8544\n",
      "Epoch 4/50\n",
      "157/157 [==============================] - 5s 32ms/step - loss: 0.2258 - accuracy: 0.9103 - val_loss: 0.3435 - val_accuracy: 0.8520\n",
      "Epoch 5/50\n",
      "157/157 [==============================] - 5s 32ms/step - loss: 0.1880 - accuracy: 0.9283 - val_loss: 0.3706 - val_accuracy: 0.8530\n",
      "Epoch 6/50\n",
      "157/157 [==============================] - 5s 32ms/step - loss: 0.1641 - accuracy: 0.9388 - val_loss: 0.3827 - val_accuracy: 0.8486\n",
      "Epoch 7/50\n",
      "157/157 [==============================] - 5s 32ms/step - loss: 0.1331 - accuracy: 0.9524 - val_loss: 0.4290 - val_accuracy: 0.8428\n",
      "Epoch 8/50\n",
      "157/157 [==============================] - 5s 32ms/step - loss: 0.1131 - accuracy: 0.9592 - val_loss: 0.4859 - val_accuracy: 0.8422\n"
     ]
    }
   ],
   "source": [
    "history = model.fit(train_seq, y_train, batch_size = 128, epochs = 50,\n",
    "                   validation_data= (val_seq, y_val),\n",
    "                   callbacks= [checkpoint_cb, early_stopping_cb])"
   ]
  },
  {
   "cell_type": "code",
   "execution_count": 18,
   "id": "406761d3",
   "metadata": {},
   "outputs": [
    {
     "name": "stdout",
     "output_type": "stream",
     "text": [
      "782/782 [==============================] - 4s 5ms/step - loss: 0.3431 - accuracy: 0.8512\n"
     ]
    },
    {
     "data": {
      "text/plain": [
       "[0.3431141674518585, 0.8512399792671204]"
      ]
     },
     "execution_count": 18,
     "metadata": {},
     "output_type": "execute_result"
    }
   ],
   "source": [
    "model.evaluate(test_seq, y_test)"
   ]
  },
  {
   "cell_type": "code",
   "execution_count": 19,
   "id": "01f89080",
   "metadata": {},
   "outputs": [
    {
     "data": {
      "image/png": "[encoded data removed]",
      "text/plain": [
       "<Figure size 640x480 with 1 Axes>"
      ]
     },
     "metadata": {},
     "output_type": "display_data"
    }
   ],
   "source": [
    "plt.figure()\n",
    "\n",
    "plt.plot(history.history[\"loss\"], label = \"train_loss\")\n",
    "plt.plot(history.history[\"accuracy\"], label = \"train_acc\")\n",
    "plt.plot(history.history[\"val_loss\"], label = \"val_loss\")\n",
    "plt.plot(history.history[\"val_accuracy\"], label = \"val_acc\")\n",
    "\n",
    "\n",
    "plt.legend()\n",
    "plt.xlabel(\"epoch\")\n",
    "plt.show()"
   ]
  },
  {
   "cell_type": "code",
   "execution_count": null,
   "id": "8a78e083",
   "metadata": {},
   "outputs": [],
   "source": []
  }
 ],
 "metadata": {
  "kernelspec": {
   "display_name": "Python 3 (ipykernel)",
   "language": "python",
   "name": "python3"
  },
  "language_info": {
   "codemirror_mode": {
    "name": "ipython",
    "version": 3
   },
   "file_extension": ".py",
   "mimetype": "text/x-python",
   "name": "python",
   "nbconvert_exporter": "python",
   "pygments_lexer": "ipython3",
   "version": "3.11.5"
  }
 },
 "nbformat": 4,
 "nbformat_minor": 5
}
