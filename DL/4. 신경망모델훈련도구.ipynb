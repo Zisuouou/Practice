{
 "cells": [
  {
   "cell_type": "markdown",
   "id": "4f44869e",
   "metadata": {},
   "source": [
    "- 머신러닝 알고리즘은 모델의 구조가 어느 정도 고정되어 있음\n",
    "    - 좋은 성능을 내기 위해서는 매개변수를 조정하고 훈련하는 과정을 반복\n",
    "- 딥러닝은 구조를 직접 설계해야함\n",
    "    - 좋은 성능을 내기 위해 다룰 수 있는 다양한 개념과 도구들을 이해할 필요가 있음"
   ]
  },
  {
   "cell_type": "markdown",
   "id": "cbeccc4c",
   "metadata": {},
   "source": [
    "# 손실 곡선\n",
    "\n",
    "- 케라스의 fit() 메서드는 History 클래스의 객체를 반환\n",
    "    - History 객체 : 훈련 과정에서 계산한 지표(손실과 정확도값)가 저장되어 있음\n",
    "    - 이 값을 사용하여 그래프를 그려서 훈련 성과를 확인"
   ]
  },
  {
   "cell_type": "code",
   "execution_count": 2,
   "id": "11419f4f",
   "metadata": {},
   "outputs": [],
   "source": [
    "from tensorflow import keras\n",
    "from sklearn.model_selection import train_test_split\n",
    "import matplotlib.pyplot as plt\n",
    "import numpy as np"
   ]
  },
  {
   "cell_type": "code",
   "execution_count": 3,
   "id": "c2b52432",
   "metadata": {},
   "outputs": [],
   "source": [
    "(x_train, y_train), (x_test, y_test) = keras.datasets.fashion_mnist.load_data()"
   ]
  },
  {
   "cell_type": "code",
   "execution_count": 4,
   "id": "4a851bcc",
   "metadata": {},
   "outputs": [],
   "source": [
    "scaled_train = x_train / 255\n",
    "scaled_train, scaled_val, y_train, y_val = train_test_split(scaled_train, y_train,\n",
    "                                                            test_size = 0.2,\n",
    "                                                            random_state = 12)"
   ]
  },
  {
   "cell_type": "code",
   "execution_count": 5,
   "id": "f8254797",
   "metadata": {},
   "outputs": [],
   "source": [
    "# 모델 정의\n",
    "def model_fn(a_layer = None):\n",
    "    model = keras.Sequential()\n",
    "    model.add(keras.layers.Flatten(input_shape = (28, 28)))\n",
    "    model.add(keras.layers.Dense(100, activation = \"relu\"))\n",
    "    \n",
    "    if a_layer:\n",
    "        model.add(a_layer)\n",
    "        \n",
    "    model.add(keras.layers.Dense(10, activation = \"softmax\"))\n",
    "    \n",
    "    return model"
   ]
  },
  {
   "cell_type": "code",
   "execution_count": 6,
   "id": "972cce53",
   "metadata": {},
   "outputs": [
    {
     "name": "stdout",
     "output_type": "stream",
     "text": [
      "WARNING:tensorflow:From C:\\ProgramData\\anaconda3\\Lib\\site-packages\\keras\\src\\backend.py:873: The name tf.get_default_graph is deprecated. Please use tf.compat.v1.get_default_graph instead.\n",
      "\n",
      "Model: \"sequential\"\n",
      "_________________________________________________________________\n",
      " Layer (type)                Output Shape              Param #   \n",
      "=================================================================\n",
      " flatten (Flatten)           (None, 784)               0         \n",
      "                                                                 \n",
      " dense (Dense)               (None, 100)               78500     \n",
      "                                                                 \n",
      " dense_1 (Dense)             (None, 10)                1010      \n",
      "                                                                 \n",
      "=================================================================\n",
      "Total params: 79510 (310.59 KB)\n",
      "Trainable params: 79510 (310.59 KB)\n",
      "Non-trainable params: 0 (0.00 Byte)\n",
      "_________________________________________________________________\n"
     ]
    }
   ],
   "source": [
    "model = model_fn()\n",
    "model.summary()"
   ]
  },
  {
   "cell_type": "code",
   "execution_count": 7,
   "id": "dd0f3805",
   "metadata": {},
   "outputs": [
    {
     "name": "stdout",
     "output_type": "stream",
     "text": [
      "WARNING:tensorflow:From C:\\ProgramData\\anaconda3\\Lib\\site-packages\\keras\\src\\optimizers\\__init__.py:309: The name tf.train.Optimizer is deprecated. Please use tf.compat.v1.train.Optimizer instead.\n",
      "\n"
     ]
    }
   ],
   "source": [
    "model.compile(loss = \"sparse_categorical_crossentropy\", metrics = \"accuracy\")"
   ]
  },
  {
   "cell_type": "code",
   "execution_count": 8,
   "id": "9d10caa9",
   "metadata": {},
   "outputs": [
    {
     "name": "stdout",
     "output_type": "stream",
     "text": [
      "Epoch 1/5\n",
      "WARNING:tensorflow:From C:\\ProgramData\\anaconda3\\Lib\\site-packages\\keras\\src\\utils\\tf_utils.py:492: The name tf.ragged.RaggedTensorValue is deprecated. Please use tf.compat.v1.ragged.RaggedTensorValue instead.\n",
      "\n",
      "WARNING:tensorflow:From C:\\ProgramData\\anaconda3\\Lib\\site-packages\\keras\\src\\engine\\base_layer_utils.py:384: The name tf.executing_eagerly_outside_functions is deprecated. Please use tf.compat.v1.executing_eagerly_outside_functions instead.\n",
      "\n",
      "1500/1500 [==============================] - 3s 2ms/step - loss: 0.5406 - accuracy: 0.8108\n",
      "Epoch 2/5\n",
      "1500/1500 [==============================] - 3s 2ms/step - loss: 0.3953 - accuracy: 0.8589\n",
      "Epoch 3/5\n",
      "1500/1500 [==============================] - 3s 2ms/step - loss: 0.3575 - accuracy: 0.8723\n",
      "Epoch 4/5\n",
      "1500/1500 [==============================] - 3s 2ms/step - loss: 0.3357 - accuracy: 0.8780\n",
      "Epoch 5/5\n",
      "1500/1500 [==============================] - 3s 2ms/step - loss: 0.3216 - accuracy: 0.8839\n"
     ]
    }
   ],
   "source": [
    "history = model.fit(scaled_train, y_train, epochs = 5, verbose = 1)"
   ]
  },
  {
   "cell_type": "markdown",
   "id": "dd91affb",
   "metadata": {},
   "source": [
    "- verbose\n",
    "    - 훈련 과정 출력을 조정\n",
    "    - 0 : 훈련 과정 출력 안함\n",
    "    - 1 : 에포크마다 진행 막대와 함께 지표 출력\n",
    "    - 2 : 진행 막대를 빼고 출력"
   ]
  },
  {
   "cell_type": "code",
   "execution_count": 9,
   "id": "a767e987",
   "metadata": {},
   "outputs": [
    {
     "name": "stdout",
     "output_type": "stream",
     "text": [
      "dict_keys(['loss', 'accuracy'])\n"
     ]
    }
   ],
   "source": [
    "# history 객체 확인\n",
    "print(history.history.keys())"
   ]
  },
  {
   "cell_type": "markdown",
   "id": "af32e010",
   "metadata": {},
   "source": [
    "- 기본적으로 손실을 계산하고 compile 에서 accuracy 를 추가하여서 loss 와 accuracy 가 포함됨"
   ]
  },
  {
   "cell_type": "code",
   "execution_count": 11,
   "id": "ea8b2c07",
   "metadata": {},
   "outputs": [
    {
     "data": {
      "text/plain": [
       "{'loss': [0.5405623912811279,\n",
       "  0.3952702283859253,\n",
       "  0.3575078845024109,\n",
       "  0.33569493889808655,\n",
       "  0.3215692639350891],\n",
       " 'accuracy': [0.8107500076293945,\n",
       "  0.8589166402816772,\n",
       "  0.8722500205039978,\n",
       "  0.878041684627533,\n",
       "  0.8838541507720947]}"
      ]
     },
     "execution_count": 11,
     "metadata": {},
     "output_type": "execute_result"
    }
   ],
   "source": [
    "history.history"
   ]
  },
  {
   "cell_type": "code",
   "execution_count": 10,
   "id": "613a4e44",
   "metadata": {},
   "outputs": [
    {
     "data": {
      "image/png": "[encoded data removed]",
      "text/plain": [
       "<Figure size 640x480 with 1 Axes>"
      ]
     },
     "metadata": {},
     "output_type": "display_data"
    }
   ],
   "source": [
    "plt.figure()\n",
    "\n",
    "plt.plot(history.history[\"loss\"])\n",
    "\n",
    "plt.xlabel(\"epoch\")\n",
    "plt.ylabel(\"loss\")\n",
    "plt.show()"
   ]
  },
  {
   "cell_type": "code",
   "execution_count": 12,
   "id": "e7ba751e",
   "metadata": {},
   "outputs": [
    {
     "data": {
      "image/png": "[encoded data removed]",
      "text/plain": [
       "<Figure size 640x480 with 1 Axes>"
      ]
     },
     "metadata": {},
     "output_type": "display_data"
    }
   ],
   "source": [
    "plt.figure()\n",
    "\n",
    "plt.plot(history.history[\"accuracy\"])\n",
    "\n",
    "plt.xlabel(\"epoch\")\n",
    "plt.ylabel(\"accuracy\")\n",
    "plt.show()"
   ]
  },
  {
   "cell_type": "code",
   "execution_count": 14,
   "id": "d2745123",
   "metadata": {},
   "outputs": [
    {
     "name": "stdout",
     "output_type": "stream",
     "text": [
      "Epoch 1/20\n",
      "1500/1500 [==============================] - 3s 2ms/step - loss: 0.5356 - accuracy: 0.8121\n",
      "Epoch 2/20\n",
      "1500/1500 [==============================] - 3s 2ms/step - loss: 0.3950 - accuracy: 0.8566\n",
      "Epoch 3/20\n",
      "1500/1500 [==============================] - 2s 2ms/step - loss: 0.3577 - accuracy: 0.8725\n",
      "Epoch 4/20\n",
      "1500/1500 [==============================] - 2s 2ms/step - loss: 0.3352 - accuracy: 0.8796\n",
      "Epoch 5/20\n",
      "1500/1500 [==============================] - 2s 2ms/step - loss: 0.3198 - accuracy: 0.8850\n",
      "Epoch 6/20\n",
      "1500/1500 [==============================] - 2s 2ms/step - loss: 0.3097 - accuracy: 0.8894\n",
      "Epoch 7/20\n",
      "1500/1500 [==============================] - 2s 2ms/step - loss: 0.3023 - accuracy: 0.8915\n",
      "Epoch 8/20\n",
      "1500/1500 [==============================] - 2s 2ms/step - loss: 0.2930 - accuracy: 0.8958\n",
      "Epoch 9/20\n",
      "1500/1500 [==============================] - 2s 2ms/step - loss: 0.2835 - accuracy: 0.8990\n",
      "Epoch 10/20\n",
      "1500/1500 [==============================] - 2s 2ms/step - loss: 0.2776 - accuracy: 0.9014\n",
      "Epoch 11/20\n",
      "1500/1500 [==============================] - 3s 2ms/step - loss: 0.2679 - accuracy: 0.9043\n",
      "Epoch 12/20\n",
      "1500/1500 [==============================] - 2s 2ms/step - loss: 0.2647 - accuracy: 0.9061\n",
      "Epoch 13/20\n",
      "1500/1500 [==============================] - 2s 2ms/step - loss: 0.2568 - accuracy: 0.9093\n",
      "Epoch 14/20\n",
      "1500/1500 [==============================] - 2s 2ms/step - loss: 0.2522 - accuracy: 0.9106\n",
      "Epoch 15/20\n",
      "1500/1500 [==============================] - 2s 2ms/step - loss: 0.2503 - accuracy: 0.9133\n",
      "Epoch 16/20\n",
      "1500/1500 [==============================] - 2s 2ms/step - loss: 0.2443 - accuracy: 0.9151\n",
      "Epoch 17/20\n",
      "1500/1500 [==============================] - 3s 2ms/step - loss: 0.2389 - accuracy: 0.9158\n",
      "Epoch 18/20\n",
      "1500/1500 [==============================] - 3s 2ms/step - loss: 0.2352 - accuracy: 0.9178\n",
      "Epoch 19/20\n",
      "1500/1500 [==============================] - 3s 2ms/step - loss: 0.2333 - accuracy: 0.9197\n",
      "Epoch 20/20\n",
      "1500/1500 [==============================] - 3s 2ms/step - loss: 0.2293 - accuracy: 0.9209\n"
     ]
    }
   ],
   "source": [
    "# epoch를 20으로 늘려서 그래프 확인\n",
    "model = model_fn()\n",
    "model.compile(loss = \"sparse_categorical_crossentropy\", metrics = \"accuracy\")\n",
    "history = model.fit(scaled_train, y_train, epochs = 20)"
   ]
  },
  {
   "cell_type": "code",
   "execution_count": 15,
   "id": "757595d4",
   "metadata": {},
   "outputs": [
    {
     "data": {
      "image/png": "[encoded data removed]",
      "text/plain": [
       "<Figure size 640x480 with 1 Axes>"
      ]
     },
     "metadata": {},
     "output_type": "display_data"
    }
   ],
   "source": [
    "plt.figure()\n",
    "\n",
    "plt.plot(history.history[\"loss\"], label = \"loss\")\n",
    "plt.plot(history.history[\"accuracy\"], label = \"acc\")\n",
    "\n",
    "plt.legend()\n",
    "plt.xlabel(\"epoch\")\n",
    "plt.show()"
   ]
  },
  {
   "cell_type": "markdown",
   "id": "0cb738e2",
   "metadata": {},
   "source": [
    "# 검증 손실\n",
    "\n",
    "- 에포크에 따른 과대적합과 과소적합을 파악하려면 검증 세트에 대한 점수도 확인해야함\n",
    "- 케라스에서는 fit() 메서드에 검증 데이터를 전달할 수 있음"
   ]
  },
  {
   "cell_type": "code",
   "execution_count": 18,
   "id": "251934cb",
   "metadata": {
    "scrolled": true
   },
   "outputs": [
    {
     "name": "stdout",
     "output_type": "stream",
     "text": [
      "Epoch 1/20\n",
      "1500/1500 [==============================] - 3s 2ms/step - loss: 0.5357 - accuracy: 0.8130 - val_loss: 0.3934 - val_accuracy: 0.8613\n",
      "Epoch 2/20\n",
      "1500/1500 [==============================] - 3s 2ms/step - loss: 0.3955 - accuracy: 0.8591 - val_loss: 0.3706 - val_accuracy: 0.8696\n",
      "Epoch 3/20\n",
      "1500/1500 [==============================] - 3s 2ms/step - loss: 0.3583 - accuracy: 0.8703 - val_loss: 0.3683 - val_accuracy: 0.8692\n",
      "Epoch 4/20\n",
      "1500/1500 [==============================] - 3s 2ms/step - loss: 0.3353 - accuracy: 0.8796 - val_loss: 0.3661 - val_accuracy: 0.8720\n",
      "Epoch 5/20\n",
      "1500/1500 [==============================] - 3s 2ms/step - loss: 0.3206 - accuracy: 0.8852 - val_loss: 0.3603 - val_accuracy: 0.8784\n",
      "Epoch 6/20\n",
      "1500/1500 [==============================] - 3s 2ms/step - loss: 0.3096 - accuracy: 0.8894 - val_loss: 0.3534 - val_accuracy: 0.8796\n",
      "Epoch 7/20\n",
      "1500/1500 [==============================] - 3s 2ms/step - loss: 0.2994 - accuracy: 0.8938 - val_loss: 0.3646 - val_accuracy: 0.8790\n",
      "Epoch 8/20\n",
      "1500/1500 [==============================] - 3s 2ms/step - loss: 0.2911 - accuracy: 0.8956 - val_loss: 0.3474 - val_accuracy: 0.8882\n",
      "Epoch 9/20\n",
      "1500/1500 [==============================] - 3s 2ms/step - loss: 0.2829 - accuracy: 0.8991 - val_loss: 0.3747 - val_accuracy: 0.8813\n",
      "Epoch 10/20\n",
      "1500/1500 [==============================] - 3s 2ms/step - loss: 0.2760 - accuracy: 0.9022 - val_loss: 0.3532 - val_accuracy: 0.8902\n",
      "Epoch 11/20\n",
      "1500/1500 [==============================] - 3s 2ms/step - loss: 0.2694 - accuracy: 0.9055 - val_loss: 0.3732 - val_accuracy: 0.8904\n",
      "Epoch 12/20\n",
      "1500/1500 [==============================] - 3s 2ms/step - loss: 0.2642 - accuracy: 0.9057 - val_loss: 0.3801 - val_accuracy: 0.8859\n",
      "Epoch 13/20\n",
      "1500/1500 [==============================] - 3s 2ms/step - loss: 0.2582 - accuracy: 0.9094 - val_loss: 0.4130 - val_accuracy: 0.8781\n",
      "Epoch 14/20\n",
      "1500/1500 [==============================] - 3s 2ms/step - loss: 0.2563 - accuracy: 0.9109 - val_loss: 0.4267 - val_accuracy: 0.8763\n",
      "Epoch 15/20\n",
      "1500/1500 [==============================] - 3s 2ms/step - loss: 0.2512 - accuracy: 0.9123 - val_loss: 0.3758 - val_accuracy: 0.8849\n",
      "Epoch 16/20\n",
      "1500/1500 [==============================] - 3s 2ms/step - loss: 0.2426 - accuracy: 0.9143 - val_loss: 0.4106 - val_accuracy: 0.8861\n",
      "Epoch 17/20\n",
      "1500/1500 [==============================] - 3s 2ms/step - loss: 0.2408 - accuracy: 0.9147 - val_loss: 0.3895 - val_accuracy: 0.8945\n",
      "Epoch 18/20\n",
      "1500/1500 [==============================] - 3s 2ms/step - loss: 0.2359 - accuracy: 0.9178 - val_loss: 0.3878 - val_accuracy: 0.8857\n",
      "Epoch 19/20\n",
      "1500/1500 [==============================] - 3s 2ms/step - loss: 0.2307 - accuracy: 0.9197 - val_loss: 0.3931 - val_accuracy: 0.8919\n",
      "Epoch 20/20\n",
      "1500/1500 [==============================] - 3s 2ms/step - loss: 0.2272 - accuracy: 0.9210 - val_loss: 0.4017 - val_accuracy: 0.8880\n"
     ]
    }
   ],
   "source": [
    "model = model_fn()\n",
    "model.compile(loss = \"sparse_categorical_crossentropy\", metrics = \"accuracy\")\n",
    "history = model.fit(scaled_train, y_train, epochs = 20, \n",
    "                    validation_data = (scaled_val, y_val))"
   ]
  },
  {
   "cell_type": "code",
   "execution_count": 19,
   "id": "e70f63e0",
   "metadata": {},
   "outputs": [
    {
     "name": "stdout",
     "output_type": "stream",
     "text": [
      "dict_keys(['loss', 'accuracy', 'val_loss', 'val_accuracy'])\n"
     ]
    }
   ],
   "source": [
    "print(history.history.keys())"
   ]
  },
  {
   "cell_type": "code",
   "execution_count": 20,
   "id": "d14c9406",
   "metadata": {
    "scrolled": true
   },
   "outputs": [
    {
     "data": {
      "text/plain": [
       "{'loss': [0.5356596112251282,\n",
       "  0.3955417573451996,\n",
       "  0.3583313822746277,\n",
       "  0.33532777428627014,\n",
       "  0.320646196603775,\n",
       "  0.30957451462745667,\n",
       "  0.29940029978752136,\n",
       "  0.29108279943466187,\n",
       "  0.28287267684936523,\n",
       "  0.2760343551635742,\n",
       "  0.2693551182746887,\n",
       "  0.26415929198265076,\n",
       "  0.25817400217056274,\n",
       "  0.25627535581588745,\n",
       "  0.25121381878852844,\n",
       "  0.24258370697498322,\n",
       "  0.24083958566188812,\n",
       "  0.23589201271533966,\n",
       "  0.23065312206745148,\n",
       "  0.22715917229652405],\n",
       " 'accuracy': [0.8130416870117188,\n",
       "  0.8591458201408386,\n",
       "  0.8702916502952576,\n",
       "  0.8795833587646484,\n",
       "  0.8852083086967468,\n",
       "  0.8894374966621399,\n",
       "  0.8938124775886536,\n",
       "  0.8956041932106018,\n",
       "  0.8991458415985107,\n",
       "  0.9022499918937683,\n",
       "  0.9054583311080933,\n",
       "  0.9056666493415833,\n",
       "  0.9094374775886536,\n",
       "  0.9109166860580444,\n",
       "  0.9123333096504211,\n",
       "  0.9143333435058594,\n",
       "  0.9147499799728394,\n",
       "  0.9178333282470703,\n",
       "  0.9197083115577698,\n",
       "  0.9209583401679993],\n",
       " 'val_loss': [0.39340195059776306,\n",
       "  0.3705901801586151,\n",
       "  0.36826151609420776,\n",
       "  0.36608538031578064,\n",
       "  0.36032983660697937,\n",
       "  0.3533767759799957,\n",
       "  0.36460500955581665,\n",
       "  0.34740743041038513,\n",
       "  0.37474459409713745,\n",
       "  0.3532198965549469,\n",
       "  0.37318819761276245,\n",
       "  0.3801339864730835,\n",
       "  0.41295692324638367,\n",
       "  0.4267449975013733,\n",
       "  0.3758135437965393,\n",
       "  0.41055232286453247,\n",
       "  0.3894699215888977,\n",
       "  0.38782966136932373,\n",
       "  0.393093466758728,\n",
       "  0.4016963243484497],\n",
       " 'val_accuracy': [0.8613333106040955,\n",
       "  0.8695833086967468,\n",
       "  0.8691666722297668,\n",
       "  0.871999979019165,\n",
       "  0.8784166574478149,\n",
       "  0.8795833587646484,\n",
       "  0.8790000081062317,\n",
       "  0.8881666660308838,\n",
       "  0.8812500238418579,\n",
       "  0.8901666402816772,\n",
       "  0.89041668176651,\n",
       "  0.8859166502952576,\n",
       "  0.878083348274231,\n",
       "  0.8762500286102295,\n",
       "  0.8849166631698608,\n",
       "  0.8860833048820496,\n",
       "  0.8945000171661377,\n",
       "  0.8856666684150696,\n",
       "  0.8919166922569275,\n",
       "  0.8880000114440918]}"
      ]
     },
     "execution_count": 20,
     "metadata": {},
     "output_type": "execute_result"
    }
   ],
   "source": [
    "history.history"
   ]
  },
  {
   "cell_type": "code",
   "execution_count": 21,
   "id": "6dc3791d",
   "metadata": {},
   "outputs": [
    {
     "data": {
      "image/png": "[encoded data removed]",
      "text/plain": [
       "<Figure size 640x480 with 1 Axes>"
      ]
     },
     "metadata": {},
     "output_type": "display_data"
    }
   ],
   "source": [
    "plt.figure()\n",
    "\n",
    "plt.plot(history.history[\"loss\"], label = \"train_loss\")\n",
    "plt.plot(history.history[\"accuracy\"], label = \"train_acc\")\n",
    "plt.plot(history.history[\"val_loss\"], label = \"val_loss\")\n",
    "plt.plot(history.history[\"val_accuracy\"], label = \"val_acc\")\n",
    "\n",
    "plt.legend()\n",
    "plt.xlabel(\"epoch\")\n",
    "plt.show()"
   ]
  },
  {
   "cell_type": "markdown",
   "id": "cb82f953",
   "metadata": {},
   "source": [
    "- 훈련 손실은 계속 감소하는데 검증 손실은 감소하다가 상승하여 과대적합 모델이 만들어짐\n",
    "    - 검증 손실이 상승하는 시점을 가능한한 뒤로 늦출 필요가 있음"
   ]
  },
  {
   "cell_type": "code",
   "execution_count": 24,
   "id": "0ef55615",
   "metadata": {},
   "outputs": [
    {
     "name": "stdout",
     "output_type": "stream",
     "text": [
      "Epoch 1/20\n",
      "1500/1500 [==============================] - 4s 2ms/step - loss: 0.5207 - accuracy: 0.8199 - val_loss: 0.4232 - val_accuracy: 0.8510\n",
      "Epoch 2/20\n",
      "1500/1500 [==============================] - 3s 2ms/step - loss: 0.3934 - accuracy: 0.8580 - val_loss: 0.3852 - val_accuracy: 0.8600\n",
      "Epoch 3/20\n",
      "1500/1500 [==============================] - 3s 2ms/step - loss: 0.3540 - accuracy: 0.8721 - val_loss: 0.3510 - val_accuracy: 0.8747\n",
      "Epoch 4/20\n",
      "1500/1500 [==============================] - 3s 2ms/step - loss: 0.3276 - accuracy: 0.8814 - val_loss: 0.3422 - val_accuracy: 0.8793\n",
      "Epoch 5/20\n",
      "1500/1500 [==============================] - 3s 2ms/step - loss: 0.3080 - accuracy: 0.8853 - val_loss: 0.3375 - val_accuracy: 0.8806\n",
      "Epoch 6/20\n",
      "1500/1500 [==============================] - 3s 2ms/step - loss: 0.2931 - accuracy: 0.8909 - val_loss: 0.3252 - val_accuracy: 0.8869\n",
      "Epoch 7/20\n",
      "1500/1500 [==============================] - 3s 2ms/step - loss: 0.2800 - accuracy: 0.8954 - val_loss: 0.3294 - val_accuracy: 0.8816\n",
      "Epoch 8/20\n",
      "1500/1500 [==============================] - 3s 2ms/step - loss: 0.2662 - accuracy: 0.9013 - val_loss: 0.3157 - val_accuracy: 0.8893\n",
      "Epoch 9/20\n",
      "1500/1500 [==============================] - 3s 2ms/step - loss: 0.2583 - accuracy: 0.9036 - val_loss: 0.3194 - val_accuracy: 0.8874\n",
      "Epoch 10/20\n",
      "1500/1500 [==============================] - 3s 2ms/step - loss: 0.2489 - accuracy: 0.9065 - val_loss: 0.3256 - val_accuracy: 0.8876\n",
      "Epoch 11/20\n",
      "1500/1500 [==============================] - 4s 2ms/step - loss: 0.2414 - accuracy: 0.9092 - val_loss: 0.3186 - val_accuracy: 0.8904\n",
      "Epoch 12/20\n",
      "1500/1500 [==============================] - 4s 2ms/step - loss: 0.2332 - accuracy: 0.9126 - val_loss: 0.3102 - val_accuracy: 0.8939\n",
      "Epoch 13/20\n",
      "1500/1500 [==============================] - 3s 2ms/step - loss: 0.2242 - accuracy: 0.9159 - val_loss: 0.3157 - val_accuracy: 0.8926\n",
      "Epoch 14/20\n",
      "1500/1500 [==============================] - 4s 2ms/step - loss: 0.2203 - accuracy: 0.9171 - val_loss: 0.3225 - val_accuracy: 0.8940\n",
      "Epoch 15/20\n",
      "1500/1500 [==============================] - 3s 2ms/step - loss: 0.2123 - accuracy: 0.9199 - val_loss: 0.3041 - val_accuracy: 0.8988\n",
      "Epoch 16/20\n",
      "1500/1500 [==============================] - 3s 2ms/step - loss: 0.2072 - accuracy: 0.9222 - val_loss: 0.3008 - val_accuracy: 0.8953\n",
      "Epoch 17/20\n",
      "1500/1500 [==============================] - 3s 2ms/step - loss: 0.2017 - accuracy: 0.9241 - val_loss: 0.3281 - val_accuracy: 0.8955\n",
      "Epoch 18/20\n",
      "1500/1500 [==============================] - 3s 2ms/step - loss: 0.1964 - accuracy: 0.9252 - val_loss: 0.3162 - val_accuracy: 0.8949\n",
      "Epoch 19/20\n",
      "1500/1500 [==============================] - 3s 2ms/step - loss: 0.1910 - accuracy: 0.9283 - val_loss: 0.3192 - val_accuracy: 0.8929\n",
      "Epoch 20/20\n",
      "1500/1500 [==============================] - 3s 2ms/step - loss: 0.1856 - accuracy: 0.9309 - val_loss: 0.3086 - val_accuracy: 0.8969\n"
     ]
    }
   ],
   "source": [
    "# Adam 옵티마이저 선택\n",
    "model = model_fn()\n",
    "model.compile(optimizer = \"adam\", loss = \"sparse_categorical_crossentropy\",\n",
    "             metrics = \"accuracy\")\n",
    "history = model.fit(scaled_train, y_train, epochs = 20, validation_data = (scaled_val, y_val))"
   ]
  },
  {
   "cell_type": "code",
   "execution_count": 25,
   "id": "1905850a",
   "metadata": {},
   "outputs": [
    {
     "data": {
      "image/png": "[encoded data removed]",
      "text/plain": [
       "<Figure size 640x480 with 1 Axes>"
      ]
     },
     "metadata": {},
     "output_type": "display_data"
    }
   ],
   "source": [
    "plt.figure()\n",
    "\n",
    "plt.plot(history.history[\"loss\"], label = \"train_loss\")\n",
    "plt.plot(history.history[\"accuracy\"], label = \"train_acc\")\n",
    "plt.plot(history.history[\"val_loss\"], label = \"val_loss\")\n",
    "plt.plot(history.history[\"val_accuracy\"], label = \"val_acc\")\n",
    "\n",
    "plt.legend()\n",
    "plt.xlabel(\"epoch\")\n",
    "plt.show()"
   ]
  },
  {
   "cell_type": "markdown",
   "id": "ae68adc7",
   "metadata": {},
   "source": [
    "- RMSPROP 을 사용할 때보다 검증 손실 그래프의 감소 추세가 길게 이어지고 있어 Adam 옵티마이저가 이 데이터셋에 잘 맞는 것으로 보임"
   ]
  },
  {
   "cell_type": "markdown",
   "id": "e6608182",
   "metadata": {},
   "source": [
    "# 드롭아웃(dropout)\n",
    "\n",
    "<img src = \"./image/dropout.png\">"
   ]
  },
  {
   "cell_type": "markdown",
   "id": "69efa17f",
   "metadata": {},
   "source": [
    "- 훈련 과정에서 층의 일부 유닛을 랜덤하게 끄는 것으로(출력을 0으로 만드는 것으로) 과대적합을 방지\n",
    "    - 특정 유닛에 과대하게 의존하는 것을 줄일 수 있음\n",
    "    - 일부 유닛의 출력이 없을 수 있다는 것을 감안하여 학습하게 됨\n",
    "        - 모든 입력값에 대해 충분한 주의를 기울이는 방향으로 학습\n",
    "- 드롭아웃은 케라스에서 Dropout 클래스로 제공\n",
    "- 특정 층 뒤에 드롭아웃을 두어 해당 층의 출력을 랜덤하게 0으로 만듦\n",
    "- Flatten과 마찬가지로 층처럼 사용되지만 훈련되는 모델 파라미터는 없음"
   ]
  },
  {
   "cell_type": "code",
   "execution_count": 26,
   "id": "a0b084c0",
   "metadata": {},
   "outputs": [
    {
     "name": "stdout",
     "output_type": "stream",
     "text": [
      "Model: \"sequential_7\"\n",
      "_________________________________________________________________\n",
      " Layer (type)                Output Shape              Param #   \n",
      "=================================================================\n",
      " flatten_7 (Flatten)         (None, 784)               0         \n",
      "                                                                 \n",
      " dense_14 (Dense)            (None, 100)               78500     \n",
      "                                                                 \n",
      " dropout (Dropout)           (None, 100)               0         \n",
      "                                                                 \n",
      " dense_15 (Dense)            (None, 10)                1010      \n",
      "                                                                 \n",
      "=================================================================\n",
      "Total params: 79510 (310.59 KB)\n",
      "Trainable params: 79510 (310.59 KB)\n",
      "Non-trainable params: 0 (0.00 Byte)\n",
      "_________________________________________________________________\n"
     ]
    }
   ],
   "source": [
    "model = model_fn(keras.layers.Dropout(0.3))  # 30% 드롭아웃\n",
    "model.summary()"
   ]
  },
  {
   "cell_type": "markdown",
   "id": "24adbd79",
   "metadata": {},
   "source": [
    "- 드롭아웃층은 입력과 출력의 크기가 같음\n",
    "    - 일부 유닛의 출력을 0으로 만들지만 전체 출력 배열의 크기를 바꾸지 않음\n",
    "- 모델 훈련이 끝난 후에 평가나 예측을 수행할 때에는 드롭아웃을 적용하지 않아야 함\n",
    "    - 훈련된 모든 유닛을 사용해야 올바른 예측을 수행할 수 있기 때문에\n",
    "    - 케라스에서는 모델을 평가와 예측에 사용할 때에는 자동으로 드롭아웃을 적용하지 않음"
   ]
  },
  {
   "cell_type": "code",
   "execution_count": 27,
   "id": "ec869158",
   "metadata": {},
   "outputs": [],
   "source": [
    "model.compile(optimizer = \"adam\", loss = \"sparse_categorical_crossentropy\",\n",
    "             metrics = \"accuracy\")"
   ]
  },
  {
   "cell_type": "code",
   "execution_count": 28,
   "id": "0af7df67",
   "metadata": {},
   "outputs": [
    {
     "name": "stdout",
     "output_type": "stream",
     "text": [
      "Epoch 1/20\n",
      "1500/1500 [==============================] - 4s 2ms/step - loss: 0.6005 - accuracy: 0.7909 - val_loss: 0.4153 - val_accuracy: 0.8520\n",
      "Epoch 2/20\n",
      "1500/1500 [==============================] - 3s 2ms/step - loss: 0.4441 - accuracy: 0.8409 - val_loss: 0.3702 - val_accuracy: 0.8671\n",
      "Epoch 3/20\n",
      "1500/1500 [==============================] - 3s 2ms/step - loss: 0.4030 - accuracy: 0.8552 - val_loss: 0.3621 - val_accuracy: 0.8675\n",
      "Epoch 4/20\n",
      "1500/1500 [==============================] - 3s 2ms/step - loss: 0.3838 - accuracy: 0.8600 - val_loss: 0.3379 - val_accuracy: 0.8773\n",
      "Epoch 5/20\n",
      "1500/1500 [==============================] - 3s 2ms/step - loss: 0.3678 - accuracy: 0.8652 - val_loss: 0.3298 - val_accuracy: 0.8819\n",
      "Epoch 6/20\n",
      "1500/1500 [==============================] - 3s 2ms/step - loss: 0.3529 - accuracy: 0.8692 - val_loss: 0.3298 - val_accuracy: 0.8828\n",
      "Epoch 7/20\n",
      "1500/1500 [==============================] - 3s 2ms/step - loss: 0.3417 - accuracy: 0.8734 - val_loss: 0.3518 - val_accuracy: 0.8748\n",
      "Epoch 8/20\n",
      "1500/1500 [==============================] - 3s 2ms/step - loss: 0.3335 - accuracy: 0.8765 - val_loss: 0.3358 - val_accuracy: 0.8829\n",
      "Epoch 9/20\n",
      "1500/1500 [==============================] - 3s 2ms/step - loss: 0.3268 - accuracy: 0.8784 - val_loss: 0.3225 - val_accuracy: 0.8850\n",
      "Epoch 10/20\n",
      "1500/1500 [==============================] - 3s 2ms/step - loss: 0.3182 - accuracy: 0.8817 - val_loss: 0.3336 - val_accuracy: 0.8816\n",
      "Epoch 11/20\n",
      "1500/1500 [==============================] - 3s 2ms/step - loss: 0.3134 - accuracy: 0.8836 - val_loss: 0.3234 - val_accuracy: 0.8874\n",
      "Epoch 12/20\n",
      "1500/1500 [==============================] - 3s 2ms/step - loss: 0.3087 - accuracy: 0.8852 - val_loss: 0.3227 - val_accuracy: 0.8887\n",
      "Epoch 13/20\n",
      "1500/1500 [==============================] - 3s 2ms/step - loss: 0.3015 - accuracy: 0.8864 - val_loss: 0.3222 - val_accuracy: 0.8867\n",
      "Epoch 14/20\n",
      "1500/1500 [==============================] - 3s 2ms/step - loss: 0.2956 - accuracy: 0.8891 - val_loss: 0.3220 - val_accuracy: 0.8867\n",
      "Epoch 15/20\n",
      "1500/1500 [==============================] - 3s 2ms/step - loss: 0.2957 - accuracy: 0.8888 - val_loss: 0.3261 - val_accuracy: 0.8883\n",
      "Epoch 16/20\n",
      "1500/1500 [==============================] - 3s 2ms/step - loss: 0.2901 - accuracy: 0.8915 - val_loss: 0.3263 - val_accuracy: 0.8881\n",
      "Epoch 17/20\n",
      "1500/1500 [==============================] - 3s 2ms/step - loss: 0.2854 - accuracy: 0.8921 - val_loss: 0.3194 - val_accuracy: 0.8882\n",
      "Epoch 18/20\n",
      "1500/1500 [==============================] - 3s 2ms/step - loss: 0.2806 - accuracy: 0.8935 - val_loss: 0.3290 - val_accuracy: 0.8898\n",
      "Epoch 19/20\n",
      "1500/1500 [==============================] - 3s 2ms/step - loss: 0.2791 - accuracy: 0.8964 - val_loss: 0.3111 - val_accuracy: 0.8916\n",
      "Epoch 20/20\n",
      "1500/1500 [==============================] - 3s 2ms/step - loss: 0.2727 - accuracy: 0.8978 - val_loss: 0.3083 - val_accuracy: 0.8944\n"
     ]
    }
   ],
   "source": [
    "history = model.fit(scaled_train, y_train, epochs = 20, validation_data = (scaled_val, y_val))"
   ]
  },
  {
   "cell_type": "code",
   "execution_count": 29,
   "id": "89d219d9",
   "metadata": {},
   "outputs": [
    {
     "data": {
      "image/png": "[encoded data removed]",
      "text/plain": [
       "<Figure size 640x480 with 1 Axes>"
      ]
     },
     "metadata": {},
     "output_type": "display_data"
    }
   ],
   "source": [
    "plt.figure()\n",
    "\n",
    "plt.plot(history.history[\"loss\"], label = \"train_loss\")\n",
    "plt.plot(history.history[\"accuracy\"], label = \"train_acc\")\n",
    "plt.plot(history.history[\"val_loss\"], label = \"val_loss\")\n",
    "plt.plot(history.history[\"val_accuracy\"], label = \"val_acc\")\n",
    "\n",
    "plt.legend()\n",
    "plt.xlabel(\"epoch\")\n",
    "plt.show()"
   ]
  },
  {
   "cell_type": "markdown",
   "id": "769f3e8e",
   "metadata": {},
   "source": [
    "- 앞선 방법들에 비해 loss와 acc가 비교적 일정하게 유지됨 "
   ]
  },
  {
   "cell_type": "markdown",
   "id": "44b25ee8",
   "metadata": {},
   "source": [
    "- val_loss 가 가장 낮은게 좋은거임"
   ]
  },
  {
   "cell_type": "markdown",
   "id": "0edcd79c",
   "metadata": {},
   "source": [
    "# 모델 저장과 복원"
   ]
  },
  {
   "cell_type": "code",
   "execution_count": 58,
   "id": "202f4462",
   "metadata": {},
   "outputs": [
    {
     "name": "stdout",
     "output_type": "stream",
     "text": [
      "Epoch 1/12\n",
      "1500/1500 [==============================] - 3s 2ms/step - loss: 0.5947 - accuracy: 0.7919 - val_loss: 0.4010 - val_accuracy: 0.8540\n",
      "Epoch 2/12\n",
      "1500/1500 [==============================] - 3s 2ms/step - loss: 0.4412 - accuracy: 0.8407 - val_loss: 0.3972 - val_accuracy: 0.8526\n",
      "Epoch 3/12\n",
      "1500/1500 [==============================] - 3s 2ms/step - loss: 0.4062 - accuracy: 0.8511 - val_loss: 0.3638 - val_accuracy: 0.8705\n",
      "Epoch 4/12\n",
      "1500/1500 [==============================] - 3s 2ms/step - loss: 0.3854 - accuracy: 0.8596 - val_loss: 0.3569 - val_accuracy: 0.8703\n",
      "Epoch 5/12\n",
      "1500/1500 [==============================] - 3s 2ms/step - loss: 0.3692 - accuracy: 0.8648 - val_loss: 0.3428 - val_accuracy: 0.8755\n",
      "Epoch 6/12\n",
      "1500/1500 [==============================] - 3s 2ms/step - loss: 0.3552 - accuracy: 0.8680 - val_loss: 0.3374 - val_accuracy: 0.8795\n",
      "Epoch 7/12\n",
      "1500/1500 [==============================] - 3s 2ms/step - loss: 0.3467 - accuracy: 0.8723 - val_loss: 0.3301 - val_accuracy: 0.8846\n",
      "Epoch 8/12\n",
      "1500/1500 [==============================] - 3s 2ms/step - loss: 0.3352 - accuracy: 0.8746 - val_loss: 0.3325 - val_accuracy: 0.8817\n",
      "Epoch 9/12\n",
      "1500/1500 [==============================] - 3s 2ms/step - loss: 0.3294 - accuracy: 0.8783 - val_loss: 0.3330 - val_accuracy: 0.8816\n",
      "Epoch 10/12\n",
      "1500/1500 [==============================] - 3s 2ms/step - loss: 0.3209 - accuracy: 0.8809 - val_loss: 0.3240 - val_accuracy: 0.8832\n",
      "Epoch 11/12\n",
      "1500/1500 [==============================] - 3s 2ms/step - loss: 0.3159 - accuracy: 0.8837 - val_loss: 0.3181 - val_accuracy: 0.8873\n",
      "Epoch 12/12\n",
      "1500/1500 [==============================] - 3s 2ms/step - loss: 0.3086 - accuracy: 0.8836 - val_loss: 0.3204 - val_accuracy: 0.8854\n"
     ]
    }
   ],
   "source": [
    "model = model_fn(keras.layers.Dropout(0.3))\n",
    "model.compile(optimizer = \"adam\", loss = \"sparse_categorical_crossentropy\",\n",
    "             metrics = \"accuracy\")\n",
    "history = model.fit(scaled_train, y_train, epochs = 12, validation_data = (scaled_val, y_val))"
   ]
  },
  {
   "cell_type": "markdown",
   "id": "05b804bf",
   "metadata": {},
   "source": [
    "- 케라스 모델은 모델의 파라미터를 저장하는 save_weights() 메서드를 제공\n",
    "- 모델 구조와 모델 파라미터를 제공하는 save() 메서드도 제공"
   ]
  },
  {
   "cell_type": "code",
   "execution_count": 59,
   "id": "e2ca0853",
   "metadata": {},
   "outputs": [],
   "source": [
    "model.save(\"./model/model-whole.h5\")"
   ]
  },
  {
   "cell_type": "code",
   "execution_count": 60,
   "id": "7f9f9c84",
   "metadata": {},
   "outputs": [],
   "source": [
    "model.save_weights(\"./model/model-weights.h5\")"
   ]
  },
  {
   "cell_type": "markdown",
   "id": "a0efabe9",
   "metadata": {},
   "source": [
    "## 모델 파라미터만 읽어오기"
   ]
  },
  {
   "cell_type": "code",
   "execution_count": 61,
   "id": "07f24fd0",
   "metadata": {},
   "outputs": [],
   "source": [
    "model = model_fn(keras.layers.Dropout(0.3))\n",
    "model.load_weights(\"./model/model-weights.h5\")"
   ]
  },
  {
   "cell_type": "markdown",
   "id": "fbdec4ef",
   "metadata": {},
   "source": [
    "- load_weights() 메서드를 사용하면 save_weights() 로 저장했던 모델과 정확히 같은 구조를 가져야함 "
   ]
  },
  {
   "cell_type": "code",
   "execution_count": 62,
   "id": "2e95d09e",
   "metadata": {},
   "outputs": [
    {
     "name": "stdout",
     "output_type": "stream",
     "text": [
      "375/375 [==============================] - 0s 994us/step\n"
     ]
    }
   ],
   "source": [
    "val_labels = np.argmax(model.predict(scaled_val), axis = 1)"
   ]
  },
  {
   "cell_type": "code",
   "execution_count": 63,
   "id": "dfca4af0",
   "metadata": {},
   "outputs": [
    {
     "data": {
      "text/plain": [
       "array([3, 0, 8, ..., 0, 7, 5], dtype=int64)"
      ]
     },
     "execution_count": 63,
     "metadata": {},
     "output_type": "execute_result"
    }
   ],
   "source": [
    "val_labels"
   ]
  },
  {
   "cell_type": "code",
   "execution_count": 64,
   "id": "afc0a909",
   "metadata": {},
   "outputs": [
    {
     "data": {
      "text/plain": [
       "array([3, 0, 8, ..., 0, 7, 5], dtype=uint8)"
      ]
     },
     "execution_count": 64,
     "metadata": {},
     "output_type": "execute_result"
    }
   ],
   "source": [
    "y_val   # 검증 데이터에 대한 정답값"
   ]
  },
  {
   "cell_type": "code",
   "execution_count": 65,
   "id": "6ae3cfa7",
   "metadata": {},
   "outputs": [
    {
     "data": {
      "text/plain": [
       "0.8854166666666666"
      ]
     },
     "execution_count": 65,
     "metadata": {},
     "output_type": "execute_result"
    }
   ],
   "source": [
    "np.mean(val_labels == y_val)"
   ]
  },
  {
   "cell_type": "markdown",
   "id": "da1f6885",
   "metadata": {},
   "source": [
    "- 케라스의 predict() 메서드는 모델의 예측을 수행\n",
    "    - 종속변수가 10개의 클래스로 이루어져 있기 때문에 각 클래스에 대한 확률을 반환\n",
    "- predict() 결과에서 가장 큰 값을 고르기 위해 argmax() 함수를 사용\n",
    "    - 배열에서 가장 큰 값의 인덱스를 반환\n",
    "    - 몇 번째 클래스에 대한 확률값이 가장 큰 지 반환\n",
    "        - 몇 번째 클래스로 예측했는지 알 수 있음 \n",
    "- argmax() 로 고른 인덱스와 타깃 인덱스를 비교하여 같으면 True, 다르면 False\n",
    "    - 위 값의 평균을 구하면 정확도가 됨"
   ]
  },
  {
   "cell_type": "markdown",
   "id": "5cab8fdf",
   "metadata": {},
   "source": [
    "## 모델 전체 읽어오기"
   ]
  },
  {
   "cell_type": "code",
   "execution_count": 66,
   "id": "0f0a61e2",
   "metadata": {},
   "outputs": [],
   "source": [
    "model = keras.models.load_model(\"./model/model-whole.h5\")"
   ]
  },
  {
   "cell_type": "code",
   "execution_count": 67,
   "id": "35d89bca",
   "metadata": {},
   "outputs": [
    {
     "name": "stdout",
     "output_type": "stream",
     "text": [
      "375/375 [==============================] - 1s 1ms/step - loss: 0.3204 - accuracy: 0.8854\n"
     ]
    },
    {
     "data": {
      "text/plain": [
       "[0.32035401463508606, 0.8854166865348816]"
      ]
     },
     "execution_count": 67,
     "metadata": {},
     "output_type": "execute_result"
    }
   ],
   "source": [
    "model.evaluate(scaled_val, y_val)"
   ]
  },
  {
   "cell_type": "markdown",
   "id": "6a7c5a19",
   "metadata": {},
   "source": [
    "# 콜백(callback)\n",
    "\n",
    "- 훈련 과정 중간에 어떤 작업을 수행할 수 있게 하는 객체\n",
    "- fit()메서드의 callbacks 매개변수에 리스트로 전달하여 사용"
   ]
  },
  {
   "cell_type": "markdown",
   "id": "f7c149af",
   "metadata": {},
   "source": [
    "## ModelCheckpoint 콜백\n",
    "\n",
    "- 최상의 검증 점수를 만드는 모델을 저장"
   ]
  },
  {
   "cell_type": "code",
   "execution_count": 6,
   "id": "d63f7beb",
   "metadata": {},
   "outputs": [],
   "source": [
    "checkpoint_cb = keras.callbacks.ModelCheckpoint(\"./model/best-model.h5\", save_best_only = True)"
   ]
  },
  {
   "cell_type": "code",
   "execution_count": 9,
   "id": "0165e918",
   "metadata": {},
   "outputs": [
    {
     "name": "stdout",
     "output_type": "stream",
     "text": [
      "Epoch 1/20\n",
      "WARNING:tensorflow:From C:\\ProgramData\\anaconda3\\Lib\\site-packages\\keras\\src\\utils\\tf_utils.py:492: The name tf.ragged.RaggedTensorValue is deprecated. Please use tf.compat.v1.ragged.RaggedTensorValue instead.\n",
      "\n",
      "WARNING:tensorflow:From C:\\ProgramData\\anaconda3\\Lib\\site-packages\\keras\\src\\engine\\base_layer_utils.py:384: The name tf.executing_eagerly_outside_functions is deprecated. Please use tf.compat.v1.executing_eagerly_outside_functions instead.\n",
      "\n",
      "1500/1500 [==============================] - 4s 2ms/step - loss: 0.5959 - accuracy: 0.7900 - val_loss: 0.4233 - val_accuracy: 0.8471\n",
      "Epoch 2/20\n",
      "  67/1500 [>.............................] - ETA: 3s - loss: 0.4721 - accuracy: 0.8316"
     ]
    },
    {
     "name": "stderr",
     "output_type": "stream",
     "text": [
      "C:\\ProgramData\\anaconda3\\Lib\\site-packages\\keras\\src\\engine\\training.py:3103: UserWarning: You are saving your model as an HDF5 file via `model.save()`. This file format is considered legacy. We recommend using instead the native Keras format, e.g. `model.save('my_model.keras')`.\n",
      "  saving_api.save_model(\n"
     ]
    },
    {
     "name": "stdout",
     "output_type": "stream",
     "text": [
      "1500/1500 [==============================] - 3s 2ms/step - loss: 0.4433 - accuracy: 0.8404 - val_loss: 0.3658 - val_accuracy: 0.8689\n",
      "Epoch 3/20\n",
      "1500/1500 [==============================] - 4s 2ms/step - loss: 0.4083 - accuracy: 0.8523 - val_loss: 0.3559 - val_accuracy: 0.8717\n",
      "Epoch 4/20\n",
      "1500/1500 [==============================] - 4s 3ms/step - loss: 0.3847 - accuracy: 0.8589 - val_loss: 0.3368 - val_accuracy: 0.8761\n",
      "Epoch 5/20\n",
      "1500/1500 [==============================] - 3s 2ms/step - loss: 0.3688 - accuracy: 0.8649 - val_loss: 0.3405 - val_accuracy: 0.8783\n",
      "Epoch 6/20\n",
      "1500/1500 [==============================] - 3s 2ms/step - loss: 0.3578 - accuracy: 0.8677 - val_loss: 0.3464 - val_accuracy: 0.8733\n",
      "Epoch 7/20\n",
      "1500/1500 [==============================] - 3s 2ms/step - loss: 0.3461 - accuracy: 0.8729 - val_loss: 0.3379 - val_accuracy: 0.8775\n",
      "Epoch 8/20\n",
      "1500/1500 [==============================] - 3s 2ms/step - loss: 0.3394 - accuracy: 0.8740 - val_loss: 0.3131 - val_accuracy: 0.8882\n",
      "Epoch 9/20\n",
      "1500/1500 [==============================] - 4s 2ms/step - loss: 0.3294 - accuracy: 0.8763 - val_loss: 0.3390 - val_accuracy: 0.8793\n",
      "Epoch 10/20\n",
      "1500/1500 [==============================] - 4s 3ms/step - loss: 0.3265 - accuracy: 0.8785 - val_loss: 0.3262 - val_accuracy: 0.8823\n",
      "Epoch 11/20\n",
      "1500/1500 [==============================] - 4s 2ms/step - loss: 0.3198 - accuracy: 0.8808 - val_loss: 0.3305 - val_accuracy: 0.8829\n",
      "Epoch 12/20\n",
      "1500/1500 [==============================] - 4s 3ms/step - loss: 0.3130 - accuracy: 0.8829 - val_loss: 0.3175 - val_accuracy: 0.8879\n",
      "Epoch 13/20\n",
      "1500/1500 [==============================] - 4s 2ms/step - loss: 0.3069 - accuracy: 0.8859 - val_loss: 0.3107 - val_accuracy: 0.8923\n",
      "Epoch 14/20\n",
      "1500/1500 [==============================] - 4s 2ms/step - loss: 0.3018 - accuracy: 0.8870 - val_loss: 0.3104 - val_accuracy: 0.8923\n",
      "Epoch 15/20\n",
      "1500/1500 [==============================] - 4s 2ms/step - loss: 0.2989 - accuracy: 0.8871 - val_loss: 0.3176 - val_accuracy: 0.8888\n",
      "Epoch 16/20\n",
      "1500/1500 [==============================] - 3s 2ms/step - loss: 0.2935 - accuracy: 0.8904 - val_loss: 0.3140 - val_accuracy: 0.8903\n",
      "Epoch 17/20\n",
      "1500/1500 [==============================] - 4s 2ms/step - loss: 0.2912 - accuracy: 0.8905 - val_loss: 0.3087 - val_accuracy: 0.8960\n",
      "Epoch 18/20\n",
      "1500/1500 [==============================] - 4s 2ms/step - loss: 0.2854 - accuracy: 0.8930 - val_loss: 0.3237 - val_accuracy: 0.8914\n",
      "Epoch 19/20\n",
      "1500/1500 [==============================] - 3s 2ms/step - loss: 0.2831 - accuracy: 0.8926 - val_loss: 0.3191 - val_accuracy: 0.8907\n",
      "Epoch 20/20\n",
      "1500/1500 [==============================] - 4s 2ms/step - loss: 0.2804 - accuracy: 0.8935 - val_loss: 0.3114 - val_accuracy: 0.8945\n"
     ]
    },
    {
     "data": {
      "text/plain": [
       "<keras.src.callbacks.History at 0x1e430ee2c90>"
      ]
     },
     "execution_count": 9,
     "metadata": {},
     "output_type": "execute_result"
    }
   ],
   "source": [
    "model = model_fn(keras.layers.Dropout(0.3))\n",
    "model.compile(optimizer = \"adam\", loss = \"sparse_categorical_crossentropy\", metrics = [\"accuracy\"])\n",
    "model.fit(scaled_train, y_train, epochs = 20, validation_data = (scaled_val, y_val), callbacks = [checkpoint_cb])"
   ]
  },
  {
   "cell_type": "markdown",
   "id": "2cc35584",
   "metadata": {},
   "source": [
    "- 모델이 훈련한 후에 best-model.h5에 최상의 val_loss를 낸 모델이 저장됨"
   ]
  },
  {
   "cell_type": "code",
   "execution_count": 10,
   "id": "1a34f39d",
   "metadata": {},
   "outputs": [
    {
     "name": "stdout",
     "output_type": "stream",
     "text": [
      "375/375 [==============================] - 0s 1ms/step - loss: 0.3114 - accuracy: 0.8945\n"
     ]
    },
    {
     "data": {
      "text/plain": [
       "[0.31136131286621094, 0.8945000171661377]"
      ]
     },
     "execution_count": 10,
     "metadata": {},
     "output_type": "execute_result"
    }
   ],
   "source": [
    "model.evaluate(scaled_val, y_val)"
   ]
  },
  {
   "cell_type": "code",
   "execution_count": 11,
   "id": "f6599200",
   "metadata": {},
   "outputs": [],
   "source": [
    "model = keras.models.load_model(\"./model/best-model.h5\")"
   ]
  },
  {
   "cell_type": "code",
   "execution_count": 12,
   "id": "b44007be",
   "metadata": {},
   "outputs": [
    {
     "name": "stdout",
     "output_type": "stream",
     "text": [
      "375/375 [==============================] - 1s 1ms/step - loss: 0.3087 - accuracy: 0.8960\n"
     ]
    },
    {
     "data": {
      "text/plain": [
       "[0.30868905782699585, 0.8960000276565552]"
      ]
     },
     "execution_count": 12,
     "metadata": {},
     "output_type": "execute_result"
    }
   ],
   "source": [
    "model.evaluate(scaled_val, y_val)"
   ]
  },
  {
   "cell_type": "markdown",
   "id": "253cbccd",
   "metadata": {},
   "source": [
    "- ModelCheckpoint 콜백이 가장 낮은 검증 손실값의 모델을 자동으로 저장해주어 편하지만 여전히 20번의 훈련을 해야해서 불편함이 있음"
   ]
  },
  {
   "cell_type": "markdown",
   "id": "f558a1ed",
   "metadata": {},
   "source": [
    "## EarlyStopping 콜백\n",
    "\n",
    "- 과대적합이 시작되기 전에(검증 점수가 상승할 때) 훈련을 미리 중지하는 것을 조기 종료(early stopping)라고 부름\n",
    "- 훈련 에포크 횟수를 제한하는 역할이지만 모델이 과대적합되는 것을 막아주기 때문에 규제 방법 중 하나로 여겨지기도 함"
   ]
  },
  {
   "cell_type": "code",
   "execution_count": 13,
   "id": "57c5cb7b",
   "metadata": {},
   "outputs": [],
   "source": [
    "early_stopping_cb = keras.callbacks.EarlyStopping(patience = 2, restore_best_weights = True)"
   ]
  },
  {
   "cell_type": "markdown",
   "id": "a4404008",
   "metadata": {},
   "source": [
    "- patience\n",
    "    - 검증 점수가 향상되지 않더라도 지켜볼 에포크 횟수\n",
    "    - patience 가 2라면 2번 연속 검증 점수가 향상되지 않으면 훈련 중지\n",
    "    \n",
    "- restore_best_weights\n",
    "    - 가장 낮은 검증 손실을 낸 모델의 상태로 되돌림"
   ]
  },
  {
   "cell_type": "code",
   "execution_count": 14,
   "id": "f2199e2a",
   "metadata": {},
   "outputs": [
    {
     "name": "stdout",
     "output_type": "stream",
     "text": [
      "Epoch 1/20\n",
      "1500/1500 [==============================] - 4s 2ms/step - loss: 0.6010 - accuracy: 0.7872 - val_loss: 0.4070 - val_accuracy: 0.8518\n",
      "Epoch 2/20\n",
      "1500/1500 [==============================] - 3s 2ms/step - loss: 0.4492 - accuracy: 0.8381 - val_loss: 0.3787 - val_accuracy: 0.8616\n",
      "Epoch 3/20\n",
      "1500/1500 [==============================] - 3s 2ms/step - loss: 0.4126 - accuracy: 0.8494 - val_loss: 0.3710 - val_accuracy: 0.8668\n",
      "Epoch 4/20\n",
      "1500/1500 [==============================] - 3s 2ms/step - loss: 0.3877 - accuracy: 0.8580 - val_loss: 0.3427 - val_accuracy: 0.8759\n",
      "Epoch 5/20\n",
      "1500/1500 [==============================] - 3s 2ms/step - loss: 0.3709 - accuracy: 0.8637 - val_loss: 0.3421 - val_accuracy: 0.8777\n",
      "Epoch 6/20\n",
      "1500/1500 [==============================] - 3s 2ms/step - loss: 0.3614 - accuracy: 0.8661 - val_loss: 0.3279 - val_accuracy: 0.8830\n",
      "Epoch 7/20\n",
      "1500/1500 [==============================] - 3s 2ms/step - loss: 0.3503 - accuracy: 0.8714 - val_loss: 0.3220 - val_accuracy: 0.8855\n",
      "Epoch 8/20\n",
      "1500/1500 [==============================] - 3s 2ms/step - loss: 0.3392 - accuracy: 0.8755 - val_loss: 0.3208 - val_accuracy: 0.8863\n",
      "Epoch 9/20\n",
      "1500/1500 [==============================] - 3s 2ms/step - loss: 0.3339 - accuracy: 0.8742 - val_loss: 0.3274 - val_accuracy: 0.8847\n",
      "Epoch 10/20\n",
      "1500/1500 [==============================] - 3s 2ms/step - loss: 0.3247 - accuracy: 0.8793 - val_loss: 0.3238 - val_accuracy: 0.8868\n"
     ]
    }
   ],
   "source": [
    "model = model_fn(keras.layers.Dropout(0.3))\n",
    "model.compile(optimizer= \"adam\", loss = \"sparse_categorical_crossentropy\",\n",
    "             metrics = \"accuracy\")\n",
    "history = model.fit(scaled_train, y_train, epochs = 20, validation_data = (scaled_val, y_val),\n",
    "                   callbacks = [checkpoint_cb, early_stopping_cb])"
   ]
  },
  {
   "cell_type": "code",
   "execution_count": 15,
   "id": "60c4f1a1",
   "metadata": {},
   "outputs": [
    {
     "name": "stdout",
     "output_type": "stream",
     "text": [
      "9\n"
     ]
    }
   ],
   "source": [
    "# 몇 번째 에포크에서 중지되었는지 확인\n",
    "print(early_stopping_cb.stopped_epoch)"
   ]
  },
  {
   "cell_type": "markdown",
   "id": "22a9ef28",
   "metadata": {},
   "source": [
    "- 0부터 세니까 9"
   ]
  },
  {
   "cell_type": "markdown",
   "id": "77f8b7e4",
   "metadata": {},
   "source": [
    "- 10번째 에포크까지 훈련한 후 중지됨\n",
    "    - patience가 2이기 때문에 8번째 에포크 때의 모델이 최상의 모델임"
   ]
  },
  {
   "cell_type": "code",
   "execution_count": 16,
   "id": "c7692a9d",
   "metadata": {},
   "outputs": [
    {
     "name": "stdout",
     "output_type": "stream",
     "text": [
      "375/375 [==============================] - 1s 1ms/step - loss: 0.3208 - accuracy: 0.8863\n"
     ]
    },
    {
     "data": {
      "text/plain": [
       "[0.32075247168540955, 0.8862500190734863]"
      ]
     },
     "execution_count": 16,
     "metadata": {},
     "output_type": "execute_result"
    }
   ],
   "source": [
    "model.evaluate(scaled_val, y_val)"
   ]
  },
  {
   "cell_type": "code",
   "execution_count": 17,
   "id": "d326ab47",
   "metadata": {
    "scrolled": false
   },
   "outputs": [
    {
     "data": {
      "image/png": "[encoded data removed]",
      "text/plain": [
       "<Figure size 640x480 with 1 Axes>"
      ]
     },
     "metadata": {},
     "output_type": "display_data"
    }
   ],
   "source": [
    "plt.figure()\n",
    "\n",
    "plt.plot(history.history[\"loss\"], label = \"train_loss\")\n",
    "plt.plot(history.history[\"accuracy\"], label = \"train_acc\")\n",
    "plt.plot(history.history[\"val_loss\"], label = \"val_loss\")\n",
    "plt.plot(history.history[\"val_accuracy\"], label = \"val_acc\")\n",
    "\n",
    "plt.xticks(ticks = range(20))\n",
    "plt.legend()\n",
    "plt.xlabel(\"epoch\")\n",
    "plt.show()"
   ]
  },
  {
   "cell_type": "markdown",
   "id": "35aad9fc",
   "metadata": {},
   "source": [
    "# validation_split\n",
    "\n",
    "- 훈련 데이터를 자체적으로 훈련/검증 셋으로 나누어서 훈련/검증을 수행"
   ]
  },
  {
   "cell_type": "code",
   "execution_count": 18,
   "id": "eb80f112",
   "metadata": {},
   "outputs": [],
   "source": [
    "(x_train, y_train), (x_test, y_test) = keras.datasets.fashion_mnist.load_data()\n",
    "scaled_train = x_train / 255\n",
    "scaled_test = x_test / 255"
   ]
  },
  {
   "cell_type": "code",
   "execution_count": 19,
   "id": "fef5f957",
   "metadata": {},
   "outputs": [
    {
     "name": "stdout",
     "output_type": "stream",
     "text": [
      "Epoch 1/20\n",
      "1500/1500 [==============================] - 3s 2ms/step - loss: 0.5846 - accuracy: 0.7955 - val_loss: 0.4277 - val_accuracy: 0.8478\n",
      "Epoch 2/20\n",
      "1500/1500 [==============================] - 3s 2ms/step - loss: 0.4386 - accuracy: 0.8433 - val_loss: 0.3926 - val_accuracy: 0.8558\n",
      "Epoch 3/20\n",
      "1500/1500 [==============================] - 3s 2ms/step - loss: 0.4017 - accuracy: 0.8547 - val_loss: 0.3723 - val_accuracy: 0.8681\n",
      "Epoch 4/20\n",
      "1500/1500 [==============================] - 3s 2ms/step - loss: 0.3808 - accuracy: 0.8603 - val_loss: 0.3527 - val_accuracy: 0.8724\n",
      "Epoch 5/20\n",
      "1500/1500 [==============================] - 3s 2ms/step - loss: 0.3652 - accuracy: 0.8662 - val_loss: 0.3686 - val_accuracy: 0.8659\n",
      "Epoch 6/20\n",
      "1500/1500 [==============================] - 3s 2ms/step - loss: 0.3514 - accuracy: 0.8701 - val_loss: 0.3452 - val_accuracy: 0.8728\n",
      "Epoch 7/20\n",
      "1500/1500 [==============================] - 3s 2ms/step - loss: 0.3449 - accuracy: 0.8732 - val_loss: 0.3386 - val_accuracy: 0.8757\n",
      "Epoch 8/20\n",
      "1500/1500 [==============================] - 3s 2ms/step - loss: 0.3324 - accuracy: 0.8761 - val_loss: 0.3331 - val_accuracy: 0.8786\n",
      "Epoch 9/20\n",
      "1500/1500 [==============================] - 3s 2ms/step - loss: 0.3290 - accuracy: 0.8794 - val_loss: 0.3241 - val_accuracy: 0.8834\n",
      "Epoch 10/20\n",
      "1500/1500 [==============================] - 4s 2ms/step - loss: 0.3184 - accuracy: 0.8811 - val_loss: 0.3342 - val_accuracy: 0.8762\n",
      "Epoch 11/20\n",
      "1500/1500 [==============================] - 3s 2ms/step - loss: 0.3127 - accuracy: 0.8848 - val_loss: 0.3467 - val_accuracy: 0.8737\n"
     ]
    }
   ],
   "source": [
    "model = model_fn(keras.layers.Dropout(0.3))\n",
    "model.compile(optimizer=\"adam\", loss = \"sparse_categorical_crossentropy\",\n",
    "             metrics = \"accuracy\")\n",
    "history = model.fit(scaled_train, y_train, epochs = 20, validation_split = 0.2,\n",
    "                   callbacks = [checkpoint_cb, early_stopping_cb])"
   ]
  },
  {
   "cell_type": "code",
   "execution_count": 21,
   "id": "7e9c6384",
   "metadata": {},
   "outputs": [
    {
     "data": {
      "text/plain": [
       "'2.15.0'"
      ]
     },
     "execution_count": 21,
     "metadata": {},
     "output_type": "execute_result"
    }
   ],
   "source": [
    "import tensorflow as tf\n",
    "tf.__version__"
   ]
  },
  {
   "cell_type": "code",
   "execution_count": null,
   "id": "2b9c15b5",
   "metadata": {},
   "outputs": [],
   "source": []
  }
 ],
 "metadata": {
  "kernelspec": {
   "display_name": "Python 3 (ipykernel)",
   "language": "python",
   "name": "python3"
  },
  "language_info": {
   "codemirror_mode": {
    "name": "ipython",
    "version": 3
   },
   "file_extension": ".py",
   "mimetype": "text/x-python",
   "name": "python",
   "nbconvert_exporter": "python",
   "pygments_lexer": "ipython3",
   "version": "3.11.5"
  }
 },
 "nbformat": 4,
 "nbformat_minor": 5
}
