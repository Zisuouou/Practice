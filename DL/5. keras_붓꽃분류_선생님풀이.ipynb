{
 "cells": [
  {
   "cell_type": "code",
   "execution_count": 1,
   "id": "ba3018cb",
   "metadata": {},
   "outputs": [
    {
     "name": "stdout",
     "output_type": "stream",
     "text": [
      "WARNING:tensorflow:From C:\\ProgramData\\anaconda3\\Lib\\site-packages\\keras\\src\\losses.py:2976: The name tf.losses.sparse_softmax_cross_entropy is deprecated. Please use tf.compat.v1.losses.sparse_softmax_cross_entropy instead.\n",
      "\n"
     ]
    }
   ],
   "source": [
    "from tensorflow import keras\n",
    "import pandas as pd\n",
    "from sklearn import datasets\n",
    "import numpy as np\n",
    "from sklearn.model_selection import train_test_split\n",
    "\n",
    "import seaborn as sns\n",
    "from tensorflow.keras.models import Sequential\n",
    "from tensorflow.keras.layers import Dense\n",
    "from sklearn.preprocessing import LabelEncoder\n",
    "from sklearn.datasets import load_iris\n",
    "import matplotlib.pyplot as plt\n",
    "%matplotlib inline\n",
    "import tensorflow as tf"
   ]
  },
  {
   "cell_type": "code",
   "execution_count": 2,
   "id": "61c666ff",
   "metadata": {},
   "outputs": [],
   "source": [
    "data = datasets.load_iris()"
   ]
  },
  {
   "cell_type": "code",
   "execution_count": 3,
   "id": "5b4bdbdf",
   "metadata": {},
   "outputs": [
    {
     "data": {
      "text/plain": [
       "sklearn.utils._bunch.Bunch"
      ]
     },
     "execution_count": 3,
     "metadata": {},
     "output_type": "execute_result"
    }
   ],
   "source": [
    "type(data)"
   ]
  },
  {
   "cell_type": "code",
   "execution_count": 4,
   "id": "7f3050a1",
   "metadata": {},
   "outputs": [],
   "source": [
    "df = pd.DataFrame(data.data, columns = data.feature_names)"
   ]
  },
  {
   "cell_type": "code",
   "execution_count": 5,
   "id": "a8ae9319",
   "metadata": {},
   "outputs": [
    {
     "data": {
      "text/html": [
       "<div>\n",
       "<style scoped>\n",
       "    .dataframe tbody tr th:only-of-type {\n",
       "        vertical-align: middle;\n",
       "    }\n",
       "\n",
       "    .dataframe tbody tr th {\n",
       "        vertical-align: top;\n",
       "    }\n",
       "\n",
       "    .dataframe thead th {\n",
       "        text-align: right;\n",
       "    }\n",
       "</style>\n",
       "<table border=\"1\" class=\"dataframe\">\n",
       "  <thead>\n",
       "    <tr style=\"text-align: right;\">\n",
       "      <th></th>\n",
       "      <th>sepal length (cm)</th>\n",
       "      <th>sepal width (cm)</th>\n",
       "      <th>petal length (cm)</th>\n",
       "      <th>petal width (cm)</th>\n",
       "    </tr>\n",
       "  </thead>\n",
       "  <tbody>\n",
       "    <tr>\n",
       "      <th>0</th>\n",
       "      <td>5.1</td>\n",
       "      <td>3.5</td>\n",
       "      <td>1.4</td>\n",
       "      <td>0.2</td>\n",
       "    </tr>\n",
       "    <tr>\n",
       "      <th>1</th>\n",
       "      <td>4.9</td>\n",
       "      <td>3.0</td>\n",
       "      <td>1.4</td>\n",
       "      <td>0.2</td>\n",
       "    </tr>\n",
       "    <tr>\n",
       "      <th>2</th>\n",
       "      <td>4.7</td>\n",
       "      <td>3.2</td>\n",
       "      <td>1.3</td>\n",
       "      <td>0.2</td>\n",
       "    </tr>\n",
       "    <tr>\n",
       "      <th>3</th>\n",
       "      <td>4.6</td>\n",
       "      <td>3.1</td>\n",
       "      <td>1.5</td>\n",
       "      <td>0.2</td>\n",
       "    </tr>\n",
       "    <tr>\n",
       "      <th>4</th>\n",
       "      <td>5.0</td>\n",
       "      <td>3.6</td>\n",
       "      <td>1.4</td>\n",
       "      <td>0.2</td>\n",
       "    </tr>\n",
       "  </tbody>\n",
       "</table>\n",
       "</div>"
      ],
      "text/plain": [
       "   sepal length (cm)  sepal width (cm)  petal length (cm)  petal width (cm)\n",
       "0                5.1               3.5                1.4               0.2\n",
       "1                4.9               3.0                1.4               0.2\n",
       "2                4.7               3.2                1.3               0.2\n",
       "3                4.6               3.1                1.5               0.2\n",
       "4                5.0               3.6                1.4               0.2"
      ]
     },
     "execution_count": 5,
     "metadata": {},
     "output_type": "execute_result"
    }
   ],
   "source": [
    "df.head()"
   ]
  },
  {
   "cell_type": "code",
   "execution_count": 6,
   "id": "c547de6e",
   "metadata": {},
   "outputs": [
    {
     "data": {
      "text/plain": [
       "pandas.core.frame.DataFrame"
      ]
     },
     "execution_count": 6,
     "metadata": {},
     "output_type": "execute_result"
    }
   ],
   "source": [
    "type(df)"
   ]
  },
  {
   "cell_type": "code",
   "execution_count": 23,
   "id": "7aedf8ee",
   "metadata": {},
   "outputs": [],
   "source": [
    "df[\"species\"] = data.target"
   ]
  },
  {
   "cell_type": "code",
   "execution_count": 24,
   "id": "5942606b",
   "metadata": {},
   "outputs": [
    {
     "data": {
      "text/html": [
       "<div>\n",
       "<style scoped>\n",
       "    .dataframe tbody tr th:only-of-type {\n",
       "        vertical-align: middle;\n",
       "    }\n",
       "\n",
       "    .dataframe tbody tr th {\n",
       "        vertical-align: top;\n",
       "    }\n",
       "\n",
       "    .dataframe thead th {\n",
       "        text-align: right;\n",
       "    }\n",
       "</style>\n",
       "<table border=\"1\" class=\"dataframe\">\n",
       "  <thead>\n",
       "    <tr style=\"text-align: right;\">\n",
       "      <th></th>\n",
       "      <th>sepal length (cm)</th>\n",
       "      <th>sepal width (cm)</th>\n",
       "      <th>petal length (cm)</th>\n",
       "      <th>petal width (cm)</th>\n",
       "      <th>species</th>\n",
       "    </tr>\n",
       "  </thead>\n",
       "  <tbody>\n",
       "    <tr>\n",
       "      <th>0</th>\n",
       "      <td>5.1</td>\n",
       "      <td>3.5</td>\n",
       "      <td>1.4</td>\n",
       "      <td>0.2</td>\n",
       "      <td>0</td>\n",
       "    </tr>\n",
       "    <tr>\n",
       "      <th>1</th>\n",
       "      <td>4.9</td>\n",
       "      <td>3.0</td>\n",
       "      <td>1.4</td>\n",
       "      <td>0.2</td>\n",
       "      <td>0</td>\n",
       "    </tr>\n",
       "    <tr>\n",
       "      <th>2</th>\n",
       "      <td>4.7</td>\n",
       "      <td>3.2</td>\n",
       "      <td>1.3</td>\n",
       "      <td>0.2</td>\n",
       "      <td>0</td>\n",
       "    </tr>\n",
       "    <tr>\n",
       "      <th>3</th>\n",
       "      <td>4.6</td>\n",
       "      <td>3.1</td>\n",
       "      <td>1.5</td>\n",
       "      <td>0.2</td>\n",
       "      <td>0</td>\n",
       "    </tr>\n",
       "    <tr>\n",
       "      <th>4</th>\n",
       "      <td>5.0</td>\n",
       "      <td>3.6</td>\n",
       "      <td>1.4</td>\n",
       "      <td>0.2</td>\n",
       "      <td>0</td>\n",
       "    </tr>\n",
       "  </tbody>\n",
       "</table>\n",
       "</div>"
      ],
      "text/plain": [
       "   sepal length (cm)  sepal width (cm)  petal length (cm)  petal width (cm)  \\\n",
       "0                5.1               3.5                1.4               0.2   \n",
       "1                4.9               3.0                1.4               0.2   \n",
       "2                4.7               3.2                1.3               0.2   \n",
       "3                4.6               3.1                1.5               0.2   \n",
       "4                5.0               3.6                1.4               0.2   \n",
       "\n",
       "   species  \n",
       "0        0  \n",
       "1        0  \n",
       "2        0  \n",
       "3        0  \n",
       "4        0  "
      ]
     },
     "execution_count": 24,
     "metadata": {},
     "output_type": "execute_result"
    }
   ],
   "source": [
    "df.head()"
   ]
  },
  {
   "cell_type": "code",
   "execution_count": 25,
   "id": "44998331",
   "metadata": {},
   "outputs": [
    {
     "data": {
      "text/plain": [
       "(150, 5)"
      ]
     },
     "execution_count": 25,
     "metadata": {},
     "output_type": "execute_result"
    }
   ],
   "source": [
    "df.shape"
   ]
  },
  {
   "cell_type": "code",
   "execution_count": 26,
   "id": "11bc7c35",
   "metadata": {},
   "outputs": [
    {
     "name": "stdout",
     "output_type": "stream",
     "text": [
      "<class 'pandas.core.frame.DataFrame'>\n",
      "RangeIndex: 150 entries, 0 to 149\n",
      "Data columns (total 5 columns):\n",
      " #   Column             Non-Null Count  Dtype  \n",
      "---  ------             --------------  -----  \n",
      " 0   sepal length (cm)  150 non-null    float64\n",
      " 1   sepal width (cm)   150 non-null    float64\n",
      " 2   petal length (cm)  150 non-null    float64\n",
      " 3   petal width (cm)   150 non-null    float64\n",
      " 4   species            150 non-null    int32  \n",
      "dtypes: float64(4), int32(1)\n",
      "memory usage: 5.4 KB\n"
     ]
    }
   ],
   "source": [
    "df.info()"
   ]
  },
  {
   "cell_type": "code",
   "execution_count": 27,
   "id": "cdf2fba5",
   "metadata": {},
   "outputs": [
    {
     "data": {
      "text/html": [
       "<div>\n",
       "<style scoped>\n",
       "    .dataframe tbody tr th:only-of-type {\n",
       "        vertical-align: middle;\n",
       "    }\n",
       "\n",
       "    .dataframe tbody tr th {\n",
       "        vertical-align: top;\n",
       "    }\n",
       "\n",
       "    .dataframe thead th {\n",
       "        text-align: right;\n",
       "    }\n",
       "</style>\n",
       "<table border=\"1\" class=\"dataframe\">\n",
       "  <thead>\n",
       "    <tr style=\"text-align: right;\">\n",
       "      <th></th>\n",
       "      <th>sepal length (cm)</th>\n",
       "      <th>sepal width (cm)</th>\n",
       "      <th>petal length (cm)</th>\n",
       "      <th>petal width (cm)</th>\n",
       "      <th>species</th>\n",
       "    </tr>\n",
       "  </thead>\n",
       "  <tbody>\n",
       "    <tr>\n",
       "      <th>count</th>\n",
       "      <td>150.000000</td>\n",
       "      <td>150.000000</td>\n",
       "      <td>150.000000</td>\n",
       "      <td>150.000000</td>\n",
       "      <td>150.000000</td>\n",
       "    </tr>\n",
       "    <tr>\n",
       "      <th>mean</th>\n",
       "      <td>5.843333</td>\n",
       "      <td>3.057333</td>\n",
       "      <td>3.758000</td>\n",
       "      <td>1.199333</td>\n",
       "      <td>1.000000</td>\n",
       "    </tr>\n",
       "    <tr>\n",
       "      <th>std</th>\n",
       "      <td>0.828066</td>\n",
       "      <td>0.435866</td>\n",
       "      <td>1.765298</td>\n",
       "      <td>0.762238</td>\n",
       "      <td>0.819232</td>\n",
       "    </tr>\n",
       "    <tr>\n",
       "      <th>min</th>\n",
       "      <td>4.300000</td>\n",
       "      <td>2.000000</td>\n",
       "      <td>1.000000</td>\n",
       "      <td>0.100000</td>\n",
       "      <td>0.000000</td>\n",
       "    </tr>\n",
       "    <tr>\n",
       "      <th>25%</th>\n",
       "      <td>5.100000</td>\n",
       "      <td>2.800000</td>\n",
       "      <td>1.600000</td>\n",
       "      <td>0.300000</td>\n",
       "      <td>0.000000</td>\n",
       "    </tr>\n",
       "    <tr>\n",
       "      <th>50%</th>\n",
       "      <td>5.800000</td>\n",
       "      <td>3.000000</td>\n",
       "      <td>4.350000</td>\n",
       "      <td>1.300000</td>\n",
       "      <td>1.000000</td>\n",
       "    </tr>\n",
       "    <tr>\n",
       "      <th>75%</th>\n",
       "      <td>6.400000</td>\n",
       "      <td>3.300000</td>\n",
       "      <td>5.100000</td>\n",
       "      <td>1.800000</td>\n",
       "      <td>2.000000</td>\n",
       "    </tr>\n",
       "    <tr>\n",
       "      <th>max</th>\n",
       "      <td>7.900000</td>\n",
       "      <td>4.400000</td>\n",
       "      <td>6.900000</td>\n",
       "      <td>2.500000</td>\n",
       "      <td>2.000000</td>\n",
       "    </tr>\n",
       "  </tbody>\n",
       "</table>\n",
       "</div>"
      ],
      "text/plain": [
       "       sepal length (cm)  sepal width (cm)  petal length (cm)  \\\n",
       "count         150.000000        150.000000         150.000000   \n",
       "mean            5.843333          3.057333           3.758000   \n",
       "std             0.828066          0.435866           1.765298   \n",
       "min             4.300000          2.000000           1.000000   \n",
       "25%             5.100000          2.800000           1.600000   \n",
       "50%             5.800000          3.000000           4.350000   \n",
       "75%             6.400000          3.300000           5.100000   \n",
       "max             7.900000          4.400000           6.900000   \n",
       "\n",
       "       petal width (cm)     species  \n",
       "count        150.000000  150.000000  \n",
       "mean           1.199333    1.000000  \n",
       "std            0.762238    0.819232  \n",
       "min            0.100000    0.000000  \n",
       "25%            0.300000    0.000000  \n",
       "50%            1.300000    1.000000  \n",
       "75%            1.800000    2.000000  \n",
       "max            2.500000    2.000000  "
      ]
     },
     "execution_count": 27,
     "metadata": {},
     "output_type": "execute_result"
    }
   ],
   "source": [
    "df.describe()"
   ]
  },
  {
   "cell_type": "code",
   "execution_count": 28,
   "id": "ca0291d1",
   "metadata": {},
   "outputs": [
    {
     "data": {
      "text/plain": [
       "(array([0, 1, 2]), array([50, 50, 50], dtype=int64))"
      ]
     },
     "execution_count": 28,
     "metadata": {},
     "output_type": "execute_result"
    }
   ],
   "source": [
    "np.unique(df[\"species\"], return_counts = True)"
   ]
  },
  {
   "cell_type": "code",
   "execution_count": 29,
   "id": "3e57191c",
   "metadata": {},
   "outputs": [],
   "source": [
    "# 데이터 분할\n",
    "x = df.drop(\"species\", axis = 1)\n",
    "y = df[\"species\"]"
   ]
  },
  {
   "cell_type": "code",
   "execution_count": 30,
   "id": "998d7289",
   "metadata": {
    "scrolled": true
   },
   "outputs": [
    {
     "data": {
      "text/plain": [
       "species\n",
       "0    50\n",
       "1    50\n",
       "2    50\n",
       "Name: count, dtype: int64"
      ]
     },
     "execution_count": 30,
     "metadata": {},
     "output_type": "execute_result"
    }
   ],
   "source": [
    "# 종속변수 값 확인\n",
    "y.value_counts()"
   ]
  },
  {
   "cell_type": "code",
   "execution_count": 31,
   "id": "cc88e4ef",
   "metadata": {},
   "outputs": [
    {
     "data": {
      "text/plain": [
       "(150, 4)"
      ]
     },
     "execution_count": 31,
     "metadata": {},
     "output_type": "execute_result"
    }
   ],
   "source": [
    "x.shape"
   ]
  },
  {
   "cell_type": "code",
   "execution_count": 32,
   "id": "1f33e2ab",
   "metadata": {},
   "outputs": [
    {
     "data": {
      "text/plain": [
       "sepal length (cm)    5.1\n",
       "sepal width (cm)     3.5\n",
       "petal length (cm)    1.4\n",
       "petal width (cm)     0.2\n",
       "Name: 0, dtype: float64"
      ]
     },
     "execution_count": 32,
     "metadata": {},
     "output_type": "execute_result"
    }
   ],
   "source": [
    "# input_shape() 값에 넣는 개수\n",
    "x.iloc[0] "
   ]
  },
  {
   "cell_type": "code",
   "execution_count": 35,
   "id": "c7dac011",
   "metadata": {},
   "outputs": [
    {
     "name": "stdout",
     "output_type": "stream",
     "text": [
      "WARNING:tensorflow:From C:\\ProgramData\\anaconda3\\Lib\\site-packages\\keras\\src\\backend.py:873: The name tf.get_default_graph is deprecated. Please use tf.compat.v1.get_default_graph instead.\n",
      "\n"
     ]
    }
   ],
   "source": [
    "# 모델 구성\n",
    "model = keras.Sequential()\n",
    "model.add(keras.layers.Dense(16, activation = \"relu\", input_shape = (4,)))\n",
    "model.add(keras.layers.Dense(3, activation = \"softmax\"))"
   ]
  },
  {
   "cell_type": "markdown",
   "id": "c898c418",
   "metadata": {},
   "source": [
    "- 16, activation = \"relu\" 여기 부분(은닉층)은 자유롭게 쓸 수 있음\n",
    "- 출력층은 아님\n",
    "    - 3, activation = \"softmax\" 이 부분은 고정"
   ]
  },
  {
   "cell_type": "code",
   "execution_count": 36,
   "id": "6a7a66c7",
   "metadata": {},
   "outputs": [
    {
     "data": {
      "text/plain": [
       "(150,)"
      ]
     },
     "execution_count": 36,
     "metadata": {},
     "output_type": "execute_result"
    }
   ],
   "source": [
    "y.shape"
   ]
  },
  {
   "cell_type": "code",
   "execution_count": 37,
   "id": "9e5aea8d",
   "metadata": {},
   "outputs": [
    {
     "name": "stdout",
     "output_type": "stream",
     "text": [
      "WARNING:tensorflow:From C:\\ProgramData\\anaconda3\\Lib\\site-packages\\keras\\src\\optimizers\\__init__.py:309: The name tf.train.Optimizer is deprecated. Please use tf.compat.v1.train.Optimizer instead.\n",
      "\n"
     ]
    }
   ],
   "source": [
    "model.compile(loss = \"sparse_categorical_crossentropy\", optimizer = \"adam\",\n",
    "             metrics = [\"accuracy\"])"
   ]
  },
  {
   "cell_type": "code",
   "execution_count": 38,
   "id": "d7d39c1c",
   "metadata": {},
   "outputs": [],
   "source": [
    "x_train, x_test, y_train, y_test = train_test_split(x, y, stratify = y, test_size = 0.2,\n",
    "                                                   random_state = 12)"
   ]
  },
  {
   "cell_type": "code",
   "execution_count": 39,
   "id": "9ae4ddef",
   "metadata": {},
   "outputs": [],
   "source": [
    "x_sub, x_val, y_sub, y_val = train_test_split(x_train, y_train, stratify = y_train,\n",
    "                                             test_size = 0.2, random_state = 12)"
   ]
  },
  {
   "cell_type": "code",
   "execution_count": 41,
   "id": "3bc4f052",
   "metadata": {},
   "outputs": [
    {
     "data": {
      "text/plain": [
       "(96, 4)"
      ]
     },
     "execution_count": 41,
     "metadata": {},
     "output_type": "execute_result"
    }
   ],
   "source": [
    "x_sub.shape"
   ]
  },
  {
   "cell_type": "code",
   "execution_count": 42,
   "id": "d914be25",
   "metadata": {
    "scrolled": true
   },
   "outputs": [
    {
     "name": "stdout",
     "output_type": "stream",
     "text": [
      "Epoch 1/50\n",
      "24/24 [==============================] - 0s 4ms/step - loss: 0.6228 - accuracy: 0.6562 - val_loss: 0.6167 - val_accuracy: 0.7083\n",
      "Epoch 2/50\n",
      "24/24 [==============================] - 0s 3ms/step - loss: 0.5985 - accuracy: 0.7188 - val_loss: 0.5923 - val_accuracy: 0.6667\n",
      "Epoch 3/50\n",
      "24/24 [==============================] - 0s 3ms/step - loss: 0.5775 - accuracy: 0.6771 - val_loss: 0.5718 - val_accuracy: 0.7500\n",
      "Epoch 4/50\n",
      "24/24 [==============================] - 0s 3ms/step - loss: 0.5483 - accuracy: 0.7917 - val_loss: 0.5531 - val_accuracy: 0.7500\n",
      "Epoch 5/50\n",
      "24/24 [==============================] - 0s 3ms/step - loss: 0.5283 - accuracy: 0.7188 - val_loss: 0.5394 - val_accuracy: 0.7500\n",
      "Epoch 6/50\n",
      "24/24 [==============================] - 0s 3ms/step - loss: 0.5117 - accuracy: 0.8229 - val_loss: 0.5233 - val_accuracy: 0.7917\n",
      "Epoch 7/50\n",
      "24/24 [==============================] - 0s 2ms/step - loss: 0.5038 - accuracy: 0.8229 - val_loss: 0.5112 - val_accuracy: 0.7917\n",
      "Epoch 8/50\n",
      "24/24 [==============================] - 0s 3ms/step - loss: 0.4898 - accuracy: 0.7188 - val_loss: 0.5000 - val_accuracy: 0.7917\n",
      "Epoch 9/50\n",
      "24/24 [==============================] - 0s 2ms/step - loss: 0.4746 - accuracy: 0.8750 - val_loss: 0.4876 - val_accuracy: 0.7917\n",
      "Epoch 10/50\n",
      "24/24 [==============================] - 0s 3ms/step - loss: 0.4598 - accuracy: 0.8646 - val_loss: 0.4787 - val_accuracy: 0.7917\n",
      "Epoch 11/50\n",
      "24/24 [==============================] - 0s 3ms/step - loss: 0.4558 - accuracy: 0.8542 - val_loss: 0.4708 - val_accuracy: 0.7917\n",
      "Epoch 12/50\n",
      "24/24 [==============================] - 0s 2ms/step - loss: 0.4444 - accuracy: 0.8854 - val_loss: 0.4588 - val_accuracy: 0.7917\n",
      "Epoch 13/50\n",
      "24/24 [==============================] - 0s 3ms/step - loss: 0.4357 - accuracy: 0.8750 - val_loss: 0.4501 - val_accuracy: 0.7917\n",
      "Epoch 14/50\n",
      "24/24 [==============================] - 0s 3ms/step - loss: 0.4278 - accuracy: 0.8750 - val_loss: 0.4416 - val_accuracy: 0.8333\n",
      "Epoch 15/50\n",
      "24/24 [==============================] - 0s 3ms/step - loss: 0.4210 - accuracy: 0.8542 - val_loss: 0.4372 - val_accuracy: 0.7917\n",
      "Epoch 16/50\n",
      "24/24 [==============================] - 0s 2ms/step - loss: 0.4103 - accuracy: 0.9375 - val_loss: 0.4261 - val_accuracy: 0.8750\n",
      "Epoch 17/50\n",
      "24/24 [==============================] - 0s 3ms/step - loss: 0.3999 - accuracy: 0.9271 - val_loss: 0.4212 - val_accuracy: 0.7917\n",
      "Epoch 18/50\n",
      "24/24 [==============================] - 0s 2ms/step - loss: 0.3981 - accuracy: 0.8958 - val_loss: 0.4123 - val_accuracy: 0.9583\n",
      "Epoch 19/50\n",
      "24/24 [==============================] - 0s 3ms/step - loss: 0.3922 - accuracy: 0.9375 - val_loss: 0.4063 - val_accuracy: 0.9583\n",
      "Epoch 20/50\n",
      "24/24 [==============================] - 0s 3ms/step - loss: 0.3834 - accuracy: 0.9375 - val_loss: 0.4005 - val_accuracy: 0.8750\n",
      "Epoch 21/50\n",
      "24/24 [==============================] - 0s 3ms/step - loss: 0.3770 - accuracy: 0.9167 - val_loss: 0.3969 - val_accuracy: 0.7917\n",
      "Epoch 22/50\n",
      "24/24 [==============================] - 0s 3ms/step - loss: 0.3697 - accuracy: 0.9271 - val_loss: 0.3883 - val_accuracy: 0.9167\n",
      "Epoch 23/50\n",
      "24/24 [==============================] - 0s 3ms/step - loss: 0.3643 - accuracy: 0.9375 - val_loss: 0.3829 - val_accuracy: 0.9167\n",
      "Epoch 24/50\n",
      "24/24 [==============================] - 0s 3ms/step - loss: 0.3648 - accuracy: 0.9062 - val_loss: 0.3788 - val_accuracy: 0.8333\n",
      "Epoch 25/50\n",
      "24/24 [==============================] - 0s 2ms/step - loss: 0.3585 - accuracy: 0.8958 - val_loss: 0.3719 - val_accuracy: 0.8750\n",
      "Epoch 26/50\n",
      "24/24 [==============================] - 0s 2ms/step - loss: 0.3509 - accuracy: 0.9062 - val_loss: 0.3668 - val_accuracy: 0.9167\n",
      "Epoch 27/50\n",
      "24/24 [==============================] - 0s 2ms/step - loss: 0.3435 - accuracy: 0.9375 - val_loss: 0.3667 - val_accuracy: 0.8333\n",
      "Epoch 28/50\n",
      "24/24 [==============================] - 0s 2ms/step - loss: 0.3358 - accuracy: 0.9375 - val_loss: 0.3578 - val_accuracy: 0.9167\n",
      "Epoch 29/50\n",
      "24/24 [==============================] - 0s 2ms/step - loss: 0.3329 - accuracy: 0.9479 - val_loss: 0.3521 - val_accuracy: 0.9583\n",
      "Epoch 30/50\n",
      "24/24 [==============================] - 0s 3ms/step - loss: 0.3278 - accuracy: 0.9479 - val_loss: 0.3525 - val_accuracy: 0.8333\n",
      "Epoch 31/50\n",
      "24/24 [==============================] - 0s 3ms/step - loss: 0.3236 - accuracy: 0.9375 - val_loss: 0.3450 - val_accuracy: 0.9167\n",
      "Epoch 32/50\n",
      "24/24 [==============================] - 0s 3ms/step - loss: 0.3214 - accuracy: 0.9479 - val_loss: 0.3390 - val_accuracy: 0.9583\n",
      "Epoch 33/50\n",
      "24/24 [==============================] - 0s 2ms/step - loss: 0.3238 - accuracy: 0.9375 - val_loss: 0.3398 - val_accuracy: 0.9167\n",
      "Epoch 34/50\n",
      "24/24 [==============================] - 0s 2ms/step - loss: 0.3113 - accuracy: 0.9583 - val_loss: 0.3308 - val_accuracy: 0.9167\n",
      "Epoch 35/50\n",
      "24/24 [==============================] - 0s 2ms/step - loss: 0.3057 - accuracy: 0.9583 - val_loss: 0.3265 - val_accuracy: 0.9583\n",
      "Epoch 36/50\n",
      "24/24 [==============================] - 0s 2ms/step - loss: 0.3002 - accuracy: 0.9479 - val_loss: 0.3247 - val_accuracy: 0.9167\n",
      "Epoch 37/50\n",
      "24/24 [==============================] - 0s 3ms/step - loss: 0.2973 - accuracy: 0.9583 - val_loss: 0.3185 - val_accuracy: 0.9583\n",
      "Epoch 38/50\n",
      "24/24 [==============================] - 0s 2ms/step - loss: 0.2928 - accuracy: 0.9583 - val_loss: 0.3148 - val_accuracy: 0.9583\n",
      "Epoch 39/50\n",
      "24/24 [==============================] - 0s 2ms/step - loss: 0.2891 - accuracy: 0.9688 - val_loss: 0.3157 - val_accuracy: 0.9167\n",
      "Epoch 40/50\n",
      "24/24 [==============================] - 0s 2ms/step - loss: 0.2876 - accuracy: 0.9583 - val_loss: 0.3080 - val_accuracy: 0.9167\n",
      "Epoch 41/50\n",
      "24/24 [==============================] - 0s 3ms/step - loss: 0.2839 - accuracy: 0.9479 - val_loss: 0.3056 - val_accuracy: 0.9167\n",
      "Epoch 42/50\n",
      "24/24 [==============================] - 0s 2ms/step - loss: 0.2774 - accuracy: 0.9688 - val_loss: 0.3002 - val_accuracy: 0.9583\n",
      "Epoch 43/50\n",
      "24/24 [==============================] - 0s 2ms/step - loss: 0.2737 - accuracy: 0.9688 - val_loss: 0.2984 - val_accuracy: 0.9167\n",
      "Epoch 44/50\n",
      "24/24 [==============================] - 0s 3ms/step - loss: 0.2693 - accuracy: 0.9688 - val_loss: 0.2946 - val_accuracy: 0.9167\n",
      "Epoch 45/50\n",
      "24/24 [==============================] - 0s 3ms/step - loss: 0.2754 - accuracy: 0.9583 - val_loss: 0.2904 - val_accuracy: 0.9583\n",
      "Epoch 46/50\n",
      "24/24 [==============================] - 0s 3ms/step - loss: 0.2610 - accuracy: 0.9688 - val_loss: 0.2928 - val_accuracy: 0.9167\n",
      "Epoch 47/50\n",
      "24/24 [==============================] - 0s 3ms/step - loss: 0.2616 - accuracy: 0.9583 - val_loss: 0.2870 - val_accuracy: 0.9167\n",
      "Epoch 48/50\n",
      "24/24 [==============================] - 0s 3ms/step - loss: 0.2610 - accuracy: 0.9688 - val_loss: 0.2814 - val_accuracy: 0.9167\n",
      "Epoch 49/50\n",
      "24/24 [==============================] - 0s 3ms/step - loss: 0.2572 - accuracy: 0.9688 - val_loss: 0.2776 - val_accuracy: 0.9583\n",
      "Epoch 50/50\n",
      "24/24 [==============================] - 0s 3ms/step - loss: 0.2552 - accuracy: 0.9583 - val_loss: 0.2749 - val_accuracy: 0.9167\n"
     ]
    },
    {
     "data": {
      "text/plain": [
       "<keras.src.callbacks.History at 0x1d96ebe6590>"
      ]
     },
     "execution_count": 42,
     "metadata": {},
     "output_type": "execute_result"
    }
   ],
   "source": [
    "model.fit(x_sub, y_sub, epochs = 50, validation_data = (x_val, y_val), batch_size = 4)"
   ]
  },
  {
   "cell_type": "markdown",
   "id": "bf69dec2",
   "metadata": {},
   "source": [
    "- to_categorical()"
   ]
  },
  {
   "cell_type": "code",
   "execution_count": 43,
   "id": "27c9fc91",
   "metadata": {},
   "outputs": [],
   "source": [
    "encoded_y = keras.utils.to_categorical(y)"
   ]
  },
  {
   "cell_type": "code",
   "execution_count": 44,
   "id": "4b2f2aa9",
   "metadata": {},
   "outputs": [
    {
     "data": {
      "text/plain": [
       "array([[1., 0., 0.],\n",
       "       [1., 0., 0.],\n",
       "       [1., 0., 0.],\n",
       "       [1., 0., 0.],\n",
       "       [1., 0., 0.],\n",
       "       [1., 0., 0.],\n",
       "       [1., 0., 0.],\n",
       "       [1., 0., 0.],\n",
       "       [1., 0., 0.],\n",
       "       [1., 0., 0.],\n",
       "       [1., 0., 0.],\n",
       "       [1., 0., 0.],\n",
       "       [1., 0., 0.],\n",
       "       [1., 0., 0.],\n",
       "       [1., 0., 0.],\n",
       "       [1., 0., 0.],\n",
       "       [1., 0., 0.],\n",
       "       [1., 0., 0.],\n",
       "       [1., 0., 0.],\n",
       "       [1., 0., 0.],\n",
       "       [1., 0., 0.],\n",
       "       [1., 0., 0.],\n",
       "       [1., 0., 0.],\n",
       "       [1., 0., 0.],\n",
       "       [1., 0., 0.],\n",
       "       [1., 0., 0.],\n",
       "       [1., 0., 0.],\n",
       "       [1., 0., 0.],\n",
       "       [1., 0., 0.],\n",
       "       [1., 0., 0.],\n",
       "       [1., 0., 0.],\n",
       "       [1., 0., 0.],\n",
       "       [1., 0., 0.],\n",
       "       [1., 0., 0.],\n",
       "       [1., 0., 0.],\n",
       "       [1., 0., 0.],\n",
       "       [1., 0., 0.],\n",
       "       [1., 0., 0.],\n",
       "       [1., 0., 0.],\n",
       "       [1., 0., 0.],\n",
       "       [1., 0., 0.],\n",
       "       [1., 0., 0.],\n",
       "       [1., 0., 0.],\n",
       "       [1., 0., 0.],\n",
       "       [1., 0., 0.],\n",
       "       [1., 0., 0.],\n",
       "       [1., 0., 0.],\n",
       "       [1., 0., 0.],\n",
       "       [1., 0., 0.],\n",
       "       [1., 0., 0.],\n",
       "       [0., 1., 0.],\n",
       "       [0., 1., 0.],\n",
       "       [0., 1., 0.],\n",
       "       [0., 1., 0.],\n",
       "       [0., 1., 0.],\n",
       "       [0., 1., 0.],\n",
       "       [0., 1., 0.],\n",
       "       [0., 1., 0.],\n",
       "       [0., 1., 0.],\n",
       "       [0., 1., 0.],\n",
       "       [0., 1., 0.],\n",
       "       [0., 1., 0.],\n",
       "       [0., 1., 0.],\n",
       "       [0., 1., 0.],\n",
       "       [0., 1., 0.],\n",
       "       [0., 1., 0.],\n",
       "       [0., 1., 0.],\n",
       "       [0., 1., 0.],\n",
       "       [0., 1., 0.],\n",
       "       [0., 1., 0.],\n",
       "       [0., 1., 0.],\n",
       "       [0., 1., 0.],\n",
       "       [0., 1., 0.],\n",
       "       [0., 1., 0.],\n",
       "       [0., 1., 0.],\n",
       "       [0., 1., 0.],\n",
       "       [0., 1., 0.],\n",
       "       [0., 1., 0.],\n",
       "       [0., 1., 0.],\n",
       "       [0., 1., 0.],\n",
       "       [0., 1., 0.],\n",
       "       [0., 1., 0.],\n",
       "       [0., 1., 0.],\n",
       "       [0., 1., 0.],\n",
       "       [0., 1., 0.],\n",
       "       [0., 1., 0.],\n",
       "       [0., 1., 0.],\n",
       "       [0., 1., 0.],\n",
       "       [0., 1., 0.],\n",
       "       [0., 1., 0.],\n",
       "       [0., 1., 0.],\n",
       "       [0., 1., 0.],\n",
       "       [0., 1., 0.],\n",
       "       [0., 1., 0.],\n",
       "       [0., 1., 0.],\n",
       "       [0., 1., 0.],\n",
       "       [0., 1., 0.],\n",
       "       [0., 1., 0.],\n",
       "       [0., 1., 0.],\n",
       "       [0., 1., 0.],\n",
       "       [0., 0., 1.],\n",
       "       [0., 0., 1.],\n",
       "       [0., 0., 1.],\n",
       "       [0., 0., 1.],\n",
       "       [0., 0., 1.],\n",
       "       [0., 0., 1.],\n",
       "       [0., 0., 1.],\n",
       "       [0., 0., 1.],\n",
       "       [0., 0., 1.],\n",
       "       [0., 0., 1.],\n",
       "       [0., 0., 1.],\n",
       "       [0., 0., 1.],\n",
       "       [0., 0., 1.],\n",
       "       [0., 0., 1.],\n",
       "       [0., 0., 1.],\n",
       "       [0., 0., 1.],\n",
       "       [0., 0., 1.],\n",
       "       [0., 0., 1.],\n",
       "       [0., 0., 1.],\n",
       "       [0., 0., 1.],\n",
       "       [0., 0., 1.],\n",
       "       [0., 0., 1.],\n",
       "       [0., 0., 1.],\n",
       "       [0., 0., 1.],\n",
       "       [0., 0., 1.],\n",
       "       [0., 0., 1.],\n",
       "       [0., 0., 1.],\n",
       "       [0., 0., 1.],\n",
       "       [0., 0., 1.],\n",
       "       [0., 0., 1.],\n",
       "       [0., 0., 1.],\n",
       "       [0., 0., 1.],\n",
       "       [0., 0., 1.],\n",
       "       [0., 0., 1.],\n",
       "       [0., 0., 1.],\n",
       "       [0., 0., 1.],\n",
       "       [0., 0., 1.],\n",
       "       [0., 0., 1.],\n",
       "       [0., 0., 1.],\n",
       "       [0., 0., 1.],\n",
       "       [0., 0., 1.],\n",
       "       [0., 0., 1.],\n",
       "       [0., 0., 1.],\n",
       "       [0., 0., 1.],\n",
       "       [0., 0., 1.],\n",
       "       [0., 0., 1.],\n",
       "       [0., 0., 1.],\n",
       "       [0., 0., 1.],\n",
       "       [0., 0., 1.],\n",
       "       [0., 0., 1.]], dtype=float32)"
      ]
     },
     "execution_count": 44,
     "metadata": {},
     "output_type": "execute_result"
    }
   ],
   "source": [
    "encoded_y"
   ]
  },
  {
   "cell_type": "code",
   "execution_count": 45,
   "id": "45792860",
   "metadata": {},
   "outputs": [],
   "source": [
    "x_train, x_test, y_train, y_test = train_test_split(x, encoded_y, stratify = encoded_y, test_size = 0.2,\n",
    "                                                   random_state = 12)"
   ]
  },
  {
   "cell_type": "code",
   "execution_count": 46,
   "id": "c039aabb",
   "metadata": {},
   "outputs": [],
   "source": [
    "x_sub, x_val, y_sub, y_val = train_test_split(x_train, y_train, stratify = y_train,\n",
    "                                             test_size = 0.2, random_state = 12)"
   ]
  },
  {
   "cell_type": "code",
   "execution_count": 47,
   "id": "42bf0e8a",
   "metadata": {},
   "outputs": [
    {
     "data": {
      "text/plain": [
       "array([[0., 1., 0.],\n",
       "       [1., 0., 0.],\n",
       "       [0., 1., 0.],\n",
       "       [0., 1., 0.],\n",
       "       [1., 0., 0.]], dtype=float32)"
      ]
     },
     "execution_count": 47,
     "metadata": {},
     "output_type": "execute_result"
    }
   ],
   "source": [
    "y_val[:5]"
   ]
  },
  {
   "cell_type": "code",
   "execution_count": 48,
   "id": "969e59e3",
   "metadata": {},
   "outputs": [],
   "source": [
    "model2 = keras.Sequential()\n",
    "model2.add(keras.layers.Dense(16, activation = \"relu\", input_shape = (4,)))\n",
    "model2.add(keras.layers.Dense(3, activation = \"softmax\"))"
   ]
  },
  {
   "cell_type": "code",
   "execution_count": 49,
   "id": "51515eae",
   "metadata": {},
   "outputs": [],
   "source": [
    "model2.compile(loss = \"categorical_crossentropy\",\n",
    "              optimizer = \"adam\", metrics = \"accuracy\")"
   ]
  },
  {
   "cell_type": "code",
   "execution_count": 50,
   "id": "1946a278",
   "metadata": {},
   "outputs": [
    {
     "name": "stdout",
     "output_type": "stream",
     "text": [
      "Epoch 1/100\n",
      "12/12 [==============================] - 1s 15ms/step - loss: 1.4255 - accuracy: 0.1042 - val_loss: 1.3539 - val_accuracy: 0.1250\n",
      "Epoch 2/100\n",
      "12/12 [==============================] - 0s 4ms/step - loss: 1.2995 - accuracy: 0.0833 - val_loss: 1.2411 - val_accuracy: 0.2083\n",
      "Epoch 3/100\n",
      "12/12 [==============================] - 0s 3ms/step - loss: 1.1915 - accuracy: 0.0833 - val_loss: 1.1352 - val_accuracy: 0.1250\n",
      "Epoch 4/100\n",
      "12/12 [==============================] - 0s 5ms/step - loss: 1.0973 - accuracy: 0.1146 - val_loss: 1.0552 - val_accuracy: 0.2083\n",
      "Epoch 5/100\n",
      "12/12 [==============================] - 0s 4ms/step - loss: 1.0220 - accuracy: 0.1250 - val_loss: 0.9967 - val_accuracy: 0.1250\n",
      "Epoch 6/100\n",
      "12/12 [==============================] - 0s 3ms/step - loss: 0.9687 - accuracy: 0.1875 - val_loss: 0.9504 - val_accuracy: 0.2083\n",
      "Epoch 7/100\n",
      "12/12 [==============================] - 0s 4ms/step - loss: 0.9216 - accuracy: 0.2083 - val_loss: 0.9132 - val_accuracy: 0.3333\n",
      "Epoch 8/100\n",
      "12/12 [==============================] - 0s 4ms/step - loss: 0.8888 - accuracy: 0.4792 - val_loss: 0.8831 - val_accuracy: 0.6250\n",
      "Epoch 9/100\n",
      "12/12 [==============================] - 0s 4ms/step - loss: 0.8591 - accuracy: 0.6667 - val_loss: 0.8609 - val_accuracy: 0.7083\n",
      "Epoch 10/100\n",
      "12/12 [==============================] - 0s 4ms/step - loss: 0.8385 - accuracy: 0.6458 - val_loss: 0.8409 - val_accuracy: 0.7083\n",
      "Epoch 11/100\n",
      "12/12 [==============================] - 0s 4ms/step - loss: 0.8226 - accuracy: 0.6562 - val_loss: 0.8196 - val_accuracy: 0.8333\n",
      "Epoch 12/100\n",
      "12/12 [==============================] - 0s 4ms/step - loss: 0.7978 - accuracy: 0.6875 - val_loss: 0.8020 - val_accuracy: 0.6667\n",
      "Epoch 13/100\n",
      "12/12 [==============================] - 0s 4ms/step - loss: 0.7791 - accuracy: 0.6667 - val_loss: 0.7846 - val_accuracy: 0.6667\n",
      "Epoch 14/100\n",
      "12/12 [==============================] - 0s 5ms/step - loss: 0.7604 - accuracy: 0.6771 - val_loss: 0.7658 - val_accuracy: 0.7083\n",
      "Epoch 15/100\n",
      "12/12 [==============================] - 0s 4ms/step - loss: 0.7433 - accuracy: 0.7396 - val_loss: 0.7501 - val_accuracy: 0.7083\n",
      "Epoch 16/100\n",
      "12/12 [==============================] - 0s 4ms/step - loss: 0.7251 - accuracy: 0.7188 - val_loss: 0.7348 - val_accuracy: 0.7083\n",
      "Epoch 17/100\n",
      "12/12 [==============================] - 0s 4ms/step - loss: 0.7115 - accuracy: 0.6771 - val_loss: 0.7195 - val_accuracy: 0.6667\n",
      "Epoch 18/100\n",
      "12/12 [==============================] - 0s 4ms/step - loss: 0.6952 - accuracy: 0.7083 - val_loss: 0.7032 - val_accuracy: 0.7083\n",
      "Epoch 19/100\n",
      "12/12 [==============================] - 0s 4ms/step - loss: 0.6807 - accuracy: 0.8021 - val_loss: 0.6878 - val_accuracy: 0.7083\n",
      "Epoch 20/100\n",
      "12/12 [==============================] - 0s 4ms/step - loss: 0.6680 - accuracy: 0.6979 - val_loss: 0.6770 - val_accuracy: 0.6667\n",
      "Epoch 21/100\n",
      "12/12 [==============================] - 0s 4ms/step - loss: 0.6529 - accuracy: 0.6771 - val_loss: 0.6634 - val_accuracy: 0.6667\n",
      "Epoch 22/100\n",
      "12/12 [==============================] - 0s 4ms/step - loss: 0.6429 - accuracy: 0.7500 - val_loss: 0.6490 - val_accuracy: 0.9167\n",
      "Epoch 23/100\n",
      "12/12 [==============================] - 0s 4ms/step - loss: 0.6284 - accuracy: 0.9062 - val_loss: 0.6386 - val_accuracy: 0.7917\n",
      "Epoch 24/100\n",
      "12/12 [==============================] - 0s 4ms/step - loss: 0.6163 - accuracy: 0.7083 - val_loss: 0.6268 - val_accuracy: 0.6667\n",
      "Epoch 25/100\n",
      "12/12 [==============================] - 0s 3ms/step - loss: 0.6038 - accuracy: 0.6771 - val_loss: 0.6160 - val_accuracy: 0.6667\n",
      "Epoch 26/100\n",
      "12/12 [==============================] - 0s 3ms/step - loss: 0.5946 - accuracy: 0.7917 - val_loss: 0.6052 - val_accuracy: 0.7500\n",
      "Epoch 27/100\n",
      "12/12 [==============================] - 0s 3ms/step - loss: 0.5840 - accuracy: 0.7604 - val_loss: 0.5960 - val_accuracy: 0.6667\n",
      "Epoch 28/100\n",
      "12/12 [==============================] - 0s 4ms/step - loss: 0.5750 - accuracy: 0.6875 - val_loss: 0.5861 - val_accuracy: 0.6667\n",
      "Epoch 29/100\n",
      "12/12 [==============================] - 0s 3ms/step - loss: 0.5650 - accuracy: 0.7500 - val_loss: 0.5757 - val_accuracy: 0.7083\n",
      "Epoch 30/100\n",
      "12/12 [==============================] - 0s 4ms/step - loss: 0.5570 - accuracy: 0.8438 - val_loss: 0.5660 - val_accuracy: 0.8750\n",
      "Epoch 31/100\n",
      "12/12 [==============================] - 0s 4ms/step - loss: 0.5477 - accuracy: 0.9271 - val_loss: 0.5584 - val_accuracy: 0.9167\n",
      "Epoch 32/100\n",
      "12/12 [==============================] - 0s 3ms/step - loss: 0.5404 - accuracy: 0.8125 - val_loss: 0.5510 - val_accuracy: 0.6667\n",
      "Epoch 33/100\n",
      "12/12 [==============================] - 0s 4ms/step - loss: 0.5313 - accuracy: 0.7604 - val_loss: 0.5416 - val_accuracy: 0.7917\n",
      "Epoch 34/100\n",
      "12/12 [==============================] - 0s 4ms/step - loss: 0.5240 - accuracy: 0.9062 - val_loss: 0.5341 - val_accuracy: 0.8750\n",
      "Epoch 35/100\n",
      "12/12 [==============================] - 0s 4ms/step - loss: 0.5164 - accuracy: 0.9375 - val_loss: 0.5264 - val_accuracy: 0.8750\n",
      "Epoch 36/100\n",
      "12/12 [==============================] - 0s 4ms/step - loss: 0.5091 - accuracy: 0.9271 - val_loss: 0.5200 - val_accuracy: 0.8333\n",
      "Epoch 37/100\n",
      "12/12 [==============================] - 0s 3ms/step - loss: 0.5029 - accuracy: 0.8229 - val_loss: 0.5155 - val_accuracy: 0.7083\n",
      "Epoch 38/100\n",
      "12/12 [==============================] - 0s 3ms/step - loss: 0.4968 - accuracy: 0.7604 - val_loss: 0.5070 - val_accuracy: 0.8333\n",
      "Epoch 39/100\n",
      "12/12 [==============================] - 0s 4ms/step - loss: 0.4898 - accuracy: 0.8958 - val_loss: 0.4987 - val_accuracy: 0.9167\n",
      "Epoch 40/100\n",
      "12/12 [==============================] - 0s 4ms/step - loss: 0.4839 - accuracy: 0.8958 - val_loss: 0.4931 - val_accuracy: 0.8750\n",
      "Epoch 41/100\n",
      "12/12 [==============================] - 0s 4ms/step - loss: 0.4787 - accuracy: 0.9375 - val_loss: 0.4868 - val_accuracy: 0.9167\n",
      "Epoch 42/100\n",
      "12/12 [==============================] - 0s 4ms/step - loss: 0.4775 - accuracy: 0.8438 - val_loss: 0.4838 - val_accuracy: 0.8333\n",
      "Epoch 43/100\n",
      "12/12 [==============================] - 0s 4ms/step - loss: 0.4658 - accuracy: 0.8438 - val_loss: 0.4762 - val_accuracy: 0.8750\n",
      "Epoch 44/100\n",
      "12/12 [==============================] - 0s 4ms/step - loss: 0.4625 - accuracy: 0.9375 - val_loss: 0.4700 - val_accuracy: 0.9167\n",
      "Epoch 45/100\n",
      "12/12 [==============================] - 0s 4ms/step - loss: 0.4567 - accuracy: 0.9271 - val_loss: 0.4647 - val_accuracy: 0.9167\n",
      "Epoch 46/100\n",
      "12/12 [==============================] - 0s 4ms/step - loss: 0.4516 - accuracy: 0.9479 - val_loss: 0.4595 - val_accuracy: 0.9167\n",
      "Epoch 47/100\n",
      "12/12 [==============================] - 0s 4ms/step - loss: 0.4460 - accuracy: 0.9375 - val_loss: 0.4545 - val_accuracy: 0.9167\n",
      "Epoch 48/100\n",
      "12/12 [==============================] - 0s 5ms/step - loss: 0.4429 - accuracy: 0.9167 - val_loss: 0.4514 - val_accuracy: 0.8333\n",
      "Epoch 49/100\n",
      "12/12 [==============================] - 0s 3ms/step - loss: 0.4382 - accuracy: 0.9167 - val_loss: 0.4457 - val_accuracy: 0.9167\n",
      "Epoch 50/100\n",
      "12/12 [==============================] - 0s 4ms/step - loss: 0.4341 - accuracy: 0.9583 - val_loss: 0.4397 - val_accuracy: 0.9167\n",
      "Epoch 51/100\n",
      "12/12 [==============================] - 0s 4ms/step - loss: 0.4282 - accuracy: 0.9375 - val_loss: 0.4362 - val_accuracy: 0.9167\n",
      "Epoch 52/100\n",
      "12/12 [==============================] - 0s 4ms/step - loss: 0.4256 - accuracy: 0.9479 - val_loss: 0.4302 - val_accuracy: 0.9583\n",
      "Epoch 53/100\n",
      "12/12 [==============================] - 0s 4ms/step - loss: 0.4216 - accuracy: 0.9375 - val_loss: 0.4288 - val_accuracy: 0.8750\n",
      "Epoch 54/100\n",
      "12/12 [==============================] - 0s 3ms/step - loss: 0.4170 - accuracy: 0.8750 - val_loss: 0.4243 - val_accuracy: 0.8750\n",
      "Epoch 55/100\n",
      "12/12 [==============================] - 0s 4ms/step - loss: 0.4120 - accuracy: 0.9583 - val_loss: 0.4173 - val_accuracy: 0.9583\n",
      "Epoch 56/100\n",
      "12/12 [==============================] - 0s 4ms/step - loss: 0.4084 - accuracy: 0.9479 - val_loss: 0.4131 - val_accuracy: 0.9583\n",
      "Epoch 57/100\n",
      "12/12 [==============================] - 0s 4ms/step - loss: 0.4051 - accuracy: 0.9583 - val_loss: 0.4104 - val_accuracy: 0.9167\n",
      "Epoch 58/100\n",
      "12/12 [==============================] - 0s 3ms/step - loss: 0.4006 - accuracy: 0.9583 - val_loss: 0.4055 - val_accuracy: 0.9583\n"
     ]
    },
    {
     "name": "stdout",
     "output_type": "stream",
     "text": [
      "Epoch 59/100\n",
      "12/12 [==============================] - 0s 4ms/step - loss: 0.3972 - accuracy: 0.9583 - val_loss: 0.4014 - val_accuracy: 0.9583\n",
      "Epoch 60/100\n",
      "12/12 [==============================] - 0s 3ms/step - loss: 0.3937 - accuracy: 0.9271 - val_loss: 0.4005 - val_accuracy: 0.9167\n",
      "Epoch 61/100\n",
      "12/12 [==============================] - 0s 4ms/step - loss: 0.3913 - accuracy: 0.9271 - val_loss: 0.3947 - val_accuracy: 0.9167\n",
      "Epoch 62/100\n",
      "12/12 [==============================] - 0s 4ms/step - loss: 0.3864 - accuracy: 0.9479 - val_loss: 0.3905 - val_accuracy: 0.9167\n",
      "Epoch 63/100\n",
      "12/12 [==============================] - 0s 4ms/step - loss: 0.3856 - accuracy: 0.9479 - val_loss: 0.3856 - val_accuracy: 0.9583\n",
      "Epoch 64/100\n",
      "12/12 [==============================] - 0s 3ms/step - loss: 0.3848 - accuracy: 0.9479 - val_loss: 0.3859 - val_accuracy: 0.9167\n",
      "Epoch 65/100\n",
      "12/12 [==============================] - 0s 3ms/step - loss: 0.3754 - accuracy: 0.9479 - val_loss: 0.3802 - val_accuracy: 0.9167\n",
      "Epoch 66/100\n",
      "12/12 [==============================] - 0s 4ms/step - loss: 0.3757 - accuracy: 0.9479 - val_loss: 0.3751 - val_accuracy: 0.9583\n",
      "Epoch 67/100\n",
      "12/12 [==============================] - 0s 3ms/step - loss: 0.3734 - accuracy: 0.9479 - val_loss: 0.3717 - val_accuracy: 0.9583\n",
      "Epoch 68/100\n",
      "12/12 [==============================] - 0s 4ms/step - loss: 0.3699 - accuracy: 0.9271 - val_loss: 0.3754 - val_accuracy: 0.9167\n",
      "Epoch 69/100\n",
      "12/12 [==============================] - 0s 3ms/step - loss: 0.3641 - accuracy: 0.9271 - val_loss: 0.3680 - val_accuracy: 0.9167\n",
      "Epoch 70/100\n",
      "12/12 [==============================] - 0s 4ms/step - loss: 0.3594 - accuracy: 0.9583 - val_loss: 0.3626 - val_accuracy: 0.9583\n",
      "Epoch 71/100\n",
      "12/12 [==============================] - 0s 4ms/step - loss: 0.3590 - accuracy: 0.9479 - val_loss: 0.3584 - val_accuracy: 0.9583\n",
      "Epoch 72/100\n",
      "12/12 [==============================] - 0s 4ms/step - loss: 0.3560 - accuracy: 0.9688 - val_loss: 0.3580 - val_accuracy: 0.9167\n",
      "Epoch 73/100\n",
      "12/12 [==============================] - 0s 4ms/step - loss: 0.3513 - accuracy: 0.9583 - val_loss: 0.3548 - val_accuracy: 0.9167\n",
      "Epoch 74/100\n",
      "12/12 [==============================] - 0s 4ms/step - loss: 0.3475 - accuracy: 0.9583 - val_loss: 0.3502 - val_accuracy: 0.9583\n",
      "Epoch 75/100\n",
      "12/12 [==============================] - 0s 3ms/step - loss: 0.3457 - accuracy: 0.9688 - val_loss: 0.3465 - val_accuracy: 0.9583\n",
      "Epoch 76/100\n",
      "12/12 [==============================] - 0s 4ms/step - loss: 0.3423 - accuracy: 0.9583 - val_loss: 0.3439 - val_accuracy: 0.9583\n",
      "Epoch 77/100\n",
      "12/12 [==============================] - 0s 3ms/step - loss: 0.3396 - accuracy: 0.9583 - val_loss: 0.3409 - val_accuracy: 0.9583\n",
      "Epoch 78/100\n",
      "12/12 [==============================] - 0s 4ms/step - loss: 0.3377 - accuracy: 0.9583 - val_loss: 0.3382 - val_accuracy: 0.9583\n",
      "Epoch 79/100\n",
      "12/12 [==============================] - 0s 4ms/step - loss: 0.3340 - accuracy: 0.9583 - val_loss: 0.3356 - val_accuracy: 0.9583\n",
      "Epoch 80/100\n",
      "12/12 [==============================] - 0s 4ms/step - loss: 0.3310 - accuracy: 0.9583 - val_loss: 0.3325 - val_accuracy: 0.9583\n",
      "Epoch 81/100\n",
      "12/12 [==============================] - 0s 4ms/step - loss: 0.3299 - accuracy: 0.9583 - val_loss: 0.3299 - val_accuracy: 0.9583\n",
      "Epoch 82/100\n",
      "12/12 [==============================] - 0s 4ms/step - loss: 0.3260 - accuracy: 0.9583 - val_loss: 0.3264 - val_accuracy: 0.9583\n",
      "Epoch 83/100\n",
      "12/12 [==============================] - 0s 3ms/step - loss: 0.3238 - accuracy: 0.9583 - val_loss: 0.3240 - val_accuracy: 0.9583\n",
      "Epoch 84/100\n",
      "12/12 [==============================] - 0s 3ms/step - loss: 0.3213 - accuracy: 0.9583 - val_loss: 0.3205 - val_accuracy: 0.9583\n",
      "Epoch 85/100\n",
      "12/12 [==============================] - 0s 4ms/step - loss: 0.3183 - accuracy: 0.9583 - val_loss: 0.3180 - val_accuracy: 0.9583\n",
      "Epoch 86/100\n",
      "12/12 [==============================] - 0s 4ms/step - loss: 0.3151 - accuracy: 0.9583 - val_loss: 0.3160 - val_accuracy: 0.9583\n",
      "Epoch 87/100\n",
      "12/12 [==============================] - 0s 4ms/step - loss: 0.3179 - accuracy: 0.9583 - val_loss: 0.3160 - val_accuracy: 0.9583\n",
      "Epoch 88/100\n",
      "12/12 [==============================] - 0s 4ms/step - loss: 0.3100 - accuracy: 0.9583 - val_loss: 0.3097 - val_accuracy: 0.9583\n",
      "Epoch 89/100\n",
      "12/12 [==============================] - 0s 4ms/step - loss: 0.3090 - accuracy: 0.9583 - val_loss: 0.3068 - val_accuracy: 0.9583\n",
      "Epoch 90/100\n",
      "12/12 [==============================] - 0s 4ms/step - loss: 0.3062 - accuracy: 0.9583 - val_loss: 0.3052 - val_accuracy: 0.9583\n",
      "Epoch 91/100\n",
      "12/12 [==============================] - 0s 4ms/step - loss: 0.3038 - accuracy: 0.9583 - val_loss: 0.3036 - val_accuracy: 0.9583\n",
      "Epoch 92/100\n",
      "12/12 [==============================] - 0s 4ms/step - loss: 0.3027 - accuracy: 0.9479 - val_loss: 0.2991 - val_accuracy: 0.9583\n",
      "Epoch 93/100\n",
      "12/12 [==============================] - 0s 4ms/step - loss: 0.2982 - accuracy: 0.9583 - val_loss: 0.2972 - val_accuracy: 0.9583\n",
      "Epoch 94/100\n",
      "12/12 [==============================] - 0s 4ms/step - loss: 0.2983 - accuracy: 0.9688 - val_loss: 0.2944 - val_accuracy: 0.9583\n",
      "Epoch 95/100\n",
      "12/12 [==============================] - 0s 4ms/step - loss: 0.2939 - accuracy: 0.9688 - val_loss: 0.2955 - val_accuracy: 0.9583\n",
      "Epoch 96/100\n",
      "12/12 [==============================] - 0s 3ms/step - loss: 0.2972 - accuracy: 0.9583 - val_loss: 0.2952 - val_accuracy: 0.9583\n",
      "Epoch 97/100\n",
      "12/12 [==============================] - 0s 3ms/step - loss: 0.2886 - accuracy: 0.9583 - val_loss: 0.2866 - val_accuracy: 0.9583\n",
      "Epoch 98/100\n",
      "12/12 [==============================] - 0s 3ms/step - loss: 0.2881 - accuracy: 0.9583 - val_loss: 0.2842 - val_accuracy: 0.9583\n",
      "Epoch 99/100\n",
      "12/12 [==============================] - 0s 4ms/step - loss: 0.2879 - accuracy: 0.9479 - val_loss: 0.2828 - val_accuracy: 0.9583\n",
      "Epoch 100/100\n",
      "12/12 [==============================] - 0s 4ms/step - loss: 0.2843 - accuracy: 0.9583 - val_loss: 0.2860 - val_accuracy: 0.9583\n"
     ]
    },
    {
     "data": {
      "text/plain": [
       "<keras.src.callbacks.History at 0x1d96ffd8d50>"
      ]
     },
     "execution_count": 50,
     "metadata": {},
     "output_type": "execute_result"
    }
   ],
   "source": [
    "model2.fit(x_sub, y_sub, epochs = 100, batch_size = 8, validation_data = (x_val, y_val))"
   ]
  },
  {
   "cell_type": "code",
   "execution_count": null,
   "id": "401cede7",
   "metadata": {},
   "outputs": [],
   "source": []
  }
 ],
 "metadata": {
  "kernelspec": {
   "display_name": "Python 3 (ipykernel)",
   "language": "python",
   "name": "python3"
  },
  "language_info": {
   "codemirror_mode": {
    "name": "ipython",
    "version": 3
   },
   "file_extension": ".py",
   "mimetype": "text/x-python",
   "name": "python",
   "nbconvert_exporter": "python",
   "pygments_lexer": "ipython3",
   "version": "3.11.5"
  }
 },
 "nbformat": 4,
 "nbformat_minor": 5
}
