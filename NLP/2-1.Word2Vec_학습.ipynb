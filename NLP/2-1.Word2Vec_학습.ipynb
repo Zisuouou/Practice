{
 "cells": [
  {
   "cell_type": "code",
   "execution_count": 2,
   "id": "bea60f2b",
   "metadata": {},
   "outputs": [],
   "source": [
    "from gensim.models import Word2Vec\n",
    "from konlpy.tag import Komoran\n",
    "import time\n",
    "import pandas as pd"
   ]
  },
  {
   "cell_type": "code",
   "execution_count": 3,
   "id": "73ba8078",
   "metadata": {},
   "outputs": [],
   "source": [
    "df = pd.read_csv(r\"C:\\Users\\ITSC\\Desktop\\project\\DL\\data\\nsmc\\ratings.txt\", sep = \"\\t\")"
   ]
  },
  {
   "cell_type": "code",
   "execution_count": 4,
   "id": "12def259",
   "metadata": {},
   "outputs": [
    {
     "data": {
      "text/html": [
       "<div>\n",
       "<style scoped>\n",
       "    .dataframe tbody tr th:only-of-type {\n",
       "        vertical-align: middle;\n",
       "    }\n",
       "\n",
       "    .dataframe tbody tr th {\n",
       "        vertical-align: top;\n",
       "    }\n",
       "\n",
       "    .dataframe thead th {\n",
       "        text-align: right;\n",
       "    }\n",
       "</style>\n",
       "<table border=\"1\" class=\"dataframe\">\n",
       "  <thead>\n",
       "    <tr style=\"text-align: right;\">\n",
       "      <th></th>\n",
       "      <th>id</th>\n",
       "      <th>document</th>\n",
       "      <th>label</th>\n",
       "    </tr>\n",
       "  </thead>\n",
       "  <tbody>\n",
       "    <tr>\n",
       "      <th>0</th>\n",
       "      <td>8112052</td>\n",
       "      <td>어릴때보고 지금다시봐도 재밌어요ㅋㅋ</td>\n",
       "      <td>1</td>\n",
       "    </tr>\n",
       "    <tr>\n",
       "      <th>1</th>\n",
       "      <td>8132799</td>\n",
       "      <td>디자인을 배우는 학생으로, 외국디자이너와 그들이 일군 전통을 통해 발전해가는 문화산...</td>\n",
       "      <td>1</td>\n",
       "    </tr>\n",
       "    <tr>\n",
       "      <th>2</th>\n",
       "      <td>4655635</td>\n",
       "      <td>폴리스스토리 시리즈는 1부터 뉴까지 버릴께 하나도 없음.. 최고.</td>\n",
       "      <td>1</td>\n",
       "    </tr>\n",
       "    <tr>\n",
       "      <th>3</th>\n",
       "      <td>9251303</td>\n",
       "      <td>와.. 연기가 진짜 개쩔구나.. 지루할거라고 생각했는데 몰입해서 봤다.. 그래 이런...</td>\n",
       "      <td>1</td>\n",
       "    </tr>\n",
       "    <tr>\n",
       "      <th>4</th>\n",
       "      <td>10067386</td>\n",
       "      <td>안개 자욱한 밤하늘에 떠 있는 초승달 같은 영화.</td>\n",
       "      <td>1</td>\n",
       "    </tr>\n",
       "  </tbody>\n",
       "</table>\n",
       "</div>"
      ],
      "text/plain": [
       "         id                                           document  label\n",
       "0   8112052                                어릴때보고 지금다시봐도 재밌어요ㅋㅋ      1\n",
       "1   8132799  디자인을 배우는 학생으로, 외국디자이너와 그들이 일군 전통을 통해 발전해가는 문화산...      1\n",
       "2   4655635               폴리스스토리 시리즈는 1부터 뉴까지 버릴께 하나도 없음.. 최고.      1\n",
       "3   9251303  와.. 연기가 진짜 개쩔구나.. 지루할거라고 생각했는데 몰입해서 봤다.. 그래 이런...      1\n",
       "4  10067386                        안개 자욱한 밤하늘에 떠 있는 초승달 같은 영화.      1"
      ]
     },
     "execution_count": 4,
     "metadata": {},
     "output_type": "execute_result"
    }
   ],
   "source": [
    "df.head()"
   ]
  },
  {
   "cell_type": "code",
   "execution_count": 5,
   "id": "f0849561",
   "metadata": {},
   "outputs": [
    {
     "data": {
      "text/plain": [
       "(200000, 3)"
      ]
     },
     "execution_count": 5,
     "metadata": {},
     "output_type": "execute_result"
    }
   ],
   "source": [
    "df.shape"
   ]
  },
  {
   "cell_type": "code",
   "execution_count": 6,
   "id": "49d07dca",
   "metadata": {},
   "outputs": [
    {
     "name": "stdout",
     "output_type": "stream",
     "text": [
      "<class 'pandas.core.frame.DataFrame'>\n",
      "RangeIndex: 200000 entries, 0 to 199999\n",
      "Data columns (total 3 columns):\n",
      " #   Column    Non-Null Count   Dtype \n",
      "---  ------    --------------   ----- \n",
      " 0   id        200000 non-null  int64 \n",
      " 1   document  199992 non-null  object\n",
      " 2   label     200000 non-null  int64 \n",
      "dtypes: int64(2), object(1)\n",
      "memory usage: 4.6+ MB\n"
     ]
    }
   ],
   "source": [
    "df.info()"
   ]
  },
  {
   "cell_type": "code",
   "execution_count": 7,
   "id": "ead79e8b",
   "metadata": {},
   "outputs": [],
   "source": [
    "# document 에 결측치 있어서 결측치 날림 \n",
    "df = df.dropna()"
   ]
  },
  {
   "cell_type": "code",
   "execution_count": 8,
   "id": "d7d6c932",
   "metadata": {},
   "outputs": [
    {
     "data": {
      "text/html": [
       "<div>\n",
       "<style scoped>\n",
       "    .dataframe tbody tr th:only-of-type {\n",
       "        vertical-align: middle;\n",
       "    }\n",
       "\n",
       "    .dataframe tbody tr th {\n",
       "        vertical-align: top;\n",
       "    }\n",
       "\n",
       "    .dataframe thead th {\n",
       "        text-align: right;\n",
       "    }\n",
       "</style>\n",
       "<table border=\"1\" class=\"dataframe\">\n",
       "  <thead>\n",
       "    <tr style=\"text-align: right;\">\n",
       "      <th></th>\n",
       "      <th>id</th>\n",
       "      <th>document</th>\n",
       "      <th>label</th>\n",
       "    </tr>\n",
       "  </thead>\n",
       "  <tbody>\n",
       "    <tr>\n",
       "      <th>0</th>\n",
       "      <td>8112052</td>\n",
       "      <td>어릴때보고 지금다시봐도 재밌어요ㅋㅋ</td>\n",
       "      <td>1</td>\n",
       "    </tr>\n",
       "    <tr>\n",
       "      <th>1</th>\n",
       "      <td>8132799</td>\n",
       "      <td>디자인을 배우는 학생으로, 외국디자이너와 그들이 일군 전통을 통해 발전해가는 문화산...</td>\n",
       "      <td>1</td>\n",
       "    </tr>\n",
       "    <tr>\n",
       "      <th>2</th>\n",
       "      <td>4655635</td>\n",
       "      <td>폴리스스토리 시리즈는 1부터 뉴까지 버릴께 하나도 없음.. 최고.</td>\n",
       "      <td>1</td>\n",
       "    </tr>\n",
       "    <tr>\n",
       "      <th>3</th>\n",
       "      <td>9251303</td>\n",
       "      <td>와.. 연기가 진짜 개쩔구나.. 지루할거라고 생각했는데 몰입해서 봤다.. 그래 이런...</td>\n",
       "      <td>1</td>\n",
       "    </tr>\n",
       "    <tr>\n",
       "      <th>4</th>\n",
       "      <td>10067386</td>\n",
       "      <td>안개 자욱한 밤하늘에 떠 있는 초승달 같은 영화.</td>\n",
       "      <td>1</td>\n",
       "    </tr>\n",
       "  </tbody>\n",
       "</table>\n",
       "</div>"
      ],
      "text/plain": [
       "         id                                           document  label\n",
       "0   8112052                                어릴때보고 지금다시봐도 재밌어요ㅋㅋ      1\n",
       "1   8132799  디자인을 배우는 학생으로, 외국디자이너와 그들이 일군 전통을 통해 발전해가는 문화산...      1\n",
       "2   4655635               폴리스스토리 시리즈는 1부터 뉴까지 버릴께 하나도 없음.. 최고.      1\n",
       "3   9251303  와.. 연기가 진짜 개쩔구나.. 지루할거라고 생각했는데 몰입해서 봤다.. 그래 이런...      1\n",
       "4  10067386                        안개 자욱한 밤하늘에 떠 있는 초승달 같은 영화.      1"
      ]
     },
     "execution_count": 8,
     "metadata": {},
     "output_type": "execute_result"
    }
   ],
   "source": [
    "df.head()"
   ]
  },
  {
   "cell_type": "code",
   "execution_count": 9,
   "id": "f1f1ee7f",
   "metadata": {},
   "outputs": [
    {
     "data": {
      "text/plain": [
       "(199992, 3)"
      ]
     },
     "execution_count": 9,
     "metadata": {},
     "output_type": "execute_result"
    }
   ],
   "source": [
    "df.shape"
   ]
  },
  {
   "cell_type": "code",
   "execution_count": 10,
   "id": "3ae49899",
   "metadata": {},
   "outputs": [],
   "source": [
    "komoran = Komoran()"
   ]
  },
  {
   "cell_type": "code",
   "execution_count": 11,
   "id": "a6c50932",
   "metadata": {},
   "outputs": [
    {
     "name": "stdout",
     "output_type": "stream",
     "text": [
      "CPU times: total: 1min 52s\n",
      "Wall time: 1min 28s\n"
     ]
    }
   ],
   "source": [
    "%%time\n",
    "# 문장 단위로 명사만 추출해 학습 입력 데이터로 만듦\n",
    "docs = df[\"document\"].map(lambda x: komoran.nouns(x))"
   ]
  },
  {
   "cell_type": "code",
   "execution_count": 12,
   "id": "acee4c46",
   "metadata": {},
   "outputs": [
    {
     "data": {
      "text/plain": [
       "0                                                       [때]\n",
       "1         [디자인, 학생, 외국, 디자이너, 전통, 발전, 문화, 산업, 사실, 우리나라, ...\n",
       "2                                    [폴리스, 스토리, 시리즈, 뉴, 최고]\n",
       "3                                [연기, 것, 라고, 생각, 몰입, 영, 화지]\n",
       "4                                        [안개, 밤하늘, 초승달, 영화]\n",
       "                                ...                        \n",
       "199995                                         [포켓, 몬스터, 짜]\n",
       "199996                                                   []\n",
       "199997                            [완전, 사이코, 영화, 마지막, 영화, 질]\n",
       "199998                                          [라따뚜이, 스머프]\n",
       "199999                       [포, 풍, 저그, 가나, 신다영, 차영, 차영, 차]\n",
       "Name: document, Length: 199992, dtype: object"
      ]
     },
     "execution_count": 12,
     "metadata": {},
     "output_type": "execute_result"
    }
   ],
   "source": [
    "docs"
   ]
  },
  {
   "cell_type": "code",
   "execution_count": 13,
   "id": "7ac49c67",
   "metadata": {},
   "outputs": [
    {
     "data": {
      "text/plain": [
       "id                  8548411\n",
       "document    포풍저그가나가신다영차영차영차\n",
       "label                     0\n",
       "Name: 199999, dtype: object"
      ]
     },
     "execution_count": 13,
     "metadata": {},
     "output_type": "execute_result"
    }
   ],
   "source": [
    "df.iloc[-1]"
   ]
  },
  {
   "cell_type": "code",
   "execution_count": 14,
   "id": "31d3d11d",
   "metadata": {},
   "outputs": [],
   "source": [
    "# word2vec 모델 학습\n",
    "model = Word2Vec(sentences = docs, vector_size = 200, window = 4, min_count = 2, sg = 1)"
   ]
  },
  {
   "cell_type": "markdown",
   "id": "7b8ca3f0",
   "metadata": {},
   "source": [
    "- word2vec의 주요 하이퍼파라미터\n",
    "    - sentences : Word2Vec 모델 학습에 필요한 문장 데이터\n",
    "    - vector_size : 단어 임베딩 벡터의 차원(크기)\n",
    "    - window : 주변 단어 윈도우의 크기\n",
    "    - min_count : 단어 최소 빈도 수 제한(설정된 min_count 빈도 수 미만의 단어들은 학습하지 않음)\n",
    "    - sg : 0(CBOW 모델), 1(skip-gram 모델)"
   ]
  },
  {
   "cell_type": "code",
   "execution_count": 15,
   "id": "a309520b",
   "metadata": {},
   "outputs": [],
   "source": [
    "# 모델 저장\n",
    "model.save(\"./model/nscm_w2v.model\")"
   ]
  },
  {
   "cell_type": "code",
   "execution_count": 16,
   "id": "42337043",
   "metadata": {},
   "outputs": [
    {
     "name": "stdout",
     "output_type": "stream",
     "text": [
      "corpus_count : 199992\n",
      "corpus_total_words : 1076840\n"
     ]
    }
   ],
   "source": [
    "# 학습된 말뭉치 개수, 코퍼스 내 전체 단어 개수\n",
    "print(\"corpus_count :\", model.corpus_count)\n",
    "print(\"corpus_total_words :\", model.corpus_total_words)"
   ]
  },
  {
   "cell_type": "markdown",
   "id": "df3ced1d",
   "metadata": {},
   "source": [
    "# word2vec 모델 활용"
   ]
  },
  {
   "cell_type": "code",
   "execution_count": 17,
   "id": "12443be0",
   "metadata": {},
   "outputs": [
    {
     "name": "stdout",
     "output_type": "stream",
     "text": [
      "1076840\n"
     ]
    }
   ],
   "source": [
    "# 모델 로딩\n",
    "model = Word2Vec.load(\"./model/nscm_w2v.model\")\n",
    "print(model.corpus_total_words)"
   ]
  },
  {
   "cell_type": "code",
   "execution_count": 18,
   "id": "7182717d",
   "metadata": {},
   "outputs": [
    {
     "name": "stdout",
     "output_type": "stream",
     "text": [
      "사랑 :  [ 0.04706824 -0.38106966  0.0888775   0.32955068 -0.18055649 -0.26025057\n",
      "  0.18544894  0.04895185 -0.00780015  0.4085669  -0.16917202 -0.04639477\n",
      "  0.38053504 -0.07704426  0.06779956  0.5148434   0.17888618 -0.01086047\n",
      " -0.2557851  -0.411493    0.12976944  0.2914647   0.04696575  0.13756308\n",
      " -0.2625612  -0.05060172  0.02457256 -0.3017246  -0.28581586 -0.3403364\n",
      "  0.09617167  0.26253548  0.00334849  0.27580044 -0.07122608 -0.03869795\n",
      " -0.18215679  0.02767465 -0.27021125 -0.09391867 -0.29149356  0.01545098\n",
      " -0.00684852 -0.15330562  0.49919236  0.40387347 -0.30812994 -0.01883363\n",
      "  0.292169    0.16339362  0.31852362 -0.2726235  -0.15184432  0.15778421\n",
      " -0.19326141 -0.10329254 -0.10540201 -0.30437198 -0.24932384  0.04926739\n",
      "  0.13109301  0.15502812 -0.32905513  0.28846022 -0.24275947  0.06192928\n",
      " -0.26419365  0.21739236 -0.24496032  0.8549031   0.10579114 -0.04742035\n",
      "  0.15520413  0.09464101  0.28953686 -0.45625228  0.22787748 -0.5045905\n",
      " -0.34441966 -0.31505743 -0.16339633 -0.00746877 -0.30664426  0.28390586\n",
      " -0.17546026 -0.07334021 -0.4183061   0.02038339  0.04995416  0.13718337\n",
      "  0.3388642   0.21527062  0.08403743  0.43233874  0.32724902  0.27330282\n",
      " -0.12270582 -0.36186782 -0.22504912  0.11708692 -0.5300632   0.43454123\n",
      "  0.18126403  0.12654115 -0.10265689 -0.37289566  0.16323939  0.3017487\n",
      " -0.11152945 -0.36555603  0.17566048 -0.08285729  0.02700098 -0.02788039\n",
      "  0.20212428 -0.31469625  0.1165409  -0.21906595  0.3868388   0.14830732\n",
      "  0.07244999 -0.20304143 -0.34697637 -0.29545242 -0.13877177  0.508685\n",
      "  0.06694592 -0.12332232 -0.4137317   0.29599482  0.03577831  0.40553287\n",
      "  0.21306127  0.3869546  -0.04826006  0.02369453 -0.0763268   0.03845369\n",
      " -0.2497187  -0.08758828 -0.13144805 -0.01532093 -0.36443684 -0.07050432\n",
      " -0.04483354  0.17370553 -0.08718281 -0.02435138  0.27036297 -0.41299874\n",
      " -0.02147722 -0.47124183  0.16557378 -0.06570369 -0.10569619 -0.08958658\n",
      "  0.19111118  0.09036712  0.3726317   0.19476207  0.41130432  0.29268238\n",
      " -0.14235318 -0.28722358 -0.05732522  0.44737834 -0.08552583 -0.24875812\n",
      " -0.1917052   0.0038951  -0.35697058 -0.05255071  0.19911788 -0.48101458\n",
      " -0.00432252  0.03249933  0.07289015 -0.04831392  0.08937703  0.03013559\n",
      " -0.146772    0.2516395  -0.01688955  0.01738498 -0.09396063 -0.2131501\n",
      "  0.06877343 -0.15369493  0.40061465  0.05016206  0.28354004 -0.0153914\n",
      " -0.05878681  0.15697286  0.12232589 -0.0920357   0.24739766 -0.4119722\n",
      " -0.02640578  0.05520676]\n"
     ]
    }
   ],
   "source": [
    "# '사랑' 이란 단어로 생성한 단어 임베딩 벡터\n",
    "print(\"사랑 : \", model.wv[\"사랑\"])"
   ]
  },
  {
   "cell_type": "markdown",
   "id": "4ea70536",
   "metadata": {},
   "source": [
    "- 모델을 학습할 때 설정한 vector_size 하이퍼파라미터 만큼 단어 임베딩 벡터 차원 크기가 결정됨"
   ]
  },
  {
   "cell_type": "markdown",
   "id": "9bfb53a7",
   "metadata": {},
   "source": [
    "- model.wv.similarity() 함수 : 두 단어간의 유사도를 계산"
   ]
  },
  {
   "cell_type": "code",
   "execution_count": 19,
   "id": "ec661e50",
   "metadata": {},
   "outputs": [
    {
     "name": "stdout",
     "output_type": "stream",
     "text": [
      "일요일 = 월요일\t0.9072058\n"
     ]
    }
   ],
   "source": [
    "# 단어 유사도 계산\n",
    "print(\"일요일 = 월요일\", model.wv.similarity(w1 = \"일요일\", w2 = \"월요일\"), sep = \"\\t\")"
   ]
  },
  {
   "cell_type": "code",
   "execution_count": 20,
   "id": "714006e5",
   "metadata": {},
   "outputs": [
    {
     "name": "stdout",
     "output_type": "stream",
     "text": [
      "대기업 = 삼성\t0.86884606\n"
     ]
    }
   ],
   "source": [
    "print(\"대기업 = 삼성\", model.wv.similarity(w1 = \"대기업\", w2 = \"삼성\"), sep = \"\\t\")"
   ]
  },
  {
   "cell_type": "code",
   "execution_count": 21,
   "id": "4f79815a",
   "metadata": {},
   "outputs": [
    {
     "name": "stdout",
     "output_type": "stream",
     "text": [
      "일요일 = 삼성\t0.6464495\n"
     ]
    }
   ],
   "source": [
    "print(\"일요일 = 삼성\", model.wv.similarity(w1 = \"일요일\", w2 = \"삼성\"), sep = \"\\t\")"
   ]
  },
  {
   "cell_type": "markdown",
   "id": "3a9b1ea6",
   "metadata": {},
   "source": [
    "- model.wv.most_similar() 함수 : 인자로 사용한 단어와 가장 유사한 단어를 리스트로 반환\n",
    "    - 벡터 공간에서 가장 가까운 거리에 있는 단어들을 반환\n",
    "    - topn : 반환되는 유사한 단어 수\n",
    "- 유사도가 1에 가까울수록 두 단어는 동일한 의미이거나 문법적으로 관련이 있을 가능성이 높음"
   ]
  },
  {
   "cell_type": "code",
   "execution_count": 22,
   "id": "ee31cb19",
   "metadata": {},
   "outputs": [
    {
     "name": "stdout",
     "output_type": "stream",
     "text": [
      "[('엑스맨', 0.8242610096931458), ('포터', 0.8075320720672607), ('해리', 0.7929564118385315), ('스타워즈', 0.7901511192321777), ('반지의 제왕', 0.7891226410865784)]\n"
     ]
    }
   ],
   "source": [
    "# 가장 유사한 단어 추출\n",
    "print(model.wv.most_similar(\"시리즈\", topn = 5))"
   ]
  },
  {
   "cell_type": "code",
   "execution_count": 24,
   "id": "10349c6f",
   "metadata": {},
   "outputs": [
    {
     "name": "stdout",
     "output_type": "stream",
     "text": [
      "[('끝판', 0.8201351165771484), ('죤', 0.7494338750839233), ('흥', 0.7432554960250854), ('사마', 0.7415783405303955), ('지대', 0.7407092452049255)]\n"
     ]
    }
   ],
   "source": [
    "print(model.wv.most_similar(\"왕\", topn = 5))"
   ]
  },
  {
   "cell_type": "code",
   "execution_count": 25,
   "id": "7b8fcb45",
   "metadata": {},
   "outputs": [
    {
     "name": "stdout",
     "output_type": "stream",
     "text": [
      "[('누더기', 0.9807769060134888), ('뒷수습', 0.9802371859550476), ('몰골', 0.9781771898269653), ('헨젤과 그레텔', 0.9780308604240417), ('코미디 드라마', 0.977856457233429)]\n"
     ]
    }
   ],
   "source": [
    "print(model.wv.most_similar(\"비빔밥\", topn = 5))"
   ]
  },
  {
   "cell_type": "code",
   "execution_count": 26,
   "id": "d0f264e8",
   "metadata": {},
   "outputs": [],
   "source": [
    "import gensim"
   ]
  },
  {
   "cell_type": "code",
   "execution_count": 27,
   "id": "1ca7d959",
   "metadata": {},
   "outputs": [],
   "source": [
    "sentences = gensim.models.word2vec.Text8Corpus(\"./data/text8.txt\")"
   ]
  },
  {
   "cell_type": "code",
   "execution_count": 28,
   "id": "3a134e4b",
   "metadata": {},
   "outputs": [],
   "source": [
    "model = Word2Vec(sentences, vector_size = 200)"
   ]
  },
  {
   "cell_type": "code",
   "execution_count": 29,
   "id": "34b42eeb",
   "metadata": {
    "scrolled": true
   },
   "outputs": [
    {
     "data": {
      "text/plain": [
       "[('queen', 0.6189376711845398),\n",
       " ('throne', 0.5696812868118286),\n",
       " ('princess', 0.5456494092941284),\n",
       " ('empress', 0.5442882776260376),\n",
       " ('prince', 0.5375813841819763),\n",
       " ('elizabeth', 0.5322781205177307),\n",
       " ('aragon', 0.5179737210273743),\n",
       " ('emperor', 0.5175638198852539),\n",
       " ('consort', 0.5153141021728516),\n",
       " ('isabella', 0.5114498138427734)]"
      ]
     },
     "execution_count": 29,
     "metadata": {},
     "output_type": "execute_result"
    }
   ],
   "source": [
    "model.wv.most_similar(positive = ['woman', 'king'], negative = ['man'])"
   ]
  },
  {
   "cell_type": "code",
   "execution_count": null,
   "id": "35014c3a",
   "metadata": {},
   "outputs": [],
   "source": []
  }
 ],
 "metadata": {
  "kernelspec": {
   "display_name": "Python 3 (ipykernel)",
   "language": "python",
   "name": "python3"
  },
  "language_info": {
   "codemirror_mode": {
    "name": "ipython",
    "version": 3
   },
   "file_extension": ".py",
   "mimetype": "text/x-python",
   "name": "python",
   "nbconvert_exporter": "python",
   "pygments_lexer": "ipython3",
   "version": "3.11.5"
  }
 },
 "nbformat": 4,
 "nbformat_minor": 5
}
