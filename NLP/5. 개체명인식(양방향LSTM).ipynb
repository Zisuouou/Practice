{
 "cells": [
  {
   "cell_type": "markdown",
   "id": "2c686cbb",
   "metadata": {},
   "source": [
    "# 양방향 LSTM\n",
    "\n",
    "- RNN이나 LSTM은 시퀀스 또는 시계열 데이터 처리에 특화되어 은닉층에서 과거의 정보를 기억할 수 있음\n",
    "- 그러나 순환 구조의 특성상 데이터가 입력 순으로 처리되기 때문에 이전 시점의 정보만 활용할 수 밖에 없다는 단점이 존재\n",
    "    - 문장이 길어질수록 성능이 저하\n",
    "    - 예) ios앱 (개발)은 맥북이 필요합니다\n",
    "    - 위의 경우에 ios와 앱 이라는 단어만으로는 개발 이라는 단어를 유추하기 힘듦\n",
    "        - 문장의 앞부분보다 뒷부분에 중요한 정보가 있음\n",
    "        \n",
    "- 양방향 LSTM(Bidirectional LSTM)\n",
    "    - 기존 LSTM 계층에 역방향으로 처리하는 LSTM 계층을 추가해 양방향에서 문장의 패턴을 분석할 수 있도록 구성\n",
    "    - 입력 문장을 양방향에서 처리하기 때문에 시퀀스 길이가 길어져도 정보 손실 없이 처리가 가능\n",
    "    \n",
    "<img src = \"./image/Bidirectional_LSTM.jpg\">"
   ]
  },
  {
   "cell_type": "markdown",
   "id": "c2f0f88f",
   "metadata": {},
   "source": [
    "# 개체명 인식(Named Entity Recognition)\n",
    "\n",
    "- 각 개체의 유형을 인식\n",
    "- 문장 내에 포함된 어떤 단어가 인물, 장소, 날짜 등을 의미하는 단어인지 인식하는 것 \n",
    "- 개체명 인식은 챗봇에서 문장을 정확하게 해석하기 위해 반드시 처리해야 하는 전처리 과정임\n",
    "    - 예) 날짜와 지역에 대해 개체 인식을 할 수 있는 모델이 있다고 가정할 경우\n",
    "    - 입력 문장 : 내일 부산 날씨 알려줘\n",
    "    - 문장 의도 : 날씨 요청\n",
    "    - 개체명 인식 결과 : 내일 - 날짜, 부산 - 지역 \n",
    "    \n",
    "- 단순한 질문 형태라면 개체명 사전을 구축해 해당 단어들과 매핑되는 개체명을 찾을 수도 있음\n",
    "    - 문장 구조가 복잡하거나 문맥에 따라 단어의 의미가 바뀐다면 딥러닝 모델을 활용해야 함\n",
    "\n",
    "- 개체명 사전 구축 방식은 신조어나 사전에 포함되지 않은 단어는 처리 불가능하며 사람이 직접 사전 데이터를 관리해야 하기 때문에 관리비용이 많이 필요함"
   ]
  },
  {
   "cell_type": "markdown",
   "id": "4a9ae243",
   "metadata": {},
   "source": [
    "## BIO 표기법\n",
    "\n",
    "- Beginning, Inside, Outside 의 약자\n",
    "- 각 토큰마다 태그를 붙이기 위해 사용\n",
    "- Beginning : 개체명이 시작되는 단어에 \"B-개체명\" 으로 태그 \n",
    "- Inside : \"B-개체명\"과 연결되는 단어일 때 \"I-개체명\" 으로 태그\n",
    "- Outside : 개체명 이외의 모든 토큰에 태그\n",
    "    - 예) 오늘부터 길동 포터는 삼성전자에 근무합니다\n",
    "    - 오늘 -> B-date\n",
    "    - 부터 -> O\n",
    "    - 길동 -> B-Person\n",
    "    - 포터 -> I-Person\n",
    "    - 는 -> O\n",
    "    - 삼성 -> B-Company\n",
    "    - 전자 -> I-Compony\n",
    "    - 에 -> O\n",
    "    - 근무 -> O\n",
    "    - 합니다 -> O\n",
    "    \n",
    "- 두 개 이상의 토큰이 하나의 개체를 구성하는 경우가 많기 때문에 BIO 표기법을 사용"
   ]
  },
  {
   "cell_type": "markdown",
   "id": "c1e3d1dd",
   "metadata": {},
   "source": [
    "## 국립국어원 언어정보나눔터 개체명 인식 모델을 위한 말뭉치\n",
    "\n",
    "- ; 으로 시작하는 문장 : 원본 문장\n",
    "- $ 로 시작하는 문장 : 해당 문장에서 NER 처리된 결과\n",
    "- 개체명 인식 모델은 단어 토큰을 입력했을 때 NER 태그값을 예측\n",
    "    - 예) \"삼성전자\" 를 입력한다면 B_OG(단체) 태그가 출력되도록 학습"
   ]
  },
  {
   "cell_type": "code",
   "execution_count": 1,
   "id": "6bfa56b4",
   "metadata": {},
   "outputs": [
    {
     "name": "stdout",
     "output_type": "stream",
     "text": [
      "WARNING:tensorflow:From C:\\ProgramData\\anaconda3\\Lib\\site-packages\\keras\\src\\losses.py:2976: The name tf.losses.sparse_softmax_cross_entropy is deprecated. Please use tf.compat.v1.losses.sparse_softmax_cross_entropy instead.\n",
      "\n"
     ]
    }
   ],
   "source": [
    "import matplotlib.pyplot as plt\n",
    "import tensorflow as tf\n",
    "from tensorflow.keras import preprocessing\n",
    "from sklearn.model_selection import train_test_split\n",
    "import numpy as np\n",
    "from tensorflow.keras.models import Sequential\n",
    "from tensorflow.keras.layers import (LSTM, Embedding, Dense, TimeDistributed, Dropout,\n",
    "                                    Bidirectional)\n",
    "from tensorflow.keras.optimizers import Adam\n",
    "from seqeval.metrics import f1_score, classification_report  # 모델 평가"
   ]
  },
  {
   "cell_type": "code",
   "execution_count": 2,
   "id": "3abc595c",
   "metadata": {},
   "outputs": [],
   "source": [
    "# 학습 파일 불러오기\n",
    "def read_file(file_name):\n",
    "    sents = []\n",
    "    with open(file_name, \"r\", encoding = \"utf-8\") as f:\n",
    "        lines = f.readlines()\n",
    "        for idx, l in enumerate(lines):\n",
    "            if l[0] == \";\" and lines[idx + 1][0] == \"$\":\n",
    "                this_sent = []\n",
    "            elif l[0] == \"$\" and lines[idx - 1][0] == \";\":\n",
    "                continue\n",
    "            elif l[0] == \"\\n\":\n",
    "                sents.append(this_sent)\n",
    "            else:\n",
    "                this_sent.append(tuple(l.split()))\n",
    "    return sents"
   ]
  },
  {
   "cell_type": "code",
   "execution_count": 3,
   "id": "875f82ca",
   "metadata": {},
   "outputs": [],
   "source": [
    "# 학습용 말뭉치 데이터를 불러옴\n",
    "corpus = read_file(\"./data/ner/train.txt\")"
   ]
  },
  {
   "cell_type": "code",
   "execution_count": 4,
   "id": "012d38fb",
   "metadata": {},
   "outputs": [
    {
     "data": {
      "text/plain": [
       "[('1', '한편', 'NNG', 'O'),\n",
       " ('1', ',', 'SP', 'O'),\n",
       " ('2', 'AFC', 'SL', 'O'),\n",
       " ('2', '챔피언스', 'NNG', 'O'),\n",
       " ('2', '리그', 'NNG', 'O'),\n",
       " ('3', 'E', 'SL', 'B_OG'),\n",
       " ('3', '조', 'NNG', 'I'),\n",
       " ('3', '에', 'JKB', 'O'),\n",
       " ('4', '속하', 'VV', 'O'),\n",
       " ('4', 'ㄴ', 'ETM', 'O'),\n",
       " ('5', '포항', 'NNP', 'O'),\n",
       " ('6', '역시', 'MAJ', 'O'),\n",
       " ('7', '대회', 'NNG', 'O'),\n",
       " ('8', '8강', 'NNG', 'O'),\n",
       " ('9', '진출', 'NNG', 'O'),\n",
       " ('9', '이', 'JKS', 'O'),\n",
       " ('10', '불투명', 'NNG', 'O'),\n",
       " ('10', '하', 'VV', 'O'),\n",
       " ('10', '다', 'EC', 'O'),\n",
       " ('11', '.', 'SF', 'O')]"
      ]
     },
     "execution_count": 4,
     "metadata": {},
     "output_type": "execute_result"
    }
   ],
   "source": [
    "corpus[0]"
   ]
  },
  {
   "cell_type": "code",
   "execution_count": 5,
   "id": "4e842c99",
   "metadata": {},
   "outputs": [
    {
     "data": {
      "text/plain": [
       "3555"
      ]
     },
     "execution_count": 5,
     "metadata": {},
     "output_type": "execute_result"
    }
   ],
   "source": [
    "# 샘플크기\n",
    "len(corpus)"
   ]
  },
  {
   "cell_type": "code",
   "execution_count": 6,
   "id": "21d89f10",
   "metadata": {},
   "outputs": [],
   "source": [
    "# 말뭉치 데이터에서 단어와 BIO 태그만 불러와 학습용 데이터셋 생성 \n",
    "sentences, tags = [], []\n",
    "for t in corpus:\n",
    "    tagged_sentence = []\n",
    "    sentence, bio_tag = [], []\n",
    "    for w in t:\n",
    "        tagged_sentence.append((w[1], w[3]))\n",
    "        sentence.append(w[1])\n",
    "        bio_tag.append(w[3])\n",
    "        \n",
    "    sentences.append(sentence)\n",
    "    tags.append(bio_tag)"
   ]
  },
  {
   "cell_type": "markdown",
   "id": "1daf39ef",
   "metadata": {},
   "source": [
    "- 단어와 BIO 태그만 이용해 학습용 데이터셋을 생성 "
   ]
  },
  {
   "cell_type": "code",
   "execution_count": 7,
   "id": "33d02e2e",
   "metadata": {
    "scrolled": true
   },
   "outputs": [
    {
     "name": "stdout",
     "output_type": "stream",
     "text": [
      "샘플 크기 :  3555\n",
      "0번째 샘플 문장 시퀀스 : \n",
      " ['한편', ',', 'AFC', '챔피언스', '리그', 'E', '조', '에', '속하', 'ㄴ', '포항', '역시', '대회', '8강', '진출', '이', '불투명', '하', '다', '.']\n",
      "0번째 샘플 bio 태그 : \n",
      " ['O', 'O', 'O', 'O', 'O', 'B_OG', 'I', 'O', 'O', 'O', 'O', 'O', 'O', 'O', 'O', 'O', 'O', 'O', 'O', 'O']\n",
      "샘플 문장 시퀀스 최대 길이 :  168\n",
      "샘플 문장 시퀀스 평균 길이 : 34.03909985935302\n"
     ]
    }
   ],
   "source": [
    "print(\"샘플 크기 : \", len(sentences))\n",
    "print(\"0번째 샘플 문장 시퀀스 : \\n\", sentences[0])\n",
    "print(\"0번째 샘플 bio 태그 : \\n\", tags[0])\n",
    "print(\"샘플 문장 시퀀스 최대 길이 : \", max(len(l) for l in sentences))\n",
    "print(\"샘플 문장 시퀀스 평균 길이 :\", (sum(map(len, sentences)) / len(sentences)))"
   ]
  },
  {
   "cell_type": "code",
   "execution_count": 8,
   "id": "b26c26eb",
   "metadata": {},
   "outputs": [],
   "source": [
    "# 토크나이저 정의\n",
    "\n",
    "# 단어 사전의 첫 번째 인덱스에는 OOV 사용\n",
    "sent_tokenizer = preprocessing.text.Tokenizer(oov_token = \"OOV\")\n",
    "sent_tokenizer.fit_on_texts(sentences)\n",
    "\n",
    "tag_tokenizer = preprocessing.text.Tokenizer(lower = False) # 태그 정보는 소문자로 변환하지 않음\n",
    "tag_tokenizer.fit_on_texts(tags)"
   ]
  },
  {
   "cell_type": "code",
   "execution_count": 9,
   "id": "4c244eef",
   "metadata": {},
   "outputs": [
    {
     "name": "stdout",
     "output_type": "stream",
     "text": [
      "BIO 태그 사전 크기 : 8\n",
      "단어 사전 크기 : 13834\n"
     ]
    }
   ],
   "source": [
    "# 단어 사전 및 태그 사전 크기\n",
    "vocab_size = len(sent_tokenizer.word_index) + 1\n",
    "tag_size = len(tag_tokenizer.word_index) + 1\n",
    "print(\"BIO 태그 사전 크기 :\", tag_size)\n",
    "print(\"단어 사전 크기 :\", vocab_size)"
   ]
  },
  {
   "cell_type": "code",
   "execution_count": 10,
   "id": "60f75666",
   "metadata": {
    "scrolled": true
   },
   "outputs": [
    {
     "data": {
      "text/plain": [
       "{'O': 1, 'I': 2, 'B_OG': 3, 'B_PS': 4, 'B_DT': 5, 'B_LC': 6, 'B_TI': 7}"
      ]
     },
     "execution_count": 10,
     "metadata": {},
     "output_type": "execute_result"
    }
   ],
   "source": [
    "tag_tokenizer.word_index"
   ]
  },
  {
   "cell_type": "markdown",
   "id": "c409be47",
   "metadata": {},
   "source": [
    "- 처음 보는애는 OOV 로 들어감"
   ]
  },
  {
   "cell_type": "code",
   "execution_count": 11,
   "id": "c91828df",
   "metadata": {},
   "outputs": [],
   "source": [
    "# 학습용 단어 시퀀스 생성\n",
    "x_train = sent_tokenizer.texts_to_sequences(sentences)\n",
    "y_train = tag_tokenizer.texts_to_sequences(tags) "
   ]
  },
  {
   "cell_type": "code",
   "execution_count": 12,
   "id": "09047470",
   "metadata": {},
   "outputs": [
    {
     "name": "stdout",
     "output_type": "stream",
     "text": [
      "[183, 11, 4276, 884, 162, 931, 402, 10, 2608, 7, 1516, 608, 145, 1361, 414, 4, 6347, 2, 8, 3]\n",
      "[1, 1, 1, 1, 1, 3, 2, 1, 1, 1, 1, 1, 1, 1, 1, 1, 1, 1, 1, 1]\n"
     ]
    }
   ],
   "source": [
    "print(x_train[0])\n",
    "print(y_train[0])"
   ]
  },
  {
   "cell_type": "code",
   "execution_count": 13,
   "id": "4f4cbb35",
   "metadata": {},
   "outputs": [],
   "source": [
    "# index to word / index to NER 정의\n",
    "index_to_word = sent_tokenizer.index_word # 시퀀스 인덱스를 단어로 변환하기 위해 사용\n",
    "index_to_ner = tag_tokenizer.index_word # 시퀀스 인덱스를 NER로 변환하기 위해 사용\n",
    "index_to_ner[0] = \"PAD\"   # 0번째는 그냥 PAD"
   ]
  },
  {
   "cell_type": "code",
   "execution_count": 14,
   "id": "8ce59d60",
   "metadata": {},
   "outputs": [
    {
     "data": {
      "text/plain": [
       "{1: 'O',\n",
       " 2: 'I',\n",
       " 3: 'B_OG',\n",
       " 4: 'B_PS',\n",
       " 5: 'B_DT',\n",
       " 6: 'B_LC',\n",
       " 7: 'B_TI',\n",
       " 0: 'PAD'}"
      ]
     },
     "execution_count": 14,
     "metadata": {},
     "output_type": "execute_result"
    }
   ],
   "source": [
    "index_to_ner"
   ]
  },
  {
   "cell_type": "code",
   "execution_count": 15,
   "id": "7078fdf6",
   "metadata": {},
   "outputs": [],
   "source": [
    "# 시퀀스 패딩 처리\n",
    "max_len = 40\n",
    "x_train = preprocessing.sequence.pad_sequences(x_train, padding = \"post\", maxlen = max_len)\n",
    "y_train = preprocessing.sequence.pad_sequences(y_train, padding= \"post\", maxlen = max_len)"
   ]
  },
  {
   "cell_type": "code",
   "execution_count": 16,
   "id": "31369fc0",
   "metadata": {},
   "outputs": [],
   "source": [
    "# 학습데이터와 테스트데이터를 8:2 비율로 분리\n",
    "x_train, x_test, y_train, y_test = train_test_split(x_train, y_train, test_size = 0.2,\n",
    "                                                    random_state = 12)"
   ]
  },
  {
   "cell_type": "code",
   "execution_count": 17,
   "id": "d5968897",
   "metadata": {},
   "outputs": [],
   "source": [
    "# 출력 데이터를 원-핫 인코딩\n",
    "y_train = tf.keras.utils.to_categorical(y_train, num_classes = tag_size)\n",
    "y_test = tf.keras.utils.to_categorical(y_test, num_classes = tag_size)"
   ]
  },
  {
   "cell_type": "code",
   "execution_count": 18,
   "id": "f2d9aa5f",
   "metadata": {},
   "outputs": [
    {
     "name": "stdout",
     "output_type": "stream",
     "text": [
      "학습 샘플 시퀀스 형상 :  (2844, 40)\n",
      "학습 샘플 리이블 형상 :  (2844, 40, 8)\n",
      "테스트 샘플 시퀀스 형상 :  (711, 40)\n",
      "테스트 샘플 레이블 형상 :  (711, 40, 8)\n"
     ]
    }
   ],
   "source": [
    "print(\"학습 샘플 시퀀스 형상 : \", x_train.shape)\n",
    "print(\"학습 샘플 리이블 형상 : \", y_train.shape)\n",
    "print(\"테스트 샘플 시퀀스 형상 : \", x_test.shape)\n",
    "print(\"테스트 샘플 레이블 형상 : \", y_test.shape)"
   ]
  },
  {
   "cell_type": "code",
   "execution_count": 19,
   "id": "10bede01",
   "metadata": {},
   "outputs": [
    {
     "data": {
      "text/plain": [
       "array([ 479,    6,   33,  327, 2615,    9, 2207,    4,   18,   62, 6379,\n",
       "          5, 6380,    2,    6,  183, 4295,   10,   57,    7, 6381,  186,\n",
       "        611,   10,   34, 1368,  500,   29,   38,    4,    8,    3,    0,\n",
       "          0,    0,    0,    0,    0,    0,    0])"
      ]
     },
     "execution_count": 19,
     "metadata": {},
     "output_type": "execute_result"
    }
   ],
   "source": [
    "x_train[0]"
   ]
  },
  {
   "cell_type": "code",
   "execution_count": 20,
   "id": "491a91b6",
   "metadata": {},
   "outputs": [
    {
     "data": {
      "text/plain": [
       "array([[0., 0., 0., 1., 0., 0., 0., 0.],\n",
       "       [0., 1., 0., 0., 0., 0., 0., 0.],\n",
       "       [0., 1., 0., 0., 0., 0., 0., 0.],\n",
       "       [0., 1., 0., 0., 0., 0., 0., 0.],\n",
       "       [0., 1., 0., 0., 0., 0., 0., 0.],\n",
       "       [0., 1., 0., 0., 0., 0., 0., 0.],\n",
       "       [0., 1., 0., 0., 0., 0., 0., 0.],\n",
       "       [0., 1., 0., 0., 0., 0., 0., 0.],\n",
       "       [0., 1., 0., 0., 0., 0., 0., 0.],\n",
       "       [0., 1., 0., 0., 0., 0., 0., 0.],\n",
       "       [0., 0., 0., 0., 1., 0., 0., 0.],\n",
       "       [0., 1., 0., 0., 0., 0., 0., 0.],\n",
       "       [0., 1., 0., 0., 0., 0., 0., 0.],\n",
       "       [0., 1., 0., 0., 0., 0., 0., 0.],\n",
       "       [0., 1., 0., 0., 0., 0., 0., 0.],\n",
       "       [0., 1., 0., 0., 0., 0., 0., 0.],\n",
       "       [0., 0., 0., 0., 1., 0., 0., 0.],\n",
       "       [0., 1., 0., 0., 0., 0., 0., 0.],\n",
       "       [0., 1., 0., 0., 0., 0., 0., 0.],\n",
       "       [0., 1., 0., 0., 0., 0., 0., 0.],\n",
       "       [0., 1., 0., 0., 0., 0., 0., 0.],\n",
       "       [0., 1., 0., 0., 0., 0., 0., 0.],\n",
       "       [0., 1., 0., 0., 0., 0., 0., 0.],\n",
       "       [0., 1., 0., 0., 0., 0., 0., 0.],\n",
       "       [0., 1., 0., 0., 0., 0., 0., 0.],\n",
       "       [0., 1., 0., 0., 0., 0., 0., 0.],\n",
       "       [0., 1., 0., 0., 0., 0., 0., 0.],\n",
       "       [0., 1., 0., 0., 0., 0., 0., 0.],\n",
       "       [0., 1., 0., 0., 0., 0., 0., 0.],\n",
       "       [0., 1., 0., 0., 0., 0., 0., 0.],\n",
       "       [0., 1., 0., 0., 0., 0., 0., 0.],\n",
       "       [0., 1., 0., 0., 0., 0., 0., 0.],\n",
       "       [1., 0., 0., 0., 0., 0., 0., 0.],\n",
       "       [1., 0., 0., 0., 0., 0., 0., 0.],\n",
       "       [1., 0., 0., 0., 0., 0., 0., 0.],\n",
       "       [1., 0., 0., 0., 0., 0., 0., 0.],\n",
       "       [1., 0., 0., 0., 0., 0., 0., 0.],\n",
       "       [1., 0., 0., 0., 0., 0., 0., 0.],\n",
       "       [1., 0., 0., 0., 0., 0., 0., 0.],\n",
       "       [1., 0., 0., 0., 0., 0., 0., 0.]], dtype=float32)"
      ]
     },
     "execution_count": 20,
     "metadata": {},
     "output_type": "execute_result"
    }
   ],
   "source": [
    "y_train[0]"
   ]
  },
  {
   "cell_type": "code",
   "execution_count": 21,
   "id": "8e831837",
   "metadata": {},
   "outputs": [
    {
     "name": "stdout",
     "output_type": "stream",
     "text": [
      "WARNING:tensorflow:From C:\\ProgramData\\anaconda3\\Lib\\site-packages\\keras\\src\\backend.py:873: The name tf.get_default_graph is deprecated. Please use tf.compat.v1.get_default_graph instead.\n",
      "\n"
     ]
    }
   ],
   "source": [
    "# 모델 정의(Bi-LSTM)\n",
    "model = Sequential()\n",
    "model.add(Embedding(input_dim = vocab_size, output_dim = 30, input_shape = (max_len,),\n",
    "                   mask_zero = True))\n",
    "model.add(Bidirectional(LSTM(200, return_sequences = True, dropout = 0.5,\n",
    "                           recurrent_dropout = 0.25)))\n",
    "model.add(TimeDistributed(Dense(tag_size, activation = \"softmax\")))"
   ]
  },
  {
   "cell_type": "markdown",
   "id": "5c831aa1",
   "metadata": {},
   "source": [
    "- Embedding  : 맨 처음 들어가는 단어 수 \n",
    "- mask_zero = Ture : 0으로 패딩된 값을 마스킹하여 네트워크의 뒤로 전달되지 않게 만듦\n",
    "- TimeDistributed : many-to-many 로 동작. 각 타임스텝마다 출력이 있어야 함\n",
    "\n",
    "<img src = \"./image/time_distributed.jpg\">"
   ]
  },
  {
   "cell_type": "code",
   "execution_count": 22,
   "id": "b1ec9a40",
   "metadata": {},
   "outputs": [
    {
     "name": "stdout",
     "output_type": "stream",
     "text": [
      "Model: \"sequential\"\n",
      "_________________________________________________________________\n",
      " Layer (type)                Output Shape              Param #   \n",
      "=================================================================\n",
      " embedding (Embedding)       (None, 40, 30)            415020    \n",
      "                                                                 \n",
      " bidirectional (Bidirection  (None, 40, 400)           369600    \n",
      " al)                                                             \n",
      "                                                                 \n",
      " time_distributed (TimeDist  (None, 40, 8)             3208      \n",
      " ributed)                                                        \n",
      "                                                                 \n",
      "=================================================================\n",
      "Total params: 787828 (3.01 MB)\n",
      "Trainable params: 787828 (3.01 MB)\n",
      "Non-trainable params: 0 (0.00 Byte)\n",
      "_________________________________________________________________\n"
     ]
    }
   ],
   "source": [
    "model.summary()"
   ]
  },
  {
   "cell_type": "code",
   "execution_count": 23,
   "id": "99882114",
   "metadata": {},
   "outputs": [],
   "source": [
    "model.compile(loss = \"categorical_crossentropy\", optimizer = Adam(0.01),\n",
    "             metrics = [\"accuracy\"])"
   ]
  },
  {
   "cell_type": "code",
   "execution_count": 24,
   "id": "e500df9a",
   "metadata": {},
   "outputs": [
    {
     "name": "stdout",
     "output_type": "stream",
     "text": [
      "Epoch 1/10\n",
      "WARNING:tensorflow:From C:\\ProgramData\\anaconda3\\Lib\\site-packages\\keras\\src\\utils\\tf_utils.py:492: The name tf.ragged.RaggedTensorValue is deprecated. Please use tf.compat.v1.ragged.RaggedTensorValue instead.\n",
      "\n",
      "WARNING:tensorflow:From C:\\ProgramData\\anaconda3\\Lib\\site-packages\\keras\\src\\engine\\base_layer_utils.py:384: The name tf.executing_eagerly_outside_functions is deprecated. Please use tf.compat.v1.executing_eagerly_outside_functions instead.\n",
      "\n",
      "23/23 [==============================] - 13s 295ms/step - loss: 0.6861 - accuracy: 0.8379\n",
      "Epoch 2/10\n",
      "23/23 [==============================] - 6s 277ms/step - loss: 0.3108 - accuracy: 0.9021\n",
      "Epoch 3/10\n",
      "23/23 [==============================] - 7s 302ms/step - loss: 0.1948 - accuracy: 0.9336\n",
      "Epoch 4/10\n",
      "23/23 [==============================] - 6s 276ms/step - loss: 0.1394 - accuracy: 0.9529\n",
      "Epoch 5/10\n",
      "23/23 [==============================] - 6s 280ms/step - loss: 0.1015 - accuracy: 0.9694\n",
      "Epoch 6/10\n",
      "23/23 [==============================] - 6s 282ms/step - loss: 0.0713 - accuracy: 0.9781\n",
      "Epoch 7/10\n",
      "23/23 [==============================] - 7s 287ms/step - loss: 0.0529 - accuracy: 0.9838\n",
      "Epoch 8/10\n",
      "23/23 [==============================] - 7s 290ms/step - loss: 0.0457 - accuracy: 0.9855\n",
      "Epoch 9/10\n",
      "23/23 [==============================] - 6s 273ms/step - loss: 0.0359 - accuracy: 0.9888\n",
      "Epoch 10/10\n",
      "23/23 [==============================] - 7s 311ms/step - loss: 0.0305 - accuracy: 0.9902\n"
     ]
    },
    {
     "data": {
      "text/plain": [
       "<keras.src.callbacks.History at 0x21bc22ec610>"
      ]
     },
     "execution_count": 24,
     "metadata": {},
     "output_type": "execute_result"
    }
   ],
   "source": [
    "model.fit(x_train, y_train, batch_size = 128, epochs = 10)"
   ]
  },
  {
   "cell_type": "code",
   "execution_count": 25,
   "id": "06178393",
   "metadata": {},
   "outputs": [
    {
     "name": "stdout",
     "output_type": "stream",
     "text": [
      "23/23 [==============================] - 2s 37ms/step - loss: 0.3188 - accuracy: 0.9327\n"
     ]
    },
    {
     "data": {
      "text/plain": [
       "[0.3188301622867584, 0.9327023029327393]"
      ]
     },
     "execution_count": 25,
     "metadata": {},
     "output_type": "execute_result"
    }
   ],
   "source": [
    "model.evaluate(x_test, y_test)"
   ]
  },
  {
   "cell_type": "markdown",
   "id": "d7b3c25e",
   "metadata": {},
   "source": [
    "- BIO 태그는 실제 의미 있는 태그보다 의미 없는 0 태그가 대부분을 차지하고 있기 때문에 실제 성능과 무관하게 높은 점수가 나올 수 있음\n",
    "- 따라서 개체명 인식에서는 F1 스코어가 주로 이용됨\n",
    "- F1 스코어 : 정밀도와 재현율의 조화 평균"
   ]
  },
  {
   "cell_type": "code",
   "execution_count": 31,
   "id": "9933e6e7",
   "metadata": {},
   "outputs": [],
   "source": [
    "# 시퀀스를 NER 태그로 변환\n",
    "def sequences_to_tag(sequences):\n",
    "    result = []\n",
    "    for sequence in sequences:\n",
    "        temp = []\n",
    "        for pred in sequence:\n",
    "            pred_index = np.argmax(pred)\n",
    "            temp.append(index_to_ner[pred_index].replace(\"PAD\", \"O\"))\n",
    "        result.append(temp)\n",
    "    return result"
   ]
  },
  {
   "cell_type": "code",
   "execution_count": 32,
   "id": "a618cb54",
   "metadata": {},
   "outputs": [
    {
     "data": {
      "text/plain": [
       "(711, 40)"
      ]
     },
     "execution_count": 32,
     "metadata": {},
     "output_type": "execute_result"
    }
   ],
   "source": [
    "x_test.shape"
   ]
  },
  {
   "cell_type": "code",
   "execution_count": 35,
   "id": "90ffa23b",
   "metadata": {},
   "outputs": [
    {
     "name": "stdout",
     "output_type": "stream",
     "text": [
      "23/23 [==============================] - 1s 23ms/step\n"
     ]
    }
   ],
   "source": [
    "# 테스트 데이터셋의 NER 예측\n",
    "y_predicted = model.predict(x_test) # (711, 40) -> model -> (711, 40, 8)\n",
    "# BIO 태그 사전 크기 : 8 라서 (711, 40, 8)\n",
    "pred_tags = sequences_to_tag(y_predicted) # 예측된 NER\n",
    "test_tags = sequences_to_tag(y_test) # 실제 NER"
   ]
  },
  {
   "cell_type": "code",
   "execution_count": 36,
   "id": "92e51c35",
   "metadata": {
    "scrolled": true
   },
   "outputs": [
    {
     "data": {
      "text/plain": [
       "array([[1.41737155e-08, 9.99996066e-01, 2.65784570e-06, 6.31332227e-07,\n",
       "        5.65624646e-07, 8.07526632e-08, 3.96711854e-08, 1.49799675e-08],\n",
       "       [6.59158594e-09, 9.99997258e-01, 2.05282063e-07, 5.92368451e-07,\n",
       "        1.84342230e-06, 2.03212611e-08, 1.01395081e-07, 5.24544674e-09],\n",
       "       [4.59348826e-08, 9.99993086e-01, 1.58235295e-07, 5.77114520e-07,\n",
       "        3.89794593e-07, 2.63718721e-06, 3.01740829e-06, 8.34355234e-08],\n",
       "       [1.00895348e-09, 9.99999404e-01, 5.24580287e-07, 4.59505678e-09,\n",
       "        4.17185611e-08, 7.66607577e-09, 3.18284386e-08, 4.37802328e-09],\n",
       "       [1.51425201e-08, 9.99981880e-01, 8.38991696e-07, 2.34004347e-07,\n",
       "        1.68895531e-05, 6.41576108e-08, 5.84875295e-08, 6.31927080e-08],\n",
       "       [1.53789319e-08, 9.99995589e-01, 1.59815261e-06, 2.52894394e-09,\n",
       "        1.87961052e-06, 4.32348344e-07, 2.22224195e-08, 5.16717421e-07],\n",
       "       [9.36435995e-09, 9.99997973e-01, 8.54029508e-07, 1.41803611e-07,\n",
       "        7.08770756e-07, 1.82831144e-07, 1.29850406e-08, 7.34934673e-08],\n",
       "       [6.87346013e-11, 9.99999881e-01, 5.51778747e-08, 2.34402764e-09,\n",
       "        8.00545408e-09, 1.05334874e-09, 1.59526489e-10, 2.51275944e-10],\n",
       "       [7.19588167e-09, 9.99998808e-01, 2.84851360e-08, 3.11027890e-07,\n",
       "        5.94442383e-07, 8.41197476e-08, 8.93672336e-08, 9.31679889e-09],\n",
       "       [3.21054794e-10, 9.99999881e-01, 9.14272480e-09, 3.07430348e-09,\n",
       "        9.86244064e-09, 9.17929643e-09, 5.44717196e-08, 9.97602556e-10],\n",
       "       [2.42386676e-07, 9.99940157e-01, 5.58308386e-07, 8.32139733e-07,\n",
       "        4.95267777e-05, 2.98408258e-06, 4.73753653e-06, 1.00224554e-06],\n",
       "       [4.01632685e-11, 1.00000000e+00, 5.35601643e-08, 8.10265910e-10,\n",
       "        1.37569567e-09, 8.34686431e-10, 5.08432463e-10, 1.47021006e-10],\n",
       "       [3.23820082e-08, 9.99996066e-01, 7.67165673e-08, 3.10982529e-07,\n",
       "        3.01972477e-07, 5.33550349e-07, 2.60987099e-06, 1.52107688e-07],\n",
       "       [2.51427812e-09, 9.99996901e-01, 2.69100929e-06, 1.33690814e-09,\n",
       "        1.97889761e-07, 7.62409371e-08, 3.58913832e-09, 1.17572320e-07],\n",
       "       [1.27303981e-08, 9.99994755e-01, 1.33910692e-06, 2.90384293e-07,\n",
       "        2.93692005e-06, 3.98173029e-07, 6.39302584e-08, 1.73514849e-07],\n",
       "       [3.13703385e-05, 9.77422237e-01, 3.13507364e-04, 5.83405653e-03,\n",
       "        3.59630981e-03, 1.68727490e-03, 9.68344603e-03, 1.43174303e-03],\n",
       "       [2.12478035e-08, 9.98961806e-01, 9.79478937e-04, 1.14839795e-05,\n",
       "        4.70179002e-05, 4.44906334e-08, 1.58530142e-07, 4.63728362e-08],\n",
       "       [5.37790413e-07, 9.99069512e-01, 5.08366720e-05, 8.28820921e-04,\n",
       "        1.74881461e-05, 4.59004195e-06, 2.78978605e-05, 3.16144082e-07],\n",
       "       [7.79158335e-11, 9.99998569e-01, 1.45414447e-06, 3.28354788e-09,\n",
       "        6.58647981e-09, 6.16017404e-10, 7.96431754e-10, 2.96319108e-10],\n",
       "       [1.60947078e-09, 9.99999881e-01, 6.75950247e-08, 3.22165370e-08,\n",
       "        6.32656025e-08, 3.78143881e-08, 1.99067642e-08, 8.19170332e-09],\n",
       "       [8.30619911e-08, 9.99992251e-01, 4.33537650e-07, 1.93184420e-07,\n",
       "        2.43949739e-06, 2.81501661e-06, 7.81649589e-07, 9.56089252e-07],\n",
       "       [7.64884245e-09, 9.99997735e-01, 3.74618764e-07, 1.49119170e-08,\n",
       "        2.54428745e-08, 1.71598947e-06, 1.38762841e-08, 1.45320513e-07],\n",
       "       [4.79536943e-08, 9.99978304e-01, 2.07866287e-06, 2.33145325e-08,\n",
       "        1.04499268e-05, 8.10746315e-06, 7.86006851e-08, 8.72131523e-07],\n",
       "       [1.48954896e-07, 9.99976397e-01, 1.98949565e-05, 1.50521259e-07,\n",
       "        8.08940115e-07, 4.28275712e-07, 1.49477512e-06, 6.33832485e-07],\n",
       "       [3.52590630e-11, 9.99999762e-01, 2.71375683e-07, 7.87506949e-10,\n",
       "        9.11517795e-09, 1.91125629e-10, 1.22877639e-10, 9.32261143e-11],\n",
       "       [1.07398790e-07, 9.99925375e-01, 1.39505971e-07, 5.35401306e-08,\n",
       "        6.72597744e-05, 6.24385905e-07, 5.85905764e-06, 6.53890368e-07],\n",
       "       [2.69864520e-10, 9.99999046e-01, 1.02454763e-07, 8.29594349e-09,\n",
       "        8.78727633e-07, 1.00356368e-09, 1.97627092e-09, 4.62929084e-10],\n",
       "       [1.10555426e-07, 9.99993324e-01, 1.59302189e-07, 3.04832668e-07,\n",
       "        1.42106285e-06, 2.00594127e-06, 2.24716678e-06, 3.53339402e-07],\n",
       "       [2.53491783e-09, 9.99999404e-01, 3.39754990e-07, 3.01446024e-09,\n",
       "        1.03644675e-08, 2.58477883e-07, 4.47450832e-09, 2.51154848e-08],\n",
       "       [5.75077905e-08, 9.99980211e-01, 1.08488325e-06, 1.81303133e-08,\n",
       "        1.23252039e-05, 5.62192008e-06, 1.06838307e-07, 6.08968492e-07],\n",
       "       [5.41676251e-08, 9.99980569e-01, 1.78003229e-05, 6.13705922e-08,\n",
       "        2.94747167e-07, 1.45930883e-07, 9.34424122e-07, 1.76019057e-07],\n",
       "       [1.22513499e-10, 9.99999762e-01, 1.95695293e-07, 1.46920964e-09,\n",
       "        4.05036316e-09, 5.94805538e-10, 1.55480173e-09, 2.32441011e-10],\n",
       "       [2.83243318e-09, 9.99999046e-01, 1.31114080e-08, 3.73705227e-08,\n",
       "        3.87125141e-07, 1.36232314e-08, 5.21127618e-07, 4.84548401e-09],\n",
       "       [1.70417930e-10, 9.99999881e-01, 3.11636974e-08, 8.18760615e-10,\n",
       "        5.63746561e-08, 1.07739895e-09, 1.68487180e-09, 7.70931596e-10],\n",
       "       [2.58938582e-09, 9.99990106e-01, 4.19738981e-08, 1.23721975e-07,\n",
       "        9.69629946e-06, 1.15512035e-08, 2.92697173e-08, 4.68167638e-09],\n",
       "       [1.38972822e-09, 9.99999642e-01, 1.04272708e-07, 3.76034759e-09,\n",
       "        2.87289055e-07, 1.33398821e-08, 1.18922410e-08, 7.39295292e-09],\n",
       "       [6.76999012e-10, 9.99998450e-01, 4.22222826e-08, 1.48806760e-06,\n",
       "        6.88419277e-08, 6.99220015e-09, 5.18333332e-09, 5.36752809e-10],\n",
       "       [1.70068271e-09, 9.99999881e-01, 2.97360980e-08, 6.61206512e-09,\n",
       "        6.62788935e-08, 2.25340084e-08, 2.14666560e-08, 4.70148054e-09],\n",
       "       [1.85826057e-08, 9.99998808e-01, 9.07977622e-08, 1.06916126e-07,\n",
       "        5.60841897e-07, 2.00219546e-07, 1.69936300e-07, 6.44801190e-08],\n",
       "       [1.02939021e-06, 9.99958873e-01, 2.54739143e-06, 4.73223565e-07,\n",
       "        4.56564612e-06, 2.15268137e-05, 1.62064157e-06, 9.31815612e-06]],\n",
       "      dtype=float32)"
      ]
     },
     "execution_count": 36,
     "metadata": {},
     "output_type": "execute_result"
    }
   ],
   "source": [
    "y_predicted[0]"
   ]
  },
  {
   "cell_type": "code",
   "execution_count": 37,
   "id": "7f6a6cff",
   "metadata": {
    "scrolled": true
   },
   "outputs": [
    {
     "data": {
      "text/plain": [
       "['O',\n",
       " 'O',\n",
       " 'O',\n",
       " 'O',\n",
       " 'O',\n",
       " 'O',\n",
       " 'O',\n",
       " 'O',\n",
       " 'O',\n",
       " 'O',\n",
       " 'O',\n",
       " 'O',\n",
       " 'O',\n",
       " 'O',\n",
       " 'O',\n",
       " 'O',\n",
       " 'O',\n",
       " 'O',\n",
       " 'O',\n",
       " 'O',\n",
       " 'O',\n",
       " 'O',\n",
       " 'O',\n",
       " 'O',\n",
       " 'O',\n",
       " 'O',\n",
       " 'O',\n",
       " 'O',\n",
       " 'O',\n",
       " 'O',\n",
       " 'O',\n",
       " 'O',\n",
       " 'O',\n",
       " 'O',\n",
       " 'O',\n",
       " 'O',\n",
       " 'O',\n",
       " 'O',\n",
       " 'O',\n",
       " 'O']"
      ]
     },
     "execution_count": 37,
     "metadata": {},
     "output_type": "execute_result"
    }
   ],
   "source": [
    "pred_tags[0]"
   ]
  },
  {
   "cell_type": "code",
   "execution_count": 38,
   "id": "d92ffedb",
   "metadata": {
    "scrolled": true
   },
   "outputs": [
    {
     "data": {
      "text/plain": [
       "['O',\n",
       " 'O',\n",
       " 'O',\n",
       " 'O',\n",
       " 'O',\n",
       " 'O',\n",
       " 'O',\n",
       " 'O',\n",
       " 'O',\n",
       " 'O',\n",
       " 'O',\n",
       " 'O',\n",
       " 'O',\n",
       " 'O',\n",
       " 'O',\n",
       " 'O',\n",
       " 'O',\n",
       " 'O',\n",
       " 'O',\n",
       " 'O',\n",
       " 'O',\n",
       " 'O',\n",
       " 'O',\n",
       " 'O',\n",
       " 'O',\n",
       " 'O',\n",
       " 'O',\n",
       " 'O',\n",
       " 'O',\n",
       " 'O',\n",
       " 'O',\n",
       " 'O',\n",
       " 'O',\n",
       " 'O',\n",
       " 'O',\n",
       " 'O',\n",
       " 'O',\n",
       " 'O',\n",
       " 'O',\n",
       " 'O']"
      ]
     },
     "execution_count": 38,
     "metadata": {},
     "output_type": "execute_result"
    }
   ],
   "source": [
    "test_tags[0]"
   ]
  },
  {
   "cell_type": "code",
   "execution_count": 39,
   "id": "f2c00654",
   "metadata": {},
   "outputs": [
    {
     "name": "stderr",
     "output_type": "stream",
     "text": [
      "C:\\ProgramData\\anaconda3\\Lib\\site-packages\\seqeval\\metrics\\sequence_labeling.py:171: UserWarning: B_LC seems not to be NE tag.\n",
      "  warnings.warn('{} seems not to be NE tag.'.format(chunk))\n",
      "C:\\ProgramData\\anaconda3\\Lib\\site-packages\\seqeval\\metrics\\sequence_labeling.py:171: UserWarning: B_TI seems not to be NE tag.\n",
      "  warnings.warn('{} seems not to be NE tag.'.format(chunk))\n",
      "C:\\ProgramData\\anaconda3\\Lib\\site-packages\\seqeval\\metrics\\sequence_labeling.py:171: UserWarning: B_OG seems not to be NE tag.\n",
      "  warnings.warn('{} seems not to be NE tag.'.format(chunk))\n",
      "C:\\ProgramData\\anaconda3\\Lib\\site-packages\\seqeval\\metrics\\sequence_labeling.py:171: UserWarning: B_DT seems not to be NE tag.\n",
      "  warnings.warn('{} seems not to be NE tag.'.format(chunk))\n",
      "C:\\ProgramData\\anaconda3\\Lib\\site-packages\\seqeval\\metrics\\sequence_labeling.py:171: UserWarning: B_PS seems not to be NE tag.\n",
      "  warnings.warn('{} seems not to be NE tag.'.format(chunk))\n"
     ]
    },
    {
     "name": "stdout",
     "output_type": "stream",
     "text": [
      "              precision    recall  f1-score   support\n",
      "\n",
      "           _       0.57      0.54      0.55       683\n",
      "         _DT       0.88      0.85      0.86       357\n",
      "         _LC       0.73      0.57      0.64       324\n",
      "         _OG       0.66      0.55      0.60       464\n",
      "         _PS       0.78      0.44      0.56       388\n",
      "         _TI       0.81      0.72      0.76        76\n",
      "\n",
      "   micro avg       0.70      0.58      0.64      2292\n",
      "   macro avg       0.74      0.61      0.66      2292\n",
      "weighted avg       0.70      0.58      0.63      2292\n",
      "\n"
     ]
    }
   ],
   "source": [
    "print(classification_report(test_tags, pred_tags))"
   ]
  },
  {
   "cell_type": "code",
   "execution_count": 41,
   "id": "f47b075e",
   "metadata": {},
   "outputs": [
    {
     "name": "stdout",
     "output_type": "stream",
     "text": [
      "F1-score: 63.5%\n"
     ]
    }
   ],
   "source": [
    "print(\"F1-score: {:.1%}\".format(f1_score(test_tags, pred_tags)))"
   ]
  },
  {
   "cell_type": "code",
   "execution_count": 42,
   "id": "daac4278",
   "metadata": {},
   "outputs": [],
   "source": [
    "# 새로운 유형의 문장 NER 예측\n",
    "word_to_index = sent_tokenizer.word_index\n",
    "new_sentences = \"삼성전자 출시 스마트폰 오늘 애플 도전장 내밀다.\".split()\n",
    "new_x = []\n",
    "for w in new_sentences:\n",
    "    try:\n",
    "        new_x.append(word_to_index.get(w, 1))\n",
    "    except KeyError:\n",
    "        # 모르는 단어의 경우 OOV\n",
    "        new_x.append(word_to_index[\"OOV\"])"
   ]
  },
  {
   "cell_type": "code",
   "execution_count": 43,
   "id": "252e69d0",
   "metadata": {},
   "outputs": [
    {
     "name": "stdout",
     "output_type": "stream",
     "text": [
      "새로운 유형의 시퀀스 : [531, 307, 1476, 286, 1507, 6766, 1]\n"
     ]
    }
   ],
   "source": [
    "print(\"새로운 유형의 시퀀스 :\", new_x)\n",
    "new_padded_seqs = preprocessing.sequence.pad_sequences([new_x], padding = \"post\",\n",
    "                                                      maxlen = max_len)"
   ]
  },
  {
   "cell_type": "code",
   "execution_count": 44,
   "id": "5ba376ac",
   "metadata": {},
   "outputs": [
    {
     "name": "stdout",
     "output_type": "stream",
     "text": [
      "1/1 [==============================] - 0s 29ms/step\n",
      "단어         예측된 NER\n",
      "--------------------------------------------------\n",
      "삼성전자       B_OG \n",
      "출시         O    \n",
      "스마트폰       O    \n",
      "오늘         B_DT \n",
      "애플         B_OG \n",
      "도전장        O    \n",
      "내밀다.       I    \n"
     ]
    }
   ],
   "source": [
    "# NER 예측\n",
    "p = model.predict(np.array([new_padded_seqs[0]]))\n",
    "p = np.argmax(p, axis = -1) # 예측된 NER 인덱스값 추출\n",
    "print(\"{:10} {:5}\".format(\"단어\", \"예측된 NER\"))\n",
    "print(\"-\" * 50)\n",
    "\n",
    "for w, pred in zip(new_sentences, p[0]):\n",
    "    print(\"{:10} {:5}\".format(w, index_to_ner[pred]))"
   ]
  },
  {
   "cell_type": "code",
   "execution_count": null,
   "id": "be2b7223",
   "metadata": {},
   "outputs": [],
   "source": []
  }
 ],
 "metadata": {
  "kernelspec": {
   "display_name": "Python 3 (ipykernel)",
   "language": "python",
   "name": "python3"
  },
  "language_info": {
   "codemirror_mode": {
    "name": "ipython",
    "version": 3
   },
   "file_extension": ".py",
   "mimetype": "text/x-python",
   "name": "python",
   "nbconvert_exporter": "python",
   "pygments_lexer": "ipython3",
   "version": "3.11.5"
  }
 },
 "nbformat": 4,
 "nbformat_minor": 5
}
