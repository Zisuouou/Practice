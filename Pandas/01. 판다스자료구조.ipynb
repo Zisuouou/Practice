{
 "cells": [
  {
   "cell_type": "markdown",
   "id": "e779778f",
   "metadata": {},
   "source": [
    "# 판다스 자료구조\n",
    "\n",
    "- 분석을 위해 수집하는 데이터는 형태나 속성이 매우 다양함\n",
    "    - 서로 다른 형식을 갖는 여러 종류의 데이터를 컴퓨터가 이해할 수 있도록 동일한 형식을 갖는 구조로 통합할 필요가 있음 \n",
    "    \n",
    "-  판다스 데이터의 형식\n",
    "    - 시리즈(Series)\n",
    "        - 1차원 배열\n",
    "        \n",
    "    - 데이터프레임(DataFrame)\n",
    "        - 2차원 배열"
   ]
  },
  {
   "cell_type": "markdown",
   "id": "020d02e3",
   "metadata": {},
   "source": [
    "## 시리즈\n",
    "\n",
    "<img src = \"./image/series.jpg\">"
   ]
  },
  {
   "cell_type": "markdown",
   "id": "d7d6562a",
   "metadata": {},
   "source": [
    "- 데이터가 순차적으로 나열된 1차원 배열\n",
    "- 각 인덱스(index)는 값(value)과 1:1 대응이  됨\n",
    "    - 이런 관점에서 키와 값이 짝을 이루는 딕셔너리와 비슷한 구조라고도 볼 수 있음 \n",
    "    - 시리즈에서 인덱스는 데이터 값의 위치를 나타내는 이름표 역할을 수행 \n",
    "    \n",
    "- 시리즈 생성\n",
    "    - pandas.Series()"
   ]
  },
  {
   "cell_type": "markdown",
   "id": "d6c3d4ca",
   "metadata": {},
   "source": [
    "### 시리즈 생성"
   ]
  },
  {
   "cell_type": "code",
   "execution_count": 1,
   "id": "5e127e79",
   "metadata": {},
   "outputs": [],
   "source": [
    "import pandas as pd\n",
    "import numpy as np\n",
    "import seaborn as sns"
   ]
  },
  {
   "cell_type": "code",
   "execution_count": 2,
   "id": "d2c53203",
   "metadata": {},
   "outputs": [],
   "source": [
    "# 딕셔너리 생성\n",
    "dict_data = {\"a\" : 1, \"b\" : 2, \"c\" : 3}"
   ]
  },
  {
   "cell_type": "code",
   "execution_count": 3,
   "id": "f50e37b6",
   "metadata": {},
   "outputs": [],
   "source": [
    "# 딕셔너리를 판다스 시리즈로 변환\n",
    "sr= pd.Series(dict_data)"
   ]
  },
  {
   "cell_type": "code",
   "execution_count": 4,
   "id": "b6bd960a",
   "metadata": {},
   "outputs": [
    {
     "name": "stdout",
     "output_type": "stream",
     "text": [
      "<class 'pandas.core.series.Series'>\n",
      "a    1\n",
      "b    2\n",
      "c    3\n",
      "dtype: int64\n"
     ]
    }
   ],
   "source": [
    "print(type(sr))\n",
    "print(sr)"
   ]
  },
  {
   "cell_type": "code",
   "execution_count": 7,
   "id": "aefdd3c0",
   "metadata": {},
   "outputs": [
    {
     "data": {
      "text/plain": [
       "dtype('int64')"
      ]
     },
     "execution_count": 7,
     "metadata": {},
     "output_type": "execute_result"
    }
   ],
   "source": [
    "# 시리즈를 구성하는 데이터 값의 자료형 확인 \n",
    "sr.dtypes"
   ]
  },
  {
   "cell_type": "code",
   "execution_count": 8,
   "id": "85795f54",
   "metadata": {},
   "outputs": [
    {
     "data": {
      "text/plain": [
       "Index(['a', 'b', 'c'], dtype='object')"
      ]
     },
     "execution_count": 8,
     "metadata": {},
     "output_type": "execute_result"
    }
   ],
   "source": [
    "# 시리즈의 인덱스 배열\n",
    "sr.index"
   ]
  },
  {
   "cell_type": "code",
   "execution_count": 10,
   "id": "01f21c8f",
   "metadata": {},
   "outputs": [
    {
     "data": {
      "text/plain": [
       "array([1, 2, 3], dtype=int64)"
      ]
     },
     "execution_count": 10,
     "metadata": {},
     "output_type": "execute_result"
    }
   ],
   "source": [
    "# 시리즈의 값 배열\n",
    "sr.values"
   ]
  },
  {
   "cell_type": "markdown",
   "id": "06a84c55",
   "metadata": {},
   "source": [
    "- 리스트를 시리즈로 변환하면 인덱스로 변환될 값이 없음\n",
    "    - 인덱스가 별도로 정의되지 않으면 정수형 위치 인덱스(0, 1, 2, ......)가 자동으로 지정"
   ]
  },
  {
   "cell_type": "code",
   "execution_count": 11,
   "id": "ac50533f",
   "metadata": {},
   "outputs": [],
   "source": [
    "# 리스트를 시리즈로 변환\n",
    "list_data = [\"2024-02-21\", 3.14, \"ABC\", 100, True]"
   ]
  },
  {
   "cell_type": "code",
   "execution_count": 12,
   "id": "d3a4d317",
   "metadata": {},
   "outputs": [],
   "source": [
    "sr = pd.Series(list_data)"
   ]
  },
  {
   "cell_type": "code",
   "execution_count": 13,
   "id": "a42f2bff",
   "metadata": {},
   "outputs": [
    {
     "name": "stdout",
     "output_type": "stream",
     "text": [
      "0    2024-02-21\n",
      "1          3.14\n",
      "2           ABC\n",
      "3           100\n",
      "4          True\n",
      "dtype: object\n"
     ]
    }
   ],
   "source": [
    "print(sr)"
   ]
  },
  {
   "cell_type": "code",
   "execution_count": 14,
   "id": "468b8226",
   "metadata": {},
   "outputs": [
    {
     "data": {
      "text/plain": [
       "RangeIndex(start=0, stop=5, step=1)"
      ]
     },
     "execution_count": 14,
     "metadata": {},
     "output_type": "execute_result"
    }
   ],
   "source": [
    "sr.index"
   ]
  },
  {
   "cell_type": "code",
   "execution_count": 15,
   "id": "3a6a5ca8",
   "metadata": {},
   "outputs": [
    {
     "data": {
      "text/plain": [
       "array(['2024-02-21', 3.14, 'ABC', 100, True], dtype=object)"
      ]
     },
     "execution_count": 15,
     "metadata": {},
     "output_type": "execute_result"
    }
   ],
   "source": [
    "sr.values"
   ]
  },
  {
   "cell_type": "code",
   "execution_count": 16,
   "id": "70899109",
   "metadata": {},
   "outputs": [],
   "source": [
    "# 튜플을 시리즈로 변환\n",
    "tup_data = (\"영인\", \"2010-05-10\", \"여\", True)"
   ]
  },
  {
   "cell_type": "code",
   "execution_count": 17,
   "id": "8d86507e",
   "metadata": {},
   "outputs": [],
   "source": [
    "# 인덱스를 지정하여 시리즈 변환 \n",
    "sr = pd.Series(tup_data, index = [\"이름\", \"생년월일\", \"성별\", \"학생여부\"])"
   ]
  },
  {
   "cell_type": "code",
   "execution_count": 18,
   "id": "cc01419b",
   "metadata": {},
   "outputs": [
    {
     "data": {
      "text/plain": [
       "이름              영인\n",
       "생년월일    2010-05-10\n",
       "성별               여\n",
       "학생여부          True\n",
       "dtype: object"
      ]
     },
     "execution_count": 18,
     "metadata": {},
     "output_type": "execute_result"
    }
   ],
   "source": [
    "sr"
   ]
  },
  {
   "cell_type": "markdown",
   "id": "d58572a6",
   "metadata": {},
   "source": [
    "### 원소선택\n",
    "\n",
    "- 인덱스를 이용하여 원소를 선택할 수 있음\n",
    "    - 하나의 원소를 선택\n",
    "    - 여러 원소를 한꺼번에 선택\n",
    "    - 인덱스의 범위를 지정하여 원소를 선택\n",
    "        - 슬라이싱 기법과 유사\n",
    "- 정수형 위치 인덱스는 대괄호 안에 위치를 나타내는 숫자를 입력 \n",
    "- 인덱스 이름은 따옴표와 함께 입력                        "
   ]
  },
  {
   "cell_type": "code",
   "execution_count": 23,
   "id": "46b58a15",
   "metadata": {},
   "outputs": [
    {
     "name": "stdout",
     "output_type": "stream",
     "text": [
      "영인\n",
      "\n",
      "영인\n"
     ]
    }
   ],
   "source": [
    "# 원소를 1개 선택 (스칼라)\n",
    "print(sr[0])\n",
    "print()\n",
    "print(sr[\"이름\"])"
   ]
  },
  {
   "cell_type": "code",
   "execution_count": 25,
   "id": "1b76c70c",
   "metadata": {},
   "outputs": [
    {
     "name": "stdout",
     "output_type": "stream",
     "text": [
      "생년월일    2010-05-10\n",
      "성별               여\n",
      "dtype: object\n",
      "\n",
      "생년월일    2010-05-10\n",
      "성별               여\n",
      "dtype: object\n"
     ]
    }
   ],
   "source": [
    "# 여러 원소 선택(인덱스 리스트 활용)\n",
    "print(sr[[1, 2]])\n",
    "print()\n",
    "print(sr[[\"생년월일\", \"성별\"]])"
   ]
  },
  {
   "cell_type": "code",
   "execution_count": 29,
   "id": "e57c87da",
   "metadata": {},
   "outputs": [
    {
     "name": "stdout",
     "output_type": "stream",
     "text": [
      "생년월일    2010-05-10\n",
      "dtype: object\n",
      "\n",
      "생년월일    2010-05-10\n",
      "성별               여\n",
      "dtype: object\n"
     ]
    }
   ],
   "source": [
    "# 여러 원소 선택(인덱스 범위 지정)\n",
    "print(sr[1:2])\n",
    "print()\n",
    "print(sr[\"생년월일\":\"성별\"])\n",
    "# 정수형 위치 인덱스는 범위의 끝이 불포함\n",
    "# 인덱스 이름을 사용하면 범위의 끝이 포함"
   ]
  },
  {
   "cell_type": "markdown",
   "id": "f434f3b3",
   "metadata": {},
   "source": [
    "## 데이터프레임\n",
    "\n",
    "<img src =\"./image/dataframe.jpg\">"
   ]
  },
  {
   "cell_type": "markdown",
   "id": "1733c51c",
   "metadata": {},
   "source": [
    "- 행과 열로 이루어진 2차원 배열\n",
    "\n",
    "- 여러 개의 시리즈들이 모여서 데이터프레임을 구성\n",
    "    - 데이터프레임의 열은 각각 시리즈 객체\n",
    "    - 여러 개의 시리즈들이 같은행 인덱스를 기준으로 결합된 2차원 행렬\n",
    "    \n",
    "- 행과 열을 나타내기 위해 두 가지 종류의 주소를 사용\n",
    "    - 행 인덱스 \n",
    "        - 개별 관측대상에 대한 다양한 속성 데이터들의 모음\n",
    "            - 레코드(record)\n",
    "    \n",
    "    - 열 이름 \n",
    "        - 공통의 속성을 갖는 일련의 데이터\n",
    "        \n",
    "    - 예시) 주식 종목 데이터\n",
    "        - 행 : 각 주식 종목에 대한 관측값\n",
    "        - 열 : 회사이름, 총 주식수, 액면가 등등 "
   ]
  },
  {
   "cell_type": "markdown",
   "id": "4702a8ca",
   "metadata": {},
   "source": [
    "### 데이터프레임 생성\n",
    "\n",
    "- 동일한 길이의 1차원 배열 여러 개가 필요\n",
    "    - pandas.DataFrame(2차원배열)"
   ]
  },
  {
   "cell_type": "code",
   "execution_count": 31,
   "id": "1a117138",
   "metadata": {},
   "outputs": [],
   "source": [
    "dict_data = {\"c0\": [1,2, 3],\n",
    "            \"c1\": [4, 5, 6],\n",
    "            \"c2\": [7, 8, 9],\n",
    "             \"c3\": [10, 11, 12],\n",
    "            \"c4\": [13, 14, 15]}"
   ]
  },
  {
   "cell_type": "code",
   "execution_count": 32,
   "id": "e1c409a8",
   "metadata": {},
   "outputs": [],
   "source": [
    "# 딕셔너리를 데이터프레임으로 변환\n",
    "df = pd.DataFrame(dict_data)"
   ]
  },
  {
   "cell_type": "code",
   "execution_count": 33,
   "id": "000185a4",
   "metadata": {},
   "outputs": [
    {
     "name": "stdout",
     "output_type": "stream",
     "text": [
      "<class 'pandas.core.frame.DataFrame'>\n"
     ]
    },
    {
     "data": {
      "text/html": [
       "<div>\n",
       "<style scoped>\n",
       "    .dataframe tbody tr th:only-of-type {\n",
       "        vertical-align: middle;\n",
       "    }\n",
       "\n",
       "    .dataframe tbody tr th {\n",
       "        vertical-align: top;\n",
       "    }\n",
       "\n",
       "    .dataframe thead th {\n",
       "        text-align: right;\n",
       "    }\n",
       "</style>\n",
       "<table border=\"1\" class=\"dataframe\">\n",
       "  <thead>\n",
       "    <tr style=\"text-align: right;\">\n",
       "      <th></th>\n",
       "      <th>c0</th>\n",
       "      <th>c1</th>\n",
       "      <th>c2</th>\n",
       "      <th>c3</th>\n",
       "      <th>c4</th>\n",
       "    </tr>\n",
       "  </thead>\n",
       "  <tbody>\n",
       "    <tr>\n",
       "      <th>0</th>\n",
       "      <td>1</td>\n",
       "      <td>4</td>\n",
       "      <td>7</td>\n",
       "      <td>10</td>\n",
       "      <td>13</td>\n",
       "    </tr>\n",
       "    <tr>\n",
       "      <th>1</th>\n",
       "      <td>2</td>\n",
       "      <td>5</td>\n",
       "      <td>8</td>\n",
       "      <td>11</td>\n",
       "      <td>14</td>\n",
       "    </tr>\n",
       "    <tr>\n",
       "      <th>2</th>\n",
       "      <td>3</td>\n",
       "      <td>6</td>\n",
       "      <td>9</td>\n",
       "      <td>12</td>\n",
       "      <td>15</td>\n",
       "    </tr>\n",
       "  </tbody>\n",
       "</table>\n",
       "</div>"
      ],
      "text/plain": [
       "   c0  c1  c2  c3  c4\n",
       "0   1   4   7  10  13\n",
       "1   2   5   8  11  14\n",
       "2   3   6   9  12  15"
      ]
     },
     "execution_count": 33,
     "metadata": {},
     "output_type": "execute_result"
    }
   ],
   "source": [
    "print(type(df))\n",
    "df"
   ]
  },
  {
   "cell_type": "markdown",
   "id": "41a21282",
   "metadata": {},
   "source": [
    "### 행 인덱스 / 열 이름 설정 \n",
    "\n",
    "- padas.DataFrame(2차원 배열, index = 행 인덱스 배열, columns = 열 이름 배열) "
   ]
  },
  {
   "cell_type": "code",
   "execution_count": 57,
   "id": "8a1499af",
   "metadata": {},
   "outputs": [],
   "source": [
    "df = pd.DataFrame([[15, \"남\", \"덕영중\"],\n",
    "                  [17, \"여\", \"수리중\"]],\n",
    "                 index = [\"준서\", \"예은\"],\n",
    "                 columns = [\"나이\", \"성별\", \"학교\"])"
   ]
  },
  {
   "cell_type": "code",
   "execution_count": 46,
   "id": "2c7706c1",
   "metadata": {},
   "outputs": [
    {
     "data": {
      "text/html": [
       "<div>\n",
       "<style scoped>\n",
       "    .dataframe tbody tr th:only-of-type {\n",
       "        vertical-align: middle;\n",
       "    }\n",
       "\n",
       "    .dataframe tbody tr th {\n",
       "        vertical-align: top;\n",
       "    }\n",
       "\n",
       "    .dataframe thead th {\n",
       "        text-align: right;\n",
       "    }\n",
       "</style>\n",
       "<table border=\"1\" class=\"dataframe\">\n",
       "  <thead>\n",
       "    <tr style=\"text-align: right;\">\n",
       "      <th></th>\n",
       "      <th>나이</th>\n",
       "      <th>성별</th>\n",
       "      <th>학교</th>\n",
       "    </tr>\n",
       "  </thead>\n",
       "  <tbody>\n",
       "    <tr>\n",
       "      <th>준서</th>\n",
       "      <td>15</td>\n",
       "      <td>남</td>\n",
       "      <td>덕영중</td>\n",
       "    </tr>\n",
       "    <tr>\n",
       "      <th>예은</th>\n",
       "      <td>17</td>\n",
       "      <td>여</td>\n",
       "      <td>수리중</td>\n",
       "    </tr>\n",
       "  </tbody>\n",
       "</table>\n",
       "</div>"
      ],
      "text/plain": [
       "    나이 성별   학교\n",
       "준서  15  남  덕영중\n",
       "예은  17  여  수리중"
      ]
     },
     "execution_count": 46,
     "metadata": {},
     "output_type": "execute_result"
    }
   ],
   "source": [
    "df"
   ]
  },
  {
   "cell_type": "code",
   "execution_count": 40,
   "id": "d2c0b845",
   "metadata": {},
   "outputs": [
    {
     "data": {
      "text/plain": [
       "Index(['준서', '예은'], dtype='object')"
      ]
     },
     "execution_count": 40,
     "metadata": {},
     "output_type": "execute_result"
    }
   ],
   "source": [
    "# 행 인덱스\n",
    "df.index"
   ]
  },
  {
   "cell_type": "code",
   "execution_count": 47,
   "id": "84f26d88",
   "metadata": {},
   "outputs": [
    {
     "data": {
      "text/plain": [
       "Index(['나이', '성별', '학교'], dtype='object')"
      ]
     },
     "execution_count": 47,
     "metadata": {},
     "output_type": "execute_result"
    }
   ],
   "source": [
    "# 열 이름\n",
    "df.columns"
   ]
  },
  {
   "cell_type": "markdown",
   "id": "8cca81bf",
   "metadata": {},
   "source": [
    "#### 행 인덱스 / 열 이름 변경\n",
    "\n",
    "- df.index = 새 행 인덱스 배열\n",
    "- df.columns = 새 열 이름 배열 "
   ]
  },
  {
   "cell_type": "code",
   "execution_count": 60,
   "id": "d5211ed2",
   "metadata": {},
   "outputs": [],
   "source": [
    "# 행 인덱스 변경\n",
    "df.index = [\"학생1\", \"학생2\"]"
   ]
  },
  {
   "cell_type": "code",
   "execution_count": 61,
   "id": "b7bfd97b",
   "metadata": {},
   "outputs": [
    {
     "data": {
      "text/html": [
       "<div>\n",
       "<style scoped>\n",
       "    .dataframe tbody tr th:only-of-type {\n",
       "        vertical-align: middle;\n",
       "    }\n",
       "\n",
       "    .dataframe tbody tr th {\n",
       "        vertical-align: top;\n",
       "    }\n",
       "\n",
       "    .dataframe thead th {\n",
       "        text-align: right;\n",
       "    }\n",
       "</style>\n",
       "<table border=\"1\" class=\"dataframe\">\n",
       "  <thead>\n",
       "    <tr style=\"text-align: right;\">\n",
       "      <th></th>\n",
       "      <th>나이</th>\n",
       "      <th>성별</th>\n",
       "      <th>학교</th>\n",
       "    </tr>\n",
       "  </thead>\n",
       "  <tbody>\n",
       "    <tr>\n",
       "      <th>학생1</th>\n",
       "      <td>15</td>\n",
       "      <td>남</td>\n",
       "      <td>덕영중</td>\n",
       "    </tr>\n",
       "    <tr>\n",
       "      <th>학생2</th>\n",
       "      <td>17</td>\n",
       "      <td>여</td>\n",
       "      <td>수리중</td>\n",
       "    </tr>\n",
       "  </tbody>\n",
       "</table>\n",
       "</div>"
      ],
      "text/plain": [
       "     나이 성별   학교\n",
       "학생1  15  남  덕영중\n",
       "학생2  17  여  수리중"
      ]
     },
     "execution_count": 61,
     "metadata": {},
     "output_type": "execute_result"
    }
   ],
   "source": [
    "df"
   ]
  },
  {
   "cell_type": "code",
   "execution_count": 62,
   "id": "4f8775fe",
   "metadata": {},
   "outputs": [],
   "source": [
    "# 열 이름 변경\n",
    "df.columns = [\"연령\", \"남녀\", \"소속\"]"
   ]
  },
  {
   "cell_type": "code",
   "execution_count": 63,
   "id": "48423626",
   "metadata": {},
   "outputs": [
    {
     "data": {
      "text/html": [
       "<div>\n",
       "<style scoped>\n",
       "    .dataframe tbody tr th:only-of-type {\n",
       "        vertical-align: middle;\n",
       "    }\n",
       "\n",
       "    .dataframe tbody tr th {\n",
       "        vertical-align: top;\n",
       "    }\n",
       "\n",
       "    .dataframe thead th {\n",
       "        text-align: right;\n",
       "    }\n",
       "</style>\n",
       "<table border=\"1\" class=\"dataframe\">\n",
       "  <thead>\n",
       "    <tr style=\"text-align: right;\">\n",
       "      <th></th>\n",
       "      <th>연령</th>\n",
       "      <th>남녀</th>\n",
       "      <th>소속</th>\n",
       "    </tr>\n",
       "  </thead>\n",
       "  <tbody>\n",
       "    <tr>\n",
       "      <th>학생1</th>\n",
       "      <td>15</td>\n",
       "      <td>남</td>\n",
       "      <td>덕영중</td>\n",
       "    </tr>\n",
       "    <tr>\n",
       "      <th>학생2</th>\n",
       "      <td>17</td>\n",
       "      <td>여</td>\n",
       "      <td>수리중</td>\n",
       "    </tr>\n",
       "  </tbody>\n",
       "</table>\n",
       "</div>"
      ],
      "text/plain": [
       "     연령 남녀   소속\n",
       "학생1  15  남  덕영중\n",
       "학생2  17  여  수리중"
      ]
     },
     "execution_count": 63,
     "metadata": {},
     "output_type": "execute_result"
    }
   ],
   "source": [
    "df"
   ]
  },
  {
   "cell_type": "code",
   "execution_count": 64,
   "id": "1f2e81bf",
   "metadata": {},
   "outputs": [
    {
     "data": {
      "text/plain": [
       "Index(['학생1', '학생2'], dtype='object')"
      ]
     },
     "execution_count": 64,
     "metadata": {},
     "output_type": "execute_result"
    }
   ],
   "source": [
    "df.index"
   ]
  },
  {
   "cell_type": "code",
   "execution_count": 65,
   "id": "8a33049e",
   "metadata": {},
   "outputs": [
    {
     "data": {
      "text/plain": [
       "Index(['연령', '남녀', '소속'], dtype='object')"
      ]
     },
     "execution_count": 65,
     "metadata": {},
     "output_type": "execute_result"
    }
   ],
   "source": [
    "df.columns"
   ]
  },
  {
   "cell_type": "markdown",
   "id": "bd47b1e2",
   "metadata": {},
   "source": [
    "#### 행 인덱스 / 열 이름 변경(rename 메소드 활용)\n",
    "\n",
    "- df.rename(index = {기존 인덱스 : 새 인덱스, ...})\n",
    "- df.rename(columns = {기존 이름 : 새 이름, ...})"
   ]
  },
  {
   "cell_type": "code",
   "execution_count": 66,
   "id": "84f5643f",
   "metadata": {},
   "outputs": [
    {
     "data": {
      "text/html": [
       "<div>\n",
       "<style scoped>\n",
       "    .dataframe tbody tr th:only-of-type {\n",
       "        vertical-align: middle;\n",
       "    }\n",
       "\n",
       "    .dataframe tbody tr th {\n",
       "        vertical-align: top;\n",
       "    }\n",
       "\n",
       "    .dataframe thead th {\n",
       "        text-align: right;\n",
       "    }\n",
       "</style>\n",
       "<table border=\"1\" class=\"dataframe\">\n",
       "  <thead>\n",
       "    <tr style=\"text-align: right;\">\n",
       "      <th></th>\n",
       "      <th>연령</th>\n",
       "      <th>남녀</th>\n",
       "      <th>소속</th>\n",
       "    </tr>\n",
       "  </thead>\n",
       "  <tbody>\n",
       "    <tr>\n",
       "      <th>학생1</th>\n",
       "      <td>15</td>\n",
       "      <td>남</td>\n",
       "      <td>덕영중</td>\n",
       "    </tr>\n",
       "    <tr>\n",
       "      <th>학생2</th>\n",
       "      <td>17</td>\n",
       "      <td>여</td>\n",
       "      <td>수리중</td>\n",
       "    </tr>\n",
       "  </tbody>\n",
       "</table>\n",
       "</div>"
      ],
      "text/plain": [
       "     연령 남녀   소속\n",
       "학생1  15  남  덕영중\n",
       "학생2  17  여  수리중"
      ]
     },
     "execution_count": 66,
     "metadata": {},
     "output_type": "execute_result"
    }
   ],
   "source": [
    "df"
   ]
  },
  {
   "cell_type": "code",
   "execution_count": 67,
   "id": "d94413e0",
   "metadata": {},
   "outputs": [
    {
     "data": {
      "text/html": [
       "<div>\n",
       "<style scoped>\n",
       "    .dataframe tbody tr th:only-of-type {\n",
       "        vertical-align: middle;\n",
       "    }\n",
       "\n",
       "    .dataframe tbody tr th {\n",
       "        vertical-align: top;\n",
       "    }\n",
       "\n",
       "    .dataframe thead th {\n",
       "        text-align: right;\n",
       "    }\n",
       "</style>\n",
       "<table border=\"1\" class=\"dataframe\">\n",
       "  <thead>\n",
       "    <tr style=\"text-align: right;\">\n",
       "      <th></th>\n",
       "      <th>나이</th>\n",
       "      <th>성별</th>\n",
       "      <th>소속</th>\n",
       "    </tr>\n",
       "  </thead>\n",
       "  <tbody>\n",
       "    <tr>\n",
       "      <th>학생1</th>\n",
       "      <td>15</td>\n",
       "      <td>남</td>\n",
       "      <td>덕영중</td>\n",
       "    </tr>\n",
       "    <tr>\n",
       "      <th>학생2</th>\n",
       "      <td>17</td>\n",
       "      <td>여</td>\n",
       "      <td>수리중</td>\n",
       "    </tr>\n",
       "  </tbody>\n",
       "</table>\n",
       "</div>"
      ],
      "text/plain": [
       "     나이 성별   소속\n",
       "학생1  15  남  덕영중\n",
       "학생2  17  여  수리중"
      ]
     },
     "execution_count": 67,
     "metadata": {},
     "output_type": "execute_result"
    }
   ],
   "source": [
    "df.rename(columns = {\"연령\" : \"나이\", \"남녀\" : \"성별\"})"
   ]
  },
  {
   "cell_type": "code",
   "execution_count": 68,
   "id": "3b7a90a1",
   "metadata": {
    "scrolled": true
   },
   "outputs": [
    {
     "data": {
      "text/html": [
       "<div>\n",
       "<style scoped>\n",
       "    .dataframe tbody tr th:only-of-type {\n",
       "        vertical-align: middle;\n",
       "    }\n",
       "\n",
       "    .dataframe tbody tr th {\n",
       "        vertical-align: top;\n",
       "    }\n",
       "\n",
       "    .dataframe thead th {\n",
       "        text-align: right;\n",
       "    }\n",
       "</style>\n",
       "<table border=\"1\" class=\"dataframe\">\n",
       "  <thead>\n",
       "    <tr style=\"text-align: right;\">\n",
       "      <th></th>\n",
       "      <th>연령</th>\n",
       "      <th>남녀</th>\n",
       "      <th>소속</th>\n",
       "    </tr>\n",
       "  </thead>\n",
       "  <tbody>\n",
       "    <tr>\n",
       "      <th>학생1</th>\n",
       "      <td>15</td>\n",
       "      <td>남</td>\n",
       "      <td>덕영중</td>\n",
       "    </tr>\n",
       "    <tr>\n",
       "      <th>학생2</th>\n",
       "      <td>17</td>\n",
       "      <td>여</td>\n",
       "      <td>수리중</td>\n",
       "    </tr>\n",
       "  </tbody>\n",
       "</table>\n",
       "</div>"
      ],
      "text/plain": [
       "     연령 남녀   소속\n",
       "학생1  15  남  덕영중\n",
       "학생2  17  여  수리중"
      ]
     },
     "execution_count": 68,
     "metadata": {},
     "output_type": "execute_result"
    }
   ],
   "source": [
    "df"
   ]
  },
  {
   "cell_type": "code",
   "execution_count": 69,
   "id": "38ce0620",
   "metadata": {},
   "outputs": [],
   "source": [
    "# 원본 객체를 수정하려면 inplace = True 옵션을 사용\n",
    "df.rename(columns = {\"연령\" : \"나이\", \"남녀\" : \"성별\"},\n",
    "         inplace = True)"
   ]
  },
  {
   "cell_type": "code",
   "execution_count": 70,
   "id": "682939d4",
   "metadata": {},
   "outputs": [
    {
     "data": {
      "text/html": [
       "<div>\n",
       "<style scoped>\n",
       "    .dataframe tbody tr th:only-of-type {\n",
       "        vertical-align: middle;\n",
       "    }\n",
       "\n",
       "    .dataframe tbody tr th {\n",
       "        vertical-align: top;\n",
       "    }\n",
       "\n",
       "    .dataframe thead th {\n",
       "        text-align: right;\n",
       "    }\n",
       "</style>\n",
       "<table border=\"1\" class=\"dataframe\">\n",
       "  <thead>\n",
       "    <tr style=\"text-align: right;\">\n",
       "      <th></th>\n",
       "      <th>나이</th>\n",
       "      <th>성별</th>\n",
       "      <th>소속</th>\n",
       "    </tr>\n",
       "  </thead>\n",
       "  <tbody>\n",
       "    <tr>\n",
       "      <th>학생1</th>\n",
       "      <td>15</td>\n",
       "      <td>남</td>\n",
       "      <td>덕영중</td>\n",
       "    </tr>\n",
       "    <tr>\n",
       "      <th>학생2</th>\n",
       "      <td>17</td>\n",
       "      <td>여</td>\n",
       "      <td>수리중</td>\n",
       "    </tr>\n",
       "  </tbody>\n",
       "</table>\n",
       "</div>"
      ],
      "text/plain": [
       "     나이 성별   소속\n",
       "학생1  15  남  덕영중\n",
       "학생2  17  여  수리중"
      ]
     },
     "execution_count": 70,
     "metadata": {},
     "output_type": "execute_result"
    }
   ],
   "source": [
    "df"
   ]
  },
  {
   "cell_type": "code",
   "execution_count": 71,
   "id": "8be69dba",
   "metadata": {},
   "outputs": [],
   "source": [
    "df.rename(index = {\"학생1\": \"준서\", \"학생2\": \"예은\"}, inplace = True)"
   ]
  },
  {
   "cell_type": "code",
   "execution_count": 72,
   "id": "7a8dbff4",
   "metadata": {},
   "outputs": [
    {
     "data": {
      "text/html": [
       "<div>\n",
       "<style scoped>\n",
       "    .dataframe tbody tr th:only-of-type {\n",
       "        vertical-align: middle;\n",
       "    }\n",
       "\n",
       "    .dataframe tbody tr th {\n",
       "        vertical-align: top;\n",
       "    }\n",
       "\n",
       "    .dataframe thead th {\n",
       "        text-align: right;\n",
       "    }\n",
       "</style>\n",
       "<table border=\"1\" class=\"dataframe\">\n",
       "  <thead>\n",
       "    <tr style=\"text-align: right;\">\n",
       "      <th></th>\n",
       "      <th>나이</th>\n",
       "      <th>성별</th>\n",
       "      <th>소속</th>\n",
       "    </tr>\n",
       "  </thead>\n",
       "  <tbody>\n",
       "    <tr>\n",
       "      <th>준서</th>\n",
       "      <td>15</td>\n",
       "      <td>남</td>\n",
       "      <td>덕영중</td>\n",
       "    </tr>\n",
       "    <tr>\n",
       "      <th>예은</th>\n",
       "      <td>17</td>\n",
       "      <td>여</td>\n",
       "      <td>수리중</td>\n",
       "    </tr>\n",
       "  </tbody>\n",
       "</table>\n",
       "</div>"
      ],
      "text/plain": [
       "    나이 성별   소속\n",
       "준서  15  남  덕영중\n",
       "예은  17  여  수리중"
      ]
     },
     "execution_count": 72,
     "metadata": {},
     "output_type": "execute_result"
    }
   ],
   "source": [
    "df"
   ]
  },
  {
   "cell_type": "markdown",
   "id": "8423180b",
   "metadata": {},
   "source": [
    "### 행 / 열 삭제\n",
    "\n",
    "- drop() 메소드\n",
    "    - axis = 0\n",
    "        - 행 삭제 \n",
    "        \n",
    "    - axis = 1\n",
    "        - 열 삭제 \n",
    "\n",
    "    - 동시에 여러 행 또는 열 삭제\n",
    "        - 리스트 형태로 입력\n",
    "        \n",
    "    - 기존 객체를 변경하지 않고 새로운 객체를 반환\n",
    "        - 원본 객체를 직접 변경하기 위해서는 inplace = True 옵션 사용\n",
    "        \n",
    "- df.drop(행 인덱스 또는 배열, axis = 0)\n",
    "- df.drop(열 이름 또는 배열, axis = 1)"
   ]
  },
  {
   "cell_type": "code",
   "execution_count": 88,
   "id": "e6aab8a0",
   "metadata": {},
   "outputs": [],
   "source": [
    "exam_data = {\"수학\" : [90, 80, 70],\n",
    "            \"영어\" : [98, 89, 75],\n",
    "            \"음악\" : [85, 95, 100],\n",
    "            \"체육\" : [100, 90, 90]}\n",
    "\n",
    "df = pd.DataFrame(exam_data, index = [\"서준\", \"우현\", \"인아\"])"
   ]
  },
  {
   "cell_type": "code",
   "execution_count": 89,
   "id": "b977764d",
   "metadata": {
    "scrolled": true
   },
   "outputs": [
    {
     "data": {
      "text/html": [
       "<div>\n",
       "<style scoped>\n",
       "    .dataframe tbody tr th:only-of-type {\n",
       "        vertical-align: middle;\n",
       "    }\n",
       "\n",
       "    .dataframe tbody tr th {\n",
       "        vertical-align: top;\n",
       "    }\n",
       "\n",
       "    .dataframe thead th {\n",
       "        text-align: right;\n",
       "    }\n",
       "</style>\n",
       "<table border=\"1\" class=\"dataframe\">\n",
       "  <thead>\n",
       "    <tr style=\"text-align: right;\">\n",
       "      <th></th>\n",
       "      <th>수학</th>\n",
       "      <th>영어</th>\n",
       "      <th>음악</th>\n",
       "      <th>체육</th>\n",
       "    </tr>\n",
       "  </thead>\n",
       "  <tbody>\n",
       "    <tr>\n",
       "      <th>서준</th>\n",
       "      <td>90</td>\n",
       "      <td>98</td>\n",
       "      <td>85</td>\n",
       "      <td>100</td>\n",
       "    </tr>\n",
       "    <tr>\n",
       "      <th>우현</th>\n",
       "      <td>80</td>\n",
       "      <td>89</td>\n",
       "      <td>95</td>\n",
       "      <td>90</td>\n",
       "    </tr>\n",
       "    <tr>\n",
       "      <th>인아</th>\n",
       "      <td>70</td>\n",
       "      <td>75</td>\n",
       "      <td>100</td>\n",
       "      <td>90</td>\n",
       "    </tr>\n",
       "  </tbody>\n",
       "</table>\n",
       "</div>"
      ],
      "text/plain": [
       "    수학  영어   음악   체육\n",
       "서준  90  98   85  100\n",
       "우현  80  89   95   90\n",
       "인아  70  75  100   90"
      ]
     },
     "execution_count": 89,
     "metadata": {},
     "output_type": "execute_result"
    }
   ],
   "source": [
    "df"
   ]
  },
  {
   "cell_type": "code",
   "execution_count": 90,
   "id": "64a7ba77",
   "metadata": {},
   "outputs": [],
   "source": [
    "df2 = df.copy()"
   ]
  },
  {
   "cell_type": "code",
   "execution_count": 91,
   "id": "781e7cfe",
   "metadata": {},
   "outputs": [
    {
     "data": {
      "text/plain": [
       "(1940407670480, 1940408993232)"
      ]
     },
     "execution_count": 91,
     "metadata": {},
     "output_type": "execute_result"
    }
   ],
   "source": [
    "id(df2), id(df)"
   ]
  },
  {
   "cell_type": "markdown",
   "id": "8515011d",
   "metadata": {},
   "source": [
    "#### 행 삭제"
   ]
  },
  {
   "cell_type": "code",
   "execution_count": 92,
   "id": "6d367b19",
   "metadata": {},
   "outputs": [],
   "source": [
    "df2.drop(\"우현\", inplace = True) # axis = 0 이 초기값"
   ]
  },
  {
   "cell_type": "code",
   "execution_count": 93,
   "id": "ae5eb491",
   "metadata": {},
   "outputs": [
    {
     "data": {
      "text/html": [
       "<div>\n",
       "<style scoped>\n",
       "    .dataframe tbody tr th:only-of-type {\n",
       "        vertical-align: middle;\n",
       "    }\n",
       "\n",
       "    .dataframe tbody tr th {\n",
       "        vertical-align: top;\n",
       "    }\n",
       "\n",
       "    .dataframe thead th {\n",
       "        text-align: right;\n",
       "    }\n",
       "</style>\n",
       "<table border=\"1\" class=\"dataframe\">\n",
       "  <thead>\n",
       "    <tr style=\"text-align: right;\">\n",
       "      <th></th>\n",
       "      <th>수학</th>\n",
       "      <th>영어</th>\n",
       "      <th>음악</th>\n",
       "      <th>체육</th>\n",
       "    </tr>\n",
       "  </thead>\n",
       "  <tbody>\n",
       "    <tr>\n",
       "      <th>서준</th>\n",
       "      <td>90</td>\n",
       "      <td>98</td>\n",
       "      <td>85</td>\n",
       "      <td>100</td>\n",
       "    </tr>\n",
       "    <tr>\n",
       "      <th>인아</th>\n",
       "      <td>70</td>\n",
       "      <td>75</td>\n",
       "      <td>100</td>\n",
       "      <td>90</td>\n",
       "    </tr>\n",
       "  </tbody>\n",
       "</table>\n",
       "</div>"
      ],
      "text/plain": [
       "    수학  영어   음악   체육\n",
       "서준  90  98   85  100\n",
       "인아  70  75  100   90"
      ]
     },
     "execution_count": 93,
     "metadata": {},
     "output_type": "execute_result"
    }
   ],
   "source": [
    "df2"
   ]
  },
  {
   "cell_type": "code",
   "execution_count": 94,
   "id": "70e9df60",
   "metadata": {},
   "outputs": [],
   "source": [
    "df3 = df[:]"
   ]
  },
  {
   "cell_type": "code",
   "execution_count": 95,
   "id": "4bb257aa",
   "metadata": {},
   "outputs": [
    {
     "data": {
      "text/plain": [
       "(1940409006544, 1940408993232)"
      ]
     },
     "execution_count": 95,
     "metadata": {},
     "output_type": "execute_result"
    }
   ],
   "source": [
    "id(df3), id(df)"
   ]
  },
  {
   "cell_type": "code",
   "execution_count": 96,
   "id": "53c6ff0d",
   "metadata": {
    "scrolled": true
   },
   "outputs": [
    {
     "name": "stderr",
     "output_type": "stream",
     "text": [
      "C:\\Users\\ITSC\\AppData\\Local\\Temp\\ipykernel_7544\\958396069.py:1: SettingWithCopyWarning: \n",
      "A value is trying to be set on a copy of a slice from a DataFrame\n",
      "\n",
      "See the caveats in the documentation: https://pandas.pydata.org/pandas-docs/stable/user_guide/indexing.html#returning-a-view-versus-a-copy\n",
      "  df3.drop([\"우현\", \"인아\"], axis = 0, inplace = True)\n"
     ]
    }
   ],
   "source": [
    "df3.drop([\"우현\", \"인아\"], axis = 0, inplace = True)"
   ]
  },
  {
   "cell_type": "code",
   "execution_count": 97,
   "id": "af520fa8",
   "metadata": {},
   "outputs": [
    {
     "data": {
      "text/html": [
       "<div>\n",
       "<style scoped>\n",
       "    .dataframe tbody tr th:only-of-type {\n",
       "        vertical-align: middle;\n",
       "    }\n",
       "\n",
       "    .dataframe tbody tr th {\n",
       "        vertical-align: top;\n",
       "    }\n",
       "\n",
       "    .dataframe thead th {\n",
       "        text-align: right;\n",
       "    }\n",
       "</style>\n",
       "<table border=\"1\" class=\"dataframe\">\n",
       "  <thead>\n",
       "    <tr style=\"text-align: right;\">\n",
       "      <th></th>\n",
       "      <th>수학</th>\n",
       "      <th>영어</th>\n",
       "      <th>음악</th>\n",
       "      <th>체육</th>\n",
       "    </tr>\n",
       "  </thead>\n",
       "  <tbody>\n",
       "    <tr>\n",
       "      <th>서준</th>\n",
       "      <td>90</td>\n",
       "      <td>98</td>\n",
       "      <td>85</td>\n",
       "      <td>100</td>\n",
       "    </tr>\n",
       "  </tbody>\n",
       "</table>\n",
       "</div>"
      ],
      "text/plain": [
       "    수학  영어  음악   체육\n",
       "서준  90  98  85  100"
      ]
     },
     "execution_count": 97,
     "metadata": {},
     "output_type": "execute_result"
    }
   ],
   "source": [
    "df3"
   ]
  },
  {
   "cell_type": "markdown",
   "id": "520578c4",
   "metadata": {},
   "source": [
    "#### 열 삭제 "
   ]
  },
  {
   "cell_type": "code",
   "execution_count": 98,
   "id": "640c8c01",
   "metadata": {},
   "outputs": [],
   "source": [
    "df4 = df.copy()"
   ]
  },
  {
   "cell_type": "code",
   "execution_count": 100,
   "id": "7f94642a",
   "metadata": {},
   "outputs": [],
   "source": [
    "df4 = df4.drop(\"수학\", axis = 1)"
   ]
  },
  {
   "cell_type": "code",
   "execution_count": 101,
   "id": "a53803b6",
   "metadata": {},
   "outputs": [
    {
     "data": {
      "text/html": [
       "<div>\n",
       "<style scoped>\n",
       "    .dataframe tbody tr th:only-of-type {\n",
       "        vertical-align: middle;\n",
       "    }\n",
       "\n",
       "    .dataframe tbody tr th {\n",
       "        vertical-align: top;\n",
       "    }\n",
       "\n",
       "    .dataframe thead th {\n",
       "        text-align: right;\n",
       "    }\n",
       "</style>\n",
       "<table border=\"1\" class=\"dataframe\">\n",
       "  <thead>\n",
       "    <tr style=\"text-align: right;\">\n",
       "      <th></th>\n",
       "      <th>영어</th>\n",
       "      <th>음악</th>\n",
       "      <th>체육</th>\n",
       "    </tr>\n",
       "  </thead>\n",
       "  <tbody>\n",
       "    <tr>\n",
       "      <th>서준</th>\n",
       "      <td>98</td>\n",
       "      <td>85</td>\n",
       "      <td>100</td>\n",
       "    </tr>\n",
       "    <tr>\n",
       "      <th>우현</th>\n",
       "      <td>89</td>\n",
       "      <td>95</td>\n",
       "      <td>90</td>\n",
       "    </tr>\n",
       "    <tr>\n",
       "      <th>인아</th>\n",
       "      <td>75</td>\n",
       "      <td>100</td>\n",
       "      <td>90</td>\n",
       "    </tr>\n",
       "  </tbody>\n",
       "</table>\n",
       "</div>"
      ],
      "text/plain": [
       "    영어   음악   체육\n",
       "서준  98   85  100\n",
       "우현  89   95   90\n",
       "인아  75  100   90"
      ]
     },
     "execution_count": 101,
     "metadata": {},
     "output_type": "execute_result"
    }
   ],
   "source": [
    "df4"
   ]
  },
  {
   "cell_type": "code",
   "execution_count": 104,
   "id": "5eec1074",
   "metadata": {},
   "outputs": [],
   "source": [
    "df5 = df.copy()"
   ]
  },
  {
   "cell_type": "code",
   "execution_count": 106,
   "id": "81b3f7a7",
   "metadata": {},
   "outputs": [],
   "source": [
    "df5 = df5.drop([\"영어\", \"음악\"], axis = 1)"
   ]
  },
  {
   "cell_type": "code",
   "execution_count": 107,
   "id": "75b310aa",
   "metadata": {},
   "outputs": [
    {
     "data": {
      "text/html": [
       "<div>\n",
       "<style scoped>\n",
       "    .dataframe tbody tr th:only-of-type {\n",
       "        vertical-align: middle;\n",
       "    }\n",
       "\n",
       "    .dataframe tbody tr th {\n",
       "        vertical-align: top;\n",
       "    }\n",
       "\n",
       "    .dataframe thead th {\n",
       "        text-align: right;\n",
       "    }\n",
       "</style>\n",
       "<table border=\"1\" class=\"dataframe\">\n",
       "  <thead>\n",
       "    <tr style=\"text-align: right;\">\n",
       "      <th></th>\n",
       "      <th>수학</th>\n",
       "      <th>체육</th>\n",
       "    </tr>\n",
       "  </thead>\n",
       "  <tbody>\n",
       "    <tr>\n",
       "      <th>서준</th>\n",
       "      <td>90</td>\n",
       "      <td>100</td>\n",
       "    </tr>\n",
       "    <tr>\n",
       "      <th>우현</th>\n",
       "      <td>80</td>\n",
       "      <td>90</td>\n",
       "    </tr>\n",
       "    <tr>\n",
       "      <th>인아</th>\n",
       "      <td>70</td>\n",
       "      <td>90</td>\n",
       "    </tr>\n",
       "  </tbody>\n",
       "</table>\n",
       "</div>"
      ],
      "text/plain": [
       "    수학   체육\n",
       "서준  90  100\n",
       "우현  80   90\n",
       "인아  70   90"
      ]
     },
     "execution_count": 107,
     "metadata": {},
     "output_type": "execute_result"
    }
   ],
   "source": [
    "df5"
   ]
  },
  {
   "cell_type": "markdown",
   "id": "61d33509",
   "metadata": {},
   "source": [
    "### 행 선택\n",
    "\n",
    "- loc\n",
    "    - 인덱스 이름을 사용\n",
    "    \n",
    "- iloc\n",
    "    - 정수형 위치 인덱스를 사용\n",
    "    \n",
    "| 구분 | loc | iloc |\n",
    "| :--: | :--: | :--: |\n",
    "| 탐색 대상 | 인덱스 이름 | 정수형 위치 인덱스 |\n",
    "| 범위 지정 | 가능(범위의 끝 포함) | 가능(범위의 끝 제외) |"
   ]
  },
  {
   "cell_type": "code",
   "execution_count": 110,
   "id": "3e1a0322",
   "metadata": {},
   "outputs": [
    {
     "data": {
      "text/html": [
       "<div>\n",
       "<style scoped>\n",
       "    .dataframe tbody tr th:only-of-type {\n",
       "        vertical-align: middle;\n",
       "    }\n",
       "\n",
       "    .dataframe tbody tr th {\n",
       "        vertical-align: top;\n",
       "    }\n",
       "\n",
       "    .dataframe thead th {\n",
       "        text-align: right;\n",
       "    }\n",
       "</style>\n",
       "<table border=\"1\" class=\"dataframe\">\n",
       "  <thead>\n",
       "    <tr style=\"text-align: right;\">\n",
       "      <th></th>\n",
       "      <th>수학</th>\n",
       "      <th>영어</th>\n",
       "      <th>음악</th>\n",
       "      <th>체육</th>\n",
       "    </tr>\n",
       "  </thead>\n",
       "  <tbody>\n",
       "    <tr>\n",
       "      <th>서준</th>\n",
       "      <td>90</td>\n",
       "      <td>98</td>\n",
       "      <td>85</td>\n",
       "      <td>100</td>\n",
       "    </tr>\n",
       "    <tr>\n",
       "      <th>우현</th>\n",
       "      <td>80</td>\n",
       "      <td>89</td>\n",
       "      <td>95</td>\n",
       "      <td>90</td>\n",
       "    </tr>\n",
       "    <tr>\n",
       "      <th>인아</th>\n",
       "      <td>70</td>\n",
       "      <td>75</td>\n",
       "      <td>100</td>\n",
       "      <td>90</td>\n",
       "    </tr>\n",
       "  </tbody>\n",
       "</table>\n",
       "</div>"
      ],
      "text/plain": [
       "    수학  영어   음악   체육\n",
       "서준  90  98   85  100\n",
       "우현  80  89   95   90\n",
       "인아  70  75  100   90"
      ]
     },
     "execution_count": 110,
     "metadata": {},
     "output_type": "execute_result"
    }
   ],
   "source": [
    "df"
   ]
  },
  {
   "cell_type": "markdown",
   "id": "d650b6fa",
   "metadata": {},
   "source": [
    "#### 하나의 행 선택"
   ]
  },
  {
   "cell_type": "code",
   "execution_count": 118,
   "id": "691b4130",
   "metadata": {},
   "outputs": [],
   "source": [
    "label1 = df.loc[\"서준\"]\n",
    "position1 = df.iloc[0]"
   ]
  },
  {
   "cell_type": "code",
   "execution_count": 119,
   "id": "8eff292e",
   "metadata": {},
   "outputs": [
    {
     "data": {
      "text/plain": [
       "수학     90\n",
       "영어     98\n",
       "음악     85\n",
       "체육    100\n",
       "Name: 서준, dtype: int64"
      ]
     },
     "execution_count": 119,
     "metadata": {},
     "output_type": "execute_result"
    }
   ],
   "source": [
    "label1"
   ]
  },
  {
   "cell_type": "code",
   "execution_count": 120,
   "id": "f838073b",
   "metadata": {},
   "outputs": [
    {
     "data": {
      "text/plain": [
       "수학     90\n",
       "영어     98\n",
       "음악     85\n",
       "체육    100\n",
       "Name: 서준, dtype: int64"
      ]
     },
     "execution_count": 120,
     "metadata": {},
     "output_type": "execute_result"
    }
   ],
   "source": [
    "position1"
   ]
  },
  {
   "cell_type": "markdown",
   "id": "5dbb9239",
   "metadata": {},
   "source": [
    "#### 2개 이상의 행 선택"
   ]
  },
  {
   "cell_type": "code",
   "execution_count": 121,
   "id": "83f31a43",
   "metadata": {},
   "outputs": [],
   "source": [
    "label2 = df.loc[[\"서준\", \"우현\"]]\n",
    "position2 = df.iloc[[0, 1]]"
   ]
  },
  {
   "cell_type": "code",
   "execution_count": 122,
   "id": "938ae931",
   "metadata": {},
   "outputs": [
    {
     "data": {
      "text/html": [
       "<div>\n",
       "<style scoped>\n",
       "    .dataframe tbody tr th:only-of-type {\n",
       "        vertical-align: middle;\n",
       "    }\n",
       "\n",
       "    .dataframe tbody tr th {\n",
       "        vertical-align: top;\n",
       "    }\n",
       "\n",
       "    .dataframe thead th {\n",
       "        text-align: right;\n",
       "    }\n",
       "</style>\n",
       "<table border=\"1\" class=\"dataframe\">\n",
       "  <thead>\n",
       "    <tr style=\"text-align: right;\">\n",
       "      <th></th>\n",
       "      <th>수학</th>\n",
       "      <th>영어</th>\n",
       "      <th>음악</th>\n",
       "      <th>체육</th>\n",
       "    </tr>\n",
       "  </thead>\n",
       "  <tbody>\n",
       "    <tr>\n",
       "      <th>서준</th>\n",
       "      <td>90</td>\n",
       "      <td>98</td>\n",
       "      <td>85</td>\n",
       "      <td>100</td>\n",
       "    </tr>\n",
       "    <tr>\n",
       "      <th>우현</th>\n",
       "      <td>80</td>\n",
       "      <td>89</td>\n",
       "      <td>95</td>\n",
       "      <td>90</td>\n",
       "    </tr>\n",
       "  </tbody>\n",
       "</table>\n",
       "</div>"
      ],
      "text/plain": [
       "    수학  영어  음악   체육\n",
       "서준  90  98  85  100\n",
       "우현  80  89  95   90"
      ]
     },
     "execution_count": 122,
     "metadata": {},
     "output_type": "execute_result"
    }
   ],
   "source": [
    "label2"
   ]
  },
  {
   "cell_type": "code",
   "execution_count": 123,
   "id": "bc74bdd9",
   "metadata": {},
   "outputs": [
    {
     "data": {
      "text/html": [
       "<div>\n",
       "<style scoped>\n",
       "    .dataframe tbody tr th:only-of-type {\n",
       "        vertical-align: middle;\n",
       "    }\n",
       "\n",
       "    .dataframe tbody tr th {\n",
       "        vertical-align: top;\n",
       "    }\n",
       "\n",
       "    .dataframe thead th {\n",
       "        text-align: right;\n",
       "    }\n",
       "</style>\n",
       "<table border=\"1\" class=\"dataframe\">\n",
       "  <thead>\n",
       "    <tr style=\"text-align: right;\">\n",
       "      <th></th>\n",
       "      <th>수학</th>\n",
       "      <th>영어</th>\n",
       "      <th>음악</th>\n",
       "      <th>체육</th>\n",
       "    </tr>\n",
       "  </thead>\n",
       "  <tbody>\n",
       "    <tr>\n",
       "      <th>서준</th>\n",
       "      <td>90</td>\n",
       "      <td>98</td>\n",
       "      <td>85</td>\n",
       "      <td>100</td>\n",
       "    </tr>\n",
       "    <tr>\n",
       "      <th>우현</th>\n",
       "      <td>80</td>\n",
       "      <td>89</td>\n",
       "      <td>95</td>\n",
       "      <td>90</td>\n",
       "    </tr>\n",
       "  </tbody>\n",
       "</table>\n",
       "</div>"
      ],
      "text/plain": [
       "    수학  영어  음악   체육\n",
       "서준  90  98  85  100\n",
       "우현  80  89  95   90"
      ]
     },
     "execution_count": 123,
     "metadata": {},
     "output_type": "execute_result"
    }
   ],
   "source": [
    "position2"
   ]
  },
  {
   "cell_type": "markdown",
   "id": "f3a26c3d",
   "metadata": {},
   "source": [
    "#### 행 인덱스의 범위를 지정하여 행 선택"
   ]
  },
  {
   "cell_type": "code",
   "execution_count": 124,
   "id": "0c618bb4",
   "metadata": {},
   "outputs": [],
   "source": [
    "label3 = df.loc[\"서준\" : \"우현\"]\n",
    "position3 = df.iloc[0:1]"
   ]
  },
  {
   "cell_type": "code",
   "execution_count": 125,
   "id": "09b36e23",
   "metadata": {},
   "outputs": [
    {
     "data": {
      "text/html": [
       "<div>\n",
       "<style scoped>\n",
       "    .dataframe tbody tr th:only-of-type {\n",
       "        vertical-align: middle;\n",
       "    }\n",
       "\n",
       "    .dataframe tbody tr th {\n",
       "        vertical-align: top;\n",
       "    }\n",
       "\n",
       "    .dataframe thead th {\n",
       "        text-align: right;\n",
       "    }\n",
       "</style>\n",
       "<table border=\"1\" class=\"dataframe\">\n",
       "  <thead>\n",
       "    <tr style=\"text-align: right;\">\n",
       "      <th></th>\n",
       "      <th>수학</th>\n",
       "      <th>영어</th>\n",
       "      <th>음악</th>\n",
       "      <th>체육</th>\n",
       "    </tr>\n",
       "  </thead>\n",
       "  <tbody>\n",
       "    <tr>\n",
       "      <th>서준</th>\n",
       "      <td>90</td>\n",
       "      <td>98</td>\n",
       "      <td>85</td>\n",
       "      <td>100</td>\n",
       "    </tr>\n",
       "    <tr>\n",
       "      <th>우현</th>\n",
       "      <td>80</td>\n",
       "      <td>89</td>\n",
       "      <td>95</td>\n",
       "      <td>90</td>\n",
       "    </tr>\n",
       "  </tbody>\n",
       "</table>\n",
       "</div>"
      ],
      "text/plain": [
       "    수학  영어  음악   체육\n",
       "서준  90  98  85  100\n",
       "우현  80  89  95   90"
      ]
     },
     "execution_count": 125,
     "metadata": {},
     "output_type": "execute_result"
    }
   ],
   "source": [
    "label3"
   ]
  },
  {
   "cell_type": "code",
   "execution_count": 126,
   "id": "a1f8eef7",
   "metadata": {},
   "outputs": [
    {
     "data": {
      "text/html": [
       "<div>\n",
       "<style scoped>\n",
       "    .dataframe tbody tr th:only-of-type {\n",
       "        vertical-align: middle;\n",
       "    }\n",
       "\n",
       "    .dataframe tbody tr th {\n",
       "        vertical-align: top;\n",
       "    }\n",
       "\n",
       "    .dataframe thead th {\n",
       "        text-align: right;\n",
       "    }\n",
       "</style>\n",
       "<table border=\"1\" class=\"dataframe\">\n",
       "  <thead>\n",
       "    <tr style=\"text-align: right;\">\n",
       "      <th></th>\n",
       "      <th>수학</th>\n",
       "      <th>영어</th>\n",
       "      <th>음악</th>\n",
       "      <th>체육</th>\n",
       "    </tr>\n",
       "  </thead>\n",
       "  <tbody>\n",
       "    <tr>\n",
       "      <th>서준</th>\n",
       "      <td>90</td>\n",
       "      <td>98</td>\n",
       "      <td>85</td>\n",
       "      <td>100</td>\n",
       "    </tr>\n",
       "  </tbody>\n",
       "</table>\n",
       "</div>"
      ],
      "text/plain": [
       "    수학  영어  음악   체육\n",
       "서준  90  98  85  100"
      ]
     },
     "execution_count": 126,
     "metadata": {},
     "output_type": "execute_result"
    }
   ],
   "source": [
    "position3"
   ]
  },
  {
   "cell_type": "markdown",
   "id": "a136637c",
   "metadata": {},
   "source": [
    "### 열 선택\n",
    "\n",
    "- 열 데이터를 1개만 선택하는 경우\n",
    "    - 대괄호 안에 열 이름을 따옴표와 함께 입력\n",
    "        - df[\"열이름\"]\n",
    "    - 도트(.) 다음에 열 이름을 입력\n",
    "        - 열 이름이 문자열일 경우에만 가능\n",
    "        - df.열이름 \n",
    "    \n",
    "- 여러 열을 선택하는 경우\n",
    "    - 대괄호 안에 열 이름 리스트 입력\n",
    "    - 리스트의 원소로 열 이름이 하나만 있는 경우에는 시리즈가 아니라 데이터프레임이 됨\n",
    "        - df[[열1, 열2, 열3, ......]]"
   ]
  },
  {
   "cell_type": "code",
   "execution_count": 127,
   "id": "b4e7d47a",
   "metadata": {},
   "outputs": [],
   "source": [
    "exam_data = {\"이름\" : [\"서준\", \"우현\", \"인아\"],\n",
    "            \"수학\" : [90, 80, 70],\n",
    "            \"영어\" : [98, 89, 75],\n",
    "            \"음악\" : [85, 95, 100],\n",
    "            \"체육\" : [100, 90, 90]}\n",
    "df = pd.DataFrame(exam_data)"
   ]
  },
  {
   "cell_type": "code",
   "execution_count": 128,
   "id": "6012ef94",
   "metadata": {},
   "outputs": [
    {
     "data": {
      "text/html": [
       "<div>\n",
       "<style scoped>\n",
       "    .dataframe tbody tr th:only-of-type {\n",
       "        vertical-align: middle;\n",
       "    }\n",
       "\n",
       "    .dataframe tbody tr th {\n",
       "        vertical-align: top;\n",
       "    }\n",
       "\n",
       "    .dataframe thead th {\n",
       "        text-align: right;\n",
       "    }\n",
       "</style>\n",
       "<table border=\"1\" class=\"dataframe\">\n",
       "  <thead>\n",
       "    <tr style=\"text-align: right;\">\n",
       "      <th></th>\n",
       "      <th>이름</th>\n",
       "      <th>수학</th>\n",
       "      <th>영어</th>\n",
       "      <th>음악</th>\n",
       "      <th>체육</th>\n",
       "    </tr>\n",
       "  </thead>\n",
       "  <tbody>\n",
       "    <tr>\n",
       "      <th>0</th>\n",
       "      <td>서준</td>\n",
       "      <td>90</td>\n",
       "      <td>98</td>\n",
       "      <td>85</td>\n",
       "      <td>100</td>\n",
       "    </tr>\n",
       "    <tr>\n",
       "      <th>1</th>\n",
       "      <td>우현</td>\n",
       "      <td>80</td>\n",
       "      <td>89</td>\n",
       "      <td>95</td>\n",
       "      <td>90</td>\n",
       "    </tr>\n",
       "    <tr>\n",
       "      <th>2</th>\n",
       "      <td>인아</td>\n",
       "      <td>70</td>\n",
       "      <td>75</td>\n",
       "      <td>100</td>\n",
       "      <td>90</td>\n",
       "    </tr>\n",
       "  </tbody>\n",
       "</table>\n",
       "</div>"
      ],
      "text/plain": [
       "   이름  수학  영어   음악   체육\n",
       "0  서준  90  98   85  100\n",
       "1  우현  80  89   95   90\n",
       "2  인아  70  75  100   90"
      ]
     },
     "execution_count": 128,
     "metadata": {},
     "output_type": "execute_result"
    }
   ],
   "source": [
    "df"
   ]
  },
  {
   "cell_type": "code",
   "execution_count": 129,
   "id": "76ca47c7",
   "metadata": {},
   "outputs": [],
   "source": [
    "# 수학 점수 데이터만 선택\n",
    "math1 = df[\"수학\"]"
   ]
  },
  {
   "cell_type": "code",
   "execution_count": 130,
   "id": "7c2055ef",
   "metadata": {},
   "outputs": [
    {
     "data": {
      "text/plain": [
       "0    90\n",
       "1    80\n",
       "2    70\n",
       "Name: 수학, dtype: int64"
      ]
     },
     "execution_count": 130,
     "metadata": {},
     "output_type": "execute_result"
    }
   ],
   "source": [
    "math1"
   ]
  },
  {
   "cell_type": "code",
   "execution_count": 131,
   "id": "c8c82f9d",
   "metadata": {},
   "outputs": [
    {
     "data": {
      "text/plain": [
       "pandas.core.series.Series"
      ]
     },
     "execution_count": 131,
     "metadata": {},
     "output_type": "execute_result"
    }
   ],
   "source": [
    "type(math1)"
   ]
  },
  {
   "cell_type": "code",
   "execution_count": 132,
   "id": "ebc96dcc",
   "metadata": {},
   "outputs": [],
   "source": [
    "# 영어 점수 데이터만 선택\n",
    "english = df.영어"
   ]
  },
  {
   "cell_type": "code",
   "execution_count": 133,
   "id": "4d3896d0",
   "metadata": {
    "scrolled": true
   },
   "outputs": [
    {
     "data": {
      "text/plain": [
       "0    98\n",
       "1    89\n",
       "2    75\n",
       "Name: 영어, dtype: int64"
      ]
     },
     "execution_count": 133,
     "metadata": {},
     "output_type": "execute_result"
    }
   ],
   "source": [
    "english"
   ]
  },
  {
   "cell_type": "code",
   "execution_count": 134,
   "id": "d9842723",
   "metadata": {},
   "outputs": [
    {
     "data": {
      "text/plain": [
       "pandas.core.series.Series"
      ]
     },
     "execution_count": 134,
     "metadata": {},
     "output_type": "execute_result"
    }
   ],
   "source": [
    "type(english)"
   ]
  },
  {
   "cell_type": "code",
   "execution_count": 135,
   "id": "894ef5fb",
   "metadata": {},
   "outputs": [],
   "source": [
    "# 2개 이상의 열 추출\n",
    "music_gym = df[[\"음악\", \"체육\"]]"
   ]
  },
  {
   "cell_type": "code",
   "execution_count": 136,
   "id": "2632e03f",
   "metadata": {},
   "outputs": [
    {
     "data": {
      "text/html": [
       "<div>\n",
       "<style scoped>\n",
       "    .dataframe tbody tr th:only-of-type {\n",
       "        vertical-align: middle;\n",
       "    }\n",
       "\n",
       "    .dataframe tbody tr th {\n",
       "        vertical-align: top;\n",
       "    }\n",
       "\n",
       "    .dataframe thead th {\n",
       "        text-align: right;\n",
       "    }\n",
       "</style>\n",
       "<table border=\"1\" class=\"dataframe\">\n",
       "  <thead>\n",
       "    <tr style=\"text-align: right;\">\n",
       "      <th></th>\n",
       "      <th>음악</th>\n",
       "      <th>체육</th>\n",
       "    </tr>\n",
       "  </thead>\n",
       "  <tbody>\n",
       "    <tr>\n",
       "      <th>0</th>\n",
       "      <td>85</td>\n",
       "      <td>100</td>\n",
       "    </tr>\n",
       "    <tr>\n",
       "      <th>1</th>\n",
       "      <td>95</td>\n",
       "      <td>90</td>\n",
       "    </tr>\n",
       "    <tr>\n",
       "      <th>2</th>\n",
       "      <td>100</td>\n",
       "      <td>90</td>\n",
       "    </tr>\n",
       "  </tbody>\n",
       "</table>\n",
       "</div>"
      ],
      "text/plain": [
       "    음악   체육\n",
       "0   85  100\n",
       "1   95   90\n",
       "2  100   90"
      ]
     },
     "execution_count": 136,
     "metadata": {},
     "output_type": "execute_result"
    }
   ],
   "source": [
    "music_gym"
   ]
  },
  {
   "cell_type": "code",
   "execution_count": 139,
   "id": "c93a667a",
   "metadata": {},
   "outputs": [
    {
     "data": {
      "text/plain": [
       "pandas.core.frame.DataFrame"
      ]
     },
     "execution_count": 139,
     "metadata": {},
     "output_type": "execute_result"
    }
   ],
   "source": [
    "type(music_gym)"
   ]
  },
  {
   "cell_type": "code",
   "execution_count": 141,
   "id": "33c4b9e9",
   "metadata": {},
   "outputs": [],
   "source": [
    "# 수학 점수 데이터만 데이터프레임으로 추출\n",
    "math2 = df[[\"수학\"]]"
   ]
  },
  {
   "cell_type": "code",
   "execution_count": 142,
   "id": "e57f6417",
   "metadata": {},
   "outputs": [
    {
     "data": {
      "text/html": [
       "<div>\n",
       "<style scoped>\n",
       "    .dataframe tbody tr th:only-of-type {\n",
       "        vertical-align: middle;\n",
       "    }\n",
       "\n",
       "    .dataframe tbody tr th {\n",
       "        vertical-align: top;\n",
       "    }\n",
       "\n",
       "    .dataframe thead th {\n",
       "        text-align: right;\n",
       "    }\n",
       "</style>\n",
       "<table border=\"1\" class=\"dataframe\">\n",
       "  <thead>\n",
       "    <tr style=\"text-align: right;\">\n",
       "      <th></th>\n",
       "      <th>수학</th>\n",
       "    </tr>\n",
       "  </thead>\n",
       "  <tbody>\n",
       "    <tr>\n",
       "      <th>0</th>\n",
       "      <td>90</td>\n",
       "    </tr>\n",
       "    <tr>\n",
       "      <th>1</th>\n",
       "      <td>80</td>\n",
       "    </tr>\n",
       "    <tr>\n",
       "      <th>2</th>\n",
       "      <td>70</td>\n",
       "    </tr>\n",
       "  </tbody>\n",
       "</table>\n",
       "</div>"
      ],
      "text/plain": [
       "   수학\n",
       "0  90\n",
       "1  80\n",
       "2  70"
      ]
     },
     "execution_count": 142,
     "metadata": {},
     "output_type": "execute_result"
    }
   ],
   "source": [
    "math2"
   ]
  },
  {
   "cell_type": "markdown",
   "id": "7ee32348",
   "metadata": {},
   "source": [
    "#### 범위 슬라이싱\n",
    "\n",
    "- df.iloc[시작인덱스 : 종료인덱스 : 증감값]"
   ]
  },
  {
   "cell_type": "code",
   "execution_count": 143,
   "id": "f79bc2f4",
   "metadata": {},
   "outputs": [
    {
     "data": {
      "text/html": [
       "<div>\n",
       "<style scoped>\n",
       "    .dataframe tbody tr th:only-of-type {\n",
       "        vertical-align: middle;\n",
       "    }\n",
       "\n",
       "    .dataframe tbody tr th {\n",
       "        vertical-align: top;\n",
       "    }\n",
       "\n",
       "    .dataframe thead th {\n",
       "        text-align: right;\n",
       "    }\n",
       "</style>\n",
       "<table border=\"1\" class=\"dataframe\">\n",
       "  <thead>\n",
       "    <tr style=\"text-align: right;\">\n",
       "      <th></th>\n",
       "      <th>이름</th>\n",
       "      <th>수학</th>\n",
       "      <th>영어</th>\n",
       "      <th>음악</th>\n",
       "      <th>체육</th>\n",
       "    </tr>\n",
       "  </thead>\n",
       "  <tbody>\n",
       "    <tr>\n",
       "      <th>0</th>\n",
       "      <td>서준</td>\n",
       "      <td>90</td>\n",
       "      <td>98</td>\n",
       "      <td>85</td>\n",
       "      <td>100</td>\n",
       "    </tr>\n",
       "    <tr>\n",
       "      <th>2</th>\n",
       "      <td>인아</td>\n",
       "      <td>70</td>\n",
       "      <td>75</td>\n",
       "      <td>100</td>\n",
       "      <td>90</td>\n",
       "    </tr>\n",
       "  </tbody>\n",
       "</table>\n",
       "</div>"
      ],
      "text/plain": [
       "   이름  수학  영어   음악   체육\n",
       "0  서준  90  98   85  100\n",
       "2  인아  70  75  100   90"
      ]
     },
     "execution_count": 143,
     "metadata": {},
     "output_type": "execute_result"
    }
   ],
   "source": [
    "df.iloc[::2]"
   ]
  },
  {
   "cell_type": "code",
   "execution_count": 145,
   "id": "4306b4a4",
   "metadata": {},
   "outputs": [
    {
     "data": {
      "text/html": [
       "<div>\n",
       "<style scoped>\n",
       "    .dataframe tbody tr th:only-of-type {\n",
       "        vertical-align: middle;\n",
       "    }\n",
       "\n",
       "    .dataframe tbody tr th {\n",
       "        vertical-align: top;\n",
       "    }\n",
       "\n",
       "    .dataframe thead th {\n",
       "        text-align: right;\n",
       "    }\n",
       "</style>\n",
       "<table border=\"1\" class=\"dataframe\">\n",
       "  <thead>\n",
       "    <tr style=\"text-align: right;\">\n",
       "      <th></th>\n",
       "      <th>이름</th>\n",
       "      <th>수학</th>\n",
       "      <th>영어</th>\n",
       "      <th>음악</th>\n",
       "      <th>체육</th>\n",
       "    </tr>\n",
       "  </thead>\n",
       "  <tbody>\n",
       "    <tr>\n",
       "      <th>0</th>\n",
       "      <td>서준</td>\n",
       "      <td>90</td>\n",
       "      <td>98</td>\n",
       "      <td>85</td>\n",
       "      <td>100</td>\n",
       "    </tr>\n",
       "    <tr>\n",
       "      <th>2</th>\n",
       "      <td>인아</td>\n",
       "      <td>70</td>\n",
       "      <td>75</td>\n",
       "      <td>100</td>\n",
       "      <td>90</td>\n",
       "    </tr>\n",
       "  </tbody>\n",
       "</table>\n",
       "</div>"
      ],
      "text/plain": [
       "   이름  수학  영어   음악   체육\n",
       "0  서준  90  98   85  100\n",
       "2  인아  70  75  100   90"
      ]
     },
     "execution_count": 145,
     "metadata": {},
     "output_type": "execute_result"
    }
   ],
   "source": [
    "df.loc[::2]"
   ]
  },
  {
   "cell_type": "code",
   "execution_count": 146,
   "id": "b8666f74",
   "metadata": {},
   "outputs": [
    {
     "data": {
      "text/html": [
       "<div>\n",
       "<style scoped>\n",
       "    .dataframe tbody tr th:only-of-type {\n",
       "        vertical-align: middle;\n",
       "    }\n",
       "\n",
       "    .dataframe tbody tr th {\n",
       "        vertical-align: top;\n",
       "    }\n",
       "\n",
       "    .dataframe thead th {\n",
       "        text-align: right;\n",
       "    }\n",
       "</style>\n",
       "<table border=\"1\" class=\"dataframe\">\n",
       "  <thead>\n",
       "    <tr style=\"text-align: right;\">\n",
       "      <th></th>\n",
       "      <th>이름</th>\n",
       "      <th>수학</th>\n",
       "      <th>영어</th>\n",
       "      <th>음악</th>\n",
       "      <th>체육</th>\n",
       "    </tr>\n",
       "  </thead>\n",
       "  <tbody>\n",
       "    <tr>\n",
       "      <th>0</th>\n",
       "      <td>서준</td>\n",
       "      <td>90</td>\n",
       "      <td>98</td>\n",
       "      <td>85</td>\n",
       "      <td>100</td>\n",
       "    </tr>\n",
       "    <tr>\n",
       "      <th>2</th>\n",
       "      <td>인아</td>\n",
       "      <td>70</td>\n",
       "      <td>75</td>\n",
       "      <td>100</td>\n",
       "      <td>90</td>\n",
       "    </tr>\n",
       "  </tbody>\n",
       "</table>\n",
       "</div>"
      ],
      "text/plain": [
       "   이름  수학  영어   음악   체육\n",
       "0  서준  90  98   85  100\n",
       "2  인아  70  75  100   90"
      ]
     },
     "execution_count": 146,
     "metadata": {},
     "output_type": "execute_result"
    }
   ],
   "source": [
    "df.iloc[0:3:2]"
   ]
  },
  {
   "cell_type": "code",
   "execution_count": 147,
   "id": "29732db8",
   "metadata": {},
   "outputs": [
    {
     "data": {
      "text/html": [
       "<div>\n",
       "<style scoped>\n",
       "    .dataframe tbody tr th:only-of-type {\n",
       "        vertical-align: middle;\n",
       "    }\n",
       "\n",
       "    .dataframe tbody tr th {\n",
       "        vertical-align: top;\n",
       "    }\n",
       "\n",
       "    .dataframe thead th {\n",
       "        text-align: right;\n",
       "    }\n",
       "</style>\n",
       "<table border=\"1\" class=\"dataframe\">\n",
       "  <thead>\n",
       "    <tr style=\"text-align: right;\">\n",
       "      <th></th>\n",
       "      <th>이름</th>\n",
       "      <th>수학</th>\n",
       "      <th>영어</th>\n",
       "      <th>음악</th>\n",
       "      <th>체육</th>\n",
       "    </tr>\n",
       "  </thead>\n",
       "  <tbody>\n",
       "    <tr>\n",
       "      <th>2</th>\n",
       "      <td>인아</td>\n",
       "      <td>70</td>\n",
       "      <td>75</td>\n",
       "      <td>100</td>\n",
       "      <td>90</td>\n",
       "    </tr>\n",
       "    <tr>\n",
       "      <th>1</th>\n",
       "      <td>우현</td>\n",
       "      <td>80</td>\n",
       "      <td>89</td>\n",
       "      <td>95</td>\n",
       "      <td>90</td>\n",
       "    </tr>\n",
       "    <tr>\n",
       "      <th>0</th>\n",
       "      <td>서준</td>\n",
       "      <td>90</td>\n",
       "      <td>98</td>\n",
       "      <td>85</td>\n",
       "      <td>100</td>\n",
       "    </tr>\n",
       "  </tbody>\n",
       "</table>\n",
       "</div>"
      ],
      "text/plain": [
       "   이름  수학  영어   음악   체육\n",
       "2  인아  70  75  100   90\n",
       "1  우현  80  89   95   90\n",
       "0  서준  90  98   85  100"
      ]
     },
     "execution_count": 147,
     "metadata": {},
     "output_type": "execute_result"
    }
   ],
   "source": [
    "df.iloc[::-1]"
   ]
  },
  {
   "cell_type": "markdown",
   "id": "ae87bfb4",
   "metadata": {},
   "source": [
    "### 원소 선택\n",
    "\n",
    "- 데이터프레임의 행 인덱스와 열 이름을 [행, 열] 형식의 2차원 좌표로 입력하여 원소를 지정\n",
    "- 원소가 위치하는 행과 열의 좌표를 입력하면 해당 위치의 원소가 반환\n",
    "- 1개의 행과 2개 이상의 열 또는 2개 이상의 행과 1개의 열을 선택하면 시리즈 객체가 반환 \n",
    "- 2개 이상의 행과 2개 이상의 열을 선택하면 데이터프레임 객체를 반환\n",
    "\n",
    "- df.loc[행인덱스, 열이름]\n",
    "- df.iloc[행번호, 열번호]"
   ]
  },
  {
   "cell_type": "code",
   "execution_count": 148,
   "id": "5e1a01fb",
   "metadata": {},
   "outputs": [
    {
     "data": {
      "text/html": [
       "<div>\n",
       "<style scoped>\n",
       "    .dataframe tbody tr th:only-of-type {\n",
       "        vertical-align: middle;\n",
       "    }\n",
       "\n",
       "    .dataframe tbody tr th {\n",
       "        vertical-align: top;\n",
       "    }\n",
       "\n",
       "    .dataframe thead th {\n",
       "        text-align: right;\n",
       "    }\n",
       "</style>\n",
       "<table border=\"1\" class=\"dataframe\">\n",
       "  <thead>\n",
       "    <tr style=\"text-align: right;\">\n",
       "      <th></th>\n",
       "      <th>이름</th>\n",
       "      <th>수학</th>\n",
       "      <th>영어</th>\n",
       "      <th>음악</th>\n",
       "      <th>체육</th>\n",
       "    </tr>\n",
       "  </thead>\n",
       "  <tbody>\n",
       "    <tr>\n",
       "      <th>0</th>\n",
       "      <td>서준</td>\n",
       "      <td>90</td>\n",
       "      <td>98</td>\n",
       "      <td>85</td>\n",
       "      <td>100</td>\n",
       "    </tr>\n",
       "    <tr>\n",
       "      <th>1</th>\n",
       "      <td>우현</td>\n",
       "      <td>80</td>\n",
       "      <td>89</td>\n",
       "      <td>95</td>\n",
       "      <td>90</td>\n",
       "    </tr>\n",
       "    <tr>\n",
       "      <th>2</th>\n",
       "      <td>인아</td>\n",
       "      <td>70</td>\n",
       "      <td>75</td>\n",
       "      <td>100</td>\n",
       "      <td>90</td>\n",
       "    </tr>\n",
       "  </tbody>\n",
       "</table>\n",
       "</div>"
      ],
      "text/plain": [
       "   이름  수학  영어   음악   체육\n",
       "0  서준  90  98   85  100\n",
       "1  우현  80  89   95   90\n",
       "2  인아  70  75  100   90"
      ]
     },
     "execution_count": 148,
     "metadata": {},
     "output_type": "execute_result"
    }
   ],
   "source": [
    "df"
   ]
  },
  {
   "cell_type": "code",
   "execution_count": 152,
   "id": "fb9a5476",
   "metadata": {},
   "outputs": [],
   "source": [
    "# set_index() : 특정 컬럼을 새로운 인덱스로 지정\n",
    "df.set_index(\"이름\", inplace = True)"
   ]
  },
  {
   "cell_type": "code",
   "execution_count": 153,
   "id": "3082fad1",
   "metadata": {},
   "outputs": [
    {
     "data": {
      "text/html": [
       "<div>\n",
       "<style scoped>\n",
       "    .dataframe tbody tr th:only-of-type {\n",
       "        vertical-align: middle;\n",
       "    }\n",
       "\n",
       "    .dataframe tbody tr th {\n",
       "        vertical-align: top;\n",
       "    }\n",
       "\n",
       "    .dataframe thead th {\n",
       "        text-align: right;\n",
       "    }\n",
       "</style>\n",
       "<table border=\"1\" class=\"dataframe\">\n",
       "  <thead>\n",
       "    <tr style=\"text-align: right;\">\n",
       "      <th></th>\n",
       "      <th>수학</th>\n",
       "      <th>영어</th>\n",
       "      <th>음악</th>\n",
       "      <th>체육</th>\n",
       "    </tr>\n",
       "    <tr>\n",
       "      <th>이름</th>\n",
       "      <th></th>\n",
       "      <th></th>\n",
       "      <th></th>\n",
       "      <th></th>\n",
       "    </tr>\n",
       "  </thead>\n",
       "  <tbody>\n",
       "    <tr>\n",
       "      <th>서준</th>\n",
       "      <td>90</td>\n",
       "      <td>98</td>\n",
       "      <td>85</td>\n",
       "      <td>100</td>\n",
       "    </tr>\n",
       "    <tr>\n",
       "      <th>우현</th>\n",
       "      <td>80</td>\n",
       "      <td>89</td>\n",
       "      <td>95</td>\n",
       "      <td>90</td>\n",
       "    </tr>\n",
       "    <tr>\n",
       "      <th>인아</th>\n",
       "      <td>70</td>\n",
       "      <td>75</td>\n",
       "      <td>100</td>\n",
       "      <td>90</td>\n",
       "    </tr>\n",
       "  </tbody>\n",
       "</table>\n",
       "</div>"
      ],
      "text/plain": [
       "    수학  영어   음악   체육\n",
       "이름                  \n",
       "서준  90  98   85  100\n",
       "우현  80  89   95   90\n",
       "인아  70  75  100   90"
      ]
     },
     "execution_count": 153,
     "metadata": {},
     "output_type": "execute_result"
    }
   ],
   "source": [
    "df"
   ]
  },
  {
   "cell_type": "code",
   "execution_count": 157,
   "id": "57c7d762",
   "metadata": {},
   "outputs": [
    {
     "name": "stdout",
     "output_type": "stream",
     "text": [
      "85\n",
      "85\n"
     ]
    }
   ],
   "source": [
    "# 서준이의 음악 점수\n",
    "a = df.loc[\"서준\", \"음악\"]\n",
    "print(a)\n",
    "\n",
    "b = df.iloc[0, 2]\n",
    "print(b)"
   ]
  },
  {
   "cell_type": "code",
   "execution_count": 165,
   "id": "ff751125",
   "metadata": {},
   "outputs": [
    {
     "name": "stdout",
     "output_type": "stream",
     "text": [
      "음악     85\n",
      "체육    100\n",
      "Name: 서준, dtype: int64\n",
      "음악     85\n",
      "체육    100\n",
      "Name: 서준, dtype: int64\n",
      "음악     85\n",
      "체육    100\n",
      "Name: 서준, dtype: int64\n",
      "음악     85\n",
      "체육    100\n",
      "Name: 서준, dtype: int64\n"
     ]
    }
   ],
   "source": [
    "# 서준이의 음악, 체육 점수\n",
    "c = df.loc[\"서준\",[\"음악\", \"체육\"]]\n",
    "print(c)\n",
    "\n",
    "d = df.iloc[0, [2, 3]]\n",
    "print(d)\n",
    "\n",
    "e = df.loc[\"서준\", \"음악\" : \"체육\"]\n",
    "print(e)\n",
    "\n",
    "f = df.iloc[0, 2:]\n",
    "print(f)"
   ]
  },
  {
   "cell_type": "code",
   "execution_count": 167,
   "id": "c7969b87",
   "metadata": {},
   "outputs": [
    {
     "name": "stdout",
     "output_type": "stream",
     "text": [
      "    음악   체육\n",
      "이름         \n",
      "서준  85  100\n",
      "우현  95   90\n",
      "    음악   체육\n",
      "이름         \n",
      "서준  85  100\n",
      "우현  95   90\n",
      "    음악   체육\n",
      "이름         \n",
      "서준  85  100\n",
      "우현  95   90\n",
      "    음악   체육\n",
      "이름         \n",
      "서준  85  100\n",
      "우현  95   90\n"
     ]
    }
   ],
   "source": [
    "# 서준, 우현의 음악, 체육 점수\n",
    "g = df.loc[[\"서준\", \"우현\"], [\"음악\", \"체육\"]]\n",
    "print(g)\n",
    "\n",
    "h = df.iloc[[0,1], [2, 3]]\n",
    "print(h)\n",
    "\n",
    "i = df.loc[ \"서준\" : \"우현\", \"음악\" : \"체육\"]\n",
    "print(i)\n",
    "\n",
    "j = df.iloc[0 : 2, 2 : ]\n",
    "print(j)"
   ]
  },
  {
   "cell_type": "markdown",
   "id": "caff6908",
   "metadata": {},
   "source": [
    "### 열추가\n",
    "\n",
    "- df[\"추가하려는 열 이름\"] = 데이터 값 또는 배열 \n",
    "    - 단일 값을 입력하면 모든 행에 동일한 값이 입력됨"
   ]
  },
  {
   "cell_type": "code",
   "execution_count": 172,
   "id": "e3a99c2b",
   "metadata": {},
   "outputs": [],
   "source": [
    "exam_data = {\"이름\" : [\"서준\", \"우현\", \"인아\"],\n",
    "            \"수학\" : [90, 80, 70],\n",
    "            \"영어\" : [98, 89, 75],\n",
    "            \"음악\" : [85, 95, 100],\n",
    "            \"체육\" : [100, 90, 90]}\n",
    "df = pd.DataFrame(exam_data)"
   ]
  },
  {
   "cell_type": "code",
   "execution_count": 173,
   "id": "e6a09506",
   "metadata": {},
   "outputs": [
    {
     "data": {
      "text/html": [
       "<div>\n",
       "<style scoped>\n",
       "    .dataframe tbody tr th:only-of-type {\n",
       "        vertical-align: middle;\n",
       "    }\n",
       "\n",
       "    .dataframe tbody tr th {\n",
       "        vertical-align: top;\n",
       "    }\n",
       "\n",
       "    .dataframe thead th {\n",
       "        text-align: right;\n",
       "    }\n",
       "</style>\n",
       "<table border=\"1\" class=\"dataframe\">\n",
       "  <thead>\n",
       "    <tr style=\"text-align: right;\">\n",
       "      <th></th>\n",
       "      <th>이름</th>\n",
       "      <th>수학</th>\n",
       "      <th>영어</th>\n",
       "      <th>음악</th>\n",
       "      <th>체육</th>\n",
       "    </tr>\n",
       "  </thead>\n",
       "  <tbody>\n",
       "    <tr>\n",
       "      <th>0</th>\n",
       "      <td>서준</td>\n",
       "      <td>90</td>\n",
       "      <td>98</td>\n",
       "      <td>85</td>\n",
       "      <td>100</td>\n",
       "    </tr>\n",
       "    <tr>\n",
       "      <th>1</th>\n",
       "      <td>우현</td>\n",
       "      <td>80</td>\n",
       "      <td>89</td>\n",
       "      <td>95</td>\n",
       "      <td>90</td>\n",
       "    </tr>\n",
       "    <tr>\n",
       "      <th>2</th>\n",
       "      <td>인아</td>\n",
       "      <td>70</td>\n",
       "      <td>75</td>\n",
       "      <td>100</td>\n",
       "      <td>90</td>\n",
       "    </tr>\n",
       "  </tbody>\n",
       "</table>\n",
       "</div>"
      ],
      "text/plain": [
       "   이름  수학  영어   음악   체육\n",
       "0  서준  90  98   85  100\n",
       "1  우현  80  89   95   90\n",
       "2  인아  70  75  100   90"
      ]
     },
     "execution_count": 173,
     "metadata": {},
     "output_type": "execute_result"
    }
   ],
   "source": [
    "df"
   ]
  },
  {
   "cell_type": "code",
   "execution_count": 174,
   "id": "c1845a4f",
   "metadata": {},
   "outputs": [],
   "source": [
    "# 국어 점수 추가\n",
    "df[\"국어\"] = 80"
   ]
  },
  {
   "cell_type": "code",
   "execution_count": 175,
   "id": "d58f2b64",
   "metadata": {},
   "outputs": [
    {
     "data": {
      "text/html": [
       "<div>\n",
       "<style scoped>\n",
       "    .dataframe tbody tr th:only-of-type {\n",
       "        vertical-align: middle;\n",
       "    }\n",
       "\n",
       "    .dataframe tbody tr th {\n",
       "        vertical-align: top;\n",
       "    }\n",
       "\n",
       "    .dataframe thead th {\n",
       "        text-align: right;\n",
       "    }\n",
       "</style>\n",
       "<table border=\"1\" class=\"dataframe\">\n",
       "  <thead>\n",
       "    <tr style=\"text-align: right;\">\n",
       "      <th></th>\n",
       "      <th>이름</th>\n",
       "      <th>수학</th>\n",
       "      <th>영어</th>\n",
       "      <th>음악</th>\n",
       "      <th>체육</th>\n",
       "      <th>국어</th>\n",
       "    </tr>\n",
       "  </thead>\n",
       "  <tbody>\n",
       "    <tr>\n",
       "      <th>0</th>\n",
       "      <td>서준</td>\n",
       "      <td>90</td>\n",
       "      <td>98</td>\n",
       "      <td>85</td>\n",
       "      <td>100</td>\n",
       "      <td>80</td>\n",
       "    </tr>\n",
       "    <tr>\n",
       "      <th>1</th>\n",
       "      <td>우현</td>\n",
       "      <td>80</td>\n",
       "      <td>89</td>\n",
       "      <td>95</td>\n",
       "      <td>90</td>\n",
       "      <td>80</td>\n",
       "    </tr>\n",
       "    <tr>\n",
       "      <th>2</th>\n",
       "      <td>인아</td>\n",
       "      <td>70</td>\n",
       "      <td>75</td>\n",
       "      <td>100</td>\n",
       "      <td>90</td>\n",
       "      <td>80</td>\n",
       "    </tr>\n",
       "  </tbody>\n",
       "</table>\n",
       "</div>"
      ],
      "text/plain": [
       "   이름  수학  영어   음악   체육  국어\n",
       "0  서준  90  98   85  100  80\n",
       "1  우현  80  89   95   90  80\n",
       "2  인아  70  75  100   90  80"
      ]
     },
     "execution_count": 175,
     "metadata": {},
     "output_type": "execute_result"
    }
   ],
   "source": [
    "df"
   ]
  },
  {
   "cell_type": "markdown",
   "id": "48672b66",
   "metadata": {},
   "source": [
    "### 행 추가\n",
    "\n",
    "- 추가하려는 행 이름과 데이터 값을 loc을 사용하여 입력\n",
    "- df.loc[\"새로운 행 이름\"] = 데이터 값 또는 배열"
   ]
  },
  {
   "cell_type": "code",
   "execution_count": 176,
   "id": "1b7ef0d0",
   "metadata": {},
   "outputs": [
    {
     "data": {
      "text/html": [
       "<div>\n",
       "<style scoped>\n",
       "    .dataframe tbody tr th:only-of-type {\n",
       "        vertical-align: middle;\n",
       "    }\n",
       "\n",
       "    .dataframe tbody tr th {\n",
       "        vertical-align: top;\n",
       "    }\n",
       "\n",
       "    .dataframe thead th {\n",
       "        text-align: right;\n",
       "    }\n",
       "</style>\n",
       "<table border=\"1\" class=\"dataframe\">\n",
       "  <thead>\n",
       "    <tr style=\"text-align: right;\">\n",
       "      <th></th>\n",
       "      <th>이름</th>\n",
       "      <th>수학</th>\n",
       "      <th>영어</th>\n",
       "      <th>음악</th>\n",
       "      <th>체육</th>\n",
       "      <th>국어</th>\n",
       "    </tr>\n",
       "  </thead>\n",
       "  <tbody>\n",
       "    <tr>\n",
       "      <th>0</th>\n",
       "      <td>서준</td>\n",
       "      <td>90</td>\n",
       "      <td>98</td>\n",
       "      <td>85</td>\n",
       "      <td>100</td>\n",
       "      <td>80</td>\n",
       "    </tr>\n",
       "    <tr>\n",
       "      <th>1</th>\n",
       "      <td>우현</td>\n",
       "      <td>80</td>\n",
       "      <td>89</td>\n",
       "      <td>95</td>\n",
       "      <td>90</td>\n",
       "      <td>80</td>\n",
       "    </tr>\n",
       "    <tr>\n",
       "      <th>2</th>\n",
       "      <td>인아</td>\n",
       "      <td>70</td>\n",
       "      <td>75</td>\n",
       "      <td>100</td>\n",
       "      <td>90</td>\n",
       "      <td>80</td>\n",
       "    </tr>\n",
       "  </tbody>\n",
       "</table>\n",
       "</div>"
      ],
      "text/plain": [
       "   이름  수학  영어   음악   체육  국어\n",
       "0  서준  90  98   85  100  80\n",
       "1  우현  80  89   95   90  80\n",
       "2  인아  70  75  100   90  80"
      ]
     },
     "execution_count": 176,
     "metadata": {},
     "output_type": "execute_result"
    }
   ],
   "source": [
    "df"
   ]
  },
  {
   "cell_type": "code",
   "execution_count": 177,
   "id": "d3a7b8f7",
   "metadata": {},
   "outputs": [],
   "source": [
    "df.loc[3] = 0"
   ]
  },
  {
   "cell_type": "code",
   "execution_count": 178,
   "id": "1f068fbd",
   "metadata": {},
   "outputs": [
    {
     "data": {
      "text/html": [
       "<div>\n",
       "<style scoped>\n",
       "    .dataframe tbody tr th:only-of-type {\n",
       "        vertical-align: middle;\n",
       "    }\n",
       "\n",
       "    .dataframe tbody tr th {\n",
       "        vertical-align: top;\n",
       "    }\n",
       "\n",
       "    .dataframe thead th {\n",
       "        text-align: right;\n",
       "    }\n",
       "</style>\n",
       "<table border=\"1\" class=\"dataframe\">\n",
       "  <thead>\n",
       "    <tr style=\"text-align: right;\">\n",
       "      <th></th>\n",
       "      <th>이름</th>\n",
       "      <th>수학</th>\n",
       "      <th>영어</th>\n",
       "      <th>음악</th>\n",
       "      <th>체육</th>\n",
       "      <th>국어</th>\n",
       "    </tr>\n",
       "  </thead>\n",
       "  <tbody>\n",
       "    <tr>\n",
       "      <th>0</th>\n",
       "      <td>서준</td>\n",
       "      <td>90</td>\n",
       "      <td>98</td>\n",
       "      <td>85</td>\n",
       "      <td>100</td>\n",
       "      <td>80</td>\n",
       "    </tr>\n",
       "    <tr>\n",
       "      <th>1</th>\n",
       "      <td>우현</td>\n",
       "      <td>80</td>\n",
       "      <td>89</td>\n",
       "      <td>95</td>\n",
       "      <td>90</td>\n",
       "      <td>80</td>\n",
       "    </tr>\n",
       "    <tr>\n",
       "      <th>2</th>\n",
       "      <td>인아</td>\n",
       "      <td>70</td>\n",
       "      <td>75</td>\n",
       "      <td>100</td>\n",
       "      <td>90</td>\n",
       "      <td>80</td>\n",
       "    </tr>\n",
       "    <tr>\n",
       "      <th>3</th>\n",
       "      <td>0</td>\n",
       "      <td>0</td>\n",
       "      <td>0</td>\n",
       "      <td>0</td>\n",
       "      <td>0</td>\n",
       "      <td>0</td>\n",
       "    </tr>\n",
       "  </tbody>\n",
       "</table>\n",
       "</div>"
      ],
      "text/plain": [
       "   이름  수학  영어   음악   체육  국어\n",
       "0  서준  90  98   85  100  80\n",
       "1  우현  80  89   95   90  80\n",
       "2  인아  70  75  100   90  80\n",
       "3   0   0   0    0    0   0"
      ]
     },
     "execution_count": 178,
     "metadata": {},
     "output_type": "execute_result"
    }
   ],
   "source": [
    "df"
   ]
  },
  {
   "cell_type": "code",
   "execution_count": 180,
   "id": "5efbd199",
   "metadata": {},
   "outputs": [],
   "source": [
    "df.loc[4] = [\"준형\", 90, 80, 70, 60, 50]"
   ]
  },
  {
   "cell_type": "code",
   "execution_count": 181,
   "id": "4a67a699",
   "metadata": {},
   "outputs": [
    {
     "data": {
      "text/html": [
       "<div>\n",
       "<style scoped>\n",
       "    .dataframe tbody tr th:only-of-type {\n",
       "        vertical-align: middle;\n",
       "    }\n",
       "\n",
       "    .dataframe tbody tr th {\n",
       "        vertical-align: top;\n",
       "    }\n",
       "\n",
       "    .dataframe thead th {\n",
       "        text-align: right;\n",
       "    }\n",
       "</style>\n",
       "<table border=\"1\" class=\"dataframe\">\n",
       "  <thead>\n",
       "    <tr style=\"text-align: right;\">\n",
       "      <th></th>\n",
       "      <th>이름</th>\n",
       "      <th>수학</th>\n",
       "      <th>영어</th>\n",
       "      <th>음악</th>\n",
       "      <th>체육</th>\n",
       "      <th>국어</th>\n",
       "    </tr>\n",
       "  </thead>\n",
       "  <tbody>\n",
       "    <tr>\n",
       "      <th>0</th>\n",
       "      <td>서준</td>\n",
       "      <td>90</td>\n",
       "      <td>98</td>\n",
       "      <td>85</td>\n",
       "      <td>100</td>\n",
       "      <td>80</td>\n",
       "    </tr>\n",
       "    <tr>\n",
       "      <th>1</th>\n",
       "      <td>우현</td>\n",
       "      <td>80</td>\n",
       "      <td>89</td>\n",
       "      <td>95</td>\n",
       "      <td>90</td>\n",
       "      <td>80</td>\n",
       "    </tr>\n",
       "    <tr>\n",
       "      <th>2</th>\n",
       "      <td>인아</td>\n",
       "      <td>70</td>\n",
       "      <td>75</td>\n",
       "      <td>100</td>\n",
       "      <td>90</td>\n",
       "      <td>80</td>\n",
       "    </tr>\n",
       "    <tr>\n",
       "      <th>3</th>\n",
       "      <td>0</td>\n",
       "      <td>0</td>\n",
       "      <td>0</td>\n",
       "      <td>0</td>\n",
       "      <td>0</td>\n",
       "      <td>0</td>\n",
       "    </tr>\n",
       "    <tr>\n",
       "      <th>4</th>\n",
       "      <td>준형</td>\n",
       "      <td>90</td>\n",
       "      <td>80</td>\n",
       "      <td>70</td>\n",
       "      <td>60</td>\n",
       "      <td>50</td>\n",
       "    </tr>\n",
       "  </tbody>\n",
       "</table>\n",
       "</div>"
      ],
      "text/plain": [
       "   이름  수학  영어   음악   체육  국어\n",
       "0  서준  90  98   85  100  80\n",
       "1  우현  80  89   95   90  80\n",
       "2  인아  70  75  100   90  80\n",
       "3   0   0   0    0    0   0\n",
       "4  준형  90  80   70   60  50"
      ]
     },
     "execution_count": 181,
     "metadata": {},
     "output_type": "execute_result"
    }
   ],
   "source": [
    "df"
   ]
  },
  {
   "cell_type": "code",
   "execution_count": 182,
   "id": "e2adc98a",
   "metadata": {},
   "outputs": [],
   "source": [
    "# 기존 행 복사해서 새로운 행 추가\n",
    "df.loc[5] = df.loc[3]"
   ]
  },
  {
   "cell_type": "code",
   "execution_count": 183,
   "id": "09b5d4bc",
   "metadata": {},
   "outputs": [
    {
     "data": {
      "text/html": [
       "<div>\n",
       "<style scoped>\n",
       "    .dataframe tbody tr th:only-of-type {\n",
       "        vertical-align: middle;\n",
       "    }\n",
       "\n",
       "    .dataframe tbody tr th {\n",
       "        vertical-align: top;\n",
       "    }\n",
       "\n",
       "    .dataframe thead th {\n",
       "        text-align: right;\n",
       "    }\n",
       "</style>\n",
       "<table border=\"1\" class=\"dataframe\">\n",
       "  <thead>\n",
       "    <tr style=\"text-align: right;\">\n",
       "      <th></th>\n",
       "      <th>이름</th>\n",
       "      <th>수학</th>\n",
       "      <th>영어</th>\n",
       "      <th>음악</th>\n",
       "      <th>체육</th>\n",
       "      <th>국어</th>\n",
       "    </tr>\n",
       "  </thead>\n",
       "  <tbody>\n",
       "    <tr>\n",
       "      <th>0</th>\n",
       "      <td>서준</td>\n",
       "      <td>90</td>\n",
       "      <td>98</td>\n",
       "      <td>85</td>\n",
       "      <td>100</td>\n",
       "      <td>80</td>\n",
       "    </tr>\n",
       "    <tr>\n",
       "      <th>1</th>\n",
       "      <td>우현</td>\n",
       "      <td>80</td>\n",
       "      <td>89</td>\n",
       "      <td>95</td>\n",
       "      <td>90</td>\n",
       "      <td>80</td>\n",
       "    </tr>\n",
       "    <tr>\n",
       "      <th>2</th>\n",
       "      <td>인아</td>\n",
       "      <td>70</td>\n",
       "      <td>75</td>\n",
       "      <td>100</td>\n",
       "      <td>90</td>\n",
       "      <td>80</td>\n",
       "    </tr>\n",
       "    <tr>\n",
       "      <th>3</th>\n",
       "      <td>0</td>\n",
       "      <td>0</td>\n",
       "      <td>0</td>\n",
       "      <td>0</td>\n",
       "      <td>0</td>\n",
       "      <td>0</td>\n",
       "    </tr>\n",
       "    <tr>\n",
       "      <th>4</th>\n",
       "      <td>준형</td>\n",
       "      <td>90</td>\n",
       "      <td>80</td>\n",
       "      <td>70</td>\n",
       "      <td>60</td>\n",
       "      <td>50</td>\n",
       "    </tr>\n",
       "    <tr>\n",
       "      <th>5</th>\n",
       "      <td>0</td>\n",
       "      <td>0</td>\n",
       "      <td>0</td>\n",
       "      <td>0</td>\n",
       "      <td>0</td>\n",
       "      <td>0</td>\n",
       "    </tr>\n",
       "  </tbody>\n",
       "</table>\n",
       "</div>"
      ],
      "text/plain": [
       "   이름  수학  영어   음악   체육  국어\n",
       "0  서준  90  98   85  100  80\n",
       "1  우현  80  89   95   90  80\n",
       "2  인아  70  75  100   90  80\n",
       "3   0   0   0    0    0   0\n",
       "4  준형  90  80   70   60  50\n",
       "5   0   0   0    0    0   0"
      ]
     },
     "execution_count": 183,
     "metadata": {},
     "output_type": "execute_result"
    }
   ],
   "source": [
    "df"
   ]
  },
  {
   "cell_type": "markdown",
   "id": "7f16af5e",
   "metadata": {},
   "source": [
    "### 원소 값 변경\n",
    "\n",
    "- 데이터프레임의 특정 원소를 선택하고 새로운 데이터 값을 지정\n",
    "- 원소 1개를 선택하거나 여러 원소를 선택하여 한꺼번에 값을 바꿀수도 있음\n",
    "\n",
    "- df의 일부분 또는 원소를 선택 = 새로운 값 "
   ]
  },
  {
   "cell_type": "code",
   "execution_count": 185,
   "id": "41b92513",
   "metadata": {},
   "outputs": [
    {
     "data": {
      "text/html": [
       "<div>\n",
       "<style scoped>\n",
       "    .dataframe tbody tr th:only-of-type {\n",
       "        vertical-align: middle;\n",
       "    }\n",
       "\n",
       "    .dataframe tbody tr th {\n",
       "        vertical-align: top;\n",
       "    }\n",
       "\n",
       "    .dataframe thead th {\n",
       "        text-align: right;\n",
       "    }\n",
       "</style>\n",
       "<table border=\"1\" class=\"dataframe\">\n",
       "  <thead>\n",
       "    <tr style=\"text-align: right;\">\n",
       "      <th></th>\n",
       "      <th>수학</th>\n",
       "      <th>영어</th>\n",
       "      <th>음악</th>\n",
       "      <th>체육</th>\n",
       "    </tr>\n",
       "    <tr>\n",
       "      <th>이름</th>\n",
       "      <th></th>\n",
       "      <th></th>\n",
       "      <th></th>\n",
       "      <th></th>\n",
       "    </tr>\n",
       "  </thead>\n",
       "  <tbody>\n",
       "    <tr>\n",
       "      <th>서준</th>\n",
       "      <td>90</td>\n",
       "      <td>98</td>\n",
       "      <td>85</td>\n",
       "      <td>100</td>\n",
       "    </tr>\n",
       "    <tr>\n",
       "      <th>우현</th>\n",
       "      <td>80</td>\n",
       "      <td>89</td>\n",
       "      <td>95</td>\n",
       "      <td>90</td>\n",
       "    </tr>\n",
       "    <tr>\n",
       "      <th>인아</th>\n",
       "      <td>70</td>\n",
       "      <td>75</td>\n",
       "      <td>100</td>\n",
       "      <td>90</td>\n",
       "    </tr>\n",
       "  </tbody>\n",
       "</table>\n",
       "</div>"
      ],
      "text/plain": [
       "    수학  영어   음악   체육\n",
       "이름                  \n",
       "서준  90  98   85  100\n",
       "우현  80  89   95   90\n",
       "인아  70  75  100   90"
      ]
     },
     "execution_count": 185,
     "metadata": {},
     "output_type": "execute_result"
    }
   ],
   "source": [
    "df = pd.DataFrame(exam_data)\n",
    "df = df.set_index(\"이름\")\n",
    "df"
   ]
  },
  {
   "cell_type": "code",
   "execution_count": 189,
   "id": "fe680761",
   "metadata": {},
   "outputs": [],
   "source": [
    "# 서준이의 체육점수 수정 \n",
    "df.iloc[0][3] = 80\n",
    "# df.iloc[0,3] = 80 이랑 같은거임"
   ]
  },
  {
   "cell_type": "code",
   "execution_count": 190,
   "id": "b8d97a16",
   "metadata": {},
   "outputs": [
    {
     "data": {
      "text/html": [
       "<div>\n",
       "<style scoped>\n",
       "    .dataframe tbody tr th:only-of-type {\n",
       "        vertical-align: middle;\n",
       "    }\n",
       "\n",
       "    .dataframe tbody tr th {\n",
       "        vertical-align: top;\n",
       "    }\n",
       "\n",
       "    .dataframe thead th {\n",
       "        text-align: right;\n",
       "    }\n",
       "</style>\n",
       "<table border=\"1\" class=\"dataframe\">\n",
       "  <thead>\n",
       "    <tr style=\"text-align: right;\">\n",
       "      <th></th>\n",
       "      <th>수학</th>\n",
       "      <th>영어</th>\n",
       "      <th>음악</th>\n",
       "      <th>체육</th>\n",
       "    </tr>\n",
       "    <tr>\n",
       "      <th>이름</th>\n",
       "      <th></th>\n",
       "      <th></th>\n",
       "      <th></th>\n",
       "      <th></th>\n",
       "    </tr>\n",
       "  </thead>\n",
       "  <tbody>\n",
       "    <tr>\n",
       "      <th>서준</th>\n",
       "      <td>90</td>\n",
       "      <td>98</td>\n",
       "      <td>85</td>\n",
       "      <td>80</td>\n",
       "    </tr>\n",
       "    <tr>\n",
       "      <th>우현</th>\n",
       "      <td>80</td>\n",
       "      <td>89</td>\n",
       "      <td>95</td>\n",
       "      <td>90</td>\n",
       "    </tr>\n",
       "    <tr>\n",
       "      <th>인아</th>\n",
       "      <td>70</td>\n",
       "      <td>75</td>\n",
       "      <td>100</td>\n",
       "      <td>90</td>\n",
       "    </tr>\n",
       "  </tbody>\n",
       "</table>\n",
       "</div>"
      ],
      "text/plain": [
       "    수학  영어   음악  체육\n",
       "이름                 \n",
       "서준  90  98   85  80\n",
       "우현  80  89   95  90\n",
       "인아  70  75  100  90"
      ]
     },
     "execution_count": 190,
     "metadata": {},
     "output_type": "execute_result"
    }
   ],
   "source": [
    "df"
   ]
  },
  {
   "cell_type": "code",
   "execution_count": 193,
   "id": "a4d92af7",
   "metadata": {},
   "outputs": [],
   "source": [
    "df.loc[\"서준\",\"체육\"] = 90 # df.loc[\"서준\"][\"체육\"] = 90"
   ]
  },
  {
   "cell_type": "code",
   "execution_count": 194,
   "id": "95bf0592",
   "metadata": {},
   "outputs": [
    {
     "data": {
      "text/html": [
       "<div>\n",
       "<style scoped>\n",
       "    .dataframe tbody tr th:only-of-type {\n",
       "        vertical-align: middle;\n",
       "    }\n",
       "\n",
       "    .dataframe tbody tr th {\n",
       "        vertical-align: top;\n",
       "    }\n",
       "\n",
       "    .dataframe thead th {\n",
       "        text-align: right;\n",
       "    }\n",
       "</style>\n",
       "<table border=\"1\" class=\"dataframe\">\n",
       "  <thead>\n",
       "    <tr style=\"text-align: right;\">\n",
       "      <th></th>\n",
       "      <th>수학</th>\n",
       "      <th>영어</th>\n",
       "      <th>음악</th>\n",
       "      <th>체육</th>\n",
       "    </tr>\n",
       "    <tr>\n",
       "      <th>이름</th>\n",
       "      <th></th>\n",
       "      <th></th>\n",
       "      <th></th>\n",
       "      <th></th>\n",
       "    </tr>\n",
       "  </thead>\n",
       "  <tbody>\n",
       "    <tr>\n",
       "      <th>서준</th>\n",
       "      <td>90</td>\n",
       "      <td>98</td>\n",
       "      <td>85</td>\n",
       "      <td>90</td>\n",
       "    </tr>\n",
       "    <tr>\n",
       "      <th>우현</th>\n",
       "      <td>80</td>\n",
       "      <td>89</td>\n",
       "      <td>95</td>\n",
       "      <td>90</td>\n",
       "    </tr>\n",
       "    <tr>\n",
       "      <th>인아</th>\n",
       "      <td>70</td>\n",
       "      <td>75</td>\n",
       "      <td>100</td>\n",
       "      <td>90</td>\n",
       "    </tr>\n",
       "  </tbody>\n",
       "</table>\n",
       "</div>"
      ],
      "text/plain": [
       "    수학  영어   음악  체육\n",
       "이름                 \n",
       "서준  90  98   85  90\n",
       "우현  80  89   95  90\n",
       "인아  70  75  100  90"
      ]
     },
     "execution_count": 194,
     "metadata": {},
     "output_type": "execute_result"
    }
   ],
   "source": [
    "df"
   ]
  },
  {
   "cell_type": "code",
   "execution_count": 195,
   "id": "f6ca1cbb",
   "metadata": {},
   "outputs": [
    {
     "data": {
      "text/html": [
       "<div>\n",
       "<style scoped>\n",
       "    .dataframe tbody tr th:only-of-type {\n",
       "        vertical-align: middle;\n",
       "    }\n",
       "\n",
       "    .dataframe tbody tr th {\n",
       "        vertical-align: top;\n",
       "    }\n",
       "\n",
       "    .dataframe thead th {\n",
       "        text-align: right;\n",
       "    }\n",
       "</style>\n",
       "<table border=\"1\" class=\"dataframe\">\n",
       "  <thead>\n",
       "    <tr style=\"text-align: right;\">\n",
       "      <th></th>\n",
       "      <th>수학</th>\n",
       "      <th>영어</th>\n",
       "      <th>음악</th>\n",
       "      <th>체육</th>\n",
       "    </tr>\n",
       "    <tr>\n",
       "      <th>이름</th>\n",
       "      <th></th>\n",
       "      <th></th>\n",
       "      <th></th>\n",
       "      <th></th>\n",
       "    </tr>\n",
       "  </thead>\n",
       "  <tbody>\n",
       "    <tr>\n",
       "      <th>서준</th>\n",
       "      <td>90</td>\n",
       "      <td>98</td>\n",
       "      <td>85</td>\n",
       "      <td>100</td>\n",
       "    </tr>\n",
       "    <tr>\n",
       "      <th>우현</th>\n",
       "      <td>80</td>\n",
       "      <td>89</td>\n",
       "      <td>95</td>\n",
       "      <td>90</td>\n",
       "    </tr>\n",
       "    <tr>\n",
       "      <th>인아</th>\n",
       "      <td>70</td>\n",
       "      <td>75</td>\n",
       "      <td>100</td>\n",
       "      <td>90</td>\n",
       "    </tr>\n",
       "  </tbody>\n",
       "</table>\n",
       "</div>"
      ],
      "text/plain": [
       "    수학  영어   음악   체육\n",
       "이름                  \n",
       "서준  90  98   85  100\n",
       "우현  80  89   95   90\n",
       "인아  70  75  100   90"
      ]
     },
     "execution_count": 195,
     "metadata": {},
     "output_type": "execute_result"
    }
   ],
   "source": [
    "df.loc[\"서준\", \"체육\"] = 100\n",
    "df"
   ]
  },
  {
   "cell_type": "code",
   "execution_count": 202,
   "id": "75713257",
   "metadata": {},
   "outputs": [],
   "source": [
    "# 서준이의 음악, 체육 점수 변경\n",
    "df.loc[\"서준\",[\"음악\", \"체육\"]] = 50"
   ]
  },
  {
   "cell_type": "code",
   "execution_count": 203,
   "id": "5edde26d",
   "metadata": {},
   "outputs": [
    {
     "data": {
      "text/html": [
       "<div>\n",
       "<style scoped>\n",
       "    .dataframe tbody tr th:only-of-type {\n",
       "        vertical-align: middle;\n",
       "    }\n",
       "\n",
       "    .dataframe tbody tr th {\n",
       "        vertical-align: top;\n",
       "    }\n",
       "\n",
       "    .dataframe thead th {\n",
       "        text-align: right;\n",
       "    }\n",
       "</style>\n",
       "<table border=\"1\" class=\"dataframe\">\n",
       "  <thead>\n",
       "    <tr style=\"text-align: right;\">\n",
       "      <th></th>\n",
       "      <th>수학</th>\n",
       "      <th>영어</th>\n",
       "      <th>음악</th>\n",
       "      <th>체육</th>\n",
       "    </tr>\n",
       "    <tr>\n",
       "      <th>이름</th>\n",
       "      <th></th>\n",
       "      <th></th>\n",
       "      <th></th>\n",
       "      <th></th>\n",
       "    </tr>\n",
       "  </thead>\n",
       "  <tbody>\n",
       "    <tr>\n",
       "      <th>서준</th>\n",
       "      <td>90</td>\n",
       "      <td>98</td>\n",
       "      <td>50</td>\n",
       "      <td>50</td>\n",
       "    </tr>\n",
       "    <tr>\n",
       "      <th>우현</th>\n",
       "      <td>80</td>\n",
       "      <td>89</td>\n",
       "      <td>95</td>\n",
       "      <td>90</td>\n",
       "    </tr>\n",
       "    <tr>\n",
       "      <th>인아</th>\n",
       "      <td>70</td>\n",
       "      <td>75</td>\n",
       "      <td>100</td>\n",
       "      <td>90</td>\n",
       "    </tr>\n",
       "  </tbody>\n",
       "</table>\n",
       "</div>"
      ],
      "text/plain": [
       "    수학  영어   음악  체육\n",
       "이름                 \n",
       "서준  90  98   50  50\n",
       "우현  80  89   95  90\n",
       "인아  70  75  100  90"
      ]
     },
     "execution_count": 203,
     "metadata": {},
     "output_type": "execute_result"
    }
   ],
   "source": [
    "df"
   ]
  },
  {
   "cell_type": "code",
   "execution_count": 204,
   "id": "c746c166",
   "metadata": {},
   "outputs": [],
   "source": [
    "df.loc[\"서준\", [\"음악\", \"체육\"]] = (100, 60)"
   ]
  },
  {
   "cell_type": "code",
   "execution_count": 205,
   "id": "34740fa9",
   "metadata": {},
   "outputs": [
    {
     "data": {
      "text/html": [
       "<div>\n",
       "<style scoped>\n",
       "    .dataframe tbody tr th:only-of-type {\n",
       "        vertical-align: middle;\n",
       "    }\n",
       "\n",
       "    .dataframe tbody tr th {\n",
       "        vertical-align: top;\n",
       "    }\n",
       "\n",
       "    .dataframe thead th {\n",
       "        text-align: right;\n",
       "    }\n",
       "</style>\n",
       "<table border=\"1\" class=\"dataframe\">\n",
       "  <thead>\n",
       "    <tr style=\"text-align: right;\">\n",
       "      <th></th>\n",
       "      <th>수학</th>\n",
       "      <th>영어</th>\n",
       "      <th>음악</th>\n",
       "      <th>체육</th>\n",
       "    </tr>\n",
       "    <tr>\n",
       "      <th>이름</th>\n",
       "      <th></th>\n",
       "      <th></th>\n",
       "      <th></th>\n",
       "      <th></th>\n",
       "    </tr>\n",
       "  </thead>\n",
       "  <tbody>\n",
       "    <tr>\n",
       "      <th>서준</th>\n",
       "      <td>90</td>\n",
       "      <td>98</td>\n",
       "      <td>100</td>\n",
       "      <td>60</td>\n",
       "    </tr>\n",
       "    <tr>\n",
       "      <th>우현</th>\n",
       "      <td>80</td>\n",
       "      <td>89</td>\n",
       "      <td>95</td>\n",
       "      <td>90</td>\n",
       "    </tr>\n",
       "    <tr>\n",
       "      <th>인아</th>\n",
       "      <td>70</td>\n",
       "      <td>75</td>\n",
       "      <td>100</td>\n",
       "      <td>90</td>\n",
       "    </tr>\n",
       "  </tbody>\n",
       "</table>\n",
       "</div>"
      ],
      "text/plain": [
       "    수학  영어   음악  체육\n",
       "이름                 \n",
       "서준  90  98  100  60\n",
       "우현  80  89   95  90\n",
       "인아  70  75  100  90"
      ]
     },
     "execution_count": 205,
     "metadata": {},
     "output_type": "execute_result"
    }
   ],
   "source": [
    "df"
   ]
  },
  {
   "cell_type": "code",
   "execution_count": 206,
   "id": "a6028970",
   "metadata": {},
   "outputs": [],
   "source": [
    "df.iloc[0,[2,3]] = 80, 35"
   ]
  },
  {
   "cell_type": "code",
   "execution_count": 207,
   "id": "11b8d6ea",
   "metadata": {},
   "outputs": [
    {
     "data": {
      "text/html": [
       "<div>\n",
       "<style scoped>\n",
       "    .dataframe tbody tr th:only-of-type {\n",
       "        vertical-align: middle;\n",
       "    }\n",
       "\n",
       "    .dataframe tbody tr th {\n",
       "        vertical-align: top;\n",
       "    }\n",
       "\n",
       "    .dataframe thead th {\n",
       "        text-align: right;\n",
       "    }\n",
       "</style>\n",
       "<table border=\"1\" class=\"dataframe\">\n",
       "  <thead>\n",
       "    <tr style=\"text-align: right;\">\n",
       "      <th></th>\n",
       "      <th>수학</th>\n",
       "      <th>영어</th>\n",
       "      <th>음악</th>\n",
       "      <th>체육</th>\n",
       "    </tr>\n",
       "    <tr>\n",
       "      <th>이름</th>\n",
       "      <th></th>\n",
       "      <th></th>\n",
       "      <th></th>\n",
       "      <th></th>\n",
       "    </tr>\n",
       "  </thead>\n",
       "  <tbody>\n",
       "    <tr>\n",
       "      <th>서준</th>\n",
       "      <td>90</td>\n",
       "      <td>98</td>\n",
       "      <td>80</td>\n",
       "      <td>35</td>\n",
       "    </tr>\n",
       "    <tr>\n",
       "      <th>우현</th>\n",
       "      <td>80</td>\n",
       "      <td>89</td>\n",
       "      <td>95</td>\n",
       "      <td>90</td>\n",
       "    </tr>\n",
       "    <tr>\n",
       "      <th>인아</th>\n",
       "      <td>70</td>\n",
       "      <td>75</td>\n",
       "      <td>100</td>\n",
       "      <td>90</td>\n",
       "    </tr>\n",
       "  </tbody>\n",
       "</table>\n",
       "</div>"
      ],
      "text/plain": [
       "    수학  영어   음악  체육\n",
       "이름                 \n",
       "서준  90  98   80  35\n",
       "우현  80  89   95  90\n",
       "인아  70  75  100  90"
      ]
     },
     "execution_count": 207,
     "metadata": {},
     "output_type": "execute_result"
    }
   ],
   "source": [
    "df"
   ]
  },
  {
   "cell_type": "markdown",
   "id": "5b522525",
   "metadata": {},
   "source": [
    "### 행, 열의 위치 바꾸기\n",
    "\n",
    "- 데이터프레임의 행과 열을 서로 맞바꾸는 방법\n",
    "    - 열 이름이 행 인덱스로 이동하고 행 인덱스가 열 이름으로 이동\n",
    "- 선형대수학의 전치행렬과 같은 개념\n",
    "- 전치의 결과로 새로운 객체를 반환\n",
    "    - 기존의 객체를 변경하고 싶다면 df = df.transpose() 또는 df.T 등의 방법으로 기존 객체에 새로운 객체를 재할당 해주는 과정이 필요\n",
    "    \n",
    "- df.transpose() 또는 df.T"
   ]
  },
  {
   "cell_type": "code",
   "execution_count": 208,
   "id": "10cc5109",
   "metadata": {},
   "outputs": [
    {
     "data": {
      "text/html": [
       "<div>\n",
       "<style scoped>\n",
       "    .dataframe tbody tr th:only-of-type {\n",
       "        vertical-align: middle;\n",
       "    }\n",
       "\n",
       "    .dataframe tbody tr th {\n",
       "        vertical-align: top;\n",
       "    }\n",
       "\n",
       "    .dataframe thead th {\n",
       "        text-align: right;\n",
       "    }\n",
       "</style>\n",
       "<table border=\"1\" class=\"dataframe\">\n",
       "  <thead>\n",
       "    <tr style=\"text-align: right;\">\n",
       "      <th></th>\n",
       "      <th>수학</th>\n",
       "      <th>영어</th>\n",
       "      <th>음악</th>\n",
       "      <th>체육</th>\n",
       "    </tr>\n",
       "    <tr>\n",
       "      <th>이름</th>\n",
       "      <th></th>\n",
       "      <th></th>\n",
       "      <th></th>\n",
       "      <th></th>\n",
       "    </tr>\n",
       "  </thead>\n",
       "  <tbody>\n",
       "    <tr>\n",
       "      <th>서준</th>\n",
       "      <td>90</td>\n",
       "      <td>98</td>\n",
       "      <td>80</td>\n",
       "      <td>35</td>\n",
       "    </tr>\n",
       "    <tr>\n",
       "      <th>우현</th>\n",
       "      <td>80</td>\n",
       "      <td>89</td>\n",
       "      <td>95</td>\n",
       "      <td>90</td>\n",
       "    </tr>\n",
       "    <tr>\n",
       "      <th>인아</th>\n",
       "      <td>70</td>\n",
       "      <td>75</td>\n",
       "      <td>100</td>\n",
       "      <td>90</td>\n",
       "    </tr>\n",
       "  </tbody>\n",
       "</table>\n",
       "</div>"
      ],
      "text/plain": [
       "    수학  영어   음악  체육\n",
       "이름                 \n",
       "서준  90  98   80  35\n",
       "우현  80  89   95  90\n",
       "인아  70  75  100  90"
      ]
     },
     "execution_count": 208,
     "metadata": {},
     "output_type": "execute_result"
    }
   ],
   "source": [
    "df"
   ]
  },
  {
   "cell_type": "code",
   "execution_count": 209,
   "id": "42a1e496",
   "metadata": {},
   "outputs": [
    {
     "data": {
      "text/html": [
       "<div>\n",
       "<style scoped>\n",
       "    .dataframe tbody tr th:only-of-type {\n",
       "        vertical-align: middle;\n",
       "    }\n",
       "\n",
       "    .dataframe tbody tr th {\n",
       "        vertical-align: top;\n",
       "    }\n",
       "\n",
       "    .dataframe thead th {\n",
       "        text-align: right;\n",
       "    }\n",
       "</style>\n",
       "<table border=\"1\" class=\"dataframe\">\n",
       "  <thead>\n",
       "    <tr style=\"text-align: right;\">\n",
       "      <th>이름</th>\n",
       "      <th>서준</th>\n",
       "      <th>우현</th>\n",
       "      <th>인아</th>\n",
       "    </tr>\n",
       "  </thead>\n",
       "  <tbody>\n",
       "    <tr>\n",
       "      <th>수학</th>\n",
       "      <td>90</td>\n",
       "      <td>80</td>\n",
       "      <td>70</td>\n",
       "    </tr>\n",
       "    <tr>\n",
       "      <th>영어</th>\n",
       "      <td>98</td>\n",
       "      <td>89</td>\n",
       "      <td>75</td>\n",
       "    </tr>\n",
       "    <tr>\n",
       "      <th>음악</th>\n",
       "      <td>80</td>\n",
       "      <td>95</td>\n",
       "      <td>100</td>\n",
       "    </tr>\n",
       "    <tr>\n",
       "      <th>체육</th>\n",
       "      <td>35</td>\n",
       "      <td>90</td>\n",
       "      <td>90</td>\n",
       "    </tr>\n",
       "  </tbody>\n",
       "</table>\n",
       "</div>"
      ],
      "text/plain": [
       "이름  서준  우현   인아\n",
       "수학  90  80   70\n",
       "영어  98  89   75\n",
       "음악  80  95  100\n",
       "체육  35  90   90"
      ]
     },
     "execution_count": 209,
     "metadata": {},
     "output_type": "execute_result"
    }
   ],
   "source": [
    "# df를 전치(메소드 활용)\n",
    "df= df.transpose()\n",
    "df"
   ]
  },
  {
   "cell_type": "code",
   "execution_count": 210,
   "id": "7fe14285",
   "metadata": {},
   "outputs": [
    {
     "data": {
      "text/html": [
       "<div>\n",
       "<style scoped>\n",
       "    .dataframe tbody tr th:only-of-type {\n",
       "        vertical-align: middle;\n",
       "    }\n",
       "\n",
       "    .dataframe tbody tr th {\n",
       "        vertical-align: top;\n",
       "    }\n",
       "\n",
       "    .dataframe thead th {\n",
       "        text-align: right;\n",
       "    }\n",
       "</style>\n",
       "<table border=\"1\" class=\"dataframe\">\n",
       "  <thead>\n",
       "    <tr style=\"text-align: right;\">\n",
       "      <th></th>\n",
       "      <th>수학</th>\n",
       "      <th>영어</th>\n",
       "      <th>음악</th>\n",
       "      <th>체육</th>\n",
       "    </tr>\n",
       "    <tr>\n",
       "      <th>이름</th>\n",
       "      <th></th>\n",
       "      <th></th>\n",
       "      <th></th>\n",
       "      <th></th>\n",
       "    </tr>\n",
       "  </thead>\n",
       "  <tbody>\n",
       "    <tr>\n",
       "      <th>서준</th>\n",
       "      <td>90</td>\n",
       "      <td>98</td>\n",
       "      <td>80</td>\n",
       "      <td>35</td>\n",
       "    </tr>\n",
       "    <tr>\n",
       "      <th>우현</th>\n",
       "      <td>80</td>\n",
       "      <td>89</td>\n",
       "      <td>95</td>\n",
       "      <td>90</td>\n",
       "    </tr>\n",
       "    <tr>\n",
       "      <th>인아</th>\n",
       "      <td>70</td>\n",
       "      <td>75</td>\n",
       "      <td>100</td>\n",
       "      <td>90</td>\n",
       "    </tr>\n",
       "  </tbody>\n",
       "</table>\n",
       "</div>"
      ],
      "text/plain": [
       "    수학  영어   음악  체육\n",
       "이름                 \n",
       "서준  90  98   80  35\n",
       "우현  80  89   95  90\n",
       "인아  70  75  100  90"
      ]
     },
     "execution_count": 210,
     "metadata": {},
     "output_type": "execute_result"
    }
   ],
   "source": [
    "# df를 전치(클래스 속성 활용)\n",
    "df = df.T\n",
    "df"
   ]
  },
  {
   "cell_type": "markdown",
   "id": "524ef008",
   "metadata": {},
   "source": [
    "# 인덱스 활용"
   ]
  },
  {
   "cell_type": "markdown",
   "id": "f9cf1e32",
   "metadata": {},
   "source": [
    "## 특정 열을 행 인덱스로 설정\n",
    "\n",
    "- set_index()\n",
    "    - 데이터프레임의 특정 열을 행 인덱스로 설정 \n",
    "- 새로운 데이터 프레임 객체를 반환\n",
    "- set_index() 메소드를 사용하여 행 인덱스를 새로 지정하면 기존 행 인덱스는 삭제됨\n",
    "\n",
    "- df.set_index([\"열이름\"] 또는 \"열이름\")"
   ]
  },
  {
   "cell_type": "code",
   "execution_count": 211,
   "id": "385934b5",
   "metadata": {},
   "outputs": [],
   "source": [
    "df = pd.DataFrame(exam_data)"
   ]
  },
  {
   "cell_type": "code",
   "execution_count": 212,
   "id": "5c756325",
   "metadata": {},
   "outputs": [
    {
     "data": {
      "text/html": [
       "<div>\n",
       "<style scoped>\n",
       "    .dataframe tbody tr th:only-of-type {\n",
       "        vertical-align: middle;\n",
       "    }\n",
       "\n",
       "    .dataframe tbody tr th {\n",
       "        vertical-align: top;\n",
       "    }\n",
       "\n",
       "    .dataframe thead th {\n",
       "        text-align: right;\n",
       "    }\n",
       "</style>\n",
       "<table border=\"1\" class=\"dataframe\">\n",
       "  <thead>\n",
       "    <tr style=\"text-align: right;\">\n",
       "      <th></th>\n",
       "      <th>이름</th>\n",
       "      <th>수학</th>\n",
       "      <th>영어</th>\n",
       "      <th>음악</th>\n",
       "      <th>체육</th>\n",
       "    </tr>\n",
       "  </thead>\n",
       "  <tbody>\n",
       "    <tr>\n",
       "      <th>0</th>\n",
       "      <td>서준</td>\n",
       "      <td>90</td>\n",
       "      <td>98</td>\n",
       "      <td>85</td>\n",
       "      <td>100</td>\n",
       "    </tr>\n",
       "    <tr>\n",
       "      <th>1</th>\n",
       "      <td>우현</td>\n",
       "      <td>80</td>\n",
       "      <td>89</td>\n",
       "      <td>95</td>\n",
       "      <td>90</td>\n",
       "    </tr>\n",
       "    <tr>\n",
       "      <th>2</th>\n",
       "      <td>인아</td>\n",
       "      <td>70</td>\n",
       "      <td>75</td>\n",
       "      <td>100</td>\n",
       "      <td>90</td>\n",
       "    </tr>\n",
       "  </tbody>\n",
       "</table>\n",
       "</div>"
      ],
      "text/plain": [
       "   이름  수학  영어   음악   체육\n",
       "0  서준  90  98   85  100\n",
       "1  우현  80  89   95   90\n",
       "2  인아  70  75  100   90"
      ]
     },
     "execution_count": 212,
     "metadata": {},
     "output_type": "execute_result"
    }
   ],
   "source": [
    "df"
   ]
  },
  {
   "cell_type": "code",
   "execution_count": 213,
   "id": "fcdeac3e",
   "metadata": {},
   "outputs": [
    {
     "data": {
      "text/html": [
       "<div>\n",
       "<style scoped>\n",
       "    .dataframe tbody tr th:only-of-type {\n",
       "        vertical-align: middle;\n",
       "    }\n",
       "\n",
       "    .dataframe tbody tr th {\n",
       "        vertical-align: top;\n",
       "    }\n",
       "\n",
       "    .dataframe thead th {\n",
       "        text-align: right;\n",
       "    }\n",
       "</style>\n",
       "<table border=\"1\" class=\"dataframe\">\n",
       "  <thead>\n",
       "    <tr style=\"text-align: right;\">\n",
       "      <th></th>\n",
       "      <th>수학</th>\n",
       "      <th>영어</th>\n",
       "      <th>음악</th>\n",
       "      <th>체육</th>\n",
       "    </tr>\n",
       "    <tr>\n",
       "      <th>이름</th>\n",
       "      <th></th>\n",
       "      <th></th>\n",
       "      <th></th>\n",
       "      <th></th>\n",
       "    </tr>\n",
       "  </thead>\n",
       "  <tbody>\n",
       "    <tr>\n",
       "      <th>서준</th>\n",
       "      <td>90</td>\n",
       "      <td>98</td>\n",
       "      <td>85</td>\n",
       "      <td>100</td>\n",
       "    </tr>\n",
       "    <tr>\n",
       "      <th>우현</th>\n",
       "      <td>80</td>\n",
       "      <td>89</td>\n",
       "      <td>95</td>\n",
       "      <td>90</td>\n",
       "    </tr>\n",
       "    <tr>\n",
       "      <th>인아</th>\n",
       "      <td>70</td>\n",
       "      <td>75</td>\n",
       "      <td>100</td>\n",
       "      <td>90</td>\n",
       "    </tr>\n",
       "  </tbody>\n",
       "</table>\n",
       "</div>"
      ],
      "text/plain": [
       "    수학  영어   음악   체육\n",
       "이름                  \n",
       "서준  90  98   85  100\n",
       "우현  80  89   95   90\n",
       "인아  70  75  100   90"
      ]
     },
     "execution_count": 213,
     "metadata": {},
     "output_type": "execute_result"
    }
   ],
   "source": [
    "# 특정 열을 행 인덱스로 설정\n",
    "ndf = df.set_index([\"이름\"])\n",
    "ndf"
   ]
  },
  {
   "cell_type": "code",
   "execution_count": 214,
   "id": "c6f46397",
   "metadata": {},
   "outputs": [
    {
     "data": {
      "text/html": [
       "<div>\n",
       "<style scoped>\n",
       "    .dataframe tbody tr th:only-of-type {\n",
       "        vertical-align: middle;\n",
       "    }\n",
       "\n",
       "    .dataframe tbody tr th {\n",
       "        vertical-align: top;\n",
       "    }\n",
       "\n",
       "    .dataframe thead th {\n",
       "        text-align: right;\n",
       "    }\n",
       "</style>\n",
       "<table border=\"1\" class=\"dataframe\">\n",
       "  <thead>\n",
       "    <tr style=\"text-align: right;\">\n",
       "      <th></th>\n",
       "      <th>수학</th>\n",
       "      <th>영어</th>\n",
       "      <th>체육</th>\n",
       "    </tr>\n",
       "    <tr>\n",
       "      <th>음악</th>\n",
       "      <th></th>\n",
       "      <th></th>\n",
       "      <th></th>\n",
       "    </tr>\n",
       "  </thead>\n",
       "  <tbody>\n",
       "    <tr>\n",
       "      <th>85</th>\n",
       "      <td>90</td>\n",
       "      <td>98</td>\n",
       "      <td>100</td>\n",
       "    </tr>\n",
       "    <tr>\n",
       "      <th>95</th>\n",
       "      <td>80</td>\n",
       "      <td>89</td>\n",
       "      <td>90</td>\n",
       "    </tr>\n",
       "    <tr>\n",
       "      <th>100</th>\n",
       "      <td>70</td>\n",
       "      <td>75</td>\n",
       "      <td>90</td>\n",
       "    </tr>\n",
       "  </tbody>\n",
       "</table>\n",
       "</div>"
      ],
      "text/plain": [
       "     수학  영어   체육\n",
       "음악              \n",
       "85   90  98  100\n",
       "95   80  89   90\n",
       "100  70  75   90"
      ]
     },
     "execution_count": 214,
     "metadata": {},
     "output_type": "execute_result"
    }
   ],
   "source": [
    "ndf.set_index(\"음악\")"
   ]
  },
  {
   "cell_type": "code",
   "execution_count": 215,
   "id": "937b3dd7",
   "metadata": {},
   "outputs": [
    {
     "data": {
      "text/html": [
       "<div>\n",
       "<style scoped>\n",
       "    .dataframe tbody tr th:only-of-type {\n",
       "        vertical-align: middle;\n",
       "    }\n",
       "\n",
       "    .dataframe tbody tr th {\n",
       "        vertical-align: top;\n",
       "    }\n",
       "\n",
       "    .dataframe thead th {\n",
       "        text-align: right;\n",
       "    }\n",
       "</style>\n",
       "<table border=\"1\" class=\"dataframe\">\n",
       "  <thead>\n",
       "    <tr style=\"text-align: right;\">\n",
       "      <th></th>\n",
       "      <th></th>\n",
       "      <th>영어</th>\n",
       "      <th>체육</th>\n",
       "    </tr>\n",
       "    <tr>\n",
       "      <th>수학</th>\n",
       "      <th>음악</th>\n",
       "      <th></th>\n",
       "      <th></th>\n",
       "    </tr>\n",
       "  </thead>\n",
       "  <tbody>\n",
       "    <tr>\n",
       "      <th>90</th>\n",
       "      <th>85</th>\n",
       "      <td>98</td>\n",
       "      <td>100</td>\n",
       "    </tr>\n",
       "    <tr>\n",
       "      <th>80</th>\n",
       "      <th>95</th>\n",
       "      <td>89</td>\n",
       "      <td>90</td>\n",
       "    </tr>\n",
       "    <tr>\n",
       "      <th>70</th>\n",
       "      <th>100</th>\n",
       "      <td>75</td>\n",
       "      <td>90</td>\n",
       "    </tr>\n",
       "  </tbody>\n",
       "</table>\n",
       "</div>"
      ],
      "text/plain": [
       "        영어   체육\n",
       "수학 음악          \n",
       "90 85   98  100\n",
       "80 95   89   90\n",
       "70 100  75   90"
      ]
     },
     "execution_count": 215,
     "metadata": {},
     "output_type": "execute_result"
    }
   ],
   "source": [
    "ndf.set_index([\"수학\", \"음악\"])"
   ]
  },
  {
   "cell_type": "code",
   "execution_count": 216,
   "id": "f7ed7694",
   "metadata": {},
   "outputs": [
    {
     "data": {
      "text/html": [
       "<div>\n",
       "<style scoped>\n",
       "    .dataframe tbody tr th:only-of-type {\n",
       "        vertical-align: middle;\n",
       "    }\n",
       "\n",
       "    .dataframe tbody tr th {\n",
       "        vertical-align: top;\n",
       "    }\n",
       "\n",
       "    .dataframe thead th {\n",
       "        text-align: right;\n",
       "    }\n",
       "</style>\n",
       "<table border=\"1\" class=\"dataframe\">\n",
       "  <thead>\n",
       "    <tr style=\"text-align: right;\">\n",
       "      <th></th>\n",
       "      <th>수학</th>\n",
       "      <th>영어</th>\n",
       "      <th>음악</th>\n",
       "      <th>체육</th>\n",
       "    </tr>\n",
       "    <tr>\n",
       "      <th>이름</th>\n",
       "      <th></th>\n",
       "      <th></th>\n",
       "      <th></th>\n",
       "      <th></th>\n",
       "    </tr>\n",
       "  </thead>\n",
       "  <tbody>\n",
       "    <tr>\n",
       "      <th>서준</th>\n",
       "      <td>90</td>\n",
       "      <td>98</td>\n",
       "      <td>85</td>\n",
       "      <td>100</td>\n",
       "    </tr>\n",
       "    <tr>\n",
       "      <th>우현</th>\n",
       "      <td>80</td>\n",
       "      <td>89</td>\n",
       "      <td>95</td>\n",
       "      <td>90</td>\n",
       "    </tr>\n",
       "    <tr>\n",
       "      <th>인아</th>\n",
       "      <td>70</td>\n",
       "      <td>75</td>\n",
       "      <td>100</td>\n",
       "      <td>90</td>\n",
       "    </tr>\n",
       "  </tbody>\n",
       "</table>\n",
       "</div>"
      ],
      "text/plain": [
       "    수학  영어   음악   체육\n",
       "이름                  \n",
       "서준  90  98   85  100\n",
       "우현  80  89   95   90\n",
       "인아  70  75  100   90"
      ]
     },
     "execution_count": 216,
     "metadata": {},
     "output_type": "execute_result"
    }
   ],
   "source": [
    "ndf"
   ]
  },
  {
   "cell_type": "markdown",
   "id": "9c1914d0",
   "metadata": {},
   "source": [
    "## 행 인덱스 재배열\n",
    "\n",
    "- reindex()\n",
    "    - 행 인덱스를 새로운 배열로 재지정\n",
    "\n",
    "- 기존 객체를 변경하지 않고 새로운 데이터프레임 객체를 반환\n",
    "- 기존 데이터프레임에 존재하지 않는 행 인덱스가 새롭게 추가되는 경우\n",
    "- df.reindex(새로운 인덱스 배열)"
   ]
  },
  {
   "cell_type": "code",
   "execution_count": 217,
   "id": "b3bd6784",
   "metadata": {},
   "outputs": [],
   "source": [
    "dict_data = {\"c0\" : [1, 2, 3], \"c1\" : [4, 5, 6], \"c3\" : [7, 8, 9]}\n",
    "df = pd.DataFrame(dict_data, index = [\"r0\", \"r1\", \"r2\"])"
   ]
  },
  {
   "cell_type": "code",
   "execution_count": 218,
   "id": "029a876e",
   "metadata": {},
   "outputs": [
    {
     "data": {
      "text/html": [
       "<div>\n",
       "<style scoped>\n",
       "    .dataframe tbody tr th:only-of-type {\n",
       "        vertical-align: middle;\n",
       "    }\n",
       "\n",
       "    .dataframe tbody tr th {\n",
       "        vertical-align: top;\n",
       "    }\n",
       "\n",
       "    .dataframe thead th {\n",
       "        text-align: right;\n",
       "    }\n",
       "</style>\n",
       "<table border=\"1\" class=\"dataframe\">\n",
       "  <thead>\n",
       "    <tr style=\"text-align: right;\">\n",
       "      <th></th>\n",
       "      <th>c0</th>\n",
       "      <th>c1</th>\n",
       "      <th>c3</th>\n",
       "    </tr>\n",
       "  </thead>\n",
       "  <tbody>\n",
       "    <tr>\n",
       "      <th>r0</th>\n",
       "      <td>1</td>\n",
       "      <td>4</td>\n",
       "      <td>7</td>\n",
       "    </tr>\n",
       "    <tr>\n",
       "      <th>r1</th>\n",
       "      <td>2</td>\n",
       "      <td>5</td>\n",
       "      <td>8</td>\n",
       "    </tr>\n",
       "    <tr>\n",
       "      <th>r2</th>\n",
       "      <td>3</td>\n",
       "      <td>6</td>\n",
       "      <td>9</td>\n",
       "    </tr>\n",
       "  </tbody>\n",
       "</table>\n",
       "</div>"
      ],
      "text/plain": [
       "    c0  c1  c3\n",
       "r0   1   4   7\n",
       "r1   2   5   8\n",
       "r2   3   6   9"
      ]
     },
     "execution_count": 218,
     "metadata": {},
     "output_type": "execute_result"
    }
   ],
   "source": [
    "df"
   ]
  },
  {
   "cell_type": "code",
   "execution_count": 226,
   "id": "411d5f06",
   "metadata": {},
   "outputs": [],
   "source": [
    "# 인덱스 재지정\n",
    "new_index = [\"r0\", \"r1\", \"r2\", \"r3\", \"r4\"]\n",
    "ndf = df.reindex(new_index)"
   ]
  },
  {
   "cell_type": "code",
   "execution_count": 227,
   "id": "8e6666cf",
   "metadata": {},
   "outputs": [
    {
     "data": {
      "text/html": [
       "<div>\n",
       "<style scoped>\n",
       "    .dataframe tbody tr th:only-of-type {\n",
       "        vertical-align: middle;\n",
       "    }\n",
       "\n",
       "    .dataframe tbody tr th {\n",
       "        vertical-align: top;\n",
       "    }\n",
       "\n",
       "    .dataframe thead th {\n",
       "        text-align: right;\n",
       "    }\n",
       "</style>\n",
       "<table border=\"1\" class=\"dataframe\">\n",
       "  <thead>\n",
       "    <tr style=\"text-align: right;\">\n",
       "      <th></th>\n",
       "      <th>c0</th>\n",
       "      <th>c1</th>\n",
       "      <th>c3</th>\n",
       "    </tr>\n",
       "  </thead>\n",
       "  <tbody>\n",
       "    <tr>\n",
       "      <th>r0</th>\n",
       "      <td>1.0</td>\n",
       "      <td>4.0</td>\n",
       "      <td>7.0</td>\n",
       "    </tr>\n",
       "    <tr>\n",
       "      <th>r1</th>\n",
       "      <td>2.0</td>\n",
       "      <td>5.0</td>\n",
       "      <td>8.0</td>\n",
       "    </tr>\n",
       "    <tr>\n",
       "      <th>r2</th>\n",
       "      <td>3.0</td>\n",
       "      <td>6.0</td>\n",
       "      <td>9.0</td>\n",
       "    </tr>\n",
       "    <tr>\n",
       "      <th>r3</th>\n",
       "      <td>NaN</td>\n",
       "      <td>NaN</td>\n",
       "      <td>NaN</td>\n",
       "    </tr>\n",
       "    <tr>\n",
       "      <th>r4</th>\n",
       "      <td>NaN</td>\n",
       "      <td>NaN</td>\n",
       "      <td>NaN</td>\n",
       "    </tr>\n",
       "  </tbody>\n",
       "</table>\n",
       "</div>"
      ],
      "text/plain": [
       "     c0   c1   c3\n",
       "r0  1.0  4.0  7.0\n",
       "r1  2.0  5.0  8.0\n",
       "r2  3.0  6.0  9.0\n",
       "r3  NaN  NaN  NaN\n",
       "r4  NaN  NaN  NaN"
      ]
     },
     "execution_count": 227,
     "metadata": {},
     "output_type": "execute_result"
    }
   ],
   "source": [
    "ndf"
   ]
  },
  {
   "cell_type": "markdown",
   "id": "713d32aa",
   "metadata": {},
   "source": [
    "- 존재하지 않는 행에 인덱스가 추가되는 경우\n",
    "    - 그 행의 데이터는 NaN 값이 입력\n",
    "        - NaN : Not a Number. 유효한 값이 존재하지 않는 누락 데이터"
   ]
  },
  {
   "cell_type": "code",
   "execution_count": 234,
   "id": "8f52ba89",
   "metadata": {},
   "outputs": [],
   "source": [
    "# reindex로 발생하는 NaN 값을 0으로 채우기\n",
    "ndf2 = df.reindex(new_index, fill_value = 0)"
   ]
  },
  {
   "cell_type": "code",
   "execution_count": 236,
   "id": "e076f1e7",
   "metadata": {},
   "outputs": [
    {
     "data": {
      "text/html": [
       "<div>\n",
       "<style scoped>\n",
       "    .dataframe tbody tr th:only-of-type {\n",
       "        vertical-align: middle;\n",
       "    }\n",
       "\n",
       "    .dataframe tbody tr th {\n",
       "        vertical-align: top;\n",
       "    }\n",
       "\n",
       "    .dataframe thead th {\n",
       "        text-align: right;\n",
       "    }\n",
       "</style>\n",
       "<table border=\"1\" class=\"dataframe\">\n",
       "  <thead>\n",
       "    <tr style=\"text-align: right;\">\n",
       "      <th></th>\n",
       "      <th>c0</th>\n",
       "      <th>c1</th>\n",
       "      <th>c3</th>\n",
       "    </tr>\n",
       "  </thead>\n",
       "  <tbody>\n",
       "    <tr>\n",
       "      <th>r0</th>\n",
       "      <td>1</td>\n",
       "      <td>4</td>\n",
       "      <td>7</td>\n",
       "    </tr>\n",
       "    <tr>\n",
       "      <th>r1</th>\n",
       "      <td>2</td>\n",
       "      <td>5</td>\n",
       "      <td>8</td>\n",
       "    </tr>\n",
       "    <tr>\n",
       "      <th>r2</th>\n",
       "      <td>3</td>\n",
       "      <td>6</td>\n",
       "      <td>9</td>\n",
       "    </tr>\n",
       "    <tr>\n",
       "      <th>r3</th>\n",
       "      <td>0</td>\n",
       "      <td>0</td>\n",
       "      <td>0</td>\n",
       "    </tr>\n",
       "    <tr>\n",
       "      <th>r4</th>\n",
       "      <td>0</td>\n",
       "      <td>0</td>\n",
       "      <td>0</td>\n",
       "    </tr>\n",
       "  </tbody>\n",
       "</table>\n",
       "</div>"
      ],
      "text/plain": [
       "    c0  c1  c3\n",
       "r0   1   4   7\n",
       "r1   2   5   8\n",
       "r2   3   6   9\n",
       "r3   0   0   0\n",
       "r4   0   0   0"
      ]
     },
     "execution_count": 236,
     "metadata": {},
     "output_type": "execute_result"
    }
   ],
   "source": [
    "ndf2"
   ]
  },
  {
   "cell_type": "markdown",
   "id": "b1732a07",
   "metadata": {},
   "source": [
    "#### 행 인덱스 초기화\n",
    "\n",
    "- reset_index()\n",
    "    - 행 인덱스를 정수형 위치 인덱스로 초기화\n",
    "    - 기존 행 인덱스는 열로 이동\n",
    "- 새로운 데이터프레임 객체를 반환"
   ]
  },
  {
   "cell_type": "code",
   "execution_count": 237,
   "id": "7edd0991",
   "metadata": {},
   "outputs": [
    {
     "data": {
      "text/html": [
       "<div>\n",
       "<style scoped>\n",
       "    .dataframe tbody tr th:only-of-type {\n",
       "        vertical-align: middle;\n",
       "    }\n",
       "\n",
       "    .dataframe tbody tr th {\n",
       "        vertical-align: top;\n",
       "    }\n",
       "\n",
       "    .dataframe thead th {\n",
       "        text-align: right;\n",
       "    }\n",
       "</style>\n",
       "<table border=\"1\" class=\"dataframe\">\n",
       "  <thead>\n",
       "    <tr style=\"text-align: right;\">\n",
       "      <th></th>\n",
       "      <th>c0</th>\n",
       "      <th>c1</th>\n",
       "      <th>c3</th>\n",
       "    </tr>\n",
       "  </thead>\n",
       "  <tbody>\n",
       "    <tr>\n",
       "      <th>r0</th>\n",
       "      <td>1</td>\n",
       "      <td>4</td>\n",
       "      <td>7</td>\n",
       "    </tr>\n",
       "    <tr>\n",
       "      <th>r1</th>\n",
       "      <td>2</td>\n",
       "      <td>5</td>\n",
       "      <td>8</td>\n",
       "    </tr>\n",
       "    <tr>\n",
       "      <th>r2</th>\n",
       "      <td>3</td>\n",
       "      <td>6</td>\n",
       "      <td>9</td>\n",
       "    </tr>\n",
       "  </tbody>\n",
       "</table>\n",
       "</div>"
      ],
      "text/plain": [
       "    c0  c1  c3\n",
       "r0   1   4   7\n",
       "r1   2   5   8\n",
       "r2   3   6   9"
      ]
     },
     "execution_count": 237,
     "metadata": {},
     "output_type": "execute_result"
    }
   ],
   "source": [
    "df"
   ]
  },
  {
   "cell_type": "code",
   "execution_count": 238,
   "id": "11a13d39",
   "metadata": {},
   "outputs": [
    {
     "data": {
      "text/html": [
       "<div>\n",
       "<style scoped>\n",
       "    .dataframe tbody tr th:only-of-type {\n",
       "        vertical-align: middle;\n",
       "    }\n",
       "\n",
       "    .dataframe tbody tr th {\n",
       "        vertical-align: top;\n",
       "    }\n",
       "\n",
       "    .dataframe thead th {\n",
       "        text-align: right;\n",
       "    }\n",
       "</style>\n",
       "<table border=\"1\" class=\"dataframe\">\n",
       "  <thead>\n",
       "    <tr style=\"text-align: right;\">\n",
       "      <th></th>\n",
       "      <th>index</th>\n",
       "      <th>c0</th>\n",
       "      <th>c1</th>\n",
       "      <th>c3</th>\n",
       "    </tr>\n",
       "  </thead>\n",
       "  <tbody>\n",
       "    <tr>\n",
       "      <th>0</th>\n",
       "      <td>r0</td>\n",
       "      <td>1</td>\n",
       "      <td>4</td>\n",
       "      <td>7</td>\n",
       "    </tr>\n",
       "    <tr>\n",
       "      <th>1</th>\n",
       "      <td>r1</td>\n",
       "      <td>2</td>\n",
       "      <td>5</td>\n",
       "      <td>8</td>\n",
       "    </tr>\n",
       "    <tr>\n",
       "      <th>2</th>\n",
       "      <td>r2</td>\n",
       "      <td>3</td>\n",
       "      <td>6</td>\n",
       "      <td>9</td>\n",
       "    </tr>\n",
       "  </tbody>\n",
       "</table>\n",
       "</div>"
      ],
      "text/plain": [
       "  index  c0  c1  c3\n",
       "0    r0   1   4   7\n",
       "1    r1   2   5   8\n",
       "2    r2   3   6   9"
      ]
     },
     "execution_count": 238,
     "metadata": {},
     "output_type": "execute_result"
    }
   ],
   "source": [
    "# 행 인덱스를 정수형으로 초기화\n",
    "ndf = df.reset_index()\n",
    "ndf"
   ]
  },
  {
   "cell_type": "markdown",
   "id": "707e6861",
   "metadata": {},
   "source": [
    "## 행 인덱스를 기준으로 데이터프레임 정렬\n",
    "\n",
    "- sort_index()\n",
    "    - 행 인덱스를 기준으로 데이터프레임의 값을 정렬\n",
    "    - ascending 옵션을 사용하여 정렬옵션(오름차순, 내림차순) 설정\n",
    "        - ascending = False\n",
    "            - 내림차순\n",
    "        - ascending = True\n",
    "            - 오름차순\n",
    "        - 기본값은 오름차순\n",
    "- 새롭게 정렬된 데이터프레임을 반환"
   ]
  },
  {
   "cell_type": "code",
   "execution_count": 239,
   "id": "777b12ff",
   "metadata": {},
   "outputs": [
    {
     "data": {
      "text/html": [
       "<div>\n",
       "<style scoped>\n",
       "    .dataframe tbody tr th:only-of-type {\n",
       "        vertical-align: middle;\n",
       "    }\n",
       "\n",
       "    .dataframe tbody tr th {\n",
       "        vertical-align: top;\n",
       "    }\n",
       "\n",
       "    .dataframe thead th {\n",
       "        text-align: right;\n",
       "    }\n",
       "</style>\n",
       "<table border=\"1\" class=\"dataframe\">\n",
       "  <thead>\n",
       "    <tr style=\"text-align: right;\">\n",
       "      <th></th>\n",
       "      <th>c0</th>\n",
       "      <th>c1</th>\n",
       "      <th>c3</th>\n",
       "    </tr>\n",
       "  </thead>\n",
       "  <tbody>\n",
       "    <tr>\n",
       "      <th>r0</th>\n",
       "      <td>1</td>\n",
       "      <td>4</td>\n",
       "      <td>7</td>\n",
       "    </tr>\n",
       "    <tr>\n",
       "      <th>r1</th>\n",
       "      <td>2</td>\n",
       "      <td>5</td>\n",
       "      <td>8</td>\n",
       "    </tr>\n",
       "    <tr>\n",
       "      <th>r2</th>\n",
       "      <td>3</td>\n",
       "      <td>6</td>\n",
       "      <td>9</td>\n",
       "    </tr>\n",
       "  </tbody>\n",
       "</table>\n",
       "</div>"
      ],
      "text/plain": [
       "    c0  c1  c3\n",
       "r0   1   4   7\n",
       "r1   2   5   8\n",
       "r2   3   6   9"
      ]
     },
     "execution_count": 239,
     "metadata": {},
     "output_type": "execute_result"
    }
   ],
   "source": [
    "df"
   ]
  },
  {
   "cell_type": "code",
   "execution_count": 240,
   "id": "9195b0e9",
   "metadata": {},
   "outputs": [
    {
     "data": {
      "text/html": [
       "<div>\n",
       "<style scoped>\n",
       "    .dataframe tbody tr th:only-of-type {\n",
       "        vertical-align: middle;\n",
       "    }\n",
       "\n",
       "    .dataframe tbody tr th {\n",
       "        vertical-align: top;\n",
       "    }\n",
       "\n",
       "    .dataframe thead th {\n",
       "        text-align: right;\n",
       "    }\n",
       "</style>\n",
       "<table border=\"1\" class=\"dataframe\">\n",
       "  <thead>\n",
       "    <tr style=\"text-align: right;\">\n",
       "      <th></th>\n",
       "      <th>c0</th>\n",
       "      <th>c1</th>\n",
       "      <th>c3</th>\n",
       "    </tr>\n",
       "  </thead>\n",
       "  <tbody>\n",
       "    <tr>\n",
       "      <th>r2</th>\n",
       "      <td>3</td>\n",
       "      <td>6</td>\n",
       "      <td>9</td>\n",
       "    </tr>\n",
       "    <tr>\n",
       "      <th>r1</th>\n",
       "      <td>2</td>\n",
       "      <td>5</td>\n",
       "      <td>8</td>\n",
       "    </tr>\n",
       "    <tr>\n",
       "      <th>r0</th>\n",
       "      <td>1</td>\n",
       "      <td>4</td>\n",
       "      <td>7</td>\n",
       "    </tr>\n",
       "  </tbody>\n",
       "</table>\n",
       "</div>"
      ],
      "text/plain": [
       "    c0  c1  c3\n",
       "r2   3   6   9\n",
       "r1   2   5   8\n",
       "r0   1   4   7"
      ]
     },
     "execution_count": 240,
     "metadata": {},
     "output_type": "execute_result"
    }
   ],
   "source": [
    "# 내림차순으로 행 인덱스 정렬\n",
    "ndf = df.sort_index(ascending = False)\n",
    "ndf"
   ]
  },
  {
   "cell_type": "markdown",
   "id": "9770fcdf",
   "metadata": {},
   "source": [
    "#### 특정 열의 데이터 값을 기준으로 데이터프레임 정렬\n",
    "\n",
    "- sort_values()\n",
    "    - 특정 열의 데이터를 기준으로 데이터프레임 정렬\n",
    "    - ascending 옵션을 사용하여 정렬옵션 설정 "
   ]
  },
  {
   "cell_type": "code",
   "execution_count": 241,
   "id": "42a3063c",
   "metadata": {},
   "outputs": [
    {
     "data": {
      "text/html": [
       "<div>\n",
       "<style scoped>\n",
       "    .dataframe tbody tr th:only-of-type {\n",
       "        vertical-align: middle;\n",
       "    }\n",
       "\n",
       "    .dataframe tbody tr th {\n",
       "        vertical-align: top;\n",
       "    }\n",
       "\n",
       "    .dataframe thead th {\n",
       "        text-align: right;\n",
       "    }\n",
       "</style>\n",
       "<table border=\"1\" class=\"dataframe\">\n",
       "  <thead>\n",
       "    <tr style=\"text-align: right;\">\n",
       "      <th></th>\n",
       "      <th>c0</th>\n",
       "      <th>c1</th>\n",
       "      <th>c3</th>\n",
       "    </tr>\n",
       "  </thead>\n",
       "  <tbody>\n",
       "    <tr>\n",
       "      <th>r0</th>\n",
       "      <td>1</td>\n",
       "      <td>4</td>\n",
       "      <td>7</td>\n",
       "    </tr>\n",
       "    <tr>\n",
       "      <th>r1</th>\n",
       "      <td>2</td>\n",
       "      <td>5</td>\n",
       "      <td>8</td>\n",
       "    </tr>\n",
       "    <tr>\n",
       "      <th>r2</th>\n",
       "      <td>3</td>\n",
       "      <td>6</td>\n",
       "      <td>9</td>\n",
       "    </tr>\n",
       "  </tbody>\n",
       "</table>\n",
       "</div>"
      ],
      "text/plain": [
       "    c0  c1  c3\n",
       "r0   1   4   7\n",
       "r1   2   5   8\n",
       "r2   3   6   9"
      ]
     },
     "execution_count": 241,
     "metadata": {},
     "output_type": "execute_result"
    }
   ],
   "source": [
    "df"
   ]
  },
  {
   "cell_type": "code",
   "execution_count": 242,
   "id": "a8cb79d6",
   "metadata": {},
   "outputs": [
    {
     "data": {
      "text/html": [
       "<div>\n",
       "<style scoped>\n",
       "    .dataframe tbody tr th:only-of-type {\n",
       "        vertical-align: middle;\n",
       "    }\n",
       "\n",
       "    .dataframe tbody tr th {\n",
       "        vertical-align: top;\n",
       "    }\n",
       "\n",
       "    .dataframe thead th {\n",
       "        text-align: right;\n",
       "    }\n",
       "</style>\n",
       "<table border=\"1\" class=\"dataframe\">\n",
       "  <thead>\n",
       "    <tr style=\"text-align: right;\">\n",
       "      <th></th>\n",
       "      <th>c0</th>\n",
       "      <th>c1</th>\n",
       "      <th>c3</th>\n",
       "    </tr>\n",
       "  </thead>\n",
       "  <tbody>\n",
       "    <tr>\n",
       "      <th>r2</th>\n",
       "      <td>3</td>\n",
       "      <td>6</td>\n",
       "      <td>9</td>\n",
       "    </tr>\n",
       "    <tr>\n",
       "      <th>r1</th>\n",
       "      <td>2</td>\n",
       "      <td>5</td>\n",
       "      <td>8</td>\n",
       "    </tr>\n",
       "    <tr>\n",
       "      <th>r0</th>\n",
       "      <td>1</td>\n",
       "      <td>4</td>\n",
       "      <td>7</td>\n",
       "    </tr>\n",
       "  </tbody>\n",
       "</table>\n",
       "</div>"
      ],
      "text/plain": [
       "    c0  c1  c3\n",
       "r2   3   6   9\n",
       "r1   2   5   8\n",
       "r0   1   4   7"
      ]
     },
     "execution_count": 242,
     "metadata": {},
     "output_type": "execute_result"
    }
   ],
   "source": [
    "# c1 열을 기준으로 내림차순 정렬\n",
    "ndf = df.sort_values(by = \"c1\", ascending = False)\n",
    "ndf"
   ]
  },
  {
   "cell_type": "markdown",
   "id": "a0f6670e",
   "metadata": {},
   "source": [
    "# 산술연산\n",
    "\n",
    "- 판다스 객체의 산술연산은 내부적으로 3단계 프로세스\n",
    "    1. 행/열 인덱스를 기준으로 모든 원소를 정렬\n",
    "    2. 동일한 위치에 있는 원소끼리 일대일로 대응\n",
    "    3. 일대응 대응이 되는 원소끼리 연산 처리\n",
    "        - 대응되는 원소가 없으면 NaN 처리"
   ]
  },
  {
   "cell_type": "markdown",
   "id": "10ab4632",
   "metadata": {},
   "source": [
    "## 시리즈 연산"
   ]
  },
  {
   "cell_type": "markdown",
   "id": "273b23f0",
   "metadata": {},
   "source": [
    "### 시리즈와 숫자\n",
    "\n",
    "- 시리즈 객체에 숫자를 더하면 시리즈의 개별 원소에 각각 숫자를 더하고 계산한 결과를 시리즈 객체로 반환\n",
    "- 덧셈, 뺄셈, 곱셈, 나눗셈 모두 가능"
   ]
  },
  {
   "cell_type": "code",
   "execution_count": 243,
   "id": "016352ac",
   "metadata": {},
   "outputs": [],
   "source": [
    "student1 = pd.Series({\"국어\":100, \"영어\":80, \"수학\":90})"
   ]
  },
  {
   "cell_type": "code",
   "execution_count": 244,
   "id": "e920fe4a",
   "metadata": {},
   "outputs": [
    {
     "data": {
      "text/plain": [
       "국어    100\n",
       "영어     80\n",
       "수학     90\n",
       "dtype: int64"
      ]
     },
     "execution_count": 244,
     "metadata": {},
     "output_type": "execute_result"
    }
   ],
   "source": [
    "student1"
   ]
  },
  {
   "cell_type": "code",
   "execution_count": 245,
   "id": "01901f29",
   "metadata": {},
   "outputs": [
    {
     "data": {
      "text/plain": [
       "국어    0.50\n",
       "영어    0.40\n",
       "수학    0.45\n",
       "dtype: float64"
      ]
     },
     "execution_count": 245,
     "metadata": {},
     "output_type": "execute_result"
    }
   ],
   "source": [
    "percentage = student1 / 200\n",
    "percentage"
   ]
  },
  {
   "cell_type": "code",
   "execution_count": 246,
   "id": "8d648283",
   "metadata": {},
   "outputs": [
    {
     "data": {
      "text/plain": [
       "pandas.core.series.Series"
      ]
     },
     "execution_count": 246,
     "metadata": {},
     "output_type": "execute_result"
    }
   ],
   "source": [
    "type(percentage)"
   ]
  },
  {
   "cell_type": "markdown",
   "id": "b6c9c858",
   "metadata": {},
   "source": [
    "### 시리즈와 시리즈\n",
    "\n",
    "- 같은 인덱스를 가진 원소끼리 계산\n",
    "- 인덱스에 연산 결과를 매칭하여 새 시리즈를 반환"
   ]
  },
  {
   "cell_type": "code",
   "execution_count": 258,
   "id": "61635c41",
   "metadata": {},
   "outputs": [],
   "source": [
    "student2 = pd.Series({\"수학\":80, \"국어\":90, \"영어\":80})"
   ]
  },
  {
   "cell_type": "code",
   "execution_count": 259,
   "id": "7c4e0cac",
   "metadata": {},
   "outputs": [
    {
     "data": {
      "text/plain": [
       "국어    100\n",
       "영어     80\n",
       "수학     90\n",
       "dtype: int64"
      ]
     },
     "execution_count": 259,
     "metadata": {},
     "output_type": "execute_result"
    }
   ],
   "source": [
    "student1"
   ]
  },
  {
   "cell_type": "code",
   "execution_count": 260,
   "id": "79dac614",
   "metadata": {},
   "outputs": [
    {
     "data": {
      "text/plain": [
       "수학    80\n",
       "국어    90\n",
       "영어    80\n",
       "dtype: int64"
      ]
     },
     "execution_count": 260,
     "metadata": {},
     "output_type": "execute_result"
    }
   ],
   "source": [
    "student2"
   ]
  },
  {
   "cell_type": "code",
   "execution_count": 261,
   "id": "95eb0cb5",
   "metadata": {},
   "outputs": [],
   "source": [
    "# 두 학생의 과목별 점수로 사칙연산 수행\n",
    "add = student1 + student2 # 뎃셈\n",
    "sub = student1 - student2 # 뺄셈\n",
    "mul = student1 * student2 # 곱셈\n",
    "div = student1 / student2 # 나눗셈"
   ]
  },
  {
   "cell_type": "code",
   "execution_count": 262,
   "id": "6fe79f2b",
   "metadata": {
    "scrolled": true
   },
   "outputs": [
    {
     "data": {
      "text/html": [
       "<div>\n",
       "<style scoped>\n",
       "    .dataframe tbody tr th:only-of-type {\n",
       "        vertical-align: middle;\n",
       "    }\n",
       "\n",
       "    .dataframe tbody tr th {\n",
       "        vertical-align: top;\n",
       "    }\n",
       "\n",
       "    .dataframe thead th {\n",
       "        text-align: right;\n",
       "    }\n",
       "</style>\n",
       "<table border=\"1\" class=\"dataframe\">\n",
       "  <thead>\n",
       "    <tr style=\"text-align: right;\">\n",
       "      <th></th>\n",
       "      <th>국어</th>\n",
       "      <th>수학</th>\n",
       "      <th>영어</th>\n",
       "    </tr>\n",
       "  </thead>\n",
       "  <tbody>\n",
       "    <tr>\n",
       "      <th>덧셈</th>\n",
       "      <td>190.000000</td>\n",
       "      <td>170.000</td>\n",
       "      <td>160.0</td>\n",
       "    </tr>\n",
       "    <tr>\n",
       "      <th>뺄셈</th>\n",
       "      <td>10.000000</td>\n",
       "      <td>10.000</td>\n",
       "      <td>0.0</td>\n",
       "    </tr>\n",
       "    <tr>\n",
       "      <th>곱셈</th>\n",
       "      <td>9000.000000</td>\n",
       "      <td>7200.000</td>\n",
       "      <td>6400.0</td>\n",
       "    </tr>\n",
       "    <tr>\n",
       "      <th>나눗셈</th>\n",
       "      <td>1.111111</td>\n",
       "      <td>1.125</td>\n",
       "      <td>1.0</td>\n",
       "    </tr>\n",
       "  </tbody>\n",
       "</table>\n",
       "</div>"
      ],
      "text/plain": [
       "              국어        수학      영어\n",
       "덧셈    190.000000   170.000   160.0\n",
       "뺄셈     10.000000    10.000     0.0\n",
       "곱셈   9000.000000  7200.000  6400.0\n",
       "나눗셈     1.111111     1.125     1.0"
      ]
     },
     "execution_count": 262,
     "metadata": {},
     "output_type": "execute_result"
    }
   ],
   "source": [
    "# 사칙연산 결과를 데이터프레임으로 합치기(시리즈 -> 데이터프레임)\n",
    "result = pd.DataFrame([add, sub, mul, div], index = [\"덧셈\", \"뺄셈\", \"곱셈\", \"나눗셈\"])\n",
    "result"
   ]
  },
  {
   "cell_type": "markdown",
   "id": "8704678d",
   "metadata": {},
   "source": [
    "- 인덱스로 주어진 과목명의 순서가 다르지만 판다스는 같은 과목명을 찾아 정렬한 후 같은 과목명의 점수끼리 연산을 수행\n",
    "- 연산을 하는 두 시리즈의 원소 개수가 다르거나 인덱스 값이 다른 경우\n",
    "    - 정상적으로 연산 처리 불가능\n",
    "        - NaN"
   ]
  },
  {
   "cell_type": "code",
   "execution_count": 263,
   "id": "63abcb07",
   "metadata": {},
   "outputs": [],
   "source": [
    "# NaN 값이 있는 시리즈 연산 \n",
    "student1 = pd.Series({\"국어\":np.nan, \"영어\":80, \"수학\":90})\n",
    "student2 = pd.Series({\"수학\":80, \"국어\":90})"
   ]
  },
  {
   "cell_type": "code",
   "execution_count": 264,
   "id": "1beebf96",
   "metadata": {},
   "outputs": [
    {
     "data": {
      "text/plain": [
       "국어     NaN\n",
       "영어    80.0\n",
       "수학    90.0\n",
       "dtype: float64"
      ]
     },
     "execution_count": 264,
     "metadata": {},
     "output_type": "execute_result"
    }
   ],
   "source": [
    "student1"
   ]
  },
  {
   "cell_type": "code",
   "execution_count": 265,
   "id": "1840687c",
   "metadata": {},
   "outputs": [
    {
     "data": {
      "text/plain": [
       "수학    80\n",
       "국어    90\n",
       "dtype: int64"
      ]
     },
     "execution_count": 265,
     "metadata": {},
     "output_type": "execute_result"
    }
   ],
   "source": [
    "student2"
   ]
  },
  {
   "cell_type": "code",
   "execution_count": 266,
   "id": "312ea8c7",
   "metadata": {},
   "outputs": [
    {
     "data": {
      "text/plain": [
       "국어      NaN\n",
       "수학    170.0\n",
       "영어      NaN\n",
       "dtype: float64"
      ]
     },
     "execution_count": 266,
     "metadata": {},
     "output_type": "execute_result"
    }
   ],
   "source": [
    "student1 + student2 "
   ]
  },
  {
   "cell_type": "markdown",
   "id": "9143a36f",
   "metadata": {},
   "source": [
    "### 연산 메소드\n",
    "\n",
    "- 결과가 NaN으로 반환되는 상황을 피하기 위해 연산 메소드에 fill_value 옵션을 설정"
   ]
  },
  {
   "cell_type": "code",
   "execution_count": 267,
   "id": "0ee8a64a",
   "metadata": {},
   "outputs": [
    {
     "data": {
      "text/plain": [
       "국어     NaN\n",
       "영어    80.0\n",
       "수학    90.0\n",
       "dtype: float64"
      ]
     },
     "execution_count": 267,
     "metadata": {},
     "output_type": "execute_result"
    }
   ],
   "source": [
    "student1"
   ]
  },
  {
   "cell_type": "code",
   "execution_count": 268,
   "id": "dd971f61",
   "metadata": {},
   "outputs": [
    {
     "data": {
      "text/plain": [
       "수학    80\n",
       "국어    90\n",
       "dtype: int64"
      ]
     },
     "execution_count": 268,
     "metadata": {},
     "output_type": "execute_result"
    }
   ],
   "source": [
    "student2"
   ]
  },
  {
   "cell_type": "code",
   "execution_count": 271,
   "id": "0aa3135e",
   "metadata": {},
   "outputs": [
    {
     "data": {
      "text/plain": [
       "국어     90.0\n",
       "수학    170.0\n",
       "영어     80.0\n",
       "dtype: float64"
      ]
     },
     "execution_count": 271,
     "metadata": {},
     "output_type": "execute_result"
    }
   ],
   "source": [
    "student1.add(student2, fill_value = 0) # 덧셈"
   ]
  },
  {
   "cell_type": "code",
   "execution_count": 272,
   "id": "bd21795a",
   "metadata": {},
   "outputs": [
    {
     "data": {
      "text/plain": [
       "국어   -90.0\n",
       "수학    10.0\n",
       "영어    80.0\n",
       "dtype: float64"
      ]
     },
     "execution_count": 272,
     "metadata": {},
     "output_type": "execute_result"
    }
   ],
   "source": [
    "student1.sub(student2, fill_value = 0) # 뺄셈"
   ]
  },
  {
   "cell_type": "code",
   "execution_count": 273,
   "id": "dfcc2bcd",
   "metadata": {},
   "outputs": [
    {
     "data": {
      "text/plain": [
       "국어       0.0\n",
       "수학    7200.0\n",
       "영어       0.0\n",
       "dtype: float64"
      ]
     },
     "execution_count": 273,
     "metadata": {},
     "output_type": "execute_result"
    }
   ],
   "source": [
    "student1.mul(student2, fill_value = 0) # 곱셈"
   ]
  },
  {
   "cell_type": "code",
   "execution_count": 274,
   "id": "69172062",
   "metadata": {},
   "outputs": [
    {
     "data": {
      "text/plain": [
       "국어    0.000\n",
       "수학    1.125\n",
       "영어      inf\n",
       "dtype: float64"
      ]
     },
     "execution_count": 274,
     "metadata": {},
     "output_type": "execute_result"
    }
   ],
   "source": [
    "student1.div(student2, fill_value = 0) # 나눗셈"
   ]
  },
  {
   "cell_type": "markdown",
   "id": "5f84548d",
   "metadata": {},
   "source": [
    "## 데이터프레임 연산\n",
    "\n",
    "- 데이터프레임은 여러 시리즈가 모인 것이므로 시리즈 연산을 확장하는 개념\n",
    "- 행/열 인덱스를 기준으로 정렬하고 일대일 대응되는 원소끼리 연산 처리"
   ]
  },
  {
   "cell_type": "markdown",
   "id": "90888f78",
   "metadata": {},
   "source": [
    "### 데이터프레임과 숫자\n",
    "\n",
    "- 모든 원소에 숫자를 계산\n",
    "- 기존 데이터프레임의 형태를 그대로 유지한 채 원소 값만 새로운 계산으로 바뀜\n",
    "- 새로운 데이터프레임 객체로 반환"
   ]
  },
  {
   "cell_type": "code",
   "execution_count": 277,
   "id": "3d01a697",
   "metadata": {},
   "outputs": [],
   "source": [
    "# titanic 데이터셋에서 age, fore 2개의 열을 선택\n",
    "titanic = sns.load_dataset(\"titanic\")\n",
    "df = titanic[[\"age\", \"fare\"]]"
   ]
  },
  {
   "cell_type": "code",
   "execution_count": 279,
   "id": "d72217c9",
   "metadata": {},
   "outputs": [
    {
     "data": {
      "text/html": [
       "<div>\n",
       "<style scoped>\n",
       "    .dataframe tbody tr th:only-of-type {\n",
       "        vertical-align: middle;\n",
       "    }\n",
       "\n",
       "    .dataframe tbody tr th {\n",
       "        vertical-align: top;\n",
       "    }\n",
       "\n",
       "    .dataframe thead th {\n",
       "        text-align: right;\n",
       "    }\n",
       "</style>\n",
       "<table border=\"1\" class=\"dataframe\">\n",
       "  <thead>\n",
       "    <tr style=\"text-align: right;\">\n",
       "      <th></th>\n",
       "      <th>age</th>\n",
       "      <th>fare</th>\n",
       "    </tr>\n",
       "  </thead>\n",
       "  <tbody>\n",
       "    <tr>\n",
       "      <th>0</th>\n",
       "      <td>22.0</td>\n",
       "      <td>7.2500</td>\n",
       "    </tr>\n",
       "    <tr>\n",
       "      <th>1</th>\n",
       "      <td>38.0</td>\n",
       "      <td>71.2833</td>\n",
       "    </tr>\n",
       "    <tr>\n",
       "      <th>2</th>\n",
       "      <td>26.0</td>\n",
       "      <td>7.9250</td>\n",
       "    </tr>\n",
       "    <tr>\n",
       "      <th>3</th>\n",
       "      <td>35.0</td>\n",
       "      <td>53.1000</td>\n",
       "    </tr>\n",
       "    <tr>\n",
       "      <th>4</th>\n",
       "      <td>35.0</td>\n",
       "      <td>8.0500</td>\n",
       "    </tr>\n",
       "  </tbody>\n",
       "</table>\n",
       "</div>"
      ],
      "text/plain": [
       "    age     fare\n",
       "0  22.0   7.2500\n",
       "1  38.0  71.2833\n",
       "2  26.0   7.9250\n",
       "3  35.0  53.1000\n",
       "4  35.0   8.0500"
      ]
     },
     "execution_count": 279,
     "metadata": {},
     "output_type": "execute_result"
    }
   ],
   "source": [
    "df.head() # 첫 5행만 표시"
   ]
  },
  {
   "cell_type": "code",
   "execution_count": 281,
   "id": "7bb9063e",
   "metadata": {},
   "outputs": [],
   "source": [
    "add = df + 10"
   ]
  },
  {
   "cell_type": "code",
   "execution_count": 282,
   "id": "ae49521f",
   "metadata": {},
   "outputs": [
    {
     "data": {
      "text/html": [
       "<div>\n",
       "<style scoped>\n",
       "    .dataframe tbody tr th:only-of-type {\n",
       "        vertical-align: middle;\n",
       "    }\n",
       "\n",
       "    .dataframe tbody tr th {\n",
       "        vertical-align: top;\n",
       "    }\n",
       "\n",
       "    .dataframe thead th {\n",
       "        text-align: right;\n",
       "    }\n",
       "</style>\n",
       "<table border=\"1\" class=\"dataframe\">\n",
       "  <thead>\n",
       "    <tr style=\"text-align: right;\">\n",
       "      <th></th>\n",
       "      <th>age</th>\n",
       "      <th>fare</th>\n",
       "    </tr>\n",
       "  </thead>\n",
       "  <tbody>\n",
       "    <tr>\n",
       "      <th>0</th>\n",
       "      <td>32.0</td>\n",
       "      <td>17.2500</td>\n",
       "    </tr>\n",
       "    <tr>\n",
       "      <th>1</th>\n",
       "      <td>48.0</td>\n",
       "      <td>81.2833</td>\n",
       "    </tr>\n",
       "    <tr>\n",
       "      <th>2</th>\n",
       "      <td>36.0</td>\n",
       "      <td>17.9250</td>\n",
       "    </tr>\n",
       "    <tr>\n",
       "      <th>3</th>\n",
       "      <td>45.0</td>\n",
       "      <td>63.1000</td>\n",
       "    </tr>\n",
       "    <tr>\n",
       "      <th>4</th>\n",
       "      <td>45.0</td>\n",
       "      <td>18.0500</td>\n",
       "    </tr>\n",
       "  </tbody>\n",
       "</table>\n",
       "</div>"
      ],
      "text/plain": [
       "    age     fare\n",
       "0  32.0  17.2500\n",
       "1  48.0  81.2833\n",
       "2  36.0  17.9250\n",
       "3  45.0  63.1000\n",
       "4  45.0  18.0500"
      ]
     },
     "execution_count": 282,
     "metadata": {},
     "output_type": "execute_result"
    }
   ],
   "source": [
    "add.head()"
   ]
  },
  {
   "cell_type": "markdown",
   "id": "c5dde3f9",
   "metadata": {},
   "source": [
    "### 데이터프레임과 데이터프레임\n",
    "\n",
    "- 각 데이터프레임의 같은 행, 같은 열 위치에 있는 원소끼리 계산\n",
    "- 동일한 위치의 원소끼리 계산한 결과값을 원래 위치에 다시 입력하여 데이터프레임을 생성\n",
    "- 데이터프레임 중 어느 한 쪽에 원소가 존재하지 않거나 NaN이면 연산 결과는 NaN처리"
   ]
  },
  {
   "cell_type": "code",
   "execution_count": 283,
   "id": "f37586f2",
   "metadata": {},
   "outputs": [
    {
     "data": {
      "text/html": [
       "<div>\n",
       "<style scoped>\n",
       "    .dataframe tbody tr th:only-of-type {\n",
       "        vertical-align: middle;\n",
       "    }\n",
       "\n",
       "    .dataframe tbody tr th {\n",
       "        vertical-align: top;\n",
       "    }\n",
       "\n",
       "    .dataframe thead th {\n",
       "        text-align: right;\n",
       "    }\n",
       "</style>\n",
       "<table border=\"1\" class=\"dataframe\">\n",
       "  <thead>\n",
       "    <tr style=\"text-align: right;\">\n",
       "      <th></th>\n",
       "      <th>age</th>\n",
       "      <th>fare</th>\n",
       "    </tr>\n",
       "  </thead>\n",
       "  <tbody>\n",
       "    <tr>\n",
       "      <th>0</th>\n",
       "      <td>32.0</td>\n",
       "      <td>17.2500</td>\n",
       "    </tr>\n",
       "    <tr>\n",
       "      <th>1</th>\n",
       "      <td>48.0</td>\n",
       "      <td>81.2833</td>\n",
       "    </tr>\n",
       "    <tr>\n",
       "      <th>2</th>\n",
       "      <td>36.0</td>\n",
       "      <td>17.9250</td>\n",
       "    </tr>\n",
       "    <tr>\n",
       "      <th>3</th>\n",
       "      <td>45.0</td>\n",
       "      <td>63.1000</td>\n",
       "    </tr>\n",
       "    <tr>\n",
       "      <th>4</th>\n",
       "      <td>45.0</td>\n",
       "      <td>18.0500</td>\n",
       "    </tr>\n",
       "  </tbody>\n",
       "</table>\n",
       "</div>"
      ],
      "text/plain": [
       "    age     fare\n",
       "0  32.0  17.2500\n",
       "1  48.0  81.2833\n",
       "2  36.0  17.9250\n",
       "3  45.0  63.1000\n",
       "4  45.0  18.0500"
      ]
     },
     "execution_count": 283,
     "metadata": {},
     "output_type": "execute_result"
    }
   ],
   "source": [
    "add.head()"
   ]
  },
  {
   "cell_type": "code",
   "execution_count": 284,
   "id": "d96c73b8",
   "metadata": {},
   "outputs": [
    {
     "data": {
      "text/html": [
       "<div>\n",
       "<style scoped>\n",
       "    .dataframe tbody tr th:only-of-type {\n",
       "        vertical-align: middle;\n",
       "    }\n",
       "\n",
       "    .dataframe tbody tr th {\n",
       "        vertical-align: top;\n",
       "    }\n",
       "\n",
       "    .dataframe thead th {\n",
       "        text-align: right;\n",
       "    }\n",
       "</style>\n",
       "<table border=\"1\" class=\"dataframe\">\n",
       "  <thead>\n",
       "    <tr style=\"text-align: right;\">\n",
       "      <th></th>\n",
       "      <th>age</th>\n",
       "      <th>fare</th>\n",
       "    </tr>\n",
       "  </thead>\n",
       "  <tbody>\n",
       "    <tr>\n",
       "      <th>0</th>\n",
       "      <td>22.0</td>\n",
       "      <td>7.2500</td>\n",
       "    </tr>\n",
       "    <tr>\n",
       "      <th>1</th>\n",
       "      <td>38.0</td>\n",
       "      <td>71.2833</td>\n",
       "    </tr>\n",
       "    <tr>\n",
       "      <th>2</th>\n",
       "      <td>26.0</td>\n",
       "      <td>7.9250</td>\n",
       "    </tr>\n",
       "    <tr>\n",
       "      <th>3</th>\n",
       "      <td>35.0</td>\n",
       "      <td>53.1000</td>\n",
       "    </tr>\n",
       "    <tr>\n",
       "      <th>4</th>\n",
       "      <td>35.0</td>\n",
       "      <td>8.0500</td>\n",
       "    </tr>\n",
       "  </tbody>\n",
       "</table>\n",
       "</div>"
      ],
      "text/plain": [
       "    age     fare\n",
       "0  22.0   7.2500\n",
       "1  38.0  71.2833\n",
       "2  26.0   7.9250\n",
       "3  35.0  53.1000\n",
       "4  35.0   8.0500"
      ]
     },
     "execution_count": 284,
     "metadata": {},
     "output_type": "execute_result"
    }
   ],
   "source": [
    "df.head()"
   ]
  },
  {
   "cell_type": "code",
   "execution_count": 285,
   "id": "2ce745cc",
   "metadata": {},
   "outputs": [
    {
     "data": {
      "text/html": [
       "<div>\n",
       "<style scoped>\n",
       "    .dataframe tbody tr th:only-of-type {\n",
       "        vertical-align: middle;\n",
       "    }\n",
       "\n",
       "    .dataframe tbody tr th {\n",
       "        vertical-align: top;\n",
       "    }\n",
       "\n",
       "    .dataframe thead th {\n",
       "        text-align: right;\n",
       "    }\n",
       "</style>\n",
       "<table border=\"1\" class=\"dataframe\">\n",
       "  <thead>\n",
       "    <tr style=\"text-align: right;\">\n",
       "      <th></th>\n",
       "      <th>age</th>\n",
       "      <th>fare</th>\n",
       "    </tr>\n",
       "  </thead>\n",
       "  <tbody>\n",
       "    <tr>\n",
       "      <th>0</th>\n",
       "      <td>10.0</td>\n",
       "      <td>10.0</td>\n",
       "    </tr>\n",
       "    <tr>\n",
       "      <th>1</th>\n",
       "      <td>10.0</td>\n",
       "      <td>10.0</td>\n",
       "    </tr>\n",
       "    <tr>\n",
       "      <th>2</th>\n",
       "      <td>10.0</td>\n",
       "      <td>10.0</td>\n",
       "    </tr>\n",
       "    <tr>\n",
       "      <th>3</th>\n",
       "      <td>10.0</td>\n",
       "      <td>10.0</td>\n",
       "    </tr>\n",
       "    <tr>\n",
       "      <th>4</th>\n",
       "      <td>10.0</td>\n",
       "      <td>10.0</td>\n",
       "    </tr>\n",
       "  </tbody>\n",
       "</table>\n",
       "</div>"
      ],
      "text/plain": [
       "    age  fare\n",
       "0  10.0  10.0\n",
       "1  10.0  10.0\n",
       "2  10.0  10.0\n",
       "3  10.0  10.0\n",
       "4  10.0  10.0"
      ]
     },
     "execution_count": 285,
     "metadata": {},
     "output_type": "execute_result"
    }
   ],
   "source": [
    "sub = add - df\n",
    "sub.head()"
   ]
  },
  {
   "cell_type": "code",
   "execution_count": null,
   "id": "80715656",
   "metadata": {},
   "outputs": [],
   "source": []
  }
 ],
 "metadata": {
  "kernelspec": {
   "display_name": "Python 3 (ipykernel)",
   "language": "python",
   "name": "python3"
  },
  "language_info": {
   "codemirror_mode": {
    "name": "ipython",
    "version": 3
   },
   "file_extension": ".py",
   "mimetype": "text/x-python",
   "name": "python",
   "nbconvert_exporter": "python",
   "pygments_lexer": "ipython3",
   "version": "3.11.5"
  }
 },
 "nbformat": 4,
 "nbformat_minor": 5
}
